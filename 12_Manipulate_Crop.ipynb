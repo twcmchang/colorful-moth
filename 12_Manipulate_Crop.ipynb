{
 "cells": [
  {
   "cell_type": "code",
   "execution_count": 1,
   "metadata": {},
   "outputs": [],
   "source": [
    "import os \n",
    "import skimage.io as io\n",
    "from skimage.transform import resize\n",
    "import pandas as pd\n",
    "import numpy as np\n",
    "\n",
    "\n",
    "from func.tool import get_fname"
   ]
  },
  {
   "cell_type": "code",
   "execution_count": 2,
   "metadata": {},
   "outputs": [
    {
     "data": {
      "text/plain": [
       "1951"
      ]
     },
     "execution_count": 2,
     "metadata": {},
     "output_type": "execute_result"
    }
   ],
   "source": [
    "ID_DIR = 'data/ori/tesri/'\n",
    "TG_DIR = 'data/processed/finaluse/A_rmbg_00_img/'\n",
    "SAVE_DIR = os.path.join('data/processed/finaluse/', 'B_crop_00_img')\n",
    "imgs = os.listdir(ID_DIR)\n",
    "id_path = [os.path.join(TG_DIR, get_fname(i)+'.png') for i in imgs]\n",
    "len(id_path)"
   ]
  },
  {
   "cell_type": "code",
   "execution_count": 3,
   "metadata": {},
   "outputs": [
    {
     "name": "stdout",
     "output_type": "stream",
     "text": [
      "0/1951\r",
      "1/1951\r",
      "2/1951\r",
      "3/1951\r",
      "4/1951\r"
     ]
    },
    {
     "name": "stderr",
     "output_type": "stream",
     "text": [
      "/home/katieyth/.local/lib/python3.5/site-packages/pandas/core/frame.py:6211: FutureWarning: Sorting because non-concatenation axis is not aligned. A future version\n",
      "of pandas will change to not sort by default.\n",
      "\n",
      "To accept the future behavior, pass 'sort=False'.\n",
      "\n",
      "To retain the current behavior and silence the warning, pass 'sort=True'.\n",
      "\n",
      "  sort=sort)\n",
      "/usr/local/lib/python3.5/dist-packages/skimage/transform/_warps.py:84: UserWarning: The default mode, 'constant', will be changed to 'reflect' in skimage 0.15.\n",
      "  warn(\"The default mode, 'constant', will be changed to 'reflect' in \"\n",
      "/usr/local/lib/python3.5/dist-packages/skimage/util/dtype.py:122: UserWarning: Possible precision loss when converting from float64 to uint8\n",
      "  .format(dtypeobj_in, dtypeobj_out))\n"
     ]
    },
    {
     "name": "stdout",
     "output_type": "stream",
     "text": [
      "1950/1951\r"
     ]
    }
   ],
   "source": [
    "df = pd.DataFrame(columns=['fname', 'a1', 'a2', 'b1', 'b2' ])\n",
    "for i in range(len(id_path)):\n",
    "    print('%s/%s' %(i, len(id_path)), end = '\\r')\n",
    "    img = io.imread(id_path[i])\n",
    "    k = img[:,:,0]\n",
    "    fname = get_fname(id_path[i])\n",
    "    x=[]\n",
    "    y=[]\n",
    "    \n",
    "    t = np.where(k != k.max())\n",
    "    \n",
    "    a1 = t[0].min()\n",
    "    a2 = t[0].max()\n",
    "    b1 = t[1].min()\n",
    "    b2 = t[1].max()\n",
    "    \n",
    "\n",
    "    data = pd.DataFrame({\"fname\": [fname], \"a1\": [a1], \"a2\": [a2], \"b1\":[b1], \"b2\":[b2]})\n",
    "    df = df.append(data)\n",
    "\n",
    "    crop = img[a1:a2, b1:b2, : ]\n",
    "    crop_resize = resize(crop,(256,256))\n",
    "    #plt.imshow(crop_resize)\n",
    "    #plt.show()\n",
    "    \n",
    "    save_to = SAVE_DIR\n",
    "    if not os.path.exists(save_to):\n",
    "        os.makedirs(save_to)\n",
    "    io.imsave(os.path.join(save_to, fname+'.png'), crop_resize)\n",
    "df.to_csv('data/processed/finaluse/crop_hist_whole.csv', sep=',', encoding='utf-8', index=False)"
   ]
  },
  {
   "cell_type": "code",
   "execution_count": null,
   "metadata": {},
   "outputs": [],
   "source": []
  },
  {
   "cell_type": "code",
   "execution_count": null,
   "metadata": {},
   "outputs": [],
   "source": []
  },
  {
   "cell_type": "code",
   "execution_count": null,
   "metadata": {},
   "outputs": [],
   "source": []
  }
 ],
 "metadata": {
  "kernelspec": {
   "display_name": "Python 3",
   "language": "python",
   "name": "python3"
  },
  "language_info": {
   "codemirror_mode": {
    "name": "ipython",
    "version": 3
   },
   "file_extension": ".py",
   "mimetype": "text/x-python",
   "name": "python",
   "nbconvert_exporter": "python",
   "pygments_lexer": "ipython3",
   "version": "3.5.2"
  }
 },
 "nbformat": 4,
 "nbformat_minor": 2
}
