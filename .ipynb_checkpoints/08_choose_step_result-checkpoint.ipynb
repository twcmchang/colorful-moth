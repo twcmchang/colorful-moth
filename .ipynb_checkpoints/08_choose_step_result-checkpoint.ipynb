{
 "cells": [
  {
   "cell_type": "code",
   "execution_count": 1,
   "metadata": {},
   "outputs": [],
   "source": [
    "import os, sys\n",
    "import pandas as pd\n",
    "\n",
    "from skimage import io \n",
    "from skimage.transform import resize\n",
    "import matplotlib.pyplot as plt\n",
    "\n",
    "from func.tool import get_fname, check_dir"
   ]
  },
  {
   "cell_type": "code",
   "execution_count": 2,
   "metadata": {},
   "outputs": [],
   "source": [
    "csvfile = pd.read_csv('data/result_note.csv')\n",
    "\n",
    "#### for sample filter \n",
    "tg_fname = os.listdir('data/processed/finalstep/checking/')\n",
    "tg_fname = [get_fname(name)+'.png' for name in tg_fname]\n",
    "csvfile = csvfile[csvfile['filename'].isin(tg_fname)]\n",
    "\n",
    "tg_list={}\n",
    "\n",
    "for i in range(max(csvfile.note)):\n",
    "    n=i+1\n",
    "    tg_list['chk'+str(n)]= (csvfile.loc[csvfile['note'] == n]).filename.tolist()"
   ]
  },
  {
   "cell_type": "code",
   "execution_count": 5,
   "metadata": {},
   "outputs": [],
   "source": [
    "RMBG1 = 'data/processed/finalstep/unsup2sup_cntr/'\n",
    "RMBG2 = 'data/processed/finalstep/unsup2sup_crf/'\n",
    "RMBG3 = 'data/processed/finalstep/unsup2sup_crf_cntr/'\n",
    "RMBG = [RMBG1, RMBG2, RMBG3]\n",
    "img_path = list()\n",
    "\n",
    "for idx, path_frnt in enumerate(RMBG):\n",
    "    img_name = tg_list['chk'+ str(idx+1)]\n",
    "    sub_path = [os.path.join(path_frnt,str(i)) for i in img_name ]\n",
    "    img_path = img_path+sub_path\n",
    "print('total:', len(img_path))\n",
    "img_path[0:5]\n",
    "#### save out all mask for used_data 25275\n",
    "for idx, path in enumerate(img_path):\n",
    "    print('%d/%d' % (idx, len(img_path)), end= '\\r')\n",
    "    img = io.imread(path)\n",
    "#     plt.imshow(img)\n",
    "#     plt.show()\n",
    "    fname=get_fname (path)\n",
    "    print(fname)\n",
    "    save_to = 'data/processed/finaluse/A_rmbg_00_img/'\n",
    "    check_dir(save_to)\n",
    "    io.imsave(os.path.join(save_to, '%s.png' % (fname)), img)"
   ]
  },
  {
   "cell_type": "code",
   "execution_count": 4,
   "metadata": {},
   "outputs": [],
   "source": [
    "RMBG1 = 'data/processed/finalstep/mask_unsup2sup_cntr/'\n",
    "RMBG2 = 'data/processed/finalstep/mask_unsup2sup_crf/'\n",
    "RMBG3 = 'data/processed/finalstep/mask_unsup2sup_crf_cntr/'\n",
    "RMBG = [RMBG1, RMBG2, RMBG3]\n",
    "msk_path = list()\n",
    "\n",
    "for idx, path_frnt in enumerate(RMBG):\n",
    "    img_name = tg_list['chk'+ str(idx+1)]\n",
    "    sub_path = [os.path.join(path_frnt,str(i)) for i in img_name ]\n",
    "    msk_path = msk_path+sub_path\n",
    "print('total:', len(msk_path))\n",
    "msk_path[0:5]\n",
    "for idx, path in enumerate(msk_path):\n",
    "    print('%d/%d' % (idx, len(msk_path)), end= '\\r')\n",
    "    msk = io.imread(path)\n",
    "#     plt.imshow(msk, cmap='gray')\n",
    "#     plt.show()\n",
    "    fname=get_fname (path)\n",
    "    print(fname)\n",
    "    save_to = 'data/processed/finaluse/A_rmbg_00_img_mask/'\n",
    "    check_dir(save_to)\n",
    "    io.imsave(os.path.join(save_to, '%s.png' % (fname)), msk)"
   ]
  },
  {
   "cell_type": "code",
   "execution_count": null,
   "metadata": {},
   "outputs": [],
   "source": []
  },
  {
   "cell_type": "code",
   "execution_count": null,
   "metadata": {},
   "outputs": [],
   "source": []
  },
  {
   "cell_type": "code",
   "execution_count": null,
   "metadata": {},
   "outputs": [],
   "source": []
  }
 ],
 "metadata": {
  "kernelspec": {
   "display_name": "Python 3",
   "language": "python",
   "name": "python3"
  },
  "language_info": {
   "codemirror_mode": {
    "name": "ipython",
    "version": 3
   },
   "file_extension": ".py",
   "mimetype": "text/x-python",
   "name": "python",
   "nbconvert_exporter": "python",
   "pygments_lexer": "ipython3",
   "version": "3.5.2"
  }
 },
 "nbformat": 4,
 "nbformat_minor": 2
}
