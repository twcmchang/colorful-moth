{
 "cells": [
  {
   "cell_type": "code",
   "execution_count": 1,
   "metadata": {},
   "outputs": [],
   "source": [
    "import os\n",
    "from skimage.transform import resize\n",
    "import skimage.io as io \n",
    "import numpy as np\n",
    "import matplotlib.pyplot as plt\n",
    "\n",
    "from func.tool import get_fname, check_dir\n",
    "from func.plot import plt_result"
   ]
  },
  {
   "cell_type": "code",
   "execution_count": 2,
   "metadata": {},
   "outputs": [],
   "source": [
    "FLICKR = 'data/ori/tesri/'\n",
    "model = 'model/Unet_5comps/5comps_model/'\n",
    "TARGET = os.path.join(model,'Predict_mask')\n",
    "\n",
    "SUBDIR  = ['A_rmbg_01_Body', 'A_rmbg_02_Left_fore','A_rmbg_03_Right_fore', 'A_rmbg_04_Left_hind', 'A_rmbg_05_Right_hind']\n",
    "RMBG      = 'data/processed/finaluse/A_rmbg_00_img/'\n",
    "BODY      = os.path.join(TARGET, SUBDIR[0])\n",
    "UPLEFT    = os.path.join(TARGET, SUBDIR[1])\n",
    "UPRIGHT   = os.path.join(TARGET, SUBDIR[2])\n",
    "DOWNLEFT  = os.path.join(TARGET, SUBDIR[3])\n",
    "DOWNRIGHT = os.path.join(TARGET, SUBDIR[4])\n",
    "\n",
    "SAVEDIR = 'data/processed/finaluse/'"
   ]
  },
  {
   "cell_type": "code",
   "execution_count": 3,
   "metadata": {},
   "outputs": [],
   "source": [
    "target = os.listdir(FLICKR)\n",
    "flickr    = [os.path.join(FLICKR,    get_fname(i)+'.jpg') for i in target]\n",
    "rmbg      = [os.path.join(RMBG,      get_fname(i)+'.png') for i in target]\n",
    "body      = [os.path.join(BODY,      get_fname(i)+'.png') for i in target]\n",
    "upleft    = [os.path.join(UPLEFT,    get_fname(i)+'.png') for i in target]\n",
    "upright   = [os.path.join(UPRIGHT,   get_fname(i)+'.png') for i in target]\n",
    "downleft  = [os.path.join(DOWNLEFT,  get_fname(i)+'.png') for i in target]\n",
    "downright = [os.path.join(DOWNRIGHT, get_fname(i)+'.png') for i in target]"
   ]
  },
  {
   "cell_type": "code",
   "execution_count": 4,
   "metadata": {},
   "outputs": [],
   "source": [
    "def img_0to1(x):\n",
    "    if x.max() >1:\n",
    "        x = x/255\n",
    "    else:\n",
    "        x = x\n",
    "    return x"
   ]
  },
  {
   "cell_type": "code",
   "execution_count": 5,
   "metadata": {},
   "outputs": [],
   "source": [
    "def img_thrshld(x, thrshld=0.5):\n",
    "    x_ = x.copy()\n",
    "    x_[x_>=0.5] = 1\n",
    "    x_[x_<0.5]  =0\n",
    "    return x_"
   ]
  },
  {
   "cell_type": "code",
   "execution_count": 6,
   "metadata": {},
   "outputs": [],
   "source": [
    "def img1_img3(x):\n",
    "    x3 = np.stack((x,x,x),axis=2)\n",
    "    return x3"
   ]
  },
  {
   "cell_type": "code",
   "execution_count": 7,
   "metadata": {},
   "outputs": [],
   "source": [
    "def masktoimg(original,x,t_x):\n",
    "    comp = x*original+t_x\n",
    "    plt.imshow(comp, cmap = 'gray')\n",
    "    #plt.show()\n",
    "    plt.close()\n",
    "    return comp"
   ]
  },
  {
   "cell_type": "code",
   "execution_count": 8,
   "metadata": {},
   "outputs": [
    {
     "name": "stderr",
     "output_type": "stream",
     "text": [
      "/usr/local/lib/python3.5/dist-packages/skimage/transform/_warps.py:84: UserWarning: The default mode, 'constant', will be changed to 'reflect' in skimage 0.15.\n",
      "  warn(\"The default mode, 'constant', will be changed to 'reflect' in \"\n",
      "/usr/local/lib/python3.5/dist-packages/skimage/util/dtype.py:122: UserWarning: Possible precision loss when converting from float64 to uint8\n",
      "  .format(dtypeobj_in, dtypeobj_out))\n",
      "/usr/local/lib/python3.5/dist-packages/skimage/io/_io.py:132: UserWarning: data/processed/finaluse/A_rmbg_04_Left_hind/V04-20130411-095.png is a low contrast image\n",
      "  warn('%s is a low contrast image' % fname)\n",
      "/usr/local/lib/python3.5/dist-packages/skimage/io/_io.py:132: UserWarning: data/processed/finaluse/A_rmbg_05_Right_hind/V04-20130411-095.png is a low contrast image\n",
      "  warn('%s is a low contrast image' % fname)\n",
      "/usr/local/lib/python3.5/dist-packages/skimage/io/_io.py:132: UserWarning: data/processed/finaluse/A_rmbg_02_Left_fore/V02-20130407-057.png is a low contrast image\n",
      "  warn('%s is a low contrast image' % fname)\n",
      "/usr/local/lib/python3.5/dist-packages/skimage/io/_io.py:132: UserWarning: data/processed/finaluse/A_rmbg_04_Left_hind/V02-20130407-057.png is a low contrast image\n",
      "  warn('%s is a low contrast image' % fname)\n",
      "/usr/local/lib/python3.5/dist-packages/skimage/io/_io.py:132: UserWarning: data/processed/finaluse/A_rmbg_04_Left_hind/V05-20130809-022.png is a low contrast image\n",
      "  warn('%s is a low contrast image' % fname)\n",
      "/usr/local/lib/python3.5/dist-packages/skimage/io/_io.py:132: UserWarning: data/processed/finaluse/A_rmbg_05_Right_hind/V05-20130809-022.png is a low contrast image\n",
      "  warn('%s is a low contrast image' % fname)\n",
      "/usr/local/lib/python3.5/dist-packages/skimage/io/_io.py:132: UserWarning: data/processed/finaluse/A_rmbg_02_Left_fore/V09-20130413-053.png is a low contrast image\n",
      "  warn('%s is a low contrast image' % fname)\n",
      "/usr/local/lib/python3.5/dist-packages/skimage/io/_io.py:132: UserWarning: data/processed/finaluse/A_rmbg_04_Left_hind/V09-20130413-053.png is a low contrast image\n",
      "  warn('%s is a low contrast image' % fname)\n",
      "/usr/local/lib/python3.5/dist-packages/skimage/io/_io.py:132: UserWarning: data/processed/finaluse/A_rmbg_05_Right_hind/V09-20130413-053.png is a low contrast image\n",
      "  warn('%s is a low contrast image' % fname)\n",
      "/usr/local/lib/python3.5/dist-packages/skimage/io/_io.py:132: UserWarning: data/processed/finaluse/A_rmbg_01_Body/V02-20130603-166.png is a low contrast image\n",
      "  warn('%s is a low contrast image' % fname)\n",
      "/usr/local/lib/python3.5/dist-packages/skimage/io/_io.py:132: UserWarning: data/processed/finaluse/A_rmbg_02_Left_fore/A52-20160704-170.png is a low contrast image\n",
      "  warn('%s is a low contrast image' % fname)\n",
      "/usr/local/lib/python3.5/dist-packages/skimage/io/_io.py:132: UserWarning: data/processed/finaluse/A_rmbg_04_Left_hind/A52-20160704-170.png is a low contrast image\n",
      "  warn('%s is a low contrast image' % fname)\n",
      "/usr/local/lib/python3.5/dist-packages/skimage/io/_io.py:132: UserWarning: data/processed/finaluse/A_rmbg_05_Right_hind/A52-20160704-170.png is a low contrast image\n",
      "  warn('%s is a low contrast image' % fname)\n"
     ]
    }
   ],
   "source": [
    "for i in range(len(target)):\n",
    "    p_Oflickr = img_0to1(io.imread(flickr[i]))\n",
    "    p_flickr = resize(p_Oflickr, (256,256))\n",
    "    p_rmbg      = img_0to1(io.imread(rmbg[i]))\n",
    "    p_body      = img1_img3(img_thrshld(img_0to1((io.imread(body[i])))))\n",
    "    p_upleft    = img1_img3(img_thrshld(img_0to1((io.imread(upleft[i])))))\n",
    "    p_upright   = img1_img3(img_thrshld(img_0to1((io.imread(upright[i])))))\n",
    "    p_downleft  = img1_img3(img_thrshld(img_0to1((io.imread(downleft[i])))))\n",
    "    p_downright = img1_img3(img_thrshld(img_0to1((io.imread(downright[i])))))\n",
    "    t_body      = 1-p_body\n",
    "    t_upleft    = 1-p_upleft\n",
    "    t_upright   = 1-p_upright\n",
    "    t_downleft  = 1-p_downleft\n",
    "    t_downright = 1-p_downright\n",
    "\n",
    "    #plt.imshow(p_flickr)\n",
    "    #plt.show()\n",
    "    b =masktoimg(p_flickr, p_body,      t_body)\n",
    "    ul=masktoimg(p_flickr, p_upleft,    t_upleft)\n",
    "    ur=masktoimg(p_flickr, p_upright,   t_upright)\n",
    "    dl=masktoimg(p_flickr, p_downleft,  t_downleft)\n",
    "    dr=masktoimg(p_flickr, p_downright, t_downright)\n",
    "    OUTPUT_DIR = 'data/processed/finaluse/'\n",
    "    \n",
    "    fname = get_fname(flickr[i])\n",
    "    p_img = [p_flickr,p_rmbg,b,ul,ur,dl,dr]\n",
    "    #p_title= ['TESRI-dataset\\n%s' %(fname), 'rmbg']+SUBDIR\n",
    "    p_title = [('') for i in range(len(p_img)) ]\n",
    "    fig = plt_result(p_img, p_title)\n",
    "    \n",
    "    save_to_check = os.path.join(model, 'CHECKING')\n",
    "    check_dir(save_to_check)\n",
    "    fig.savefig(os.path.join(save_to_check, fname+'.png'), dpi=100, format='png',bbox_inches='tight')\n",
    "    \n",
    "    for i in range(5):\n",
    "        save_to_5comp = os.path.join(SAVEDIR, SUBDIR[i])\n",
    "        check_dir(save_to_5comp)\n",
    "        io.imsave(os.path.join(save_to_5comp, fname+'.png'), p_img[2+i])"
   ]
  },
  {
   "cell_type": "code",
   "execution_count": null,
   "metadata": {},
   "outputs": [],
   "source": []
  }
 ],
 "metadata": {
  "kernelspec": {
   "display_name": "Python 3",
   "language": "python",
   "name": "python3"
  },
  "language_info": {
   "codemirror_mode": {
    "name": "ipython",
    "version": 3
   },
   "file_extension": ".py",
   "mimetype": "text/x-python",
   "name": "python",
   "nbconvert_exporter": "python",
   "pygments_lexer": "ipython3",
   "version": "3.5.2"
  }
 },
 "nbformat": 4,
 "nbformat_minor": 2
}
