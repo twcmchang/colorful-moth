{
 "cells": [
  {
   "cell_type": "code",
   "execution_count": 1,
   "metadata": {},
   "outputs": [],
   "source": [
    "import cv2\n",
    "import os\n",
    "import numpy as np\n",
    "import pandas as pd\n",
    "from skimage import io\n",
    "from skimage.transform import resize\n",
    "import matplotlib.pyplot as plt\n",
    "\n",
    "\n",
    "from func.postprocessing import find_cntr_condition, crf, find_cntr\n",
    "from func.tool import get_fname\n",
    "from func.plot import plt_result\n",
    "os.environ[\"CUDA_VISIBLE_DEVICES\"] = '6'"
   ]
  },
  {
   "cell_type": "markdown",
   "metadata": {},
   "source": [
    "# (1) sup+cntr (2)+crf (3) +cntr "
   ]
  },
  {
   "cell_type": "code",
   "execution_count": 3,
   "metadata": {},
   "outputs": [],
   "source": [
    "FLICKR = 'data/ori/tesri/'\n",
    "UnsupCV2DIR = 'model/Unsup_rmbg/result_sample/predict_img_postprocessd/'\n",
    "MASKDIR = 'model/Unet_rmbg/181128103535/Predict_mask/'\n",
    "SAVEDIR = 'data/processed/finaluse/'\n",
    "masks = os.listdir(MASKDIR)\n",
    "mask_path = [os.path.join(MASKDIR, i) for i in masks]"
   ]
  },
  {
   "cell_type": "code",
   "execution_count": 4,
   "metadata": {},
   "outputs": [],
   "source": [
    "masks = os.listdir(MASKDIR)\n",
    "flickr_path = [os.path.join(FLICKR, get_fname (i)+'.jpg') for i in masks]\n",
    "new_path = [os.path.join(MASKDIR, i) for i in masks]"
   ]
  },
  {
   "cell_type": "code",
   "execution_count": 5,
   "metadata": {
    "code_folding": [],
    "scrolled": false
   },
   "outputs": [
    {
     "name": "stderr",
     "output_type": "stream",
     "text": [
      "/usr/local/lib/python3.5/dist-packages/skimage/transform/_warps.py:84: UserWarning: The default mode, 'constant', will be changed to 'reflect' in skimage 0.15.\n",
      "  warn(\"The default mode, 'constant', will be changed to 'reflect' in \"\n"
     ]
    }
   ],
   "source": [
    "for i in range(len(new_path)):\n",
    "# for i in range(1):\n",
    "    # get path\n",
    "    img_path = flickr_path[i]\n",
    "    fname = get_fname(img_path)\n",
    "    msk_path = new_path[i]\n",
    "    \n",
    "    # prepare data to [0,255], channel=3\n",
    "    flickr_img = io.imread(img_path)\n",
    "    flickr_img = resize(flickr_img,(256,256))\n",
    "    flickr_img_255 = (flickr_img)*255\n",
    "    flickr_img_255 =  flickr_img_255.astype(np.uint8)\n",
    "    \n",
    "    mask = io.imread(msk_path, as_grey=True)   \n",
    "    if not mask.max()>1:\n",
    "        mask = mask*255\n",
    "    mask = mask.astype(np.uint8)\n",
    "    mask3 = np.stack((mask,mask,mask),axis=2)\n",
    "    \n",
    "    # unsup2sup\n",
    "    unsup2sup_mask = find_cntr_condition(mask3, condition=62000) \n",
    "    bk_unsup2sup_img =  ((unsup2sup_mask/255)*flickr_img_255).astype(np.uint8)    \n",
    "    unsup2sup_img = ((unsup2sup_mask/255)*flickr_img_255 + 255-unsup2sup_mask).astype(np.uint8)\n",
    "    \n",
    "    # crf, return only 'R' channel\n",
    "    crf_output = crf(flickr_img_255, mask3) \n",
    "    crf_mask = crf_output[:,:,0] +mask3[:,:,0]\n",
    "    crf_mask = np.repeat(crf_mask,repeats=3).reshape((256,256,3))\n",
    "    bk_crf_img = ((crf_mask/255)*flickr_img_255).astype(np.uint8)    \n",
    "    crf_img = ((crf_mask/255)*flickr_img_255 + 255-crf_mask).astype(np.uint8)\n",
    "    \n",
    "    # find contour, return mask [h,w,3]\n",
    "#     cntr_mask = find_cntr(crf_mask)\n",
    "    cntr_mask = find_cntr_condition(crf_mask, condition=62000) \n",
    "    cntr_mask_01 = cntr_mask/255\n",
    "    bk_cntr_img = flickr_img*cntr_mask_01\n",
    "    cntr_img = ((cntr_mask/255)*flickr_img_255+ 255-cntr_mask).astype(np.uint8)\n",
    "    \n",
    "    # show unsup+cv2 result\n",
    "    unsupcv2_img = io.imread(os.path.join(UnsupCV2DIR, fname+'.png'))\n",
    "    \n",
    "    # save out\n",
    "    p_img  = [flickr_img, unsupcv2_img, unsup2sup_img, crf_img, cntr_img]\n",
    "    p_title= ['Original', 'unsup', 'unsup2sup', 'crf', 'crf_cv2']\n",
    "    fig = plt_result(p_img, p_title)\n",
    "    \n",
    "    save_to = os.path.join('data/processed/finalstep/', 'checking')\n",
    "    if not os.path.exists(save_to):\n",
    "        os.makedirs(save_to)\n",
    "    fig.savefig(os.path.join(save_to, fname+'.png'), dpi=100, format='png',bbox_inches='tight')\n",
    "    \n",
    "    \n",
    "    \n",
    "    save_to = os.path.join('data/processed/finalstep/', 'unsup2sup_cntr')\n",
    "    if not os.path.exists(save_to):\n",
    "        os.makedirs(save_to)\n",
    "    io.imsave(os.path.join(save_to, fname+'.png'), unsup2sup_img)\n",
    "    save_to = os.path.join('data/processed/finalstep/', 'mask_unsup2sup_cntr')\n",
    "    if not os.path.exists(save_to):\n",
    "        os.makedirs(save_to)\n",
    "    io.imsave(os.path.join(save_to, fname+'.png'), unsup2sup_mask)\n",
    "    \n",
    "    \n",
    "    \n",
    "    \n",
    "    save_to = os.path.join('data/processed/finalstep/', 'unsup2sup_crf')\n",
    "    if not os.path.exists(save_to):\n",
    "        os.makedirs(save_to)\n",
    "    io.imsave(os.path.join(save_to, fname+'.png'), crf_img)\n",
    "    save_to = os.path.join('data/processed/finalstep/', 'mask_unsup2sup_crf')\n",
    "    if not os.path.exists(save_to):\n",
    "        os.makedirs(save_to)\n",
    "    io.imsave(os.path.join(save_to, fname+'.png'), crf_mask)\n",
    "    \n",
    "    \n",
    "    \n",
    "    \n",
    "    save_to = os.path.join('data/processed/finalstep/', 'unsup2sup_crf_cntr')\n",
    "    if not os.path.exists(save_to):\n",
    "        os.makedirs(save_to)\n",
    "    io.imsave(os.path.join(save_to, fname+'.png'), cntr_img)\n",
    "    save_to = os.path.join('data/processed/finalstep/', 'mask_unsup2sup_crf_cntr')\n",
    "    if not os.path.exists(save_to):\n",
    "        os.makedirs(save_to)\n",
    "    io.imsave(os.path.join(save_to, fname+'.png'), cntr_mask)"
   ]
  },
  {
   "cell_type": "code",
   "execution_count": null,
   "metadata": {},
   "outputs": [],
   "source": []
  }
 ],
 "metadata": {
  "kernelspec": {
   "display_name": "Python 3",
   "language": "python",
   "name": "python3"
  },
  "language_info": {
   "codemirror_mode": {
    "name": "ipython",
    "version": 3
   },
   "file_extension": ".py",
   "mimetype": "text/x-python",
   "name": "python",
   "nbconvert_exporter": "python",
   "pygments_lexer": "ipython3",
   "version": "3.5.2"
  }
 },
 "nbformat": 4,
 "nbformat_minor": 2
}
