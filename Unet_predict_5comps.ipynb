{
 "cells": [
  {
   "cell_type": "code",
   "execution_count": 1,
   "metadata": {},
   "outputs": [
    {
     "name": "stderr",
     "output_type": "stream",
     "text": [
      "/usr/local/lib/python3.5/dist-packages/h5py/__init__.py:36: FutureWarning: Conversion of the second argument of issubdtype from `float` to `np.floating` is deprecated. In future, it will be treated as `np.float64 == np.dtype(float).type`.\n",
      "  from ._conv import register_converters as _register_converters\n"
     ]
    },
    {
     "name": "stdout",
     "output_type": "stream",
     "text": [
      "Model Built!\n"
     ]
    }
   ],
   "source": [
    "import argparse\n",
    "import os\n",
    "import sys\n",
    "import time\n",
    "\n",
    "import matplotlib.pyplot as plt\n",
    "%matplotlib inline\n",
    "\n",
    "import skimage.io as io\n",
    "from skimage.transform import resize\n",
    "\n",
    "import numpy as np\n",
    "\n",
    "import tensorflow as tf\n",
    "\n",
    "from func.data_generator import DataGenerator\n",
    "from func.unet_model import NeuralNetwork\n",
    "from func.tool import get_fname\n",
    "from func.plot import plt_result\n",
    "########"
   ]
  },
  {
   "cell_type": "code",
   "execution_count": 2,
   "metadata": {},
   "outputs": [],
   "source": [
    "parser = argparse.ArgumentParser()\n",
    "parser.add_argument('--gpu', dest='gpu', default='6')\n",
    "parser.add_argument('--test_mode', dest='test_mode', default= False , type=bool)\n",
    "\n",
    "### model using\n",
    "parser.add_argument('--model_dir', dest='model_dir', default='model/Unet_5comps/5comps_model/')\n",
    "\n",
    "### data\n",
    "parser.add_argument('--XX_DIR', dest='XX_DIR', default='data/processed/finaluse/A_rmbg_00_img/')\n",
    "parser.add_argument('--image-h', dest='im_h', default=256, type=int)\n",
    "parser.add_argument('--image-w', dest='im_w', default=256, type=int)\n",
    "parser.add_argument('--image-d', dest='im_c', default=3, type=int)\n",
    "parser.add_argument('--num_class', dest='num_class', default= 5, type=int)\n",
    "parser.add_argument('--keep_prob', dest='keep_prob', default= 1, type=float)\n",
    "\n",
    "### model\n",
    "parser.add_argument('--bz', '--batch-size', dest='bz', type=int, default=16)\n",
    "\n",
    "### return parser\n",
    "args = parser.parse_args([])\n",
    "\n",
    "### set GPU\n",
    "os.environ[\"CUDA_VISIBLE_DEVICES\"] = args.gpu"
   ]
  },
  {
   "cell_type": "code",
   "execution_count": 3,
   "metadata": {},
   "outputs": [
    {
     "name": "stdout",
     "output_type": "stream",
     "text": [
      "(?, ?, ?, 5)\n",
      "(?, ?, ?, 5)\n",
      "Build UNet Graph: 10 layers, 1766853 trainable weights\n"
     ]
    }
   ],
   "source": [
    "md = NeuralNetwork(args = args) \n",
    "md.build_graph()\n",
    "md.attach_saver()"
   ]
  },
  {
   "cell_type": "code",
   "execution_count": 4,
   "metadata": {},
   "outputs": [],
   "source": [
    "Xname = os.listdir(args.XX_DIR)\n",
    "Xpath = [os.path.join(args.XX_DIR, name) for name in Xname]\n",
    "\n",
    "datagen = DataGenerator(input_shape=(args.im_h, args.im_w, args.im_c))\n",
    "pred_gen  = datagen.get_tesri_data(Xpath, bz=args.bz)\n",
    "pred_iter  = int(np.ceil(len(Xpath)/(args.bz))) "
   ]
  },
  {
   "cell_type": "code",
   "execution_count": 5,
   "metadata": {},
   "outputs": [
    {
     "name": "stdout",
     "output_type": "stream",
     "text": [
      "INFO:tensorflow:Restoring parameters from model/Unet_5comps/5comps_model/model_ckpt\n",
      "Model Restored\n",
      "[Predict]-----pred-mini-Batch (1/122)\r"
     ]
    },
    {
     "name": "stderr",
     "output_type": "stream",
     "text": [
      "/usr/local/lib/python3.5/dist-packages/skimage/transform/_warps.py:84: UserWarning: The default mode, 'constant', will be changed to 'reflect' in skimage 0.15.\n",
      "  warn(\"The default mode, 'constant', will be changed to 'reflect' in \"\n",
      "/usr/local/lib/python3.5/dist-packages/skimage/util/dtype.py:122: UserWarning: Possible precision loss when converting from float64 to uint16\n",
      "  .format(dtypeobj_in, dtypeobj_out))\n"
     ]
    },
    {
     "name": "stdout",
     "output_type": "stream",
     "text": [
      "[Predict]-----pred-mini-Batch (56/122)\r"
     ]
    },
    {
     "name": "stderr",
     "output_type": "stream",
     "text": [
      "/usr/local/lib/python3.5/dist-packages/skimage/io/_io.py:132: UserWarning: model/Unet_5comps/5comps_model/Predict_mask/A_rmbg_04_Left_hind/V05-20130809-022.png is a low contrast image\n",
      "  warn('%s is a low contrast image' % fname)\n",
      "/usr/local/lib/python3.5/dist-packages/skimage/io/_io.py:132: UserWarning: model/Unet_5comps/5comps_model/Predict_mask/A_rmbg_05_Right_hind/V05-20130809-022.png is a low contrast image\n",
      "  warn('%s is a low contrast image' % fname)\n"
     ]
    },
    {
     "name": "stdout",
     "output_type": "stream",
     "text": [
      "[Predict]-----pred-mini-Batch (65/122)\r"
     ]
    },
    {
     "name": "stderr",
     "output_type": "stream",
     "text": [
      "/usr/local/lib/python3.5/dist-packages/skimage/io/_io.py:132: UserWarning: model/Unet_5comps/5comps_model/Predict_mask/A_rmbg_02_Left_fore/A52-20160704-170.png is a low contrast image\n",
      "  warn('%s is a low contrast image' % fname)\n",
      "/usr/local/lib/python3.5/dist-packages/skimage/io/_io.py:132: UserWarning: model/Unet_5comps/5comps_model/Predict_mask/A_rmbg_04_Left_hind/A52-20160704-170.png is a low contrast image\n",
      "  warn('%s is a low contrast image' % fname)\n",
      "/usr/local/lib/python3.5/dist-packages/skimage/io/_io.py:132: UserWarning: model/Unet_5comps/5comps_model/Predict_mask/A_rmbg_05_Right_hind/A52-20160704-170.png is a low contrast image\n",
      "  warn('%s is a low contrast image' % fname)\n"
     ]
    },
    {
     "name": "stdout",
     "output_type": "stream",
     "text": [
      "[Predict]-----pred-mini-Batch (78/122)\r"
     ]
    },
    {
     "name": "stderr",
     "output_type": "stream",
     "text": [
      "/usr/local/lib/python3.5/dist-packages/skimage/io/_io.py:132: UserWarning: model/Unet_5comps/5comps_model/Predict_mask/A_rmbg_01_Body/V02-20130603-166.png is a low contrast image\n",
      "  warn('%s is a low contrast image' % fname)\n"
     ]
    },
    {
     "name": "stdout",
     "output_type": "stream",
     "text": [
      "[Predict]-----pred-mini-Batch (122/122)\r"
     ]
    }
   ],
   "source": [
    "model_dir = args.model_dir\n",
    "save_dir = model_dir\n",
    "checkpoint_path = model_dir + 'model_ckpt' \n",
    "\n",
    "with tf.Session(graph=md.graph) as sess: \n",
    "    sess.run(tf.global_variables_initializer()) # Variable initialization.\n",
    "    meta_to_restore = checkpoint_path+'.meta'\n",
    "    saver = tf.train.import_meta_graph(meta_to_restore)\n",
    "    saver.restore(sess,checkpoint_path)\n",
    "    print('Model Restored')\n",
    "    \n",
    "    pred_loss_collector = []\n",
    "    for pred_batch_i in range(pred_iter):\n",
    "        print('\\r[Predict]-----pred-mini-Batch ({}/{})'.format(pred_batch_i+1, pred_iter), end='\\r')\n",
    "        x_pred_batch, path = next(pred_gen)\n",
    "        pred_batch = sess.run([md.y_pred_tf], \n",
    "                                feed_dict = {md.x_data_tf: x_pred_batch})\n",
    "        for i in range(len(pred_batch[0])):\n",
    "            fname = get_fname(path[i])\n",
    "            ori_img = io.imread(path[i])\n",
    "            ori_img = resize(ori_img, output_shape=(256,256,3))\n",
    "            \n",
    "            mask_list = []\n",
    "            part_name = ['A_rmbg_01_Body', 'A_rmbg_02_Left_fore', 'A_rmbg_03_Right_fore', 'A_rmbg_04_Left_hind', 'A_rmbg_05_Right_hind']\n",
    "            for ch in range(args.num_class):\n",
    "                m_mask = pred_batch[0][i][:,:,ch]\n",
    "                norm_mask = (m_mask-m_mask.min())/ (m_mask.max()-m_mask.min())\n",
    "                norm_mask3 = np.stack([norm_mask,norm_mask,norm_mask], axis = 2)\n",
    "                bin_mask3 = np.where(norm_mask3 > 0.5, 1.0, 0.0)\n",
    "                mask_list.append(bin_mask3)\n",
    "                \n",
    "                save_to_mask = os.path.join(save_dir ,'Predict_mask', part_name[ch])\n",
    "                if not os.path.exists(save_to_mask):\n",
    "                    os.makedirs(save_to_mask)\n",
    "                io.imsave(os.path.join(save_to_mask,'%s.png' % (fname)), bin_mask3[:,:,0])\n",
    "                \n",
    "#             w_mask = 1-bin_mask3\n",
    "#             w_img = (bin_mask3 * ori_img)+w_mask\n",
    "            \n",
    "            img_list =[ori_img]+(mask_list)\n",
    "            title_list = ['Original image', '', '', '', '', '']\n",
    "            fig = plt_result(img_list, title_list)\n",
    "            \n",
    "            save_to_check = os.path.join(save_dir , 'Predict_checking')\n",
    "            if not os.path.exists(save_to_check):\n",
    "                os.makedirs(save_to_check)\n",
    "            fig.savefig(os.path.join(save_to_check,'%s.png' % (fname)), dpi=100, format='png',bbox_inches='tight' )\n",
    "        "
   ]
  },
  {
   "cell_type": "code",
   "execution_count": null,
   "metadata": {},
   "outputs": [],
   "source": []
  }
 ],
 "metadata": {
  "kernelspec": {
   "display_name": "Python 3",
   "language": "python",
   "name": "python3"
  },
  "language_info": {
   "codemirror_mode": {
    "name": "ipython",
    "version": 3
   },
   "file_extension": ".py",
   "mimetype": "text/x-python",
   "name": "python",
   "nbconvert_exporter": "python",
   "pygments_lexer": "ipython3",
   "version": "3.5.2"
  }
 },
 "nbformat": 4,
 "nbformat_minor": 2
}
