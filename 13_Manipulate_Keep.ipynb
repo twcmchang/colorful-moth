{
 "cells": [
  {
   "cell_type": "code",
   "execution_count": 1,
   "metadata": {},
   "outputs": [],
   "source": [
    "import os \n",
    "import skimage.io as io\n",
    "from skimage.transform import resize\n",
    "import pandas as pd\n",
    "import numpy as np\n",
    "import matplotlib.pyplot as plt\n",
    "%matplotlib inline\n",
    "\n",
    "from func.tool import get_fname, check_dir"
   ]
  },
  {
   "cell_type": "code",
   "execution_count": 2,
   "metadata": {},
   "outputs": [
    {
     "data": {
      "text/plain": [
       "1951"
      ]
     },
     "execution_count": 2,
     "metadata": {},
     "output_type": "execute_result"
    }
   ],
   "source": [
    "TG_DIR = 'data/processed/finaluse/A_rmbg_00_img/'\n",
    "SAVE_DIR = os.path.join('data/processed/finaluse/', 'whole_crop')\n",
    "imgs = os.listdir(TG_DIR)\n",
    "id_path = [os.path.join(TG_DIR, i) for i in imgs]\n",
    "len(id_path)"
   ]
  },
  {
   "cell_type": "code",
   "execution_count": 4,
   "metadata": {
    "scrolled": true
   },
   "outputs": [
    {
     "name": "stdout",
     "output_type": "stream",
     "text": [
      "0/1951 \t\r",
      "1/1951 \t\r",
      "2/1951 \t\r",
      "3/1951 \t\r",
      "4/1951 \t\r",
      "5/1951 \t\r",
      "6/1951 \t\r",
      "7/1951 \t\r"
     ]
    },
    {
     "name": "stderr",
     "output_type": "stream",
     "text": [
      "/usr/local/lib/python3.5/dist-packages/skimage/transform/_warps.py:84: UserWarning: The default mode, 'constant', will be changed to 'reflect' in skimage 0.15.\n",
      "  warn(\"The default mode, 'constant', will be changed to 'reflect' in \"\n",
      "/usr/local/lib/python3.5/dist-packages/skimage/util/dtype.py:122: UserWarning: Possible precision loss when converting from float64 to uint8\n",
      "  .format(dtypeobj_in, dtypeobj_out))\n"
     ]
    },
    {
     "name": "stdout",
     "output_type": "stream",
     "text": [
      "1950/1951 \t\r"
     ]
    }
   ],
   "source": [
    "for subpart in ['01_Body', '02_Left_fore','03_Right_fore', '04_Left_hind', '05_Right_hind']:\n",
    "    for i in range(len(id_path)):\n",
    "        print('%s/%s \\t' %(i, len(id_path)), end = '\\r')\n",
    "        img = io.imread(id_path[i])\n",
    "        k = img[:,:,0]\n",
    "        fname = get_fname(id_path[i])\n",
    "        x=[]\n",
    "        y=[]\n",
    "\n",
    "        t = np.where(k != k.max())\n",
    "\n",
    "        a1 = t[0].min()\n",
    "        a2 = t[0].max()\n",
    "        b1 = t[1].min()\n",
    "        b2 = t[1].max()\n",
    "\n",
    "        img_part = io.imread(os.path.join('data/processed/finaluse/A_rmbg_%s' %(subpart), fname+'.png'))\n",
    "        mask_part = 255-img_part\n",
    "        b_mask_part = np.where(mask_part>0, 1.0, 0.0)\n",
    "        w_mask_part = (np.where(mask_part>0, 0.0, 1.0)*255).astype('uint8')\n",
    "        b_keep_part = (b_mask_part * img_part).astype('uint8')\n",
    "        w_keep_part = (w_mask_part + b_keep_part).astype('uint8')\n",
    "        crop = w_keep_part[a1:a2, b1:b2, : ]\n",
    "        crop_resize = resize(crop,(256,256))\n",
    "#         plt.imshow(crop_resize)\n",
    "#         plt.show()\n",
    "\n",
    "        save_to = os.path.join('data/processed/finaluse/', 'B_crop_'+subpart)\n",
    "        check_dir(save_to)\n",
    "        io.imsave(os.path.join(save_to, fname+'.png'), crop_resize)\n"
   ]
  },
  {
   "cell_type": "code",
   "execution_count": null,
   "metadata": {},
   "outputs": [],
   "source": []
  },
  {
   "cell_type": "code",
   "execution_count": null,
   "metadata": {},
   "outputs": [],
   "source": []
  }
 ],
 "metadata": {
  "kernelspec": {
   "display_name": "Python 3",
   "language": "python",
   "name": "python3"
  },
  "language_info": {
   "codemirror_mode": {
    "name": "ipython",
    "version": 3
   },
   "file_extension": ".py",
   "mimetype": "text/x-python",
   "name": "python",
   "nbconvert_exporter": "python",
   "pygments_lexer": "ipython3",
   "version": "3.5.2"
  }
 },
 "nbformat": 4,
 "nbformat_minor": 2
}
