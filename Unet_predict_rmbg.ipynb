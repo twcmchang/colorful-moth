{
 "cells": [
  {
   "cell_type": "code",
   "execution_count": 1,
   "metadata": {},
   "outputs": [
    {
     "name": "stderr",
     "output_type": "stream",
     "text": [
      "/usr/local/lib/python3.5/dist-packages/h5py/__init__.py:36: FutureWarning: Conversion of the second argument of issubdtype from `float` to `np.floating` is deprecated. In future, it will be treated as `np.float64 == np.dtype(float).type`.\n",
      "  from ._conv import register_converters as _register_converters\n"
     ]
    },
    {
     "name": "stdout",
     "output_type": "stream",
     "text": [
      "Model Built!\n"
     ]
    }
   ],
   "source": [
    "import argparse\n",
    "import os\n",
    "import sys\n",
    "import time\n",
    "\n",
    "import matplotlib.pyplot as plt\n",
    "%matplotlib inline\n",
    "\n",
    "import skimage.io as io\n",
    "from skimage.transform import resize\n",
    "\n",
    "import numpy as np\n",
    "\n",
    "import tensorflow as tf\n",
    "\n",
    "from func.data_generator import DataGenerator\n",
    "from func.unet_model import NeuralNetwork\n",
    "from func.tool import get_fname\n",
    "from func.plot import plt_result"
   ]
  },
  {
   "cell_type": "code",
   "execution_count": 2,
   "metadata": {},
   "outputs": [],
   "source": [
    "parser = argparse.ArgumentParser()\n",
    "parser.add_argument('--gpu', dest='gpu', default='7')\n",
    "parser.add_argument('--test_mode', dest='test_mode', default= False , type=bool)\n",
    "\n",
    "### model using\n",
    "parser.add_argument('--model_dir', dest='model_dir', default='model/Unet_rmbg/BRCAS2TESRI/')\n",
    "\n",
    "### data\n",
    "parser.add_argument('--XX_DIR', dest='XX_DIR', default='data/ori/tesri/')\n",
    "parser.add_argument('--image-h', dest='im_h', default=256, type=int)\n",
    "parser.add_argument('--image-w', dest='im_w', default=256, type=int)\n",
    "parser.add_argument('--image-d', dest='im_c', default=3, type=int)\n",
    "parser.add_argument('--num_class', dest='num_class', default= 1, type=int)\n",
    "parser.add_argument('--keep_prob', dest='keep_prob', default= 1, type=float)\n",
    "\n",
    "### model\n",
    "parser.add_argument('--bz', '--batch-size', dest='bz', type=int, default=16)\n",
    "\n",
    "### return parser\n",
    "args = parser.parse_args([])\n",
    "\n",
    "\n",
    "### set GPU\n",
    "os.environ[\"CUDA_VISIBLE_DEVICES\"] = args.gpu"
   ]
  },
  {
   "cell_type": "code",
   "execution_count": 3,
   "metadata": {},
   "outputs": [
    {
     "name": "stdout",
     "output_type": "stream",
     "text": [
      "(?, ?, ?, 1)\n",
      "(?, ?, ?, 1)\n",
      "Build UNet Graph: 10 layers, 1766785 trainable weights\n"
     ]
    }
   ],
   "source": [
    "md = NeuralNetwork(args = args) \n",
    "md.build_graph()\n",
    "md.attach_saver()"
   ]
  },
  {
   "cell_type": "code",
   "execution_count": 4,
   "metadata": {},
   "outputs": [],
   "source": [
    "Xname = os.listdir(args.XX_DIR)\n",
    "Xpath = [os.path.join(args.XX_DIR, name) for name in Xname]\n",
    "\n",
    "datagen = DataGenerator(input_shape=(args.im_h, args.im_w, args.im_c))\n",
    "pred_gen  = datagen.get_tesri_data(Xpath, bz=args.bz)\n",
    "pred_iter  = int(np.ceil(len(Xpath)/(args.bz))) "
   ]
  },
  {
   "cell_type": "code",
   "execution_count": 5,
   "metadata": {},
   "outputs": [
    {
     "name": "stdout",
     "output_type": "stream",
     "text": [
      "INFO:tensorflow:Restoring parameters from model/Unet_rmbg/BRCAS2TESRI/model_ckpt\n",
      "Model Restored\n",
      "[Predict]-----pred-mini-Batch (1/122)\r"
     ]
    },
    {
     "name": "stderr",
     "output_type": "stream",
     "text": [
      "/usr/local/lib/python3.5/dist-packages/skimage/transform/_warps.py:84: UserWarning: The default mode, 'constant', will be changed to 'reflect' in skimage 0.15.\n",
      "  warn(\"The default mode, 'constant', will be changed to 'reflect' in \"\n",
      "/usr/local/lib/python3.5/dist-packages/skimage/io/_io.py:132: UserWarning: model/Unet_rmbg/BRCAS2TESRI/Predict_mask/V17-20140816-010.png is a low contrast image\n",
      "  warn('%s is a low contrast image' % fname)\n",
      "/usr/local/lib/python3.5/dist-packages/skimage/util/dtype.py:122: UserWarning: Possible precision loss when converting from float64 to uint16\n",
      "  .format(dtypeobj_in, dtypeobj_out))\n",
      "/usr/local/lib/python3.5/dist-packages/skimage/io/_io.py:132: UserWarning: model/Unet_rmbg/BRCAS2TESRI/Predict_mask/V03-20131201-084.png is a low contrast image\n",
      "  warn('%s is a low contrast image' % fname)\n",
      "/usr/local/lib/python3.5/dist-packages/skimage/io/_io.py:132: UserWarning: model/Unet_rmbg/BRCAS2TESRI/Predict_mask/A46-20150513-053.png is a low contrast image\n",
      "  warn('%s is a low contrast image' % fname)\n",
      "/usr/local/lib/python3.5/dist-packages/skimage/io/_io.py:132: UserWarning: model/Unet_rmbg/BRCAS2TESRI/Predict_mask/A47-20150318-079.png is a low contrast image\n",
      "  warn('%s is a low contrast image' % fname)\n",
      "/usr/local/lib/python3.5/dist-packages/skimage/io/_io.py:132: UserWarning: model/Unet_rmbg/BRCAS2TESRI/Predict_mask/A38-20130416-110.png is a low contrast image\n",
      "  warn('%s is a low contrast image' % fname)\n",
      "/usr/local/lib/python3.5/dist-packages/skimage/io/_io.py:132: UserWarning: model/Unet_rmbg/BRCAS2TESRI/Predict_mask/A35-20130605-084.png is a low contrast image\n",
      "  warn('%s is a low contrast image' % fname)\n",
      "/usr/local/lib/python3.5/dist-packages/skimage/io/_io.py:132: UserWarning: model/Unet_rmbg/BRCAS2TESRI/Predict_mask/A32-20120425-039.png is a low contrast image\n",
      "  warn('%s is a low contrast image' % fname)\n",
      "/usr/local/lib/python3.5/dist-packages/skimage/io/_io.py:132: UserWarning: model/Unet_rmbg/BRCAS2TESRI/Predict_mask/V04-20130606-121.png is a low contrast image\n",
      "  warn('%s is a low contrast image' % fname)\n",
      "/usr/local/lib/python3.5/dist-packages/skimage/io/_io.py:132: UserWarning: model/Unet_rmbg/BRCAS2TESRI/Predict_mask/A32-20111123-022.png is a low contrast image\n",
      "  warn('%s is a low contrast image' % fname)\n",
      "/usr/local/lib/python3.5/dist-packages/skimage/io/_io.py:132: UserWarning: model/Unet_rmbg/BRCAS2TESRI/Predict_mask/A32-20111226-011.png is a low contrast image\n",
      "  warn('%s is a low contrast image' % fname)\n",
      "/usr/local/lib/python3.5/dist-packages/skimage/io/_io.py:132: UserWarning: model/Unet_rmbg/BRCAS2TESRI/Predict_mask/A42-20160713-042.png is a low contrast image\n",
      "  warn('%s is a low contrast image' % fname)\n",
      "/usr/local/lib/python3.5/dist-packages/skimage/io/_io.py:132: UserWarning: model/Unet_rmbg/BRCAS2TESRI/Predict_mask/A52-20160601-052.png is a low contrast image\n",
      "  warn('%s is a low contrast image' % fname)\n",
      "/usr/local/lib/python3.5/dist-packages/skimage/io/_io.py:132: UserWarning: model/Unet_rmbg/BRCAS2TESRI/Predict_mask/A52-20151110-199.png is a low contrast image\n",
      "  warn('%s is a low contrast image' % fname)\n",
      "/usr/local/lib/python3.5/dist-packages/skimage/io/_io.py:132: UserWarning: model/Unet_rmbg/BRCAS2TESRI/Predict_mask/V16-20131122-015.png is a low contrast image\n",
      "  warn('%s is a low contrast image' % fname)\n"
     ]
    },
    {
     "name": "stdout",
     "output_type": "stream",
     "text": [
      "\r",
      "[Predict]-----pred-mini-Batch (2/122)\r"
     ]
    },
    {
     "name": "stderr",
     "output_type": "stream",
     "text": [
      "/usr/local/lib/python3.5/dist-packages/skimage/io/_io.py:132: UserWarning: model/Unet_rmbg/BRCAS2TESRI/Predict_mask/A34-20130313-037.png is a low contrast image\n",
      "  warn('%s is a low contrast image' % fname)\n",
      "/usr/local/lib/python3.5/dist-packages/skimage/io/_io.py:132: UserWarning: model/Unet_rmbg/BRCAS2TESRI/Predict_mask/A32-20120425-010.png is a low contrast image\n",
      "  warn('%s is a low contrast image' % fname)\n",
      "/usr/local/lib/python3.5/dist-packages/skimage/io/_io.py:132: UserWarning: model/Unet_rmbg/BRCAS2TESRI/Predict_mask/V12-20130910-042.png is a low contrast image\n",
      "  warn('%s is a low contrast image' % fname)\n",
      "/usr/local/lib/python3.5/dist-packages/skimage/io/_io.py:132: UserWarning: model/Unet_rmbg/BRCAS2TESRI/Predict_mask/A41-20140325-010.png is a low contrast image\n",
      "  warn('%s is a low contrast image' % fname)\n",
      "/usr/local/lib/python3.5/dist-packages/skimage/io/_io.py:132: UserWarning: model/Unet_rmbg/BRCAS2TESRI/Predict_mask/A32-20120222-030.png is a low contrast image\n",
      "  warn('%s is a low contrast image' % fname)\n",
      "/usr/local/lib/python3.5/dist-packages/skimage/io/_io.py:132: UserWarning: model/Unet_rmbg/BRCAS2TESRI/Predict_mask/A35-20140728-175.png is a low contrast image\n",
      "  warn('%s is a low contrast image' % fname)\n",
      "/usr/local/lib/python3.5/dist-packages/skimage/io/_io.py:132: UserWarning: model/Unet_rmbg/BRCAS2TESRI/Predict_mask/V10-20131004-033.png is a low contrast image\n",
      "  warn('%s is a low contrast image' % fname)\n",
      "/usr/local/lib/python3.5/dist-packages/skimage/io/_io.py:132: UserWarning: model/Unet_rmbg/BRCAS2TESRI/Predict_mask/A34-20151209-047.png is a low contrast image\n",
      "  warn('%s is a low contrast image' % fname)\n",
      "/usr/local/lib/python3.5/dist-packages/skimage/io/_io.py:132: UserWarning: model/Unet_rmbg/BRCAS2TESRI/Predict_mask/A35-20140302-034.png is a low contrast image\n",
      "  warn('%s is a low contrast image' % fname)\n",
      "/usr/local/lib/python3.5/dist-packages/skimage/io/_io.py:132: UserWarning: model/Unet_rmbg/BRCAS2TESRI/Predict_mask/A36-20130606-059.png is a low contrast image\n",
      "  warn('%s is a low contrast image' % fname)\n",
      "/usr/local/lib/python3.5/dist-packages/skimage/io/_io.py:132: UserWarning: model/Unet_rmbg/BRCAS2TESRI/Predict_mask/V03-20130606-025.png is a low contrast image\n",
      "  warn('%s is a low contrast image' % fname)\n",
      "/usr/local/lib/python3.5/dist-packages/skimage/io/_io.py:132: UserWarning: model/Unet_rmbg/BRCAS2TESRI/Predict_mask/A35-20130417-084.png is a low contrast image\n",
      "  warn('%s is a low contrast image' % fname)\n",
      "/usr/local/lib/python3.5/dist-packages/skimage/io/_io.py:132: UserWarning: model/Unet_rmbg/BRCAS2TESRI/Predict_mask/A35-20160712-069.png is a low contrast image\n",
      "  warn('%s is a low contrast image' % fname)\n",
      "/usr/local/lib/python3.5/dist-packages/skimage/io/_io.py:132: UserWarning: model/Unet_rmbg/BRCAS2TESRI/Predict_mask/V11-20130608-018.png is a low contrast image\n",
      "  warn('%s is a low contrast image' % fname)\n"
     ]
    },
    {
     "name": "stdout",
     "output_type": "stream",
     "text": [
      "\r",
      "[Predict]-----pred-mini-Batch (3/122)\r"
     ]
    },
    {
     "name": "stderr",
     "output_type": "stream",
     "text": [
      "/usr/local/lib/python3.5/dist-packages/skimage/io/_io.py:132: UserWarning: model/Unet_rmbg/BRCAS2TESRI/Predict_mask/A32-20120425-015.png is a low contrast image\n",
      "  warn('%s is a low contrast image' % fname)\n",
      "/usr/local/lib/python3.5/dist-packages/skimage/io/_io.py:132: UserWarning: model/Unet_rmbg/BRCAS2TESRI/Predict_mask/V15-20140327-069.png is a low contrast image\n",
      "  warn('%s is a low contrast image' % fname)\n",
      "/usr/local/lib/python3.5/dist-packages/skimage/io/_io.py:132: UserWarning: model/Unet_rmbg/BRCAS2TESRI/Predict_mask/A34-20130506-103.png is a low contrast image\n",
      "  warn('%s is a low contrast image' % fname)\n",
      "/usr/local/lib/python3.5/dist-packages/skimage/io/_io.py:132: UserWarning: model/Unet_rmbg/BRCAS2TESRI/Predict_mask/V01-20130928-002.png is a low contrast image\n",
      "  warn('%s is a low contrast image' % fname)\n",
      "/usr/local/lib/python3.5/dist-packages/skimage/io/_io.py:132: UserWarning: model/Unet_rmbg/BRCAS2TESRI/Predict_mask/A35-20130417-022.png is a low contrast image\n",
      "  warn('%s is a low contrast image' % fname)\n",
      "/usr/local/lib/python3.5/dist-packages/skimage/io/_io.py:132: UserWarning: model/Unet_rmbg/BRCAS2TESRI/Predict_mask/V03-20150126-013.png is a low contrast image\n",
      "  warn('%s is a low contrast image' % fname)\n",
      "/usr/local/lib/python3.5/dist-packages/skimage/io/_io.py:132: UserWarning: model/Unet_rmbg/BRCAS2TESRI/Predict_mask/V14-20130428-017.png is a low contrast image\n",
      "  warn('%s is a low contrast image' % fname)\n",
      "/usr/local/lib/python3.5/dist-packages/skimage/io/_io.py:132: UserWarning: model/Unet_rmbg/BRCAS2TESRI/Predict_mask/A32-20120222-036.png is a low contrast image\n",
      "  warn('%s is a low contrast image' % fname)\n",
      "/usr/local/lib/python3.5/dist-packages/skimage/io/_io.py:132: UserWarning: model/Unet_rmbg/BRCAS2TESRI/Predict_mask/A32-20120830-080.png is a low contrast image\n",
      "  warn('%s is a low contrast image' % fname)\n",
      "/usr/local/lib/python3.5/dist-packages/skimage/io/_io.py:132: UserWarning: model/Unet_rmbg/BRCAS2TESRI/Predict_mask/V02-20130801-174.png is a low contrast image\n",
      "  warn('%s is a low contrast image' % fname)\n",
      "/usr/local/lib/python3.5/dist-packages/skimage/io/_io.py:132: UserWarning: model/Unet_rmbg/BRCAS2TESRI/Predict_mask/V12-20130628-001.png is a low contrast image\n",
      "  warn('%s is a low contrast image' % fname)\n",
      "/usr/local/lib/python3.5/dist-packages/skimage/io/_io.py:132: UserWarning: model/Unet_rmbg/BRCAS2TESRI/Predict_mask/V04-20130509-130.png is a low contrast image\n",
      "  warn('%s is a low contrast image' % fname)\n",
      "/usr/local/lib/python3.5/dist-packages/skimage/io/_io.py:132: UserWarning: model/Unet_rmbg/BRCAS2TESRI/Predict_mask/V12-20130910-065.png is a low contrast image\n",
      "  warn('%s is a low contrast image' % fname)\n"
     ]
    },
    {
     "name": "stdout",
     "output_type": "stream",
     "text": [
      "\r",
      "[Predict]-----pred-mini-Batch (4/122)\r"
     ]
    },
    {
     "name": "stderr",
     "output_type": "stream",
     "text": [
      "/usr/local/lib/python3.5/dist-packages/skimage/io/_io.py:132: UserWarning: model/Unet_rmbg/BRCAS2TESRI/Predict_mask/V04-20130509-018.png is a low contrast image\n",
      "  warn('%s is a low contrast image' % fname)\n",
      "/usr/local/lib/python3.5/dist-packages/skimage/io/_io.py:132: UserWarning: model/Unet_rmbg/BRCAS2TESRI/Predict_mask/V12-20130628-007.png is a low contrast image\n",
      "  warn('%s is a low contrast image' % fname)\n",
      "/usr/local/lib/python3.5/dist-packages/skimage/io/_io.py:132: UserWarning: model/Unet_rmbg/BRCAS2TESRI/Predict_mask/V02-20130603-052.png is a low contrast image\n",
      "  warn('%s is a low contrast image' % fname)\n",
      "/usr/local/lib/python3.5/dist-packages/skimage/io/_io.py:132: UserWarning: model/Unet_rmbg/BRCAS2TESRI/Predict_mask/A41-20140206-144.png is a low contrast image\n",
      "  warn('%s is a low contrast image' % fname)\n",
      "/usr/local/lib/python3.5/dist-packages/skimage/io/_io.py:132: UserWarning: model/Unet_rmbg/BRCAS2TESRI/Predict_mask/B29-20131018-057.png is a low contrast image\n",
      "  warn('%s is a low contrast image' % fname)\n",
      "/usr/local/lib/python3.5/dist-packages/skimage/io/_io.py:132: UserWarning: model/Unet_rmbg/BRCAS2TESRI/Predict_mask/V17-20140322-081.png is a low contrast image\n",
      "  warn('%s is a low contrast image' % fname)\n",
      "/usr/local/lib/python3.5/dist-packages/skimage/io/_io.py:132: UserWarning: model/Unet_rmbg/BRCAS2TESRI/Predict_mask/V03-20130909-022.png is a low contrast image\n",
      "  warn('%s is a low contrast image' % fname)\n",
      "/usr/local/lib/python3.5/dist-packages/skimage/io/_io.py:132: UserWarning: model/Unet_rmbg/BRCAS2TESRI/Predict_mask/V04-20130509-049.png is a low contrast image\n",
      "  warn('%s is a low contrast image' % fname)\n",
      "/usr/local/lib/python3.5/dist-packages/skimage/io/_io.py:132: UserWarning: model/Unet_rmbg/BRCAS2TESRI/Predict_mask/A34-20131105-047.png is a low contrast image\n",
      "  warn('%s is a low contrast image' % fname)\n",
      "/usr/local/lib/python3.5/dist-packages/skimage/io/_io.py:132: UserWarning: model/Unet_rmbg/BRCAS2TESRI/Predict_mask/V04-20130509-106.png is a low contrast image\n",
      "  warn('%s is a low contrast image' % fname)\n",
      "/usr/local/lib/python3.5/dist-packages/skimage/io/_io.py:132: UserWarning: model/Unet_rmbg/BRCAS2TESRI/Predict_mask/V01-20130629-005.png is a low contrast image\n",
      "  warn('%s is a low contrast image' % fname)\n"
     ]
    },
    {
     "name": "stdout",
     "output_type": "stream",
     "text": [
      "\r",
      "[Predict]-----pred-mini-Batch (5/122)\r"
     ]
    },
    {
     "name": "stderr",
     "output_type": "stream",
     "text": [
      "/usr/local/lib/python3.5/dist-packages/skimage/io/_io.py:132: UserWarning: model/Unet_rmbg/BRCAS2TESRI/Predict_mask/A38-20130805-103.png is a low contrast image\n",
      "  warn('%s is a low contrast image' % fname)\n",
      "/usr/local/lib/python3.5/dist-packages/skimage/io/_io.py:132: UserWarning: model/Unet_rmbg/BRCAS2TESRI/Predict_mask/V27-20160319-025.png is a low contrast image\n",
      "  warn('%s is a low contrast image' % fname)\n",
      "/usr/local/lib/python3.5/dist-packages/skimage/io/_io.py:132: UserWarning: model/Unet_rmbg/BRCAS2TESRI/Predict_mask/V07-20130607-029.png is a low contrast image\n",
      "  warn('%s is a low contrast image' % fname)\n",
      "/usr/local/lib/python3.5/dist-packages/skimage/io/_io.py:132: UserWarning: model/Unet_rmbg/BRCAS2TESRI/Predict_mask/A37-20130806-030.png is a low contrast image\n",
      "  warn('%s is a low contrast image' % fname)\n",
      "/usr/local/lib/python3.5/dist-packages/skimage/io/_io.py:132: UserWarning: model/Unet_rmbg/BRCAS2TESRI/Predict_mask/V19-20150717-003.png is a low contrast image\n",
      "  warn('%s is a low contrast image' % fname)\n",
      "/usr/local/lib/python3.5/dist-packages/skimage/io/_io.py:132: UserWarning: model/Unet_rmbg/BRCAS2TESRI/Predict_mask/V07-20130412-044.png is a low contrast image\n",
      "  warn('%s is a low contrast image' % fname)\n",
      "/usr/local/lib/python3.5/dist-packages/skimage/io/_io.py:132: UserWarning: model/Unet_rmbg/BRCAS2TESRI/Predict_mask/A32-20111123-032.png is a low contrast image\n",
      "  warn('%s is a low contrast image' % fname)\n",
      "/usr/local/lib/python3.5/dist-packages/skimage/io/_io.py:132: UserWarning: model/Unet_rmbg/BRCAS2TESRI/Predict_mask/A43-20150408-040.png is a low contrast image\n",
      "  warn('%s is a low contrast image' % fname)\n",
      "/usr/local/lib/python3.5/dist-packages/skimage/io/_io.py:132: UserWarning: model/Unet_rmbg/BRCAS2TESRI/Predict_mask/V16-20131004-056.png is a low contrast image\n",
      "  warn('%s is a low contrast image' % fname)\n",
      "/usr/local/lib/python3.5/dist-packages/skimage/io/_io.py:132: UserWarning: model/Unet_rmbg/BRCAS2TESRI/Predict_mask/A32-20111123-066.png is a low contrast image\n",
      "  warn('%s is a low contrast image' % fname)\n",
      "/usr/local/lib/python3.5/dist-packages/skimage/io/_io.py:132: UserWarning: model/Unet_rmbg/BRCAS2TESRI/Predict_mask/A36-20130226-031.png is a low contrast image\n",
      "  warn('%s is a low contrast image' % fname)\n",
      "/usr/local/lib/python3.5/dist-packages/skimage/io/_io.py:132: UserWarning: model/Unet_rmbg/BRCAS2TESRI/Predict_mask/V07-20130607-049.png is a low contrast image\n",
      "  warn('%s is a low contrast image' % fname)\n"
     ]
    },
    {
     "name": "stdout",
     "output_type": "stream",
     "text": [
      "\r",
      "[Predict]-----pred-mini-Batch (6/122)\r"
     ]
    },
    {
     "name": "stderr",
     "output_type": "stream",
     "text": [
      "/usr/local/lib/python3.5/dist-packages/skimage/io/_io.py:132: UserWarning: model/Unet_rmbg/BRCAS2TESRI/Predict_mask/A38-20140325-031.png is a low contrast image\n",
      "  warn('%s is a low contrast image' % fname)\n",
      "/usr/local/lib/python3.5/dist-packages/skimage/io/_io.py:132: UserWarning: model/Unet_rmbg/BRCAS2TESRI/Predict_mask/A36-20130226-048.png is a low contrast image\n",
      "  warn('%s is a low contrast image' % fname)\n",
      "/usr/local/lib/python3.5/dist-packages/skimage/io/_io.py:132: UserWarning: model/Unet_rmbg/BRCAS2TESRI/Predict_mask/A46-20160426-256.png is a low contrast image\n",
      "  warn('%s is a low contrast image' % fname)\n",
      "/usr/local/lib/python3.5/dist-packages/skimage/io/_io.py:132: UserWarning: model/Unet_rmbg/BRCAS2TESRI/Predict_mask/A46-20160705-181.png is a low contrast image\n",
      "  warn('%s is a low contrast image' % fname)\n",
      "/usr/local/lib/python3.5/dist-packages/skimage/io/_io.py:132: UserWarning: model/Unet_rmbg/BRCAS2TESRI/Predict_mask/A33-20130115-052.png is a low contrast image\n",
      "  warn('%s is a low contrast image' % fname)\n",
      "/usr/local/lib/python3.5/dist-packages/skimage/io/_io.py:132: UserWarning: model/Unet_rmbg/BRCAS2TESRI/Predict_mask/A43-20160713-058.png is a low contrast image\n",
      "  warn('%s is a low contrast image' % fname)\n",
      "/usr/local/lib/python3.5/dist-packages/skimage/io/_io.py:132: UserWarning: model/Unet_rmbg/BRCAS2TESRI/Predict_mask/A35-20150609-022.png is a low contrast image\n",
      "  warn('%s is a low contrast image' % fname)\n",
      "/usr/local/lib/python3.5/dist-packages/skimage/io/_io.py:132: UserWarning: model/Unet_rmbg/BRCAS2TESRI/Predict_mask/V12-20140217-042.png is a low contrast image\n",
      "  warn('%s is a low contrast image' % fname)\n",
      "/usr/local/lib/python3.5/dist-packages/skimage/io/_io.py:132: UserWarning: model/Unet_rmbg/BRCAS2TESRI/Predict_mask/V03-20130409-032.png is a low contrast image\n",
      "  warn('%s is a low contrast image' % fname)\n",
      "/usr/local/lib/python3.5/dist-packages/skimage/io/_io.py:132: UserWarning: model/Unet_rmbg/BRCAS2TESRI/Predict_mask/A35-20140923-212.png is a low contrast image\n",
      "  warn('%s is a low contrast image' % fname)\n",
      "/usr/local/lib/python3.5/dist-packages/skimage/io/_io.py:132: UserWarning: model/Unet_rmbg/BRCAS2TESRI/Predict_mask/V14-20130428-148.png is a low contrast image\n",
      "  warn('%s is a low contrast image' % fname)\n",
      "/usr/local/lib/python3.5/dist-packages/skimage/io/_io.py:132: UserWarning: model/Unet_rmbg/BRCAS2TESRI/Predict_mask/A37-20131016-051.png is a low contrast image\n",
      "  warn('%s is a low contrast image' % fname)\n",
      "/usr/local/lib/python3.5/dist-packages/skimage/io/_io.py:132: UserWarning: model/Unet_rmbg/BRCAS2TESRI/Predict_mask/V12-20140809-124.png is a low contrast image\n",
      "  warn('%s is a low contrast image' % fname)\n",
      "/usr/local/lib/python3.5/dist-packages/skimage/io/_io.py:132: UserWarning: model/Unet_rmbg/BRCAS2TESRI/Predict_mask/A41-20140325-098.png is a low contrast image\n",
      "  warn('%s is a low contrast image' % fname)\n",
      "/usr/local/lib/python3.5/dist-packages/skimage/io/_io.py:132: UserWarning: model/Unet_rmbg/BRCAS2TESRI/Predict_mask/V05-20130607-039.png is a low contrast image\n",
      "  warn('%s is a low contrast image' % fname)\n"
     ]
    },
    {
     "name": "stdout",
     "output_type": "stream",
     "text": [
      "\r",
      "[Predict]-----pred-mini-Batch (7/122)\r"
     ]
    },
    {
     "name": "stderr",
     "output_type": "stream",
     "text": [
      "/usr/local/lib/python3.5/dist-packages/skimage/io/_io.py:132: UserWarning: model/Unet_rmbg/BRCAS2TESRI/Predict_mask/V13-20130608-024.png is a low contrast image\n",
      "  warn('%s is a low contrast image' % fname)\n",
      "/usr/local/lib/python3.5/dist-packages/skimage/io/_io.py:132: UserWarning: model/Unet_rmbg/BRCAS2TESRI/Predict_mask/A32-20120725-089.png is a low contrast image\n",
      "  warn('%s is a low contrast image' % fname)\n",
      "/usr/local/lib/python3.5/dist-packages/skimage/io/_io.py:132: UserWarning: model/Unet_rmbg/BRCAS2TESRI/Predict_mask/A34-20140102-002.png is a low contrast image\n",
      "  warn('%s is a low contrast image' % fname)\n",
      "/usr/local/lib/python3.5/dist-packages/skimage/io/_io.py:132: UserWarning: model/Unet_rmbg/BRCAS2TESRI/Predict_mask/A52-20151110-230.png is a low contrast image\n",
      "  warn('%s is a low contrast image' % fname)\n",
      "/usr/local/lib/python3.5/dist-packages/skimage/io/_io.py:132: UserWarning: model/Unet_rmbg/BRCAS2TESRI/Predict_mask/A34-20130313-064.png is a low contrast image\n",
      "  warn('%s is a low contrast image' % fname)\n",
      "/usr/local/lib/python3.5/dist-packages/skimage/io/_io.py:132: UserWarning: model/Unet_rmbg/BRCAS2TESRI/Predict_mask/A32-20120425-110.png is a low contrast image\n",
      "  warn('%s is a low contrast image' % fname)\n",
      "/usr/local/lib/python3.5/dist-packages/skimage/io/_io.py:132: UserWarning: model/Unet_rmbg/BRCAS2TESRI/Predict_mask/V12-20130528-144.png is a low contrast image\n",
      "  warn('%s is a low contrast image' % fname)\n",
      "/usr/local/lib/python3.5/dist-packages/skimage/io/_io.py:132: UserWarning: model/Unet_rmbg/BRCAS2TESRI/Predict_mask/B28-20131017-019.png is a low contrast image\n",
      "  warn('%s is a low contrast image' % fname)\n",
      "/usr/local/lib/python3.5/dist-packages/skimage/io/_io.py:132: UserWarning: model/Unet_rmbg/BRCAS2TESRI/Predict_mask/V13-20150212-002.png is a low contrast image\n",
      "  warn('%s is a low contrast image' % fname)\n",
      "/usr/local/lib/python3.5/dist-packages/skimage/io/_io.py:132: UserWarning: model/Unet_rmbg/BRCAS2TESRI/Predict_mask/A39-20130807-063.png is a low contrast image\n",
      "  warn('%s is a low contrast image' % fname)\n",
      "/usr/local/lib/python3.5/dist-packages/skimage/io/_io.py:132: UserWarning: model/Unet_rmbg/BRCAS2TESRI/Predict_mask/V04-20130509-102.png is a low contrast image\n",
      "  warn('%s is a low contrast image' % fname)\n"
     ]
    },
    {
     "name": "stdout",
     "output_type": "stream",
     "text": [
      "\r",
      "[Predict]-----pred-mini-Batch (8/122)\r"
     ]
    },
    {
     "name": "stderr",
     "output_type": "stream",
     "text": [
      "/usr/local/lib/python3.5/dist-packages/skimage/io/_io.py:132: UserWarning: model/Unet_rmbg/BRCAS2TESRI/Predict_mask/V15-20140425-061.png is a low contrast image\n",
      "  warn('%s is a low contrast image' % fname)\n",
      "/usr/local/lib/python3.5/dist-packages/skimage/io/_io.py:132: UserWarning: model/Unet_rmbg/BRCAS2TESRI/Predict_mask/A37-20131016-114.png is a low contrast image\n",
      "  warn('%s is a low contrast image' % fname)\n",
      "/usr/local/lib/python3.5/dist-packages/skimage/io/_io.py:132: UserWarning: model/Unet_rmbg/BRCAS2TESRI/Predict_mask/A36-20130226-017.png is a low contrast image\n",
      "  warn('%s is a low contrast image' % fname)\n",
      "/usr/local/lib/python3.5/dist-packages/skimage/io/_io.py:132: UserWarning: model/Unet_rmbg/BRCAS2TESRI/Predict_mask/A38-20130416-016.png is a low contrast image\n",
      "  warn('%s is a low contrast image' % fname)\n",
      "/usr/local/lib/python3.5/dist-packages/skimage/io/_io.py:132: UserWarning: model/Unet_rmbg/BRCAS2TESRI/Predict_mask/V18-20150414-059.png is a low contrast image\n",
      "  warn('%s is a low contrast image' % fname)\n",
      "/usr/local/lib/python3.5/dist-packages/skimage/io/_io.py:132: UserWarning: model/Unet_rmbg/BRCAS2TESRI/Predict_mask/A35-20140101-058.png is a low contrast image\n",
      "  warn('%s is a low contrast image' % fname)\n",
      "/usr/local/lib/python3.5/dist-packages/skimage/io/_io.py:132: UserWarning: model/Unet_rmbg/BRCAS2TESRI/Predict_mask/V04-20130509-010.png is a low contrast image\n",
      "  warn('%s is a low contrast image' % fname)\n",
      "/usr/local/lib/python3.5/dist-packages/skimage/io/_io.py:132: UserWarning: model/Unet_rmbg/BRCAS2TESRI/Predict_mask/V11-20130608-116.png is a low contrast image\n",
      "  warn('%s is a low contrast image' % fname)\n",
      "/usr/local/lib/python3.5/dist-packages/skimage/io/_io.py:132: UserWarning: model/Unet_rmbg/BRCAS2TESRI/Predict_mask/A32-20111123-002.png is a low contrast image\n",
      "  warn('%s is a low contrast image' % fname)\n",
      "/usr/local/lib/python3.5/dist-packages/skimage/io/_io.py:132: UserWarning: model/Unet_rmbg/BRCAS2TESRI/Predict_mask/A52-20151110-191.png is a low contrast image\n",
      "  warn('%s is a low contrast image' % fname)\n",
      "/usr/local/lib/python3.5/dist-packages/skimage/io/_io.py:132: UserWarning: model/Unet_rmbg/BRCAS2TESRI/Predict_mask/V11-20130706-038.png is a low contrast image\n",
      "  warn('%s is a low contrast image' % fname)\n",
      "/usr/local/lib/python3.5/dist-packages/skimage/io/_io.py:132: UserWarning: model/Unet_rmbg/BRCAS2TESRI/Predict_mask/V02-20130930-048.png is a low contrast image\n",
      "  warn('%s is a low contrast image' % fname)\n",
      "/usr/local/lib/python3.5/dist-packages/skimage/io/_io.py:132: UserWarning: model/Unet_rmbg/BRCAS2TESRI/Predict_mask/V20-20160603-065.png is a low contrast image\n",
      "  warn('%s is a low contrast image' % fname)\n"
     ]
    },
    {
     "name": "stdout",
     "output_type": "stream",
     "text": [
      "\r",
      "[Predict]-----pred-mini-Batch (9/122)\r"
     ]
    },
    {
     "name": "stderr",
     "output_type": "stream",
     "text": [
      "/usr/local/lib/python3.5/dist-packages/skimage/io/_io.py:132: UserWarning: model/Unet_rmbg/BRCAS2TESRI/Predict_mask/V12-20130910-004.png is a low contrast image\n",
      "  warn('%s is a low contrast image' % fname)\n",
      "/usr/local/lib/python3.5/dist-packages/skimage/io/_io.py:132: UserWarning: model/Unet_rmbg/BRCAS2TESRI/Predict_mask/A38-20130805-086.png is a low contrast image\n",
      "  warn('%s is a low contrast image' % fname)\n",
      "/usr/local/lib/python3.5/dist-packages/skimage/io/_io.py:132: UserWarning: model/Unet_rmbg/BRCAS2TESRI/Predict_mask/V04-20140530-294.png is a low contrast image\n",
      "  warn('%s is a low contrast image' % fname)\n",
      "/usr/local/lib/python3.5/dist-packages/skimage/io/_io.py:132: UserWarning: model/Unet_rmbg/BRCAS2TESRI/Predict_mask/V20-20150123-007.png is a low contrast image\n",
      "  warn('%s is a low contrast image' % fname)\n",
      "/usr/local/lib/python3.5/dist-packages/skimage/io/_io.py:132: UserWarning: model/Unet_rmbg/BRCAS2TESRI/Predict_mask/V11-20130810-067.png is a low contrast image\n",
      "  warn('%s is a low contrast image' % fname)\n",
      "/usr/local/lib/python3.5/dist-packages/skimage/io/_io.py:132: UserWarning: model/Unet_rmbg/BRCAS2TESRI/Predict_mask/A34-20130709-102.png is a low contrast image\n",
      "  warn('%s is a low contrast image' % fname)\n",
      "/usr/local/lib/python3.5/dist-packages/skimage/io/_io.py:132: UserWarning: model/Unet_rmbg/BRCAS2TESRI/Predict_mask/A35-20140923-106.png is a low contrast image\n",
      "  warn('%s is a low contrast image' % fname)\n",
      "/usr/local/lib/python3.5/dist-packages/skimage/io/_io.py:132: UserWarning: model/Unet_rmbg/BRCAS2TESRI/Predict_mask/A32-20120830-034.png is a low contrast image\n",
      "  warn('%s is a low contrast image' % fname)\n",
      "/usr/local/lib/python3.5/dist-packages/skimage/io/_io.py:132: UserWarning: model/Unet_rmbg/BRCAS2TESRI/Predict_mask/A35-20130417-036.png is a low contrast image\n",
      "  warn('%s is a low contrast image' % fname)\n",
      "/usr/local/lib/python3.5/dist-packages/skimage/io/_io.py:132: UserWarning: model/Unet_rmbg/BRCAS2TESRI/Predict_mask/V27-20160319-033.png is a low contrast image\n",
      "  warn('%s is a low contrast image' % fname)\n",
      "/usr/local/lib/python3.5/dist-packages/skimage/io/_io.py:132: UserWarning: model/Unet_rmbg/BRCAS2TESRI/Predict_mask/A38-20150518-050.png is a low contrast image\n",
      "  warn('%s is a low contrast image' % fname)\n",
      "/usr/local/lib/python3.5/dist-packages/skimage/io/_io.py:132: UserWarning: model/Unet_rmbg/BRCAS2TESRI/Predict_mask/A37-20130806-044.png is a low contrast image\n",
      "  warn('%s is a low contrast image' % fname)\n",
      "/usr/local/lib/python3.5/dist-packages/skimage/io/_io.py:132: UserWarning: model/Unet_rmbg/BRCAS2TESRI/Predict_mask/B28-20131017-035.png is a low contrast image\n",
      "  warn('%s is a low contrast image' % fname)\n",
      "/usr/local/lib/python3.5/dist-packages/skimage/io/_io.py:132: UserWarning: model/Unet_rmbg/BRCAS2TESRI/Predict_mask/V01-20140522-058.png is a low contrast image\n",
      "  warn('%s is a low contrast image' % fname)\n",
      "/usr/local/lib/python3.5/dist-packages/skimage/io/_io.py:132: UserWarning: model/Unet_rmbg/BRCAS2TESRI/Predict_mask/V12-20130628-116.png is a low contrast image\n",
      "  warn('%s is a low contrast image' % fname)\n"
     ]
    },
    {
     "name": "stdout",
     "output_type": "stream",
     "text": [
      "\r",
      "[Predict]-----pred-mini-Batch (10/122)\r"
     ]
    },
    {
     "name": "stderr",
     "output_type": "stream",
     "text": [
      "/usr/local/lib/python3.5/dist-packages/skimage/io/_io.py:132: UserWarning: model/Unet_rmbg/BRCAS2TESRI/Predict_mask/A35-20131202-004.png is a low contrast image\n",
      "  warn('%s is a low contrast image' % fname)\n",
      "/usr/local/lib/python3.5/dist-packages/skimage/io/_io.py:132: UserWarning: model/Unet_rmbg/BRCAS2TESRI/Predict_mask/A41-20140206-018.png is a low contrast image\n",
      "  warn('%s is a low contrast image' % fname)\n",
      "/usr/local/lib/python3.5/dist-packages/skimage/io/_io.py:132: UserWarning: model/Unet_rmbg/BRCAS2TESRI/Predict_mask/A32-20111123-114.png is a low contrast image\n",
      "  warn('%s is a low contrast image' % fname)\n",
      "/usr/local/lib/python3.5/dist-packages/skimage/io/_io.py:132: UserWarning: model/Unet_rmbg/BRCAS2TESRI/Predict_mask/V12-20130927-016.png is a low contrast image\n",
      "  warn('%s is a low contrast image' % fname)\n",
      "/usr/local/lib/python3.5/dist-packages/skimage/io/_io.py:132: UserWarning: model/Unet_rmbg/BRCAS2TESRI/Predict_mask/V04-20150223-026.png is a low contrast image\n",
      "  warn('%s is a low contrast image' % fname)\n",
      "/usr/local/lib/python3.5/dist-packages/skimage/io/_io.py:132: UserWarning: model/Unet_rmbg/BRCAS2TESRI/Predict_mask/V03-20130510-132.png is a low contrast image\n",
      "  warn('%s is a low contrast image' % fname)\n",
      "/usr/local/lib/python3.5/dist-packages/skimage/io/_io.py:132: UserWarning: model/Unet_rmbg/BRCAS2TESRI/Predict_mask/A35-20130221-026.png is a low contrast image\n",
      "  warn('%s is a low contrast image' % fname)\n",
      "/usr/local/lib/python3.5/dist-packages/skimage/io/_io.py:132: UserWarning: model/Unet_rmbg/BRCAS2TESRI/Predict_mask/V09-20140104-001.png is a low contrast image\n",
      "  warn('%s is a low contrast image' % fname)\n",
      "/usr/local/lib/python3.5/dist-packages/skimage/io/_io.py:132: UserWarning: model/Unet_rmbg/BRCAS2TESRI/Predict_mask/A38-20140728-027.png is a low contrast image\n",
      "  warn('%s is a low contrast image' % fname)\n",
      "/usr/local/lib/python3.5/dist-packages/skimage/io/_io.py:132: UserWarning: model/Unet_rmbg/BRCAS2TESRI/Predict_mask/A33-20130115-034.png is a low contrast image\n",
      "  warn('%s is a low contrast image' % fname)\n",
      "/usr/local/lib/python3.5/dist-packages/skimage/io/_io.py:132: UserWarning: model/Unet_rmbg/BRCAS2TESRI/Predict_mask/B29-20131018-071.png is a low contrast image\n",
      "  warn('%s is a low contrast image' % fname)\n"
     ]
    },
    {
     "name": "stdout",
     "output_type": "stream",
     "text": [
      "\r",
      "[Predict]-----pred-mini-Batch (11/122)\r"
     ]
    },
    {
     "name": "stderr",
     "output_type": "stream",
     "text": [
      "/usr/local/lib/python3.5/dist-packages/skimage/io/_io.py:132: UserWarning: model/Unet_rmbg/BRCAS2TESRI/Predict_mask/V04-20130606-139.png is a low contrast image\n",
      "  warn('%s is a low contrast image' % fname)\n",
      "/usr/local/lib/python3.5/dist-packages/skimage/io/_io.py:132: UserWarning: model/Unet_rmbg/BRCAS2TESRI/Predict_mask/V06-20131101-112.png is a low contrast image\n",
      "  warn('%s is a low contrast image' % fname)\n",
      "/usr/local/lib/python3.5/dist-packages/skimage/io/_io.py:132: UserWarning: model/Unet_rmbg/BRCAS2TESRI/Predict_mask/V12-20130528-183.png is a low contrast image\n",
      "  warn('%s is a low contrast image' % fname)\n",
      "/usr/local/lib/python3.5/dist-packages/skimage/io/_io.py:132: UserWarning: model/Unet_rmbg/BRCAS2TESRI/Predict_mask/V12-20131128-094.png is a low contrast image\n",
      "  warn('%s is a low contrast image' % fname)\n",
      "/usr/local/lib/python3.5/dist-packages/skimage/io/_io.py:132: UserWarning: model/Unet_rmbg/BRCAS2TESRI/Predict_mask/A46-20150513-160.png is a low contrast image\n",
      "  warn('%s is a low contrast image' % fname)\n",
      "/usr/local/lib/python3.5/dist-packages/skimage/io/_io.py:132: UserWarning: model/Unet_rmbg/BRCAS2TESRI/Predict_mask/V21-20150815-004.png is a low contrast image\n",
      "  warn('%s is a low contrast image' % fname)\n",
      "/usr/local/lib/python3.5/dist-packages/skimage/io/_io.py:132: UserWarning: model/Unet_rmbg/BRCAS2TESRI/Predict_mask/A38-20150518-030.png is a low contrast image\n",
      "  warn('%s is a low contrast image' % fname)\n",
      "/usr/local/lib/python3.5/dist-packages/skimage/io/_io.py:132: UserWarning: model/Unet_rmbg/BRCAS2TESRI/Predict_mask/V03-20150422-027.png is a low contrast image\n",
      "  warn('%s is a low contrast image' % fname)\n",
      "/usr/local/lib/python3.5/dist-packages/skimage/io/_io.py:132: UserWarning: model/Unet_rmbg/BRCAS2TESRI/Predict_mask/V05-20130412-013.png is a low contrast image\n",
      "  warn('%s is a low contrast image' % fname)\n",
      "/usr/local/lib/python3.5/dist-packages/skimage/io/_io.py:132: UserWarning: model/Unet_rmbg/BRCAS2TESRI/Predict_mask/V13-20130928-092.png is a low contrast image\n",
      "  warn('%s is a low contrast image' % fname)\n"
     ]
    },
    {
     "name": "stdout",
     "output_type": "stream",
     "text": [
      "\r",
      "[Predict]-----pred-mini-Batch (12/122)\r"
     ]
    },
    {
     "name": "stderr",
     "output_type": "stream",
     "text": [
      "/usr/local/lib/python3.5/dist-packages/skimage/io/_io.py:132: UserWarning: model/Unet_rmbg/BRCAS2TESRI/Predict_mask/A32-20120830-132.png is a low contrast image\n",
      "  warn('%s is a low contrast image' % fname)\n",
      "/usr/local/lib/python3.5/dist-packages/skimage/io/_io.py:132: UserWarning: model/Unet_rmbg/BRCAS2TESRI/Predict_mask/A41-20140325-145.png is a low contrast image\n",
      "  warn('%s is a low contrast image' % fname)\n",
      "/usr/local/lib/python3.5/dist-packages/skimage/io/_io.py:132: UserWarning: model/Unet_rmbg/BRCAS2TESRI/Predict_mask/V12-20130528-147.png is a low contrast image\n",
      "  warn('%s is a low contrast image' % fname)\n",
      "/usr/local/lib/python3.5/dist-packages/skimage/io/_io.py:132: UserWarning: model/Unet_rmbg/BRCAS2TESRI/Predict_mask/V14-20130428-079.png is a low contrast image\n",
      "  warn('%s is a low contrast image' % fname)\n",
      "/usr/local/lib/python3.5/dist-packages/skimage/io/_io.py:132: UserWarning: model/Unet_rmbg/BRCAS2TESRI/Predict_mask/A32-20111123-071.png is a low contrast image\n",
      "  warn('%s is a low contrast image' % fname)\n",
      "/usr/local/lib/python3.5/dist-packages/skimage/io/_io.py:132: UserWarning: model/Unet_rmbg/BRCAS2TESRI/Predict_mask/A32-20111123-057.png is a low contrast image\n",
      "  warn('%s is a low contrast image' % fname)\n",
      "/usr/local/lib/python3.5/dist-packages/skimage/io/_io.py:132: UserWarning: model/Unet_rmbg/BRCAS2TESRI/Predict_mask/V13-20130928-078.png is a low contrast image\n",
      "  warn('%s is a low contrast image' % fname)\n",
      "/usr/local/lib/python3.5/dist-packages/skimage/io/_io.py:132: UserWarning: model/Unet_rmbg/BRCAS2TESRI/Predict_mask/A48-20160118-012.png is a low contrast image\n",
      "  warn('%s is a low contrast image' % fname)\n",
      "/usr/local/lib/python3.5/dist-packages/skimage/io/_io.py:132: UserWarning: model/Unet_rmbg/BRCAS2TESRI/Predict_mask/V13-20130608-016.png is a low contrast image\n",
      "  warn('%s is a low contrast image' % fname)\n",
      "/usr/local/lib/python3.5/dist-packages/skimage/io/_io.py:132: UserWarning: model/Unet_rmbg/BRCAS2TESRI/Predict_mask/V02-20130801-100.png is a low contrast image\n",
      "  warn('%s is a low contrast image' % fname)\n",
      "/usr/local/lib/python3.5/dist-packages/skimage/io/_io.py:132: UserWarning: model/Unet_rmbg/BRCAS2TESRI/Predict_mask/A34-20140428-137.png is a low contrast image\n",
      "  warn('%s is a low contrast image' % fname)\n",
      "/usr/local/lib/python3.5/dist-packages/skimage/io/_io.py:132: UserWarning: model/Unet_rmbg/BRCAS2TESRI/Predict_mask/A35-20150409-198.png is a low contrast image\n",
      "  warn('%s is a low contrast image' % fname)\n"
     ]
    },
    {
     "name": "stdout",
     "output_type": "stream",
     "text": [
      "\r",
      "[Predict]-----pred-mini-Batch (13/122)\r"
     ]
    },
    {
     "name": "stderr",
     "output_type": "stream",
     "text": [
      "/usr/local/lib/python3.5/dist-packages/skimage/io/_io.py:132: UserWarning: model/Unet_rmbg/BRCAS2TESRI/Predict_mask/V17-20140607-094.png is a low contrast image\n",
      "  warn('%s is a low contrast image' % fname)\n",
      "/usr/local/lib/python3.5/dist-packages/skimage/io/_io.py:132: UserWarning: model/Unet_rmbg/BRCAS2TESRI/Predict_mask/A34-20130313-017.png is a low contrast image\n",
      "  warn('%s is a low contrast image' % fname)\n",
      "/usr/local/lib/python3.5/dist-packages/skimage/io/_io.py:132: UserWarning: model/Unet_rmbg/BRCAS2TESRI/Predict_mask/A48-20150318-053.png is a low contrast image\n",
      "  warn('%s is a low contrast image' % fname)\n",
      "/usr/local/lib/python3.5/dist-packages/skimage/io/_io.py:132: UserWarning: model/Unet_rmbg/BRCAS2TESRI/Predict_mask/V03-20131103-064.png is a low contrast image\n",
      "  warn('%s is a low contrast image' % fname)\n",
      "/usr/local/lib/python3.5/dist-packages/skimage/io/_io.py:132: UserWarning: model/Unet_rmbg/BRCAS2TESRI/Predict_mask/V07-20130809-016.png is a low contrast image\n",
      "  warn('%s is a low contrast image' % fname)\n",
      "/usr/local/lib/python3.5/dist-packages/skimage/io/_io.py:132: UserWarning: model/Unet_rmbg/BRCAS2TESRI/Predict_mask/A38-20140728-086.png is a low contrast image\n",
      "  warn('%s is a low contrast image' % fname)\n",
      "/usr/local/lib/python3.5/dist-packages/skimage/io/_io.py:132: UserWarning: model/Unet_rmbg/BRCAS2TESRI/Predict_mask/V08-20140503-048.png is a low contrast image\n",
      "  warn('%s is a low contrast image' % fname)\n",
      "/usr/local/lib/python3.5/dist-packages/skimage/io/_io.py:132: UserWarning: model/Unet_rmbg/BRCAS2TESRI/Predict_mask/A32-20120725-010.png is a low contrast image\n",
      "  warn('%s is a low contrast image' % fname)\n",
      "/usr/local/lib/python3.5/dist-packages/skimage/io/_io.py:132: UserWarning: model/Unet_rmbg/BRCAS2TESRI/Predict_mask/V14-20130428-165.png is a low contrast image\n",
      "  warn('%s is a low contrast image' % fname)\n",
      "/usr/local/lib/python3.5/dist-packages/skimage/io/_io.py:132: UserWarning: model/Unet_rmbg/BRCAS2TESRI/Predict_mask/A34-20130313-044.png is a low contrast image\n",
      "  warn('%s is a low contrast image' % fname)\n",
      "/usr/local/lib/python3.5/dist-packages/skimage/io/_io.py:132: UserWarning: model/Unet_rmbg/BRCAS2TESRI/Predict_mask/A33-20130115-033.png is a low contrast image\n",
      "  warn('%s is a low contrast image' % fname)\n",
      "/usr/local/lib/python3.5/dist-packages/skimage/io/_io.py:132: UserWarning: model/Unet_rmbg/BRCAS2TESRI/Predict_mask/V06-20140820-091.png is a low contrast image\n",
      "  warn('%s is a low contrast image' % fname)\n",
      "/usr/local/lib/python3.5/dist-packages/skimage/io/_io.py:132: UserWarning: model/Unet_rmbg/BRCAS2TESRI/Predict_mask/V06-20131101-111.png is a low contrast image\n",
      "  warn('%s is a low contrast image' % fname)\n",
      "/usr/local/lib/python3.5/dist-packages/skimage/io/_io.py:132: UserWarning: model/Unet_rmbg/BRCAS2TESRI/Predict_mask/A38-20140925-063.png is a low contrast image\n",
      "  warn('%s is a low contrast image' % fname)\n"
     ]
    },
    {
     "name": "stdout",
     "output_type": "stream",
     "text": [
      "\r",
      "[Predict]-----pred-mini-Batch (14/122)\r"
     ]
    },
    {
     "name": "stderr",
     "output_type": "stream",
     "text": [
      "/usr/local/lib/python3.5/dist-packages/skimage/io/_io.py:132: UserWarning: model/Unet_rmbg/BRCAS2TESRI/Predict_mask/A32-20120725-086.png is a low contrast image\n",
      "  warn('%s is a low contrast image' % fname)\n",
      "/usr/local/lib/python3.5/dist-packages/skimage/io/_io.py:132: UserWarning: model/Unet_rmbg/BRCAS2TESRI/Predict_mask/V06-20130705-021.png is a low contrast image\n",
      "  warn('%s is a low contrast image' % fname)\n",
      "/usr/local/lib/python3.5/dist-packages/skimage/io/_io.py:132: UserWarning: model/Unet_rmbg/BRCAS2TESRI/Predict_mask/V04-20140530-213.png is a low contrast image\n",
      "  warn('%s is a low contrast image' % fname)\n",
      "/usr/local/lib/python3.5/dist-packages/skimage/io/_io.py:132: UserWarning: model/Unet_rmbg/BRCAS2TESRI/Predict_mask/V20-20160331-092.png is a low contrast image\n",
      "  warn('%s is a low contrast image' % fname)\n",
      "/usr/local/lib/python3.5/dist-packages/skimage/io/_io.py:132: UserWarning: model/Unet_rmbg/BRCAS2TESRI/Predict_mask/A38-20130805-096.png is a low contrast image\n",
      "  warn('%s is a low contrast image' % fname)\n",
      "/usr/local/lib/python3.5/dist-packages/skimage/io/_io.py:132: UserWarning: model/Unet_rmbg/BRCAS2TESRI/Predict_mask/A34-20130902-231.png is a low contrast image\n",
      "  warn('%s is a low contrast image' % fname)\n",
      "/usr/local/lib/python3.5/dist-packages/skimage/io/_io.py:132: UserWarning: model/Unet_rmbg/BRCAS2TESRI/Predict_mask/A37-20160504-137.png is a low contrast image\n",
      "  warn('%s is a low contrast image' % fname)\n",
      "/usr/local/lib/python3.5/dist-packages/skimage/io/_io.py:132: UserWarning: model/Unet_rmbg/BRCAS2TESRI/Predict_mask/A40-20140924-006.png is a low contrast image\n",
      "  warn('%s is a low contrast image' % fname)\n",
      "/usr/local/lib/python3.5/dist-packages/skimage/io/_io.py:132: UserWarning: model/Unet_rmbg/BRCAS2TESRI/Predict_mask/A35-20130805-152.png is a low contrast image\n",
      "  warn('%s is a low contrast image' % fname)\n",
      "/usr/local/lib/python3.5/dist-packages/skimage/io/_io.py:132: UserWarning: model/Unet_rmbg/BRCAS2TESRI/Predict_mask/V12-20130628-101.png is a low contrast image\n",
      "  warn('%s is a low contrast image' % fname)\n",
      "/usr/local/lib/python3.5/dist-packages/skimage/io/_io.py:132: UserWarning: model/Unet_rmbg/BRCAS2TESRI/Predict_mask/V12-20131128-042.png is a low contrast image\n",
      "  warn('%s is a low contrast image' % fname)\n",
      "/usr/local/lib/python3.5/dist-packages/skimage/io/_io.py:132: UserWarning: model/Unet_rmbg/BRCAS2TESRI/Predict_mask/A32-20120523-169.png is a low contrast image\n",
      "  warn('%s is a low contrast image' % fname)\n",
      "/usr/local/lib/python3.5/dist-packages/skimage/io/_io.py:132: UserWarning: model/Unet_rmbg/BRCAS2TESRI/Predict_mask/A32-20120830-013.png is a low contrast image\n",
      "  warn('%s is a low contrast image' % fname)\n",
      "/usr/local/lib/python3.5/dist-packages/skimage/io/_io.py:132: UserWarning: model/Unet_rmbg/BRCAS2TESRI/Predict_mask/V14-20130428-019.png is a low contrast image\n",
      "  warn('%s is a low contrast image' % fname)\n",
      "/usr/local/lib/python3.5/dist-packages/skimage/io/_io.py:132: UserWarning: model/Unet_rmbg/BRCAS2TESRI/Predict_mask/A37-20130418-007.png is a low contrast image\n",
      "  warn('%s is a low contrast image' % fname)\n"
     ]
    },
    {
     "name": "stdout",
     "output_type": "stream",
     "text": [
      "\r",
      "[Predict]-----pred-mini-Batch (15/122)\r"
     ]
    },
    {
     "name": "stderr",
     "output_type": "stream",
     "text": [
      "/usr/local/lib/python3.5/dist-packages/skimage/io/_io.py:132: UserWarning: model/Unet_rmbg/BRCAS2TESRI/Predict_mask/V07-20141024-060.png is a low contrast image\n",
      "  warn('%s is a low contrast image' % fname)\n",
      "/usr/local/lib/python3.5/dist-packages/skimage/io/_io.py:132: UserWarning: model/Unet_rmbg/BRCAS2TESRI/Predict_mask/V04-20130606-161.png is a low contrast image\n",
      "  warn('%s is a low contrast image' % fname)\n",
      "/usr/local/lib/python3.5/dist-packages/skimage/io/_io.py:132: UserWarning: model/Unet_rmbg/BRCAS2TESRI/Predict_mask/A35-20140923-253.png is a low contrast image\n",
      "  warn('%s is a low contrast image' % fname)\n",
      "/usr/local/lib/python3.5/dist-packages/skimage/io/_io.py:132: UserWarning: model/Unet_rmbg/BRCAS2TESRI/Predict_mask/A38-20140325-071.png is a low contrast image\n",
      "  warn('%s is a low contrast image' % fname)\n",
      "/usr/local/lib/python3.5/dist-packages/skimage/io/_io.py:132: UserWarning: model/Unet_rmbg/BRCAS2TESRI/Predict_mask/V12-20130927-024.png is a low contrast image\n",
      "  warn('%s is a low contrast image' % fname)\n",
      "/usr/local/lib/python3.5/dist-packages/skimage/io/_io.py:132: UserWarning: model/Unet_rmbg/BRCAS2TESRI/Predict_mask/V07-20130412-023.png is a low contrast image\n",
      "  warn('%s is a low contrast image' % fname)\n",
      "/usr/local/lib/python3.5/dist-packages/skimage/io/_io.py:132: UserWarning: model/Unet_rmbg/BRCAS2TESRI/Predict_mask/V02-20130801-080.png is a low contrast image\n",
      "  warn('%s is a low contrast image' % fname)\n",
      "/usr/local/lib/python3.5/dist-packages/skimage/io/_io.py:132: UserWarning: model/Unet_rmbg/BRCAS2TESRI/Predict_mask/A32-20120523-019.png is a low contrast image\n",
      "  warn('%s is a low contrast image' % fname)\n",
      "/usr/local/lib/python3.5/dist-packages/skimage/io/_io.py:132: UserWarning: model/Unet_rmbg/BRCAS2TESRI/Predict_mask/A34-20151209-145.png is a low contrast image\n",
      "  warn('%s is a low contrast image' % fname)\n",
      "/usr/local/lib/python3.5/dist-packages/skimage/io/_io.py:132: UserWarning: model/Unet_rmbg/BRCAS2TESRI/Predict_mask/A32-20111123-056.png is a low contrast image\n",
      "  warn('%s is a low contrast image' % fname)\n",
      "/usr/local/lib/python3.5/dist-packages/skimage/io/_io.py:132: UserWarning: model/Unet_rmbg/BRCAS2TESRI/Predict_mask/V12-20131028-004.png is a low contrast image\n",
      "  warn('%s is a low contrast image' % fname)\n",
      "/usr/local/lib/python3.5/dist-packages/skimage/io/_io.py:132: UserWarning: model/Unet_rmbg/BRCAS2TESRI/Predict_mask/V04-20130509-030.png is a low contrast image\n",
      "  warn('%s is a low contrast image' % fname)\n"
     ]
    },
    {
     "name": "stdout",
     "output_type": "stream",
     "text": [
      "\r",
      "[Predict]-----pred-mini-Batch (16/122)\r"
     ]
    },
    {
     "name": "stderr",
     "output_type": "stream",
     "text": [
      "/usr/local/lib/python3.5/dist-packages/skimage/io/_io.py:132: UserWarning: model/Unet_rmbg/BRCAS2TESRI/Predict_mask/A34-20130506-054.png is a low contrast image\n",
      "  warn('%s is a low contrast image' % fname)\n",
      "/usr/local/lib/python3.5/dist-packages/skimage/io/_io.py:132: UserWarning: model/Unet_rmbg/BRCAS2TESRI/Predict_mask/A32-20120425-045.png is a low contrast image\n",
      "  warn('%s is a low contrast image' % fname)\n",
      "/usr/local/lib/python3.5/dist-packages/skimage/io/_io.py:132: UserWarning: model/Unet_rmbg/BRCAS2TESRI/Predict_mask/V14-20130725-035.png is a low contrast image\n",
      "  warn('%s is a low contrast image' % fname)\n",
      "/usr/local/lib/python3.5/dist-packages/skimage/io/_io.py:132: UserWarning: model/Unet_rmbg/BRCAS2TESRI/Predict_mask/V07-20130412-105.png is a low contrast image\n",
      "  warn('%s is a low contrast image' % fname)\n",
      "/usr/local/lib/python3.5/dist-packages/skimage/io/_io.py:132: UserWarning: model/Unet_rmbg/BRCAS2TESRI/Predict_mask/A48-20160601-021.png is a low contrast image\n",
      "  warn('%s is a low contrast image' % fname)\n",
      "/usr/local/lib/python3.5/dist-packages/skimage/io/_io.py:132: UserWarning: model/Unet_rmbg/BRCAS2TESRI/Predict_mask/V04-20130509-104.png is a low contrast image\n",
      "  warn('%s is a low contrast image' % fname)\n",
      "/usr/local/lib/python3.5/dist-packages/skimage/io/_io.py:132: UserWarning: model/Unet_rmbg/BRCAS2TESRI/Predict_mask/A34-20130902-031.png is a low contrast image\n",
      "  warn('%s is a low contrast image' % fname)\n",
      "/usr/local/lib/python3.5/dist-packages/skimage/io/_io.py:132: UserWarning: model/Unet_rmbg/BRCAS2TESRI/Predict_mask/V03-20131201-079.png is a low contrast image\n",
      "  warn('%s is a low contrast image' % fname)\n",
      "/usr/local/lib/python3.5/dist-packages/skimage/io/_io.py:132: UserWarning: model/Unet_rmbg/BRCAS2TESRI/Predict_mask/V12-20130910-061.png is a low contrast image\n",
      "  warn('%s is a low contrast image' % fname)\n"
     ]
    },
    {
     "name": "stdout",
     "output_type": "stream",
     "text": [
      "\r",
      "[Predict]-----pred-mini-Batch (17/122)\r"
     ]
    },
    {
     "name": "stderr",
     "output_type": "stream",
     "text": [
      "/usr/local/lib/python3.5/dist-packages/skimage/io/_io.py:132: UserWarning: model/Unet_rmbg/BRCAS2TESRI/Predict_mask/V12-20140217-020.png is a low contrast image\n",
      "  warn('%s is a low contrast image' % fname)\n",
      "/usr/local/lib/python3.5/dist-packages/skimage/io/_io.py:132: UserWarning: model/Unet_rmbg/BRCAS2TESRI/Predict_mask/V02-20140501-106.png is a low contrast image\n",
      "  warn('%s is a low contrast image' % fname)\n",
      "/usr/local/lib/python3.5/dist-packages/skimage/io/_io.py:132: UserWarning: model/Unet_rmbg/BRCAS2TESRI/Predict_mask/A34-20130902-228.png is a low contrast image\n",
      "  warn('%s is a low contrast image' % fname)\n",
      "/usr/local/lib/python3.5/dist-packages/skimage/io/_io.py:132: UserWarning: model/Unet_rmbg/BRCAS2TESRI/Predict_mask/A32-20120830-099.png is a low contrast image\n",
      "  warn('%s is a low contrast image' % fname)\n",
      "/usr/local/lib/python3.5/dist-packages/skimage/io/_io.py:132: UserWarning: model/Unet_rmbg/BRCAS2TESRI/Predict_mask/V04-20130606-124.png is a low contrast image\n",
      "  warn('%s is a low contrast image' % fname)\n",
      "/usr/local/lib/python3.5/dist-packages/skimage/io/_io.py:132: UserWarning: model/Unet_rmbg/BRCAS2TESRI/Predict_mask/V14-20130428-040.png is a low contrast image\n",
      "  warn('%s is a low contrast image' % fname)\n",
      "/usr/local/lib/python3.5/dist-packages/skimage/io/_io.py:132: UserWarning: model/Unet_rmbg/BRCAS2TESRI/Predict_mask/V04-20130509-090.png is a low contrast image\n",
      "  warn('%s is a low contrast image' % fname)\n",
      "/usr/local/lib/python3.5/dist-packages/skimage/io/_io.py:132: UserWarning: model/Unet_rmbg/BRCAS2TESRI/Predict_mask/A35-20130605-131.png is a low contrast image\n",
      "  warn('%s is a low contrast image' % fname)\n",
      "/usr/local/lib/python3.5/dist-packages/skimage/io/_io.py:132: UserWarning: model/Unet_rmbg/BRCAS2TESRI/Predict_mask/A38-20131001-044.png is a low contrast image\n",
      "  warn('%s is a low contrast image' % fname)\n",
      "/usr/local/lib/python3.5/dist-packages/skimage/io/_io.py:132: UserWarning: model/Unet_rmbg/BRCAS2TESRI/Predict_mask/A46-20160119-109.png is a low contrast image\n",
      "  warn('%s is a low contrast image' % fname)\n",
      "/usr/local/lib/python3.5/dist-packages/skimage/io/_io.py:132: UserWarning: model/Unet_rmbg/BRCAS2TESRI/Predict_mask/V07-20131108-007.png is a low contrast image\n",
      "  warn('%s is a low contrast image' % fname)\n",
      "/usr/local/lib/python3.5/dist-packages/skimage/io/_io.py:132: UserWarning: model/Unet_rmbg/BRCAS2TESRI/Predict_mask/A34-20140826-100.png is a low contrast image\n",
      "  warn('%s is a low contrast image' % fname)\n"
     ]
    },
    {
     "name": "stdout",
     "output_type": "stream",
     "text": [
      "\r",
      "[Predict]-----pred-mini-Batch (18/122)\r"
     ]
    },
    {
     "name": "stderr",
     "output_type": "stream",
     "text": [
      "/usr/local/lib/python3.5/dist-packages/skimage/io/_io.py:132: UserWarning: model/Unet_rmbg/BRCAS2TESRI/Predict_mask/A36-20130606-060.png is a low contrast image\n",
      "  warn('%s is a low contrast image' % fname)\n",
      "/usr/local/lib/python3.5/dist-packages/skimage/io/_io.py:132: UserWarning: model/Unet_rmbg/BRCAS2TESRI/Predict_mask/V03-20150126-005.png is a low contrast image\n",
      "  warn('%s is a low contrast image' % fname)\n",
      "/usr/local/lib/python3.5/dist-packages/skimage/io/_io.py:132: UserWarning: model/Unet_rmbg/BRCAS2TESRI/Predict_mask/V04-20130606-191.png is a low contrast image\n",
      "  warn('%s is a low contrast image' % fname)\n",
      "/usr/local/lib/python3.5/dist-packages/skimage/io/_io.py:132: UserWarning: model/Unet_rmbg/BRCAS2TESRI/Predict_mask/V04-20140425-126.png is a low contrast image\n",
      "  warn('%s is a low contrast image' % fname)\n",
      "/usr/local/lib/python3.5/dist-packages/skimage/io/_io.py:132: UserWarning: model/Unet_rmbg/BRCAS2TESRI/Predict_mask/A38-20130805-062.png is a low contrast image\n",
      "  warn('%s is a low contrast image' % fname)\n",
      "/usr/local/lib/python3.5/dist-packages/skimage/io/_io.py:132: UserWarning: model/Unet_rmbg/BRCAS2TESRI/Predict_mask/A37-20131016-058.png is a low contrast image\n",
      "  warn('%s is a low contrast image' % fname)\n",
      "/usr/local/lib/python3.5/dist-packages/skimage/io/_io.py:132: UserWarning: model/Unet_rmbg/BRCAS2TESRI/Predict_mask/V11-20130810-079.png is a low contrast image\n",
      "  warn('%s is a low contrast image' % fname)\n",
      "/usr/local/lib/python3.5/dist-packages/skimage/io/_io.py:132: UserWarning: model/Unet_rmbg/BRCAS2TESRI/Predict_mask/A34-20130506-028.png is a low contrast image\n",
      "  warn('%s is a low contrast image' % fname)\n",
      "/usr/local/lib/python3.5/dist-packages/skimage/io/_io.py:132: UserWarning: model/Unet_rmbg/BRCAS2TESRI/Predict_mask/A34-20140226-006.png is a low contrast image\n",
      "  warn('%s is a low contrast image' % fname)\n",
      "/usr/local/lib/python3.5/dist-packages/skimage/io/_io.py:132: UserWarning: model/Unet_rmbg/BRCAS2TESRI/Predict_mask/A38-20130416-012.png is a low contrast image\n",
      "  warn('%s is a low contrast image' % fname)\n",
      "/usr/local/lib/python3.5/dist-packages/skimage/io/_io.py:132: UserWarning: model/Unet_rmbg/BRCAS2TESRI/Predict_mask/V12-20140413-019.png is a low contrast image\n",
      "  warn('%s is a low contrast image' % fname)\n",
      "/usr/local/lib/python3.5/dist-packages/skimage/io/_io.py:132: UserWarning: model/Unet_rmbg/BRCAS2TESRI/Predict_mask/A35-20130221-054.png is a low contrast image\n",
      "  warn('%s is a low contrast image' % fname)\n"
     ]
    },
    {
     "name": "stdout",
     "output_type": "stream",
     "text": [
      "\r",
      "[Predict]-----pred-mini-Batch (19/122)\r"
     ]
    },
    {
     "name": "stderr",
     "output_type": "stream",
     "text": [
      "/usr/local/lib/python3.5/dist-packages/skimage/io/_io.py:132: UserWarning: model/Unet_rmbg/BRCAS2TESRI/Predict_mask/V06-20150911-067.png is a low contrast image\n",
      "  warn('%s is a low contrast image' % fname)\n",
      "/usr/local/lib/python3.5/dist-packages/skimage/io/_io.py:132: UserWarning: model/Unet_rmbg/BRCAS2TESRI/Predict_mask/V04-20130509-058.png is a low contrast image\n",
      "  warn('%s is a low contrast image' % fname)\n",
      "/usr/local/lib/python3.5/dist-packages/skimage/io/_io.py:132: UserWarning: model/Unet_rmbg/BRCAS2TESRI/Predict_mask/V04-20150223-129.png is a low contrast image\n",
      "  warn('%s is a low contrast image' % fname)\n",
      "/usr/local/lib/python3.5/dist-packages/skimage/io/_io.py:132: UserWarning: model/Unet_rmbg/BRCAS2TESRI/Predict_mask/V03-20130606-165.png is a low contrast image\n",
      "  warn('%s is a low contrast image' % fname)\n",
      "/usr/local/lib/python3.5/dist-packages/skimage/io/_io.py:132: UserWarning: model/Unet_rmbg/BRCAS2TESRI/Predict_mask/V12-20130927-026.png is a low contrast image\n",
      "  warn('%s is a low contrast image' % fname)\n",
      "/usr/local/lib/python3.5/dist-packages/skimage/io/_io.py:132: UserWarning: model/Unet_rmbg/BRCAS2TESRI/Predict_mask/A35-20150609-239.png is a low contrast image\n",
      "  warn('%s is a low contrast image' % fname)\n",
      "/usr/local/lib/python3.5/dist-packages/skimage/io/_io.py:132: UserWarning: model/Unet_rmbg/BRCAS2TESRI/Predict_mask/A32-20111123-063.png is a low contrast image\n",
      "  warn('%s is a low contrast image' % fname)\n",
      "/usr/local/lib/python3.5/dist-packages/skimage/io/_io.py:132: UserWarning: model/Unet_rmbg/BRCAS2TESRI/Predict_mask/A32-20120523-071.png is a low contrast image\n",
      "  warn('%s is a low contrast image' % fname)\n",
      "/usr/local/lib/python3.5/dist-packages/skimage/io/_io.py:132: UserWarning: model/Unet_rmbg/BRCAS2TESRI/Predict_mask/V02-20130603-011.png is a low contrast image\n",
      "  warn('%s is a low contrast image' % fname)\n",
      "/usr/local/lib/python3.5/dist-packages/skimage/io/_io.py:132: UserWarning: model/Unet_rmbg/BRCAS2TESRI/Predict_mask/A34-20130902-046.png is a low contrast image\n",
      "  warn('%s is a low contrast image' % fname)\n",
      "/usr/local/lib/python3.5/dist-packages/skimage/io/_io.py:132: UserWarning: model/Unet_rmbg/BRCAS2TESRI/Predict_mask/A35-20130805-087.png is a low contrast image\n",
      "  warn('%s is a low contrast image' % fname)\n",
      "/usr/local/lib/python3.5/dist-packages/skimage/io/_io.py:132: UserWarning: model/Unet_rmbg/BRCAS2TESRI/Predict_mask/V03-20140102-035.png is a low contrast image\n",
      "  warn('%s is a low contrast image' % fname)\n",
      "/usr/local/lib/python3.5/dist-packages/skimage/io/_io.py:132: UserWarning: model/Unet_rmbg/BRCAS2TESRI/Predict_mask/V09-20140719-010.png is a low contrast image\n",
      "  warn('%s is a low contrast image' % fname)\n"
     ]
    },
    {
     "name": "stdout",
     "output_type": "stream",
     "text": [
      "\r",
      "[Predict]-----pred-mini-Batch (20/122)\r"
     ]
    },
    {
     "name": "stderr",
     "output_type": "stream",
     "text": [
      "/usr/local/lib/python3.5/dist-packages/skimage/io/_io.py:132: UserWarning: model/Unet_rmbg/BRCAS2TESRI/Predict_mask/A32-20120523-042.png is a low contrast image\n",
      "  warn('%s is a low contrast image' % fname)\n",
      "/usr/local/lib/python3.5/dist-packages/skimage/io/_io.py:132: UserWarning: model/Unet_rmbg/BRCAS2TESRI/Predict_mask/A34-20130313-018.png is a low contrast image\n",
      "  warn('%s is a low contrast image' % fname)\n",
      "/usr/local/lib/python3.5/dist-packages/skimage/io/_io.py:132: UserWarning: model/Unet_rmbg/BRCAS2TESRI/Predict_mask/A46-20160602-212.png is a low contrast image\n",
      "  warn('%s is a low contrast image' % fname)\n",
      "/usr/local/lib/python3.5/dist-packages/skimage/io/_io.py:132: UserWarning: model/Unet_rmbg/BRCAS2TESRI/Predict_mask/V04-20150223-041.png is a low contrast image\n",
      "  warn('%s is a low contrast image' % fname)\n",
      "/usr/local/lib/python3.5/dist-packages/skimage/io/_io.py:132: UserWarning: model/Unet_rmbg/BRCAS2TESRI/Predict_mask/V04-20130509-158.png is a low contrast image\n",
      "  warn('%s is a low contrast image' % fname)\n",
      "/usr/local/lib/python3.5/dist-packages/skimage/io/_io.py:132: UserWarning: model/Unet_rmbg/BRCAS2TESRI/Predict_mask/A42-20150610-045.png is a low contrast image\n",
      "  warn('%s is a low contrast image' % fname)\n",
      "/usr/local/lib/python3.5/dist-packages/skimage/io/_io.py:132: UserWarning: model/Unet_rmbg/BRCAS2TESRI/Predict_mask/A34-20130709-089.png is a low contrast image\n",
      "  warn('%s is a low contrast image' % fname)\n",
      "/usr/local/lib/python3.5/dist-packages/skimage/io/_io.py:132: UserWarning: model/Unet_rmbg/BRCAS2TESRI/Predict_mask/V12-20131128-015.png is a low contrast image\n",
      "  warn('%s is a low contrast image' % fname)\n",
      "/usr/local/lib/python3.5/dist-packages/skimage/io/_io.py:132: UserWarning: model/Unet_rmbg/BRCAS2TESRI/Predict_mask/A38-20140728-060.png is a low contrast image\n",
      "  warn('%s is a low contrast image' % fname)\n",
      "/usr/local/lib/python3.5/dist-packages/skimage/io/_io.py:132: UserWarning: model/Unet_rmbg/BRCAS2TESRI/Predict_mask/V14-20130428-067.png is a low contrast image\n",
      "  warn('%s is a low contrast image' % fname)\n",
      "/usr/local/lib/python3.5/dist-packages/skimage/io/_io.py:132: UserWarning: model/Unet_rmbg/BRCAS2TESRI/Predict_mask/A37-20130806-094.png is a low contrast image\n",
      "  warn('%s is a low contrast image' % fname)\n",
      "/usr/local/lib/python3.5/dist-packages/skimage/io/_io.py:132: UserWarning: model/Unet_rmbg/BRCAS2TESRI/Predict_mask/V23-20150811-026.png is a low contrast image\n",
      "  warn('%s is a low contrast image' % fname)\n",
      "/usr/local/lib/python3.5/dist-packages/skimage/io/_io.py:132: UserWarning: model/Unet_rmbg/BRCAS2TESRI/Predict_mask/V12-20140413-001.png is a low contrast image\n",
      "  warn('%s is a low contrast image' % fname)\n",
      "/usr/local/lib/python3.5/dist-packages/skimage/io/_io.py:132: UserWarning: model/Unet_rmbg/BRCAS2TESRI/Predict_mask/V12-20131128-040.png is a low contrast image\n",
      "  warn('%s is a low contrast image' % fname)\n"
     ]
    },
    {
     "name": "stdout",
     "output_type": "stream",
     "text": [
      "\r",
      "[Predict]-----pred-mini-Batch (21/122)\r"
     ]
    },
    {
     "name": "stderr",
     "output_type": "stream",
     "text": [
      "/usr/local/lib/python3.5/dist-packages/skimage/io/_io.py:132: UserWarning: model/Unet_rmbg/BRCAS2TESRI/Predict_mask/A37-20140303-018.png is a low contrast image\n",
      "  warn('%s is a low contrast image' % fname)\n",
      "/usr/local/lib/python3.5/dist-packages/skimage/io/_io.py:132: UserWarning: model/Unet_rmbg/BRCAS2TESRI/Predict_mask/B29-20131018-031.png is a low contrast image\n",
      "  warn('%s is a low contrast image' % fname)\n",
      "/usr/local/lib/python3.5/dist-packages/skimage/io/_io.py:132: UserWarning: model/Unet_rmbg/BRCAS2TESRI/Predict_mask/A47-20150512-030.png is a low contrast image\n",
      "  warn('%s is a low contrast image' % fname)\n",
      "/usr/local/lib/python3.5/dist-packages/skimage/io/_io.py:132: UserWarning: model/Unet_rmbg/BRCAS2TESRI/Predict_mask/A43-20160503-122.png is a low contrast image\n",
      "  warn('%s is a low contrast image' % fname)\n",
      "/usr/local/lib/python3.5/dist-packages/skimage/io/_io.py:132: UserWarning: model/Unet_rmbg/BRCAS2TESRI/Predict_mask/B28-20131017-026.png is a low contrast image\n",
      "  warn('%s is a low contrast image' % fname)\n",
      "/usr/local/lib/python3.5/dist-packages/skimage/io/_io.py:132: UserWarning: model/Unet_rmbg/BRCAS2TESRI/Predict_mask/A38-20130416-015.png is a low contrast image\n",
      "  warn('%s is a low contrast image' % fname)\n",
      "/usr/local/lib/python3.5/dist-packages/skimage/io/_io.py:132: UserWarning: model/Unet_rmbg/BRCAS2TESRI/Predict_mask/V07-20130607-010.png is a low contrast image\n",
      "  warn('%s is a low contrast image' % fname)\n",
      "/usr/local/lib/python3.5/dist-packages/skimage/io/_io.py:132: UserWarning: model/Unet_rmbg/BRCAS2TESRI/Predict_mask/A32-20120222-008.png is a low contrast image\n",
      "  warn('%s is a low contrast image' % fname)\n",
      "/usr/local/lib/python3.5/dist-packages/skimage/io/_io.py:132: UserWarning: model/Unet_rmbg/BRCAS2TESRI/Predict_mask/A38-20130416-085.png is a low contrast image\n",
      "  warn('%s is a low contrast image' % fname)\n",
      "/usr/local/lib/python3.5/dist-packages/skimage/io/_io.py:132: UserWarning: model/Unet_rmbg/BRCAS2TESRI/Predict_mask/V20-20150515-003.png is a low contrast image\n",
      "  warn('%s is a low contrast image' % fname)\n",
      "/usr/local/lib/python3.5/dist-packages/skimage/io/_io.py:132: UserWarning: model/Unet_rmbg/BRCAS2TESRI/Predict_mask/A42-20140430-031.png is a low contrast image\n",
      "  warn('%s is a low contrast image' % fname)\n",
      "/usr/local/lib/python3.5/dist-packages/skimage/io/_io.py:132: UserWarning: model/Unet_rmbg/BRCAS2TESRI/Predict_mask/A47-20150512-074.png is a low contrast image\n",
      "  warn('%s is a low contrast image' % fname)\n",
      "/usr/local/lib/python3.5/dist-packages/skimage/io/_io.py:132: UserWarning: model/Unet_rmbg/BRCAS2TESRI/Predict_mask/A37-20130806-095.png is a low contrast image\n",
      "  warn('%s is a low contrast image' % fname)\n"
     ]
    },
    {
     "name": "stdout",
     "output_type": "stream",
     "text": [
      "\r",
      "[Predict]-----pred-mini-Batch (22/122)\r"
     ]
    },
    {
     "name": "stderr",
     "output_type": "stream",
     "text": [
      "/usr/local/lib/python3.5/dist-packages/skimage/io/_io.py:132: UserWarning: model/Unet_rmbg/BRCAS2TESRI/Predict_mask/A34-20130902-328.png is a low contrast image\n",
      "  warn('%s is a low contrast image' % fname)\n",
      "/usr/local/lib/python3.5/dist-packages/skimage/io/_io.py:132: UserWarning: model/Unet_rmbg/BRCAS2TESRI/Predict_mask/B28-20131017-018.png is a low contrast image\n",
      "  warn('%s is a low contrast image' % fname)\n",
      "/usr/local/lib/python3.5/dist-packages/skimage/io/_io.py:132: UserWarning: model/Unet_rmbg/BRCAS2TESRI/Predict_mask/A38-20140728-067.png is a low contrast image\n",
      "  warn('%s is a low contrast image' % fname)\n",
      "/usr/local/lib/python3.5/dist-packages/skimage/io/_io.py:132: UserWarning: model/Unet_rmbg/BRCAS2TESRI/Predict_mask/V03-20140203-023.png is a low contrast image\n",
      "  warn('%s is a low contrast image' % fname)\n",
      "/usr/local/lib/python3.5/dist-packages/skimage/io/_io.py:132: UserWarning: model/Unet_rmbg/BRCAS2TESRI/Predict_mask/V17-20140412-039.png is a low contrast image\n",
      "  warn('%s is a low contrast image' % fname)\n",
      "/usr/local/lib/python3.5/dist-packages/skimage/io/_io.py:132: UserWarning: model/Unet_rmbg/BRCAS2TESRI/Predict_mask/V05-20130607-059.png is a low contrast image\n",
      "  warn('%s is a low contrast image' % fname)\n",
      "/usr/local/lib/python3.5/dist-packages/skimage/io/_io.py:132: UserWarning: model/Unet_rmbg/BRCAS2TESRI/Predict_mask/A35-20130805-174.png is a low contrast image\n",
      "  warn('%s is a low contrast image' % fname)\n",
      "/usr/local/lib/python3.5/dist-packages/skimage/io/_io.py:132: UserWarning: model/Unet_rmbg/BRCAS2TESRI/Predict_mask/A34-20130709-088.png is a low contrast image\n",
      "  warn('%s is a low contrast image' % fname)\n",
      "/usr/local/lib/python3.5/dist-packages/skimage/io/_io.py:132: UserWarning: model/Unet_rmbg/BRCAS2TESRI/Predict_mask/V12-20130927-008.png is a low contrast image\n",
      "  warn('%s is a low contrast image' % fname)\n",
      "/usr/local/lib/python3.5/dist-packages/skimage/io/_io.py:132: UserWarning: model/Unet_rmbg/BRCAS2TESRI/Predict_mask/A40-20140924-039.png is a low contrast image\n",
      "  warn('%s is a low contrast image' % fname)\n",
      "/usr/local/lib/python3.5/dist-packages/skimage/io/_io.py:132: UserWarning: model/Unet_rmbg/BRCAS2TESRI/Predict_mask/A48-20150512-020.png is a low contrast image\n",
      "  warn('%s is a low contrast image' % fname)\n",
      "/usr/local/lib/python3.5/dist-packages/skimage/io/_io.py:132: UserWarning: model/Unet_rmbg/BRCAS2TESRI/Predict_mask/A35-20150609-107.png is a low contrast image\n",
      "  warn('%s is a low contrast image' % fname)\n"
     ]
    },
    {
     "name": "stdout",
     "output_type": "stream",
     "text": [
      "\r",
      "[Predict]-----pred-mini-Batch (23/122)\r"
     ]
    },
    {
     "name": "stderr",
     "output_type": "stream",
     "text": [
      "/usr/local/lib/python3.5/dist-packages/skimage/io/_io.py:132: UserWarning: model/Unet_rmbg/BRCAS2TESRI/Predict_mask/V06-20140502-054.png is a low contrast image\n",
      "  warn('%s is a low contrast image' % fname)\n",
      "/usr/local/lib/python3.5/dist-packages/skimage/io/_io.py:132: UserWarning: model/Unet_rmbg/BRCAS2TESRI/Predict_mask/V12-20130910-056.png is a low contrast image\n",
      "  warn('%s is a low contrast image' % fname)\n",
      "/usr/local/lib/python3.5/dist-packages/skimage/io/_io.py:132: UserWarning: model/Unet_rmbg/BRCAS2TESRI/Predict_mask/V20-20160331-076.png is a low contrast image\n",
      "  warn('%s is a low contrast image' % fname)\n",
      "/usr/local/lib/python3.5/dist-packages/skimage/io/_io.py:132: UserWarning: model/Unet_rmbg/BRCAS2TESRI/Predict_mask/V16-20131004-059.png is a low contrast image\n",
      "  warn('%s is a low contrast image' % fname)\n",
      "/usr/local/lib/python3.5/dist-packages/skimage/io/_io.py:132: UserWarning: model/Unet_rmbg/BRCAS2TESRI/Predict_mask/A35-20140101-070.png is a low contrast image\n",
      "  warn('%s is a low contrast image' % fname)\n",
      "/usr/local/lib/python3.5/dist-packages/skimage/io/_io.py:132: UserWarning: model/Unet_rmbg/BRCAS2TESRI/Predict_mask/A38-20130805-127.png is a low contrast image\n",
      "  warn('%s is a low contrast image' % fname)\n",
      "/usr/local/lib/python3.5/dist-packages/skimage/io/_io.py:132: UserWarning: model/Unet_rmbg/BRCAS2TESRI/Predict_mask/A32-20120725-049.png is a low contrast image\n",
      "  warn('%s is a low contrast image' % fname)\n",
      "/usr/local/lib/python3.5/dist-packages/skimage/io/_io.py:132: UserWarning: model/Unet_rmbg/BRCAS2TESRI/Predict_mask/V12-20130528-178.png is a low contrast image\n",
      "  warn('%s is a low contrast image' % fname)\n",
      "/usr/local/lib/python3.5/dist-packages/skimage/io/_io.py:132: UserWarning: model/Unet_rmbg/BRCAS2TESRI/Predict_mask/A32-20111024-137.png is a low contrast image\n",
      "  warn('%s is a low contrast image' % fname)\n",
      "/usr/local/lib/python3.5/dist-packages/skimage/io/_io.py:132: UserWarning: model/Unet_rmbg/BRCAS2TESRI/Predict_mask/V04-20150223-035.png is a low contrast image\n",
      "  warn('%s is a low contrast image' % fname)\n",
      "/usr/local/lib/python3.5/dist-packages/skimage/io/_io.py:132: UserWarning: model/Unet_rmbg/BRCAS2TESRI/Predict_mask/A48-20160601-165.png is a low contrast image\n",
      "  warn('%s is a low contrast image' % fname)\n",
      "/usr/local/lib/python3.5/dist-packages/skimage/io/_io.py:132: UserWarning: model/Unet_rmbg/BRCAS2TESRI/Predict_mask/A32-20111123-095.png is a low contrast image\n",
      "  warn('%s is a low contrast image' % fname)\n",
      "/usr/local/lib/python3.5/dist-packages/skimage/io/_io.py:132: UserWarning: model/Unet_rmbg/BRCAS2TESRI/Predict_mask/V02-20130801-171.png is a low contrast image\n",
      "  warn('%s is a low contrast image' % fname)\n",
      "/usr/local/lib/python3.5/dist-packages/skimage/io/_io.py:132: UserWarning: model/Unet_rmbg/BRCAS2TESRI/Predict_mask/A35-20130417-066.png is a low contrast image\n",
      "  warn('%s is a low contrast image' % fname)\n"
     ]
    },
    {
     "name": "stdout",
     "output_type": "stream",
     "text": [
      "\r",
      "[Predict]-----pred-mini-Batch (24/122)\r"
     ]
    },
    {
     "name": "stderr",
     "output_type": "stream",
     "text": [
      "/usr/local/lib/python3.5/dist-packages/skimage/io/_io.py:132: UserWarning: model/Unet_rmbg/BRCAS2TESRI/Predict_mask/V12-20130628-091.png is a low contrast image\n",
      "  warn('%s is a low contrast image' % fname)\n",
      "/usr/local/lib/python3.5/dist-packages/skimage/io/_io.py:132: UserWarning: model/Unet_rmbg/BRCAS2TESRI/Predict_mask/A46-20150513-009.png is a low contrast image\n",
      "  warn('%s is a low contrast image' % fname)\n",
      "/usr/local/lib/python3.5/dist-packages/skimage/io/_io.py:132: UserWarning: model/Unet_rmbg/BRCAS2TESRI/Predict_mask/A34-20140626-037.png is a low contrast image\n",
      "  warn('%s is a low contrast image' % fname)\n",
      "/usr/local/lib/python3.5/dist-packages/skimage/io/_io.py:132: UserWarning: model/Unet_rmbg/BRCAS2TESRI/Predict_mask/A32-20111024-006.png is a low contrast image\n",
      "  warn('%s is a low contrast image' % fname)\n",
      "/usr/local/lib/python3.5/dist-packages/skimage/io/_io.py:132: UserWarning: model/Unet_rmbg/BRCAS2TESRI/Predict_mask/A38-20131001-082.png is a low contrast image\n",
      "  warn('%s is a low contrast image' % fname)\n",
      "/usr/local/lib/python3.5/dist-packages/skimage/io/_io.py:132: UserWarning: model/Unet_rmbg/BRCAS2TESRI/Predict_mask/V11-20130810-144.png is a low contrast image\n",
      "  warn('%s is a low contrast image' % fname)\n",
      "/usr/local/lib/python3.5/dist-packages/skimage/io/_io.py:132: UserWarning: model/Unet_rmbg/BRCAS2TESRI/Predict_mask/V10-20140730-027.png is a low contrast image\n",
      "  warn('%s is a low contrast image' % fname)\n",
      "/usr/local/lib/python3.5/dist-packages/skimage/io/_io.py:132: UserWarning: model/Unet_rmbg/BRCAS2TESRI/Predict_mask/A43-20160713-009.png is a low contrast image\n",
      "  warn('%s is a low contrast image' % fname)\n",
      "/usr/local/lib/python3.5/dist-packages/skimage/io/_io.py:132: UserWarning: model/Unet_rmbg/BRCAS2TESRI/Predict_mask/V13-20130608-086.png is a low contrast image\n",
      "  warn('%s is a low contrast image' % fname)\n",
      "/usr/local/lib/python3.5/dist-packages/skimage/io/_io.py:132: UserWarning: model/Unet_rmbg/BRCAS2TESRI/Predict_mask/A46-20150319-004.png is a low contrast image\n",
      "  warn('%s is a low contrast image' % fname)\n",
      "/usr/local/lib/python3.5/dist-packages/skimage/io/_io.py:132: UserWarning: model/Unet_rmbg/BRCAS2TESRI/Predict_mask/A48-20150512-017.png is a low contrast image\n",
      "  warn('%s is a low contrast image' % fname)\n",
      "/usr/local/lib/python3.5/dist-packages/skimage/io/_io.py:132: UserWarning: model/Unet_rmbg/BRCAS2TESRI/Predict_mask/B29-20131018-015.png is a low contrast image\n",
      "  warn('%s is a low contrast image' % fname)\n",
      "/usr/local/lib/python3.5/dist-packages/skimage/io/_io.py:132: UserWarning: model/Unet_rmbg/BRCAS2TESRI/Predict_mask/V04-20130411-082.png is a low contrast image\n",
      "  warn('%s is a low contrast image' % fname)\n"
     ]
    },
    {
     "name": "stdout",
     "output_type": "stream",
     "text": [
      "\r",
      "[Predict]-----pred-mini-Batch (25/122)\r"
     ]
    },
    {
     "name": "stderr",
     "output_type": "stream",
     "text": [
      "/usr/local/lib/python3.5/dist-packages/skimage/io/_io.py:132: UserWarning: model/Unet_rmbg/BRCAS2TESRI/Predict_mask/V11-20130810-107.png is a low contrast image\n",
      "  warn('%s is a low contrast image' % fname)\n",
      "/usr/local/lib/python3.5/dist-packages/skimage/io/_io.py:132: UserWarning: model/Unet_rmbg/BRCAS2TESRI/Predict_mask/V02-20140101-090.png is a low contrast image\n",
      "  warn('%s is a low contrast image' % fname)\n",
      "/usr/local/lib/python3.5/dist-packages/skimage/io/_io.py:132: UserWarning: model/Unet_rmbg/BRCAS2TESRI/Predict_mask/A35-20150409-036.png is a low contrast image\n",
      "  warn('%s is a low contrast image' % fname)\n",
      "/usr/local/lib/python3.5/dist-packages/skimage/io/_io.py:132: UserWarning: model/Unet_rmbg/BRCAS2TESRI/Predict_mask/V16-20131227-001.png is a low contrast image\n",
      "  warn('%s is a low contrast image' % fname)\n",
      "/usr/local/lib/python3.5/dist-packages/skimage/io/_io.py:132: UserWarning: model/Unet_rmbg/BRCAS2TESRI/Predict_mask/A43-20150408-036.png is a low contrast image\n",
      "  warn('%s is a low contrast image' % fname)\n",
      "/usr/local/lib/python3.5/dist-packages/skimage/io/_io.py:132: UserWarning: model/Unet_rmbg/BRCAS2TESRI/Predict_mask/V12-20130628-064.png is a low contrast image\n",
      "  warn('%s is a low contrast image' % fname)\n",
      "/usr/local/lib/python3.5/dist-packages/skimage/io/_io.py:132: UserWarning: model/Unet_rmbg/BRCAS2TESRI/Predict_mask/A37-20140103-060.png is a low contrast image\n",
      "  warn('%s is a low contrast image' % fname)\n",
      "/usr/local/lib/python3.5/dist-packages/skimage/io/_io.py:132: UserWarning: model/Unet_rmbg/BRCAS2TESRI/Predict_mask/A34-20140626-024.png is a low contrast image\n",
      "  warn('%s is a low contrast image' % fname)\n",
      "/usr/local/lib/python3.5/dist-packages/skimage/io/_io.py:132: UserWarning: model/Unet_rmbg/BRCAS2TESRI/Predict_mask/V12-20130528-016.png is a low contrast image\n",
      "  warn('%s is a low contrast image' % fname)\n",
      "/usr/local/lib/python3.5/dist-packages/skimage/io/_io.py:132: UserWarning: model/Unet_rmbg/BRCAS2TESRI/Predict_mask/A43-20160713-130.png is a low contrast image\n",
      "  warn('%s is a low contrast image' % fname)\n",
      "/usr/local/lib/python3.5/dist-packages/skimage/io/_io.py:132: UserWarning: model/Unet_rmbg/BRCAS2TESRI/Predict_mask/V04-20130509-137.png is a low contrast image\n",
      "  warn('%s is a low contrast image' % fname)\n",
      "/usr/local/lib/python3.5/dist-packages/skimage/io/_io.py:132: UserWarning: model/Unet_rmbg/BRCAS2TESRI/Predict_mask/V24-20160312-095.png is a low contrast image\n",
      "  warn('%s is a low contrast image' % fname)\n",
      "/usr/local/lib/python3.5/dist-packages/skimage/io/_io.py:132: UserWarning: model/Unet_rmbg/BRCAS2TESRI/Predict_mask/V12-20130910-082.png is a low contrast image\n",
      "  warn('%s is a low contrast image' % fname)\n"
     ]
    },
    {
     "name": "stdout",
     "output_type": "stream",
     "text": [
      "\r",
      "[Predict]-----pred-mini-Batch (26/122)\r"
     ]
    },
    {
     "name": "stderr",
     "output_type": "stream",
     "text": [
      "/usr/local/lib/python3.5/dist-packages/skimage/io/_io.py:132: UserWarning: model/Unet_rmbg/BRCAS2TESRI/Predict_mask/B11-20120920-002.png is a low contrast image\n",
      "  warn('%s is a low contrast image' % fname)\n",
      "/usr/local/lib/python3.5/dist-packages/skimage/io/_io.py:132: UserWarning: model/Unet_rmbg/BRCAS2TESRI/Predict_mask/V27-20160105-009.png is a low contrast image\n",
      "  warn('%s is a low contrast image' % fname)\n",
      "/usr/local/lib/python3.5/dist-packages/skimage/io/_io.py:132: UserWarning: model/Unet_rmbg/BRCAS2TESRI/Predict_mask/V10-20140328-187.png is a low contrast image\n",
      "  warn('%s is a low contrast image' % fname)\n",
      "/usr/local/lib/python3.5/dist-packages/skimage/io/_io.py:132: UserWarning: model/Unet_rmbg/BRCAS2TESRI/Predict_mask/A35-20140923-269.png is a low contrast image\n",
      "  warn('%s is a low contrast image' % fname)\n",
      "/usr/local/lib/python3.5/dist-packages/skimage/io/_io.py:132: UserWarning: model/Unet_rmbg/BRCAS2TESRI/Predict_mask/A38-20130416-038.png is a low contrast image\n",
      "  warn('%s is a low contrast image' % fname)\n",
      "/usr/local/lib/python3.5/dist-packages/skimage/io/_io.py:132: UserWarning: model/Unet_rmbg/BRCAS2TESRI/Predict_mask/A46-20150128-094.png is a low contrast image\n",
      "  warn('%s is a low contrast image' % fname)\n",
      "/usr/local/lib/python3.5/dist-packages/skimage/io/_io.py:132: UserWarning: model/Unet_rmbg/BRCAS2TESRI/Predict_mask/A41-20140206-014.png is a low contrast image\n",
      "  warn('%s is a low contrast image' % fname)\n",
      "/usr/local/lib/python3.5/dist-packages/skimage/io/_io.py:132: UserWarning: model/Unet_rmbg/BRCAS2TESRI/Predict_mask/V04-20130509-028.png is a low contrast image\n",
      "  warn('%s is a low contrast image' % fname)\n",
      "/usr/local/lib/python3.5/dist-packages/skimage/io/_io.py:132: UserWarning: model/Unet_rmbg/BRCAS2TESRI/Predict_mask/A41-20140206-053.png is a low contrast image\n",
      "  warn('%s is a low contrast image' % fname)\n",
      "/usr/local/lib/python3.5/dist-packages/skimage/io/_io.py:132: UserWarning: model/Unet_rmbg/BRCAS2TESRI/Predict_mask/A32-20120830-030.png is a low contrast image\n",
      "  warn('%s is a low contrast image' % fname)\n",
      "/usr/local/lib/python3.5/dist-packages/skimage/io/_io.py:132: UserWarning: model/Unet_rmbg/BRCAS2TESRI/Predict_mask/A35-20130221-033.png is a low contrast image\n",
      "  warn('%s is a low contrast image' % fname)\n",
      "/usr/local/lib/python3.5/dist-packages/skimage/io/_io.py:132: UserWarning: model/Unet_rmbg/BRCAS2TESRI/Predict_mask/V08-20130607-012.png is a low contrast image\n",
      "  warn('%s is a low contrast image' % fname)\n",
      "/usr/local/lib/python3.5/dist-packages/skimage/io/_io.py:132: UserWarning: model/Unet_rmbg/BRCAS2TESRI/Predict_mask/A37-20140303-029.png is a low contrast image\n",
      "  warn('%s is a low contrast image' % fname)\n",
      "/usr/local/lib/python3.5/dist-packages/skimage/io/_io.py:132: UserWarning: model/Unet_rmbg/BRCAS2TESRI/Predict_mask/A35-20150409-048.png is a low contrast image\n",
      "  warn('%s is a low contrast image' % fname)\n",
      "/usr/local/lib/python3.5/dist-packages/skimage/io/_io.py:132: UserWarning: model/Unet_rmbg/BRCAS2TESRI/Predict_mask/B12-20120921-009.png is a low contrast image\n",
      "  warn('%s is a low contrast image' % fname)\n",
      "/usr/local/lib/python3.5/dist-packages/skimage/io/_io.py:132: UserWarning: model/Unet_rmbg/BRCAS2TESRI/Predict_mask/A42-20150610-056.png is a low contrast image\n",
      "  warn('%s is a low contrast image' % fname)\n"
     ]
    },
    {
     "name": "stdout",
     "output_type": "stream",
     "text": [
      "\r",
      "[Predict]-----pred-mini-Batch (27/122)\r"
     ]
    },
    {
     "name": "stderr",
     "output_type": "stream",
     "text": [
      "/usr/local/lib/python3.5/dist-packages/skimage/io/_io.py:132: UserWarning: model/Unet_rmbg/BRCAS2TESRI/Predict_mask/V12-20140217-047.png is a low contrast image\n",
      "  warn('%s is a low contrast image' % fname)\n",
      "/usr/local/lib/python3.5/dist-packages/skimage/io/_io.py:132: UserWarning: model/Unet_rmbg/BRCAS2TESRI/Predict_mask/A35-20150409-085.png is a low contrast image\n",
      "  warn('%s is a low contrast image' % fname)\n",
      "/usr/local/lib/python3.5/dist-packages/skimage/io/_io.py:132: UserWarning: model/Unet_rmbg/BRCAS2TESRI/Predict_mask/V12-20130628-201.png is a low contrast image\n",
      "  warn('%s is a low contrast image' % fname)\n",
      "/usr/local/lib/python3.5/dist-packages/skimage/io/_io.py:132: UserWarning: model/Unet_rmbg/BRCAS2TESRI/Predict_mask/A32-20120222-048.png is a low contrast image\n",
      "  warn('%s is a low contrast image' % fname)\n",
      "/usr/local/lib/python3.5/dist-packages/skimage/io/_io.py:132: UserWarning: model/Unet_rmbg/BRCAS2TESRI/Predict_mask/V04-20130509-007.png is a low contrast image\n",
      "  warn('%s is a low contrast image' % fname)\n",
      "/usr/local/lib/python3.5/dist-packages/skimage/io/_io.py:132: UserWarning: model/Unet_rmbg/BRCAS2TESRI/Predict_mask/A32-20120725-024.png is a low contrast image\n",
      "  warn('%s is a low contrast image' % fname)\n",
      "/usr/local/lib/python3.5/dist-packages/skimage/io/_io.py:132: UserWarning: model/Unet_rmbg/BRCAS2TESRI/Predict_mask/A32-20111123-093.png is a low contrast image\n",
      "  warn('%s is a low contrast image' % fname)\n",
      "/usr/local/lib/python3.5/dist-packages/skimage/io/_io.py:132: UserWarning: model/Unet_rmbg/BRCAS2TESRI/Predict_mask/V14-20130428-156.png is a low contrast image\n",
      "  warn('%s is a low contrast image' % fname)\n",
      "/usr/local/lib/python3.5/dist-packages/skimage/io/_io.py:132: UserWarning: model/Unet_rmbg/BRCAS2TESRI/Predict_mask/V15-20140327-087.png is a low contrast image\n",
      "  warn('%s is a low contrast image' % fname)\n"
     ]
    },
    {
     "name": "stdout",
     "output_type": "stream",
     "text": [
      "\r",
      "[Predict]-----pred-mini-Batch (28/122)\r"
     ]
    },
    {
     "name": "stderr",
     "output_type": "stream",
     "text": [
      "/usr/local/lib/python3.5/dist-packages/skimage/io/_io.py:132: UserWarning: model/Unet_rmbg/BRCAS2TESRI/Predict_mask/A34-20130506-110.png is a low contrast image\n",
      "  warn('%s is a low contrast image' % fname)\n",
      "/usr/local/lib/python3.5/dist-packages/skimage/io/_io.py:132: UserWarning: model/Unet_rmbg/BRCAS2TESRI/Predict_mask/V02-20131201-050.png is a low contrast image\n",
      "  warn('%s is a low contrast image' % fname)\n",
      "/usr/local/lib/python3.5/dist-packages/skimage/io/_io.py:132: UserWarning: model/Unet_rmbg/BRCAS2TESRI/Predict_mask/V12-20131128-052.png is a low contrast image\n",
      "  warn('%s is a low contrast image' % fname)\n",
      "/usr/local/lib/python3.5/dist-packages/skimage/io/_io.py:132: UserWarning: model/Unet_rmbg/BRCAS2TESRI/Predict_mask/V04-20140530-164.png is a low contrast image\n",
      "  warn('%s is a low contrast image' % fname)\n",
      "/usr/local/lib/python3.5/dist-packages/skimage/io/_io.py:132: UserWarning: model/Unet_rmbg/BRCAS2TESRI/Predict_mask/A34-20130506-043.png is a low contrast image\n",
      "  warn('%s is a low contrast image' % fname)\n",
      "/usr/local/lib/python3.5/dist-packages/skimage/io/_io.py:132: UserWarning: model/Unet_rmbg/BRCAS2TESRI/Predict_mask/V10-20140328-229.png is a low contrast image\n",
      "  warn('%s is a low contrast image' % fname)\n",
      "/usr/local/lib/python3.5/dist-packages/skimage/io/_io.py:132: UserWarning: model/Unet_rmbg/BRCAS2TESRI/Predict_mask/V11-20131201-067.png is a low contrast image\n",
      "  warn('%s is a low contrast image' % fname)\n",
      "/usr/local/lib/python3.5/dist-packages/skimage/io/_io.py:132: UserWarning: model/Unet_rmbg/BRCAS2TESRI/Predict_mask/A38-20130416-077.png is a low contrast image\n",
      "  warn('%s is a low contrast image' % fname)\n",
      "/usr/local/lib/python3.5/dist-packages/skimage/io/_io.py:132: UserWarning: model/Unet_rmbg/BRCAS2TESRI/Predict_mask/V12-20140316-013.png is a low contrast image\n",
      "  warn('%s is a low contrast image' % fname)\n",
      "/usr/local/lib/python3.5/dist-packages/skimage/io/_io.py:132: UserWarning: model/Unet_rmbg/BRCAS2TESRI/Predict_mask/A32-20111024-010.png is a low contrast image\n",
      "  warn('%s is a low contrast image' % fname)\n",
      "/usr/local/lib/python3.5/dist-packages/skimage/io/_io.py:132: UserWarning: model/Unet_rmbg/BRCAS2TESRI/Predict_mask/V02-20130801-063.png is a low contrast image\n",
      "  warn('%s is a low contrast image' % fname)\n"
     ]
    },
    {
     "name": "stdout",
     "output_type": "stream",
     "text": [
      "\r",
      "[Predict]-----pred-mini-Batch (29/122)\r"
     ]
    },
    {
     "name": "stderr",
     "output_type": "stream",
     "text": [
      "/usr/local/lib/python3.5/dist-packages/skimage/io/_io.py:132: UserWarning: model/Unet_rmbg/BRCAS2TESRI/Predict_mask/A37-20130806-075.png is a low contrast image\n",
      "  warn('%s is a low contrast image' % fname)\n",
      "/usr/local/lib/python3.5/dist-packages/skimage/io/_io.py:132: UserWarning: model/Unet_rmbg/BRCAS2TESRI/Predict_mask/V03-20130809-052.png is a low contrast image\n",
      "  warn('%s is a low contrast image' % fname)\n",
      "/usr/local/lib/python3.5/dist-packages/skimage/io/_io.py:132: UserWarning: model/Unet_rmbg/BRCAS2TESRI/Predict_mask/V12-20140217-033.png is a low contrast image\n",
      "  warn('%s is a low contrast image' % fname)\n",
      "/usr/local/lib/python3.5/dist-packages/skimage/io/_io.py:132: UserWarning: model/Unet_rmbg/BRCAS2TESRI/Predict_mask/V12-20131223-042.png is a low contrast image\n",
      "  warn('%s is a low contrast image' % fname)\n",
      "/usr/local/lib/python3.5/dist-packages/skimage/io/_io.py:132: UserWarning: model/Unet_rmbg/BRCAS2TESRI/Predict_mask/V04-20130606-082.png is a low contrast image\n",
      "  warn('%s is a low contrast image' % fname)\n",
      "/usr/local/lib/python3.5/dist-packages/skimage/io/_io.py:132: UserWarning: model/Unet_rmbg/BRCAS2TESRI/Predict_mask/A38-20130416-117.png is a low contrast image\n",
      "  warn('%s is a low contrast image' % fname)\n",
      "/usr/local/lib/python3.5/dist-packages/skimage/io/_io.py:132: UserWarning: model/Unet_rmbg/BRCAS2TESRI/Predict_mask/A35-20130805-207.png is a low contrast image\n",
      "  warn('%s is a low contrast image' % fname)\n",
      "/usr/local/lib/python3.5/dist-packages/skimage/io/_io.py:132: UserWarning: model/Unet_rmbg/BRCAS2TESRI/Predict_mask/A32-20110927-038.png is a low contrast image\n",
      "  warn('%s is a low contrast image' % fname)\n",
      "/usr/local/lib/python3.5/dist-packages/skimage/io/_io.py:132: UserWarning: model/Unet_rmbg/BRCAS2TESRI/Predict_mask/A34-20130313-020.png is a low contrast image\n",
      "  warn('%s is a low contrast image' % fname)\n",
      "/usr/local/lib/python3.5/dist-packages/skimage/io/_io.py:132: UserWarning: model/Unet_rmbg/BRCAS2TESRI/Predict_mask/V04-20140425-142.png is a low contrast image\n",
      "  warn('%s is a low contrast image' % fname)\n",
      "/usr/local/lib/python3.5/dist-packages/skimage/io/_io.py:132: UserWarning: model/Unet_rmbg/BRCAS2TESRI/Predict_mask/V15-20150717-032.png is a low contrast image\n",
      "  warn('%s is a low contrast image' % fname)\n",
      "/usr/local/lib/python3.5/dist-packages/skimage/io/_io.py:132: UserWarning: model/Unet_rmbg/BRCAS2TESRI/Predict_mask/A41-20140325-048.png is a low contrast image\n",
      "  warn('%s is a low contrast image' % fname)\n"
     ]
    },
    {
     "name": "stdout",
     "output_type": "stream",
     "text": [
      "\r",
      "[Predict]-----pred-mini-Batch (30/122)\r"
     ]
    },
    {
     "name": "stderr",
     "output_type": "stream",
     "text": [
      "/usr/local/lib/python3.5/dist-packages/skimage/io/_io.py:132: UserWarning: model/Unet_rmbg/BRCAS2TESRI/Predict_mask/V14-20130428-153.png is a low contrast image\n",
      "  warn('%s is a low contrast image' % fname)\n",
      "/usr/local/lib/python3.5/dist-packages/skimage/io/_io.py:132: UserWarning: model/Unet_rmbg/BRCAS2TESRI/Predict_mask/A32-20120830-005.png is a low contrast image\n",
      "  warn('%s is a low contrast image' % fname)\n",
      "/usr/local/lib/python3.5/dist-packages/skimage/io/_io.py:132: UserWarning: model/Unet_rmbg/BRCAS2TESRI/Predict_mask/A32-20120830-102.png is a low contrast image\n",
      "  warn('%s is a low contrast image' % fname)\n",
      "/usr/local/lib/python3.5/dist-packages/skimage/io/_io.py:132: UserWarning: model/Unet_rmbg/BRCAS2TESRI/Predict_mask/A32-20111123-027.png is a low contrast image\n",
      "  warn('%s is a low contrast image' % fname)\n",
      "/usr/local/lib/python3.5/dist-packages/skimage/io/_io.py:132: UserWarning: model/Unet_rmbg/BRCAS2TESRI/Predict_mask/A32-20111123-019.png is a low contrast image\n",
      "  warn('%s is a low contrast image' % fname)\n",
      "/usr/local/lib/python3.5/dist-packages/skimage/io/_io.py:132: UserWarning: model/Unet_rmbg/BRCAS2TESRI/Predict_mask/V13-20131102-027.png is a low contrast image\n",
      "  warn('%s is a low contrast image' % fname)\n",
      "/usr/local/lib/python3.5/dist-packages/skimage/io/_io.py:132: UserWarning: model/Unet_rmbg/BRCAS2TESRI/Predict_mask/A33-20130115-051.png is a low contrast image\n",
      "  warn('%s is a low contrast image' % fname)\n",
      "/usr/local/lib/python3.5/dist-packages/skimage/io/_io.py:132: UserWarning: model/Unet_rmbg/BRCAS2TESRI/Predict_mask/A35-20131015-088.png is a low contrast image\n",
      "  warn('%s is a low contrast image' % fname)\n",
      "/usr/local/lib/python3.5/dist-packages/skimage/io/_io.py:132: UserWarning: model/Unet_rmbg/BRCAS2TESRI/Predict_mask/A38-20130805-076.png is a low contrast image\n",
      "  warn('%s is a low contrast image' % fname)\n"
     ]
    },
    {
     "name": "stdout",
     "output_type": "stream",
     "text": [
      "\r",
      "[Predict]-----pred-mini-Batch (31/122)\r"
     ]
    },
    {
     "name": "stderr",
     "output_type": "stream",
     "text": [
      "/usr/local/lib/python3.5/dist-packages/skimage/io/_io.py:132: UserWarning: model/Unet_rmbg/BRCAS2TESRI/Predict_mask/A38-20141120-017.png is a low contrast image\n",
      "  warn('%s is a low contrast image' % fname)\n",
      "/usr/local/lib/python3.5/dist-packages/skimage/io/_io.py:132: UserWarning: model/Unet_rmbg/BRCAS2TESRI/Predict_mask/A35-20160712-073.png is a low contrast image\n",
      "  warn('%s is a low contrast image' % fname)\n",
      "/usr/local/lib/python3.5/dist-packages/skimage/io/_io.py:132: UserWarning: model/Unet_rmbg/BRCAS2TESRI/Predict_mask/A46-20150513-113.png is a low contrast image\n",
      "  warn('%s is a low contrast image' % fname)\n",
      "/usr/local/lib/python3.5/dist-packages/skimage/io/_io.py:132: UserWarning: model/Unet_rmbg/BRCAS2TESRI/Predict_mask/V12-20130628-185.png is a low contrast image\n",
      "  warn('%s is a low contrast image' % fname)\n",
      "/usr/local/lib/python3.5/dist-packages/skimage/io/_io.py:132: UserWarning: model/Unet_rmbg/BRCAS2TESRI/Predict_mask/A34-20130902-210.png is a low contrast image\n",
      "  warn('%s is a low contrast image' % fname)\n",
      "/usr/local/lib/python3.5/dist-packages/skimage/io/_io.py:132: UserWarning: model/Unet_rmbg/BRCAS2TESRI/Predict_mask/V25-20160604-035.png is a low contrast image\n",
      "  warn('%s is a low contrast image' % fname)\n",
      "/usr/local/lib/python3.5/dist-packages/skimage/io/_io.py:132: UserWarning: model/Unet_rmbg/BRCAS2TESRI/Predict_mask/A35-20130805-191.png is a low contrast image\n",
      "  warn('%s is a low contrast image' % fname)\n",
      "/usr/local/lib/python3.5/dist-packages/skimage/io/_io.py:132: UserWarning: model/Unet_rmbg/BRCAS2TESRI/Predict_mask/V02-20130930-065.png is a low contrast image\n",
      "  warn('%s is a low contrast image' % fname)\n",
      "/usr/local/lib/python3.5/dist-packages/skimage/io/_io.py:132: UserWarning: model/Unet_rmbg/BRCAS2TESRI/Predict_mask/V20-20150417-123.png is a low contrast image\n",
      "  warn('%s is a low contrast image' % fname)\n",
      "/usr/local/lib/python3.5/dist-packages/skimage/io/_io.py:132: UserWarning: model/Unet_rmbg/BRCAS2TESRI/Predict_mask/A37-20140103-025.png is a low contrast image\n",
      "  warn('%s is a low contrast image' % fname)\n",
      "/usr/local/lib/python3.5/dist-packages/skimage/io/_io.py:132: UserWarning: model/Unet_rmbg/BRCAS2TESRI/Predict_mask/V12-20130628-097.png is a low contrast image\n",
      "  warn('%s is a low contrast image' % fname)\n",
      "/usr/local/lib/python3.5/dist-packages/skimage/io/_io.py:132: UserWarning: model/Unet_rmbg/BRCAS2TESRI/Predict_mask/V11-20130907-012.png is a low contrast image\n",
      "  warn('%s is a low contrast image' % fname)\n",
      "/usr/local/lib/python3.5/dist-packages/skimage/io/_io.py:132: UserWarning: model/Unet_rmbg/BRCAS2TESRI/Predict_mask/V02-20130603-036.png is a low contrast image\n",
      "  warn('%s is a low contrast image' % fname)\n",
      "/usr/local/lib/python3.5/dist-packages/skimage/io/_io.py:132: UserWarning: model/Unet_rmbg/BRCAS2TESRI/Predict_mask/V16-20131004-063.png is a low contrast image\n",
      "  warn('%s is a low contrast image' % fname)\n",
      "/usr/local/lib/python3.5/dist-packages/skimage/io/_io.py:132: UserWarning: model/Unet_rmbg/BRCAS2TESRI/Predict_mask/V03-20130409-010.png is a low contrast image\n",
      "  warn('%s is a low contrast image' % fname)\n"
     ]
    },
    {
     "name": "stdout",
     "output_type": "stream",
     "text": [
      "\r",
      "[Predict]-----pred-mini-Batch (32/122)\r"
     ]
    },
    {
     "name": "stderr",
     "output_type": "stream",
     "text": [
      "/usr/local/lib/python3.5/dist-packages/skimage/io/_io.py:132: UserWarning: model/Unet_rmbg/BRCAS2TESRI/Predict_mask/V14-20130428-114.png is a low contrast image\n",
      "  warn('%s is a low contrast image' % fname)\n",
      "/usr/local/lib/python3.5/dist-packages/skimage/io/_io.py:132: UserWarning: model/Unet_rmbg/BRCAS2TESRI/Predict_mask/A35-20130605-072.png is a low contrast image\n",
      "  warn('%s is a low contrast image' % fname)\n",
      "/usr/local/lib/python3.5/dist-packages/skimage/io/_io.py:132: UserWarning: model/Unet_rmbg/BRCAS2TESRI/Predict_mask/V16-20131004-039.png is a low contrast image\n",
      "  warn('%s is a low contrast image' % fname)\n",
      "/usr/local/lib/python3.5/dist-packages/skimage/io/_io.py:132: UserWarning: model/Unet_rmbg/BRCAS2TESRI/Predict_mask/V02-20140501-208.png is a low contrast image\n",
      "  warn('%s is a low contrast image' % fname)\n",
      "/usr/local/lib/python3.5/dist-packages/skimage/io/_io.py:132: UserWarning: model/Unet_rmbg/BRCAS2TESRI/Predict_mask/v01-20140425-020.png is a low contrast image\n",
      "  warn('%s is a low contrast image' % fname)\n",
      "/usr/local/lib/python3.5/dist-packages/skimage/io/_io.py:132: UserWarning: model/Unet_rmbg/BRCAS2TESRI/Predict_mask/V13-20130608-027.png is a low contrast image\n",
      "  warn('%s is a low contrast image' % fname)\n",
      "/usr/local/lib/python3.5/dist-packages/skimage/io/_io.py:132: UserWarning: model/Unet_rmbg/BRCAS2TESRI/Predict_mask/V01-20130629-019.png is a low contrast image\n",
      "  warn('%s is a low contrast image' % fname)\n",
      "/usr/local/lib/python3.5/dist-packages/skimage/io/_io.py:132: UserWarning: model/Unet_rmbg/BRCAS2TESRI/Predict_mask/V11-20130810-013.png is a low contrast image\n",
      "  warn('%s is a low contrast image' % fname)\n",
      "/usr/local/lib/python3.5/dist-packages/skimage/io/_io.py:132: UserWarning: model/Unet_rmbg/BRCAS2TESRI/Predict_mask/A37-20130806-027.png is a low contrast image\n",
      "  warn('%s is a low contrast image' % fname)\n",
      "/usr/local/lib/python3.5/dist-packages/skimage/io/_io.py:132: UserWarning: model/Unet_rmbg/BRCAS2TESRI/Predict_mask/A35-20160502-183.png is a low contrast image\n",
      "  warn('%s is a low contrast image' % fname)\n",
      "/usr/local/lib/python3.5/dist-packages/skimage/io/_io.py:132: UserWarning: model/Unet_rmbg/BRCAS2TESRI/Predict_mask/A34-20151209-048.png is a low contrast image\n",
      "  warn('%s is a low contrast image' % fname)\n"
     ]
    },
    {
     "name": "stdout",
     "output_type": "stream",
     "text": [
      "\r",
      "[Predict]-----pred-mini-Batch (33/122)\r"
     ]
    },
    {
     "name": "stderr",
     "output_type": "stream",
     "text": [
      "/usr/local/lib/python3.5/dist-packages/skimage/io/_io.py:132: UserWarning: model/Unet_rmbg/BRCAS2TESRI/Predict_mask/V12-20131128-049.png is a low contrast image\n",
      "  warn('%s is a low contrast image' % fname)\n",
      "/usr/local/lib/python3.5/dist-packages/skimage/io/_io.py:132: UserWarning: model/Unet_rmbg/BRCAS2TESRI/Predict_mask/B28-20131017-007.png is a low contrast image\n",
      "  warn('%s is a low contrast image' % fname)\n",
      "/usr/local/lib/python3.5/dist-packages/skimage/io/_io.py:132: UserWarning: model/Unet_rmbg/BRCAS2TESRI/Predict_mask/V02-20140721-016.png is a low contrast image\n",
      "  warn('%s is a low contrast image' % fname)\n",
      "/usr/local/lib/python3.5/dist-packages/skimage/io/_io.py:132: UserWarning: model/Unet_rmbg/BRCAS2TESRI/Predict_mask/A36-20130226-035.png is a low contrast image\n",
      "  warn('%s is a low contrast image' % fname)\n",
      "/usr/local/lib/python3.5/dist-packages/skimage/io/_io.py:132: UserWarning: model/Unet_rmbg/BRCAS2TESRI/Predict_mask/A35-20130805-178.png is a low contrast image\n",
      "  warn('%s is a low contrast image' % fname)\n",
      "/usr/local/lib/python3.5/dist-packages/skimage/io/_io.py:132: UserWarning: model/Unet_rmbg/BRCAS2TESRI/Predict_mask/V03-20140402-083.png is a low contrast image\n",
      "  warn('%s is a low contrast image' % fname)\n",
      "/usr/local/lib/python3.5/dist-packages/skimage/io/_io.py:132: UserWarning: model/Unet_rmbg/BRCAS2TESRI/Predict_mask/V18-20160506-130.png is a low contrast image\n",
      "  warn('%s is a low contrast image' % fname)\n",
      "/usr/local/lib/python3.5/dist-packages/skimage/io/_io.py:132: UserWarning: model/Unet_rmbg/BRCAS2TESRI/Predict_mask/A47-20150318-081.png is a low contrast image\n",
      "  warn('%s is a low contrast image' % fname)\n",
      "/usr/local/lib/python3.5/dist-packages/skimage/io/_io.py:132: UserWarning: model/Unet_rmbg/BRCAS2TESRI/Predict_mask/V14-20130428-068.png is a low contrast image\n",
      "  warn('%s is a low contrast image' % fname)\n",
      "/usr/local/lib/python3.5/dist-packages/skimage/io/_io.py:132: UserWarning: model/Unet_rmbg/BRCAS2TESRI/Predict_mask/V12-20140809-174.png is a low contrast image\n",
      "  warn('%s is a low contrast image' % fname)\n"
     ]
    },
    {
     "name": "stdout",
     "output_type": "stream",
     "text": [
      "\r",
      "[Predict]-----pred-mini-Batch (34/122)\r"
     ]
    },
    {
     "name": "stderr",
     "output_type": "stream",
     "text": [
      "/usr/local/lib/python3.5/dist-packages/skimage/io/_io.py:132: UserWarning: model/Unet_rmbg/BRCAS2TESRI/Predict_mask/A37-20140103-042.png is a low contrast image\n",
      "  warn('%s is a low contrast image' % fname)\n",
      "/usr/local/lib/python3.5/dist-packages/skimage/io/_io.py:132: UserWarning: model/Unet_rmbg/BRCAS2TESRI/Predict_mask/A43-20150611-154.png is a low contrast image\n",
      "  warn('%s is a low contrast image' % fname)\n",
      "/usr/local/lib/python3.5/dist-packages/skimage/io/_io.py:132: UserWarning: model/Unet_rmbg/BRCAS2TESRI/Predict_mask/A35-20130805-090.png is a low contrast image\n",
      "  warn('%s is a low contrast image' % fname)\n",
      "/usr/local/lib/python3.5/dist-packages/skimage/io/_io.py:132: UserWarning: model/Unet_rmbg/BRCAS2TESRI/Predict_mask/A34-20130902-079.png is a low contrast image\n",
      "  warn('%s is a low contrast image' % fname)\n",
      "/usr/local/lib/python3.5/dist-packages/skimage/io/_io.py:132: UserWarning: model/Unet_rmbg/BRCAS2TESRI/Predict_mask/V04-20130509-160.png is a low contrast image\n",
      "  warn('%s is a low contrast image' % fname)\n",
      "/usr/local/lib/python3.5/dist-packages/skimage/io/_io.py:132: UserWarning: model/Unet_rmbg/BRCAS2TESRI/Predict_mask/A38-20140925-215.png is a low contrast image\n",
      "  warn('%s is a low contrast image' % fname)\n",
      "/usr/local/lib/python3.5/dist-packages/skimage/io/_io.py:132: UserWarning: model/Unet_rmbg/BRCAS2TESRI/Predict_mask/V07-20130809-015.png is a low contrast image\n",
      "  warn('%s is a low contrast image' % fname)\n",
      "/usr/local/lib/python3.5/dist-packages/skimage/io/_io.py:132: UserWarning: model/Unet_rmbg/BRCAS2TESRI/Predict_mask/V02-20141124-095.png is a low contrast image\n",
      "  warn('%s is a low contrast image' % fname)\n",
      "/usr/local/lib/python3.5/dist-packages/skimage/io/_io.py:132: UserWarning: model/Unet_rmbg/BRCAS2TESRI/Predict_mask/V12-20130628-152.png is a low contrast image\n",
      "  warn('%s is a low contrast image' % fname)\n",
      "/usr/local/lib/python3.5/dist-packages/skimage/io/_io.py:132: UserWarning: model/Unet_rmbg/BRCAS2TESRI/Predict_mask/V10-20130608-024.png is a low contrast image\n",
      "  warn('%s is a low contrast image' % fname)\n",
      "/usr/local/lib/python3.5/dist-packages/skimage/io/_io.py:132: UserWarning: model/Unet_rmbg/BRCAS2TESRI/Predict_mask/A48-20150512-150.png is a low contrast image\n",
      "  warn('%s is a low contrast image' % fname)\n"
     ]
    },
    {
     "name": "stdout",
     "output_type": "stream",
     "text": [
      "\r",
      "[Predict]-----pred-mini-Batch (35/122)\r"
     ]
    },
    {
     "name": "stderr",
     "output_type": "stream",
     "text": [
      "/usr/local/lib/python3.5/dist-packages/skimage/io/_io.py:132: UserWarning: model/Unet_rmbg/BRCAS2TESRI/Predict_mask/A35-20130605-047.png is a low contrast image\n",
      "  warn('%s is a low contrast image' % fname)\n",
      "/usr/local/lib/python3.5/dist-packages/skimage/io/_io.py:132: UserWarning: model/Unet_rmbg/BRCAS2TESRI/Predict_mask/A36-20130606-054.png is a low contrast image\n",
      "  warn('%s is a low contrast image' % fname)\n",
      "/usr/local/lib/python3.5/dist-packages/skimage/io/_io.py:132: UserWarning: model/Unet_rmbg/BRCAS2TESRI/Predict_mask/A37-20140501-004.png is a low contrast image\n",
      "  warn('%s is a low contrast image' % fname)\n",
      "/usr/local/lib/python3.5/dist-packages/skimage/io/_io.py:132: UserWarning: model/Unet_rmbg/BRCAS2TESRI/Predict_mask/V18-20160309-047.png is a low contrast image\n",
      "  warn('%s is a low contrast image' % fname)\n",
      "/usr/local/lib/python3.5/dist-packages/skimage/io/_io.py:132: UserWarning: model/Unet_rmbg/BRCAS2TESRI/Predict_mask/A46-20160223-009.png is a low contrast image\n",
      "  warn('%s is a low contrast image' % fname)\n",
      "/usr/local/lib/python3.5/dist-packages/skimage/io/_io.py:132: UserWarning: model/Unet_rmbg/BRCAS2TESRI/Predict_mask/V06-20130805-151.png is a low contrast image\n",
      "  warn('%s is a low contrast image' % fname)\n",
      "/usr/local/lib/python3.5/dist-packages/skimage/io/_io.py:132: UserWarning: model/Unet_rmbg/BRCAS2TESRI/Predict_mask/A38-20130416-123.png is a low contrast image\n",
      "  warn('%s is a low contrast image' % fname)\n",
      "/usr/local/lib/python3.5/dist-packages/skimage/io/_io.py:132: UserWarning: model/Unet_rmbg/BRCAS2TESRI/Predict_mask/V11-20130508-042.png is a low contrast image\n",
      "  warn('%s is a low contrast image' % fname)\n",
      "/usr/local/lib/python3.5/dist-packages/skimage/io/_io.py:132: UserWarning: model/Unet_rmbg/BRCAS2TESRI/Predict_mask/A35-20140302-040.png is a low contrast image\n",
      "  warn('%s is a low contrast image' % fname)\n",
      "/usr/local/lib/python3.5/dist-packages/skimage/io/_io.py:132: UserWarning: model/Unet_rmbg/BRCAS2TESRI/Predict_mask/A32-20110927-039.png is a low contrast image\n",
      "  warn('%s is a low contrast image' % fname)\n",
      "/usr/local/lib/python3.5/dist-packages/skimage/io/_io.py:132: UserWarning: model/Unet_rmbg/BRCAS2TESRI/Predict_mask/V11-20131005-041.png is a low contrast image\n",
      "  warn('%s is a low contrast image' % fname)\n",
      "/usr/local/lib/python3.5/dist-packages/skimage/io/_io.py:132: UserWarning: model/Unet_rmbg/BRCAS2TESRI/Predict_mask/V12-20130927-023.png is a low contrast image\n",
      "  warn('%s is a low contrast image' % fname)\n",
      "/usr/local/lib/python3.5/dist-packages/skimage/io/_io.py:132: UserWarning: model/Unet_rmbg/BRCAS2TESRI/Predict_mask/A01-20150407-024.png is a low contrast image\n",
      "  warn('%s is a low contrast image' % fname)\n",
      "/usr/local/lib/python3.5/dist-packages/skimage/io/_io.py:132: UserWarning: model/Unet_rmbg/BRCAS2TESRI/Predict_mask/A35-20131015-091.png is a low contrast image\n",
      "  warn('%s is a low contrast image' % fname)\n"
     ]
    },
    {
     "name": "stdout",
     "output_type": "stream",
     "text": [
      "\r",
      "[Predict]-----pred-mini-Batch (36/122)\r"
     ]
    },
    {
     "name": "stderr",
     "output_type": "stream",
     "text": [
      "/usr/local/lib/python3.5/dist-packages/skimage/io/_io.py:132: UserWarning: model/Unet_rmbg/BRCAS2TESRI/Predict_mask/V04-20130509-040.png is a low contrast image\n",
      "  warn('%s is a low contrast image' % fname)\n",
      "/usr/local/lib/python3.5/dist-packages/skimage/io/_io.py:132: UserWarning: model/Unet_rmbg/BRCAS2TESRI/Predict_mask/V15-20140101-074.png is a low contrast image\n",
      "  warn('%s is a low contrast image' % fname)\n",
      "/usr/local/lib/python3.5/dist-packages/skimage/io/_io.py:132: UserWarning: model/Unet_rmbg/BRCAS2TESRI/Predict_mask/V11-20130608-031.png is a low contrast image\n",
      "  warn('%s is a low contrast image' % fname)\n",
      "/usr/local/lib/python3.5/dist-packages/skimage/io/_io.py:132: UserWarning: model/Unet_rmbg/BRCAS2TESRI/Predict_mask/A37-20130418-054.png is a low contrast image\n",
      "  warn('%s is a low contrast image' % fname)\n",
      "/usr/local/lib/python3.5/dist-packages/skimage/io/_io.py:132: UserWarning: model/Unet_rmbg/BRCAS2TESRI/Predict_mask/V14-20130428-059.png is a low contrast image\n",
      "  warn('%s is a low contrast image' % fname)\n",
      "/usr/local/lib/python3.5/dist-packages/skimage/io/_io.py:132: UserWarning: model/Unet_rmbg/BRCAS2TESRI/Predict_mask/A38-20140206-032.png is a low contrast image\n",
      "  warn('%s is a low contrast image' % fname)\n",
      "/usr/local/lib/python3.5/dist-packages/skimage/io/_io.py:132: UserWarning: model/Unet_rmbg/BRCAS2TESRI/Predict_mask/A38-20140925-060.png is a low contrast image\n",
      "  warn('%s is a low contrast image' % fname)\n",
      "/usr/local/lib/python3.5/dist-packages/skimage/io/_io.py:132: UserWarning: model/Unet_rmbg/BRCAS2TESRI/Predict_mask/A47-20150318-029.png is a low contrast image\n",
      "  warn('%s is a low contrast image' % fname)\n",
      "/usr/local/lib/python3.5/dist-packages/skimage/io/_io.py:132: UserWarning: model/Unet_rmbg/BRCAS2TESRI/Predict_mask/V08-20130607-017.png is a low contrast image\n",
      "  warn('%s is a low contrast image' % fname)\n",
      "/usr/local/lib/python3.5/dist-packages/skimage/io/_io.py:132: UserWarning: model/Unet_rmbg/BRCAS2TESRI/Predict_mask/A48-20150318-035.png is a low contrast image\n",
      "  warn('%s is a low contrast image' % fname)\n",
      "/usr/local/lib/python3.5/dist-packages/skimage/io/_io.py:132: UserWarning: model/Unet_rmbg/BRCAS2TESRI/Predict_mask/A32-20111123-044.png is a low contrast image\n",
      "  warn('%s is a low contrast image' % fname)\n",
      "/usr/local/lib/python3.5/dist-packages/skimage/io/_io.py:132: UserWarning: model/Unet_rmbg/BRCAS2TESRI/Predict_mask/A41-20140206-011.png is a low contrast image\n",
      "  warn('%s is a low contrast image' % fname)\n",
      "/usr/local/lib/python3.5/dist-packages/skimage/io/_io.py:132: UserWarning: model/Unet_rmbg/BRCAS2TESRI/Predict_mask/V12-20130927-020.png is a low contrast image\n",
      "  warn('%s is a low contrast image' % fname)\n"
     ]
    },
    {
     "name": "stdout",
     "output_type": "stream",
     "text": [
      "\r",
      "[Predict]-----pred-mini-Batch (37/122)\r"
     ]
    },
    {
     "name": "stderr",
     "output_type": "stream",
     "text": [
      "/usr/local/lib/python3.5/dist-packages/skimage/io/_io.py:132: UserWarning: model/Unet_rmbg/BRCAS2TESRI/Predict_mask/A34-20140428-080.png is a low contrast image\n",
      "  warn('%s is a low contrast image' % fname)\n",
      "/usr/local/lib/python3.5/dist-packages/skimage/io/_io.py:132: UserWarning: model/Unet_rmbg/BRCAS2TESRI/Predict_mask/A35-20140501-042.png is a low contrast image\n",
      "  warn('%s is a low contrast image' % fname)\n",
      "/usr/local/lib/python3.5/dist-packages/skimage/io/_io.py:132: UserWarning: model/Unet_rmbg/BRCAS2TESRI/Predict_mask/A32-20120830-031.png is a low contrast image\n",
      "  warn('%s is a low contrast image' % fname)\n",
      "/usr/local/lib/python3.5/dist-packages/skimage/io/_io.py:132: UserWarning: model/Unet_rmbg/BRCAS2TESRI/Predict_mask/A34-20130902-263.png is a low contrast image\n",
      "  warn('%s is a low contrast image' % fname)\n",
      "/usr/local/lib/python3.5/dist-packages/skimage/io/_io.py:132: UserWarning: model/Unet_rmbg/BRCAS2TESRI/Predict_mask/A34-20130313-066.png is a low contrast image\n",
      "  warn('%s is a low contrast image' % fname)\n",
      "/usr/local/lib/python3.5/dist-packages/skimage/io/_io.py:132: UserWarning: model/Unet_rmbg/BRCAS2TESRI/Predict_mask/A42-20140922-053.png is a low contrast image\n",
      "  warn('%s is a low contrast image' % fname)\n",
      "/usr/local/lib/python3.5/dist-packages/skimage/io/_io.py:132: UserWarning: model/Unet_rmbg/BRCAS2TESRI/Predict_mask/A39-20130807-020.png is a low contrast image\n",
      "  warn('%s is a low contrast image' % fname)\n",
      "/usr/local/lib/python3.5/dist-packages/skimage/io/_io.py:132: UserWarning: model/Unet_rmbg/BRCAS2TESRI/Predict_mask/A52-20151110-057.png is a low contrast image\n",
      "  warn('%s is a low contrast image' % fname)\n",
      "/usr/local/lib/python3.5/dist-packages/skimage/io/_io.py:132: UserWarning: model/Unet_rmbg/BRCAS2TESRI/Predict_mask/A32-20120830-063.png is a low contrast image\n",
      "  warn('%s is a low contrast image' % fname)\n",
      "/usr/local/lib/python3.5/dist-packages/skimage/io/_io.py:132: UserWarning: model/Unet_rmbg/BRCAS2TESRI/Predict_mask/V03-20140203-048.png is a low contrast image\n",
      "  warn('%s is a low contrast image' % fname)\n",
      "/usr/local/lib/python3.5/dist-packages/skimage/io/_io.py:132: UserWarning: model/Unet_rmbg/BRCAS2TESRI/Predict_mask/V02-20130801-066.png is a low contrast image\n",
      "  warn('%s is a low contrast image' % fname)\n",
      "/usr/local/lib/python3.5/dist-packages/skimage/io/_io.py:132: UserWarning: model/Unet_rmbg/BRCAS2TESRI/Predict_mask/V14-20130428-048.png is a low contrast image\n",
      "  warn('%s is a low contrast image' % fname)\n",
      "/usr/local/lib/python3.5/dist-packages/skimage/io/_io.py:132: UserWarning: model/Unet_rmbg/BRCAS2TESRI/Predict_mask/V02-20140101-053.png is a low contrast image\n",
      "  warn('%s is a low contrast image' % fname)\n",
      "/usr/local/lib/python3.5/dist-packages/skimage/io/_io.py:132: UserWarning: model/Unet_rmbg/BRCAS2TESRI/Predict_mask/A32-20120523-115.png is a low contrast image\n",
      "  warn('%s is a low contrast image' % fname)\n"
     ]
    },
    {
     "name": "stdout",
     "output_type": "stream",
     "text": [
      "\r",
      "[Predict]-----pred-mini-Batch (38/122)\r"
     ]
    },
    {
     "name": "stderr",
     "output_type": "stream",
     "text": [
      "/usr/local/lib/python3.5/dist-packages/skimage/io/_io.py:132: UserWarning: model/Unet_rmbg/BRCAS2TESRI/Predict_mask/A35-20130417-008.png is a low contrast image\n",
      "  warn('%s is a low contrast image' % fname)\n",
      "/usr/local/lib/python3.5/dist-packages/skimage/io/_io.py:132: UserWarning: model/Unet_rmbg/BRCAS2TESRI/Predict_mask/A35-20130221-042.png is a low contrast image\n",
      "  warn('%s is a low contrast image' % fname)\n",
      "/usr/local/lib/python3.5/dist-packages/skimage/io/_io.py:132: UserWarning: model/Unet_rmbg/BRCAS2TESRI/Predict_mask/A32-20111123-074.png is a low contrast image\n",
      "  warn('%s is a low contrast image' % fname)\n",
      "/usr/local/lib/python3.5/dist-packages/skimage/io/_io.py:132: UserWarning: model/Unet_rmbg/BRCAS2TESRI/Predict_mask/V02-20140501-011.png is a low contrast image\n",
      "  warn('%s is a low contrast image' % fname)\n",
      "/usr/local/lib/python3.5/dist-packages/skimage/io/_io.py:132: UserWarning: model/Unet_rmbg/BRCAS2TESRI/Predict_mask/V02-20130801-101.png is a low contrast image\n",
      "  warn('%s is a low contrast image' % fname)\n",
      "/usr/local/lib/python3.5/dist-packages/skimage/io/_io.py:132: UserWarning: model/Unet_rmbg/BRCAS2TESRI/Predict_mask/V06-20130705-045.png is a low contrast image\n",
      "  warn('%s is a low contrast image' % fname)\n",
      "/usr/local/lib/python3.5/dist-packages/skimage/io/_io.py:132: UserWarning: model/Unet_rmbg/BRCAS2TESRI/Predict_mask/V09-20130601-009.png is a low contrast image\n",
      "  warn('%s is a low contrast image' % fname)\n",
      "/usr/local/lib/python3.5/dist-packages/skimage/io/_io.py:132: UserWarning: model/Unet_rmbg/BRCAS2TESRI/Predict_mask/A34-20140428-063.png is a low contrast image\n",
      "  warn('%s is a low contrast image' % fname)\n",
      "/usr/local/lib/python3.5/dist-packages/skimage/io/_io.py:132: UserWarning: model/Unet_rmbg/BRCAS2TESRI/Predict_mask/V12-20140316-011.png is a low contrast image\n",
      "  warn('%s is a low contrast image' % fname)\n",
      "/usr/local/lib/python3.5/dist-packages/skimage/io/_io.py:132: UserWarning: model/Unet_rmbg/BRCAS2TESRI/Predict_mask/A32-20120222-026.png is a low contrast image\n",
      "  warn('%s is a low contrast image' % fname)\n",
      "/usr/local/lib/python3.5/dist-packages/skimage/io/_io.py:132: UserWarning: model/Unet_rmbg/BRCAS2TESRI/Predict_mask/V11-20130706-005.png is a low contrast image\n",
      "  warn('%s is a low contrast image' % fname)\n",
      "/usr/local/lib/python3.5/dist-packages/skimage/io/_io.py:132: UserWarning: model/Unet_rmbg/BRCAS2TESRI/Predict_mask/A38-20130416-109.png is a low contrast image\n",
      "  warn('%s is a low contrast image' % fname)\n",
      "/usr/local/lib/python3.5/dist-packages/skimage/io/_io.py:132: UserWarning: model/Unet_rmbg/BRCAS2TESRI/Predict_mask/A38-20140925-106.png is a low contrast image\n",
      "  warn('%s is a low contrast image' % fname)\n",
      "/usr/local/lib/python3.5/dist-packages/skimage/io/_io.py:132: UserWarning: model/Unet_rmbg/BRCAS2TESRI/Predict_mask/V03-20130510-151.png is a low contrast image\n",
      "  warn('%s is a low contrast image' % fname)\n"
     ]
    },
    {
     "name": "stdout",
     "output_type": "stream",
     "text": [
      "\r",
      "[Predict]-----pred-mini-Batch (39/122)\r"
     ]
    },
    {
     "name": "stderr",
     "output_type": "stream",
     "text": [
      "/usr/local/lib/python3.5/dist-packages/skimage/io/_io.py:132: UserWarning: model/Unet_rmbg/BRCAS2TESRI/Predict_mask/V02-20140303-009.png is a low contrast image\n",
      "  warn('%s is a low contrast image' % fname)\n",
      "/usr/local/lib/python3.5/dist-packages/skimage/io/_io.py:132: UserWarning: model/Unet_rmbg/BRCAS2TESRI/Predict_mask/A35-20130221-006.png is a low contrast image\n",
      "  warn('%s is a low contrast image' % fname)\n",
      "/usr/local/lib/python3.5/dist-packages/skimage/io/_io.py:132: UserWarning: model/Unet_rmbg/BRCAS2TESRI/Predict_mask/A35-20130417-149.png is a low contrast image\n",
      "  warn('%s is a low contrast image' % fname)\n",
      "/usr/local/lib/python3.5/dist-packages/skimage/io/_io.py:132: UserWarning: model/Unet_rmbg/BRCAS2TESRI/Predict_mask/V03-20130510-069.png is a low contrast image\n",
      "  warn('%s is a low contrast image' % fname)\n",
      "/usr/local/lib/python3.5/dist-packages/skimage/io/_io.py:132: UserWarning: model/Unet_rmbg/BRCAS2TESRI/Predict_mask/V03-20130510-114.png is a low contrast image\n",
      "  warn('%s is a low contrast image' % fname)\n",
      "/usr/local/lib/python3.5/dist-packages/skimage/io/_io.py:132: UserWarning: model/Unet_rmbg/BRCAS2TESRI/Predict_mask/V04-20130509-099.png is a low contrast image\n",
      "  warn('%s is a low contrast image' % fname)\n",
      "/usr/local/lib/python3.5/dist-packages/skimage/io/_io.py:132: UserWarning: model/Unet_rmbg/BRCAS2TESRI/Predict_mask/A34-20140626-098.png is a low contrast image\n",
      "  warn('%s is a low contrast image' % fname)\n",
      "/usr/local/lib/python3.5/dist-packages/skimage/io/_io.py:132: UserWarning: model/Unet_rmbg/BRCAS2TESRI/Predict_mask/V15-20140721-015.png is a low contrast image\n",
      "  warn('%s is a low contrast image' % fname)\n",
      "/usr/local/lib/python3.5/dist-packages/skimage/io/_io.py:132: UserWarning: model/Unet_rmbg/BRCAS2TESRI/Predict_mask/A48-20160118-034.png is a low contrast image\n",
      "  warn('%s is a low contrast image' % fname)\n",
      "/usr/local/lib/python3.5/dist-packages/skimage/io/_io.py:132: UserWarning: model/Unet_rmbg/BRCAS2TESRI/Predict_mask/A32-20120523-141.png is a low contrast image\n",
      "  warn('%s is a low contrast image' % fname)\n",
      "/usr/local/lib/python3.5/dist-packages/skimage/io/_io.py:132: UserWarning: model/Unet_rmbg/BRCAS2TESRI/Predict_mask/V04-20130509-012.png is a low contrast image\n",
      "  warn('%s is a low contrast image' % fname)\n",
      "/usr/local/lib/python3.5/dist-packages/skimage/io/_io.py:132: UserWarning: model/Unet_rmbg/BRCAS2TESRI/Predict_mask/A34-20130902-281.png is a low contrast image\n",
      "  warn('%s is a low contrast image' % fname)\n",
      "/usr/local/lib/python3.5/dist-packages/skimage/io/_io.py:132: UserWarning: model/Unet_rmbg/BRCAS2TESRI/Predict_mask/A35-20130417-122.png is a low contrast image\n",
      "  warn('%s is a low contrast image' % fname)\n",
      "/usr/local/lib/python3.5/dist-packages/skimage/io/_io.py:132: UserWarning: model/Unet_rmbg/BRCAS2TESRI/Predict_mask/V07-20130809-029.png is a low contrast image\n",
      "  warn('%s is a low contrast image' % fname)\n"
     ]
    },
    {
     "name": "stdout",
     "output_type": "stream",
     "text": [
      "\r",
      "[Predict]-----pred-mini-Batch (40/122)\r"
     ]
    },
    {
     "name": "stderr",
     "output_type": "stream",
     "text": [
      "/usr/local/lib/python3.5/dist-packages/skimage/io/_io.py:132: UserWarning: model/Unet_rmbg/BRCAS2TESRI/Predict_mask/V03-20130909-056.png is a low contrast image\n",
      "  warn('%s is a low contrast image' % fname)\n",
      "/usr/local/lib/python3.5/dist-packages/skimage/io/_io.py:132: UserWarning: model/Unet_rmbg/BRCAS2TESRI/Predict_mask/V02-20140101-093.png is a low contrast image\n",
      "  warn('%s is a low contrast image' % fname)\n",
      "/usr/local/lib/python3.5/dist-packages/skimage/io/_io.py:132: UserWarning: model/Unet_rmbg/BRCAS2TESRI/Predict_mask/A48-20150318-004.png is a low contrast image\n",
      "  warn('%s is a low contrast image' % fname)\n",
      "/usr/local/lib/python3.5/dist-packages/skimage/io/_io.py:132: UserWarning: model/Unet_rmbg/BRCAS2TESRI/Predict_mask/V20-20150417-087.png is a low contrast image\n",
      "  warn('%s is a low contrast image' % fname)\n",
      "/usr/local/lib/python3.5/dist-packages/skimage/io/_io.py:132: UserWarning: model/Unet_rmbg/BRCAS2TESRI/Predict_mask/A33-20130115-049.png is a low contrast image\n",
      "  warn('%s is a low contrast image' % fname)\n",
      "/usr/local/lib/python3.5/dist-packages/skimage/io/_io.py:132: UserWarning: model/Unet_rmbg/BRCAS2TESRI/Predict_mask/V14-20130725-049.png is a low contrast image\n",
      "  warn('%s is a low contrast image' % fname)\n",
      "/usr/local/lib/python3.5/dist-packages/skimage/io/_io.py:132: UserWarning: model/Unet_rmbg/BRCAS2TESRI/Predict_mask/A39-20130807-048.png is a low contrast image\n",
      "  warn('%s is a low contrast image' % fname)\n",
      "/usr/local/lib/python3.5/dist-packages/skimage/io/_io.py:132: UserWarning: model/Unet_rmbg/BRCAS2TESRI/Predict_mask/A35-20140101-035.png is a low contrast image\n",
      "  warn('%s is a low contrast image' % fname)\n",
      "/usr/local/lib/python3.5/dist-packages/skimage/io/_io.py:132: UserWarning: model/Unet_rmbg/BRCAS2TESRI/Predict_mask/V15-20140627-043.png is a low contrast image\n",
      "  warn('%s is a low contrast image' % fname)\n",
      "/usr/local/lib/python3.5/dist-packages/skimage/io/_io.py:132: UserWarning: model/Unet_rmbg/BRCAS2TESRI/Predict_mask/A41-20140325-092.png is a low contrast image\n",
      "  warn('%s is a low contrast image' % fname)\n",
      "/usr/local/lib/python3.5/dist-packages/skimage/io/_io.py:132: UserWarning: model/Unet_rmbg/BRCAS2TESRI/Predict_mask/A47-20150318-035.png is a low contrast image\n",
      "  warn('%s is a low contrast image' % fname)\n"
     ]
    },
    {
     "name": "stdout",
     "output_type": "stream",
     "text": [
      "\r",
      "[Predict]-----pred-mini-Batch (41/122)\r"
     ]
    },
    {
     "name": "stderr",
     "output_type": "stream",
     "text": [
      "/usr/local/lib/python3.5/dist-packages/skimage/io/_io.py:132: UserWarning: model/Unet_rmbg/BRCAS2TESRI/Predict_mask/V11-20140308-058.png is a low contrast image\n",
      "  warn('%s is a low contrast image' % fname)\n",
      "/usr/local/lib/python3.5/dist-packages/skimage/io/_io.py:132: UserWarning: model/Unet_rmbg/BRCAS2TESRI/Predict_mask/A37-20130806-031.png is a low contrast image\n",
      "  warn('%s is a low contrast image' % fname)\n",
      "/usr/local/lib/python3.5/dist-packages/skimage/io/_io.py:132: UserWarning: model/Unet_rmbg/BRCAS2TESRI/Predict_mask/A32-20111226-048.png is a low contrast image\n",
      "  warn('%s is a low contrast image' % fname)\n",
      "/usr/local/lib/python3.5/dist-packages/skimage/io/_io.py:132: UserWarning: model/Unet_rmbg/BRCAS2TESRI/Predict_mask/V12-20130628-136.png is a low contrast image\n",
      "  warn('%s is a low contrast image' % fname)\n",
      "/usr/local/lib/python3.5/dist-packages/skimage/io/_io.py:132: UserWarning: model/Unet_rmbg/BRCAS2TESRI/Predict_mask/A35-20130221-022.png is a low contrast image\n",
      "  warn('%s is a low contrast image' % fname)\n",
      "/usr/local/lib/python3.5/dist-packages/skimage/io/_io.py:132: UserWarning: model/Unet_rmbg/BRCAS2TESRI/Predict_mask/A46-20160602-223.png is a low contrast image\n",
      "  warn('%s is a low contrast image' % fname)\n",
      "/usr/local/lib/python3.5/dist-packages/skimage/io/_io.py:132: UserWarning: model/Unet_rmbg/BRCAS2TESRI/Predict_mask/V09-20130601-008.png is a low contrast image\n",
      "  warn('%s is a low contrast image' % fname)\n",
      "/usr/local/lib/python3.5/dist-packages/skimage/io/_io.py:132: UserWarning: model/Unet_rmbg/BRCAS2TESRI/Predict_mask/A41-20140206-111.png is a low contrast image\n",
      "  warn('%s is a low contrast image' % fname)\n",
      "/usr/local/lib/python3.5/dist-packages/skimage/io/_io.py:132: UserWarning: model/Unet_rmbg/BRCAS2TESRI/Predict_mask/V03-20130510-007.png is a low contrast image\n",
      "  warn('%s is a low contrast image' % fname)\n",
      "/usr/local/lib/python3.5/dist-packages/skimage/io/_io.py:132: UserWarning: model/Unet_rmbg/BRCAS2TESRI/Predict_mask/A41-20140206-019.png is a low contrast image\n",
      "  warn('%s is a low contrast image' % fname)\n"
     ]
    },
    {
     "name": "stdout",
     "output_type": "stream",
     "text": [
      "\r",
      "[Predict]-----pred-mini-Batch (42/122)\r"
     ]
    },
    {
     "name": "stderr",
     "output_type": "stream",
     "text": [
      "/usr/local/lib/python3.5/dist-packages/skimage/io/_io.py:132: UserWarning: model/Unet_rmbg/BRCAS2TESRI/Predict_mask/A48-20150318-056.png is a low contrast image\n",
      "  warn('%s is a low contrast image' % fname)\n",
      "/usr/local/lib/python3.5/dist-packages/skimage/io/_io.py:132: UserWarning: model/Unet_rmbg/BRCAS2TESRI/Predict_mask/V03-20130606-099.png is a low contrast image\n",
      "  warn('%s is a low contrast image' % fname)\n",
      "/usr/local/lib/python3.5/dist-packages/skimage/io/_io.py:132: UserWarning: model/Unet_rmbg/BRCAS2TESRI/Predict_mask/V11-20130608-094.png is a low contrast image\n",
      "  warn('%s is a low contrast image' % fname)\n",
      "/usr/local/lib/python3.5/dist-packages/skimage/io/_io.py:132: UserWarning: model/Unet_rmbg/BRCAS2TESRI/Predict_mask/V11-20130608-009.png is a low contrast image\n",
      "  warn('%s is a low contrast image' % fname)\n",
      "/usr/local/lib/python3.5/dist-packages/skimage/io/_io.py:132: UserWarning: model/Unet_rmbg/BRCAS2TESRI/Predict_mask/V14-20130725-016.png is a low contrast image\n",
      "  warn('%s is a low contrast image' % fname)\n",
      "/usr/local/lib/python3.5/dist-packages/skimage/io/_io.py:132: UserWarning: model/Unet_rmbg/BRCAS2TESRI/Predict_mask/A38-20140728-167.png is a low contrast image\n",
      "  warn('%s is a low contrast image' % fname)\n",
      "/usr/local/lib/python3.5/dist-packages/skimage/io/_io.py:132: UserWarning: model/Unet_rmbg/BRCAS2TESRI/Predict_mask/A35-20140101-090.png is a low contrast image\n",
      "  warn('%s is a low contrast image' % fname)\n",
      "/usr/local/lib/python3.5/dist-packages/skimage/io/_io.py:132: UserWarning: model/Unet_rmbg/BRCAS2TESRI/Predict_mask/A32-20111123-094.png is a low contrast image\n",
      "  warn('%s is a low contrast image' % fname)\n",
      "/usr/local/lib/python3.5/dist-packages/skimage/io/_io.py:132: UserWarning: model/Unet_rmbg/BRCAS2TESRI/Predict_mask/A48-20160601-191.png is a low contrast image\n",
      "  warn('%s is a low contrast image' % fname)\n",
      "/usr/local/lib/python3.5/dist-packages/skimage/io/_io.py:132: UserWarning: model/Unet_rmbg/BRCAS2TESRI/Predict_mask/V04-20140530-228.png is a low contrast image\n",
      "  warn('%s is a low contrast image' % fname)\n",
      "/usr/local/lib/python3.5/dist-packages/skimage/io/_io.py:132: UserWarning: model/Unet_rmbg/BRCAS2TESRI/Predict_mask/A34-20130902-050.png is a low contrast image\n",
      "  warn('%s is a low contrast image' % fname)\n",
      "/usr/local/lib/python3.5/dist-packages/skimage/io/_io.py:132: UserWarning: model/Unet_rmbg/BRCAS2TESRI/Predict_mask/V12-20131128-121.png is a low contrast image\n",
      "  warn('%s is a low contrast image' % fname)\n",
      "/usr/local/lib/python3.5/dist-packages/skimage/io/_io.py:132: UserWarning: model/Unet_rmbg/BRCAS2TESRI/Predict_mask/A43-20150611-021.png is a low contrast image\n",
      "  warn('%s is a low contrast image' % fname)\n"
     ]
    },
    {
     "name": "stdout",
     "output_type": "stream",
     "text": [
      "\r",
      "[Predict]-----pred-mini-Batch (43/122)\r"
     ]
    },
    {
     "name": "stderr",
     "output_type": "stream",
     "text": [
      "/usr/local/lib/python3.5/dist-packages/skimage/io/_io.py:132: UserWarning: model/Unet_rmbg/BRCAS2TESRI/Predict_mask/A41-20140325-016.png is a low contrast image\n",
      "  warn('%s is a low contrast image' % fname)\n",
      "/usr/local/lib/python3.5/dist-packages/skimage/io/_io.py:132: UserWarning: model/Unet_rmbg/BRCAS2TESRI/Predict_mask/V12-20131028-030.png is a low contrast image\n",
      "  warn('%s is a low contrast image' % fname)\n",
      "/usr/local/lib/python3.5/dist-packages/skimage/io/_io.py:132: UserWarning: model/Unet_rmbg/BRCAS2TESRI/Predict_mask/V03-20130606-100.png is a low contrast image\n",
      "  warn('%s is a low contrast image' % fname)\n",
      "/usr/local/lib/python3.5/dist-packages/skimage/io/_io.py:132: UserWarning: model/Unet_rmbg/BRCAS2TESRI/Predict_mask/A35-20130417-090.png is a low contrast image\n",
      "  warn('%s is a low contrast image' % fname)\n",
      "/usr/local/lib/python3.5/dist-packages/skimage/io/_io.py:132: UserWarning: model/Unet_rmbg/BRCAS2TESRI/Predict_mask/V02-20131201-106.png is a low contrast image\n",
      "  warn('%s is a low contrast image' % fname)\n",
      "/usr/local/lib/python3.5/dist-packages/skimage/io/_io.py:132: UserWarning: model/Unet_rmbg/BRCAS2TESRI/Predict_mask/V04-20130411-055.png is a low contrast image\n",
      "  warn('%s is a low contrast image' % fname)\n",
      "/usr/local/lib/python3.5/dist-packages/skimage/io/_io.py:132: UserWarning: model/Unet_rmbg/BRCAS2TESRI/Predict_mask/A32-20120725-064.png is a low contrast image\n",
      "  warn('%s is a low contrast image' % fname)\n",
      "/usr/local/lib/python3.5/dist-packages/skimage/io/_io.py:132: UserWarning: model/Unet_rmbg/BRCAS2TESRI/Predict_mask/A38-20140925-121.png is a low contrast image\n",
      "  warn('%s is a low contrast image' % fname)\n",
      "/usr/local/lib/python3.5/dist-packages/skimage/io/_io.py:132: UserWarning: model/Unet_rmbg/BRCAS2TESRI/Predict_mask/V14-20130428-168.png is a low contrast image\n",
      "  warn('%s is a low contrast image' % fname)\n",
      "/usr/local/lib/python3.5/dist-packages/skimage/io/_io.py:132: UserWarning: model/Unet_rmbg/BRCAS2TESRI/Predict_mask/A46-20160705-079.png is a low contrast image\n",
      "  warn('%s is a low contrast image' % fname)\n",
      "/usr/local/lib/python3.5/dist-packages/skimage/io/_io.py:132: UserWarning: model/Unet_rmbg/BRCAS2TESRI/Predict_mask/A35-20130605-076.png is a low contrast image\n",
      "  warn('%s is a low contrast image' % fname)\n",
      "/usr/local/lib/python3.5/dist-packages/skimage/io/_io.py:132: UserWarning: model/Unet_rmbg/BRCAS2TESRI/Predict_mask/A35-20140923-085.png is a low contrast image\n",
      "  warn('%s is a low contrast image' % fname)\n",
      "/usr/local/lib/python3.5/dist-packages/skimage/io/_io.py:132: UserWarning: model/Unet_rmbg/BRCAS2TESRI/Predict_mask/V12-20131128-109.png is a low contrast image\n",
      "  warn('%s is a low contrast image' % fname)\n"
     ]
    },
    {
     "name": "stdout",
     "output_type": "stream",
     "text": [
      "\r",
      "[Predict]-----pred-mini-Batch (44/122)\r"
     ]
    },
    {
     "name": "stderr",
     "output_type": "stream",
     "text": [
      "/usr/local/lib/python3.5/dist-packages/skimage/io/_io.py:132: UserWarning: model/Unet_rmbg/BRCAS2TESRI/Predict_mask/V12-20140217-038.png is a low contrast image\n",
      "  warn('%s is a low contrast image' % fname)\n",
      "/usr/local/lib/python3.5/dist-packages/skimage/io/_io.py:132: UserWarning: model/Unet_rmbg/BRCAS2TESRI/Predict_mask/V15-20150214-031.png is a low contrast image\n",
      "  warn('%s is a low contrast image' % fname)\n",
      "/usr/local/lib/python3.5/dist-packages/skimage/io/_io.py:132: UserWarning: model/Unet_rmbg/BRCAS2TESRI/Predict_mask/V04-20150223-033.png is a low contrast image\n",
      "  warn('%s is a low contrast image' % fname)\n",
      "/usr/local/lib/python3.5/dist-packages/skimage/io/_io.py:132: UserWarning: model/Unet_rmbg/BRCAS2TESRI/Predict_mask/V14-20130428-033.png is a low contrast image\n",
      "  warn('%s is a low contrast image' % fname)\n",
      "/usr/local/lib/python3.5/dist-packages/skimage/io/_io.py:132: UserWarning: model/Unet_rmbg/BRCAS2TESRI/Predict_mask/A38-20140206-010.png is a low contrast image\n",
      "  warn('%s is a low contrast image' % fname)\n",
      "/usr/local/lib/python3.5/dist-packages/skimage/io/_io.py:132: UserWarning: model/Unet_rmbg/BRCAS2TESRI/Predict_mask/A42-20160713-063.png is a low contrast image\n",
      "  warn('%s is a low contrast image' % fname)\n",
      "/usr/local/lib/python3.5/dist-packages/skimage/io/_io.py:132: UserWarning: model/Unet_rmbg/BRCAS2TESRI/Predict_mask/A34-20130506-051.png is a low contrast image\n",
      "  warn('%s is a low contrast image' % fname)\n",
      "/usr/local/lib/python3.5/dist-packages/skimage/io/_io.py:132: UserWarning: model/Unet_rmbg/BRCAS2TESRI/Predict_mask/V09-20130601-029.png is a low contrast image\n",
      "  warn('%s is a low contrast image' % fname)\n",
      "/usr/local/lib/python3.5/dist-packages/skimage/io/_io.py:132: UserWarning: model/Unet_rmbg/BRCAS2TESRI/Predict_mask/V01-20130928-039.png is a low contrast image\n",
      "  warn('%s is a low contrast image' % fname)\n",
      "/usr/local/lib/python3.5/dist-packages/skimage/io/_io.py:132: UserWarning: model/Unet_rmbg/BRCAS2TESRI/Predict_mask/A36-20130226-043.png is a low contrast image\n",
      "  warn('%s is a low contrast image' % fname)\n",
      "/usr/local/lib/python3.5/dist-packages/skimage/io/_io.py:132: UserWarning: model/Unet_rmbg/BRCAS2TESRI/Predict_mask/A42-20150610-033.png is a low contrast image\n",
      "  warn('%s is a low contrast image' % fname)\n"
     ]
    },
    {
     "name": "stdout",
     "output_type": "stream",
     "text": [
      "\r",
      "[Predict]-----pred-mini-Batch (45/122)\r"
     ]
    },
    {
     "name": "stderr",
     "output_type": "stream",
     "text": [
      "/usr/local/lib/python3.5/dist-packages/skimage/io/_io.py:132: UserWarning: model/Unet_rmbg/BRCAS2TESRI/Predict_mask/A36-20130226-001.png is a low contrast image\n",
      "  warn('%s is a low contrast image' % fname)\n",
      "/usr/local/lib/python3.5/dist-packages/skimage/io/_io.py:132: UserWarning: model/Unet_rmbg/BRCAS2TESRI/Predict_mask/V03-20130510-053.png is a low contrast image\n",
      "  warn('%s is a low contrast image' % fname)\n",
      "/usr/local/lib/python3.5/dist-packages/skimage/io/_io.py:132: UserWarning: model/Unet_rmbg/BRCAS2TESRI/Predict_mask/V19-20150417-009.png is a low contrast image\n",
      "  warn('%s is a low contrast image' % fname)\n",
      "/usr/local/lib/python3.5/dist-packages/skimage/io/_io.py:132: UserWarning: model/Unet_rmbg/BRCAS2TESRI/Predict_mask/V17-20140412-018.png is a low contrast image\n",
      "  warn('%s is a low contrast image' % fname)\n",
      "/usr/local/lib/python3.5/dist-packages/skimage/io/_io.py:132: UserWarning: model/Unet_rmbg/BRCAS2TESRI/Predict_mask/A32-20111024-061.png is a low contrast image\n",
      "  warn('%s is a low contrast image' % fname)\n",
      "/usr/local/lib/python3.5/dist-packages/skimage/io/_io.py:132: UserWarning: model/Unet_rmbg/BRCAS2TESRI/Predict_mask/V14-20130428-118.png is a low contrast image\n",
      "  warn('%s is a low contrast image' % fname)\n",
      "/usr/local/lib/python3.5/dist-packages/skimage/io/_io.py:132: UserWarning: model/Unet_rmbg/BRCAS2TESRI/Predict_mask/A32-20120725-105.png is a low contrast image\n",
      "  warn('%s is a low contrast image' % fname)\n",
      "/usr/local/lib/python3.5/dist-packages/skimage/io/_io.py:132: UserWarning: model/Unet_rmbg/BRCAS2TESRI/Predict_mask/V03-20131103-001.png is a low contrast image\n",
      "  warn('%s is a low contrast image' % fname)\n",
      "/usr/local/lib/python3.5/dist-packages/skimage/io/_io.py:132: UserWarning: model/Unet_rmbg/BRCAS2TESRI/Predict_mask/A35-20130605-094.png is a low contrast image\n",
      "  warn('%s is a low contrast image' % fname)\n",
      "/usr/local/lib/python3.5/dist-packages/skimage/io/_io.py:132: UserWarning: model/Unet_rmbg/BRCAS2TESRI/Predict_mask/V11-20130508-050.png is a low contrast image\n",
      "  warn('%s is a low contrast image' % fname)\n",
      "/usr/local/lib/python3.5/dist-packages/skimage/io/_io.py:132: UserWarning: model/Unet_rmbg/BRCAS2TESRI/Predict_mask/V12-20130528-161.png is a low contrast image\n",
      "  warn('%s is a low contrast image' % fname)\n",
      "/usr/local/lib/python3.5/dist-packages/skimage/io/_io.py:132: UserWarning: model/Unet_rmbg/BRCAS2TESRI/Predict_mask/V15-20140101-005.png is a low contrast image\n",
      "  warn('%s is a low contrast image' % fname)\n",
      "/usr/local/lib/python3.5/dist-packages/skimage/io/_io.py:132: UserWarning: model/Unet_rmbg/BRCAS2TESRI/Predict_mask/V03-20130510-095.png is a low contrast image\n",
      "  warn('%s is a low contrast image' % fname)\n",
      "/usr/local/lib/python3.5/dist-packages/skimage/io/_io.py:132: UserWarning: model/Unet_rmbg/BRCAS2TESRI/Predict_mask/V07-20130412-032.png is a low contrast image\n",
      "  warn('%s is a low contrast image' % fname)\n"
     ]
    },
    {
     "name": "stdout",
     "output_type": "stream",
     "text": [
      "\r",
      "[Predict]-----pred-mini-Batch (46/122)\r"
     ]
    },
    {
     "name": "stderr",
     "output_type": "stream",
     "text": [
      "/usr/local/lib/python3.5/dist-packages/skimage/io/_io.py:132: UserWarning: model/Unet_rmbg/BRCAS2TESRI/Predict_mask/V10-20131004-034.png is a low contrast image\n",
      "  warn('%s is a low contrast image' % fname)\n",
      "/usr/local/lib/python3.5/dist-packages/skimage/io/_io.py:132: UserWarning: model/Unet_rmbg/BRCAS2TESRI/Predict_mask/V16-20131004-086.png is a low contrast image\n",
      "  warn('%s is a low contrast image' % fname)\n",
      "/usr/local/lib/python3.5/dist-packages/skimage/io/_io.py:132: UserWarning: model/Unet_rmbg/BRCAS2TESRI/Predict_mask/A32-20110927-031.png is a low contrast image\n",
      "  warn('%s is a low contrast image' % fname)\n",
      "/usr/local/lib/python3.5/dist-packages/skimage/io/_io.py:132: UserWarning: model/Unet_rmbg/BRCAS2TESRI/Predict_mask/A48-20150318-030.png is a low contrast image\n",
      "  warn('%s is a low contrast image' % fname)\n",
      "/usr/local/lib/python3.5/dist-packages/skimage/io/_io.py:132: UserWarning: model/Unet_rmbg/BRCAS2TESRI/Predict_mask/A34-20140826-071.png is a low contrast image\n",
      "  warn('%s is a low contrast image' % fname)\n",
      "/usr/local/lib/python3.5/dist-packages/skimage/io/_io.py:132: UserWarning: model/Unet_rmbg/BRCAS2TESRI/Predict_mask/V14-20130428-108.png is a low contrast image\n",
      "  warn('%s is a low contrast image' % fname)\n",
      "/usr/local/lib/python3.5/dist-packages/skimage/io/_io.py:132: UserWarning: model/Unet_rmbg/BRCAS2TESRI/Predict_mask/V11-20130608-073.png is a low contrast image\n",
      "  warn('%s is a low contrast image' % fname)\n",
      "/usr/local/lib/python3.5/dist-packages/skimage/io/_io.py:132: UserWarning: model/Unet_rmbg/BRCAS2TESRI/Predict_mask/A38-20130416-118.png is a low contrast image\n",
      "  warn('%s is a low contrast image' % fname)\n",
      "/usr/local/lib/python3.5/dist-packages/skimage/io/_io.py:132: UserWarning: model/Unet_rmbg/BRCAS2TESRI/Predict_mask/V12-20130628-094.png is a low contrast image\n",
      "  warn('%s is a low contrast image' % fname)\n",
      "/usr/local/lib/python3.5/dist-packages/skimage/io/_io.py:132: UserWarning: model/Unet_rmbg/BRCAS2TESRI/Predict_mask/V06-20140227-039.png is a low contrast image\n",
      "  warn('%s is a low contrast image' % fname)\n",
      "/usr/local/lib/python3.5/dist-packages/skimage/io/_io.py:132: UserWarning: model/Unet_rmbg/BRCAS2TESRI/Predict_mask/A41-20140206-052.png is a low contrast image\n",
      "  warn('%s is a low contrast image' % fname)\n",
      "/usr/local/lib/python3.5/dist-packages/skimage/io/_io.py:132: UserWarning: model/Unet_rmbg/BRCAS2TESRI/Predict_mask/A32-20111123-068.png is a low contrast image\n",
      "  warn('%s is a low contrast image' % fname)\n",
      "/usr/local/lib/python3.5/dist-packages/skimage/io/_io.py:132: UserWarning: model/Unet_rmbg/BRCAS2TESRI/Predict_mask/V17-20140816-065.png is a low contrast image\n",
      "  warn('%s is a low contrast image' % fname)\n",
      "/usr/local/lib/python3.5/dist-packages/skimage/io/_io.py:132: UserWarning: model/Unet_rmbg/BRCAS2TESRI/Predict_mask/V14-20130725-033.png is a low contrast image\n",
      "  warn('%s is a low contrast image' % fname)\n"
     ]
    },
    {
     "name": "stdout",
     "output_type": "stream",
     "text": [
      "\r",
      "[Predict]-----pred-mini-Batch (47/122)\r"
     ]
    },
    {
     "name": "stderr",
     "output_type": "stream",
     "text": [
      "/usr/local/lib/python3.5/dist-packages/skimage/io/_io.py:132: UserWarning: model/Unet_rmbg/BRCAS2TESRI/Predict_mask/V11-20130608-028.png is a low contrast image\n",
      "  warn('%s is a low contrast image' % fname)\n",
      "/usr/local/lib/python3.5/dist-packages/skimage/io/_io.py:132: UserWarning: model/Unet_rmbg/BRCAS2TESRI/Predict_mask/V12-20131223-030.png is a low contrast image\n",
      "  warn('%s is a low contrast image' % fname)\n",
      "/usr/local/lib/python3.5/dist-packages/skimage/io/_io.py:132: UserWarning: model/Unet_rmbg/BRCAS2TESRI/Predict_mask/A41-20140325-076.png is a low contrast image\n",
      "  warn('%s is a low contrast image' % fname)\n",
      "/usr/local/lib/python3.5/dist-packages/skimage/io/_io.py:132: UserWarning: model/Unet_rmbg/BRCAS2TESRI/Predict_mask/A32-20120725-074.png is a low contrast image\n",
      "  warn('%s is a low contrast image' % fname)\n",
      "/usr/local/lib/python3.5/dist-packages/skimage/io/_io.py:132: UserWarning: model/Unet_rmbg/BRCAS2TESRI/Predict_mask/V12-20131128-041.png is a low contrast image\n",
      "  warn('%s is a low contrast image' % fname)\n",
      "/usr/local/lib/python3.5/dist-packages/skimage/io/_io.py:132: UserWarning: model/Unet_rmbg/BRCAS2TESRI/Predict_mask/A32-20111024-113.png is a low contrast image\n",
      "  warn('%s is a low contrast image' % fname)\n",
      "/usr/local/lib/python3.5/dist-packages/skimage/io/_io.py:132: UserWarning: model/Unet_rmbg/BRCAS2TESRI/Predict_mask/A37-20130806-002.png is a low contrast image\n",
      "  warn('%s is a low contrast image' % fname)\n",
      "/usr/local/lib/python3.5/dist-packages/skimage/io/_io.py:132: UserWarning: model/Unet_rmbg/BRCAS2TESRI/Predict_mask/V12-20130528-159.png is a low contrast image\n",
      "  warn('%s is a low contrast image' % fname)\n",
      "/usr/local/lib/python3.5/dist-packages/skimage/io/_io.py:132: UserWarning: model/Unet_rmbg/BRCAS2TESRI/Predict_mask/A38-20140206-046.png is a low contrast image\n",
      "  warn('%s is a low contrast image' % fname)\n",
      "/usr/local/lib/python3.5/dist-packages/skimage/io/_io.py:132: UserWarning: model/Unet_rmbg/BRCAS2TESRI/Predict_mask/M13-20140429-042.png is a low contrast image\n",
      "  warn('%s is a low contrast image' % fname)\n"
     ]
    },
    {
     "name": "stdout",
     "output_type": "stream",
     "text": [
      "\r",
      "[Predict]-----pred-mini-Batch (48/122)\r"
     ]
    },
    {
     "name": "stderr",
     "output_type": "stream",
     "text": [
      "/usr/local/lib/python3.5/dist-packages/skimage/io/_io.py:132: UserWarning: model/Unet_rmbg/BRCAS2TESRI/Predict_mask/A35-20130417-075.png is a low contrast image\n",
      "  warn('%s is a low contrast image' % fname)\n",
      "/usr/local/lib/python3.5/dist-packages/skimage/io/_io.py:132: UserWarning: model/Unet_rmbg/BRCAS2TESRI/Predict_mask/B28-20131017-010.png is a low contrast image\n",
      "  warn('%s is a low contrast image' % fname)\n",
      "/usr/local/lib/python3.5/dist-packages/skimage/io/_io.py:132: UserWarning: model/Unet_rmbg/BRCAS2TESRI/Predict_mask/A47-20150512-036.png is a low contrast image\n",
      "  warn('%s is a low contrast image' % fname)\n",
      "/usr/local/lib/python3.5/dist-packages/skimage/io/_io.py:132: UserWarning: model/Unet_rmbg/BRCAS2TESRI/Predict_mask/A43-20150408-113.png is a low contrast image\n",
      "  warn('%s is a low contrast image' % fname)\n",
      "/usr/local/lib/python3.5/dist-packages/skimage/io/_io.py:132: UserWarning: model/Unet_rmbg/BRCAS2TESRI/Predict_mask/A48-20160601-225.png is a low contrast image\n",
      "  warn('%s is a low contrast image' % fname)\n",
      "/usr/local/lib/python3.5/dist-packages/skimage/io/_io.py:132: UserWarning: model/Unet_rmbg/BRCAS2TESRI/Predict_mask/V14-20130428-031.png is a low contrast image\n",
      "  warn('%s is a low contrast image' % fname)\n",
      "/usr/local/lib/python3.5/dist-packages/skimage/io/_io.py:132: UserWarning: model/Unet_rmbg/BRCAS2TESRI/Predict_mask/V03-20130909-031.png is a low contrast image\n",
      "  warn('%s is a low contrast image' % fname)\n",
      "/usr/local/lib/python3.5/dist-packages/skimage/io/_io.py:132: UserWarning: model/Unet_rmbg/BRCAS2TESRI/Predict_mask/A37-20140103-017.png is a low contrast image\n",
      "  warn('%s is a low contrast image' % fname)\n",
      "/usr/local/lib/python3.5/dist-packages/skimage/io/_io.py:132: UserWarning: model/Unet_rmbg/BRCAS2TESRI/Predict_mask/V04-20140530-077.png is a low contrast image\n",
      "  warn('%s is a low contrast image' % fname)\n",
      "/usr/local/lib/python3.5/dist-packages/skimage/io/_io.py:132: UserWarning: model/Unet_rmbg/BRCAS2TESRI/Predict_mask/A34-20130902-275.png is a low contrast image\n",
      "  warn('%s is a low contrast image' % fname)\n",
      "/usr/local/lib/python3.5/dist-packages/skimage/io/_io.py:132: UserWarning: model/Unet_rmbg/BRCAS2TESRI/Predict_mask/A34-20130902-075.png is a low contrast image\n",
      "  warn('%s is a low contrast image' % fname)\n",
      "/usr/local/lib/python3.5/dist-packages/skimage/io/_io.py:132: UserWarning: model/Unet_rmbg/BRCAS2TESRI/Predict_mask/V17-20140816-023.png is a low contrast image\n",
      "  warn('%s is a low contrast image' % fname)\n",
      "/usr/local/lib/python3.5/dist-packages/skimage/io/_io.py:132: UserWarning: model/Unet_rmbg/BRCAS2TESRI/Predict_mask/A35-20140728-199.png is a low contrast image\n",
      "  warn('%s is a low contrast image' % fname)\n",
      "/usr/local/lib/python3.5/dist-packages/skimage/io/_io.py:132: UserWarning: model/Unet_rmbg/BRCAS2TESRI/Predict_mask/V04-20130606-117.png is a low contrast image\n",
      "  warn('%s is a low contrast image' % fname)\n"
     ]
    },
    {
     "name": "stdout",
     "output_type": "stream",
     "text": [
      "\r",
      "[Predict]-----pred-mini-Batch (49/122)\r"
     ]
    },
    {
     "name": "stderr",
     "output_type": "stream",
     "text": [
      "/usr/local/lib/python3.5/dist-packages/skimage/io/_io.py:132: UserWarning: model/Unet_rmbg/BRCAS2TESRI/Predict_mask/A32-20111123-079.png is a low contrast image\n",
      "  warn('%s is a low contrast image' % fname)\n",
      "/usr/local/lib/python3.5/dist-packages/skimage/io/_io.py:132: UserWarning: model/Unet_rmbg/BRCAS2TESRI/Predict_mask/V04-20150223-037.png is a low contrast image\n",
      "  warn('%s is a low contrast image' % fname)\n",
      "/usr/local/lib/python3.5/dist-packages/skimage/io/_io.py:132: UserWarning: model/Unet_rmbg/BRCAS2TESRI/Predict_mask/V06-20131101-116.png is a low contrast image\n",
      "  warn('%s is a low contrast image' % fname)\n",
      "/usr/local/lib/python3.5/dist-packages/skimage/io/_io.py:132: UserWarning: model/Unet_rmbg/BRCAS2TESRI/Predict_mask/A46-20151111-065.png is a low contrast image\n",
      "  warn('%s is a low contrast image' % fname)\n",
      "/usr/local/lib/python3.5/dist-packages/skimage/io/_io.py:132: UserWarning: model/Unet_rmbg/BRCAS2TESRI/Predict_mask/A34-20130506-062.png is a low contrast image\n",
      "  warn('%s is a low contrast image' % fname)\n",
      "/usr/local/lib/python3.5/dist-packages/skimage/io/_io.py:132: UserWarning: model/Unet_rmbg/BRCAS2TESRI/Predict_mask/A40-20140924-177.png is a low contrast image\n",
      "  warn('%s is a low contrast image' % fname)\n",
      "/usr/local/lib/python3.5/dist-packages/skimage/io/_io.py:132: UserWarning: model/Unet_rmbg/BRCAS2TESRI/Predict_mask/A32-20120222-015.png is a low contrast image\n",
      "  warn('%s is a low contrast image' % fname)\n",
      "/usr/local/lib/python3.5/dist-packages/skimage/io/_io.py:132: UserWarning: model/Unet_rmbg/BRCAS2TESRI/Predict_mask/V04-20140425-075.png is a low contrast image\n",
      "  warn('%s is a low contrast image' % fname)\n",
      "/usr/local/lib/python3.5/dist-packages/skimage/io/_io.py:132: UserWarning: model/Unet_rmbg/BRCAS2TESRI/Predict_mask/V14-20130428-029.png is a low contrast image\n",
      "  warn('%s is a low contrast image' % fname)\n",
      "/usr/local/lib/python3.5/dist-packages/skimage/io/_io.py:132: UserWarning: model/Unet_rmbg/BRCAS2TESRI/Predict_mask/A32-20120523-139.png is a low contrast image\n",
      "  warn('%s is a low contrast image' % fname)\n",
      "/usr/local/lib/python3.5/dist-packages/skimage/io/_io.py:132: UserWarning: model/Unet_rmbg/BRCAS2TESRI/Predict_mask/A35-20151209-068.png is a low contrast image\n",
      "  warn('%s is a low contrast image' % fname)\n",
      "/usr/local/lib/python3.5/dist-packages/skimage/io/_io.py:132: UserWarning: model/Unet_rmbg/BRCAS2TESRI/Predict_mask/A35-20141116-031.png is a low contrast image\n",
      "  warn('%s is a low contrast image' % fname)\n",
      "/usr/local/lib/python3.5/dist-packages/skimage/io/_io.py:132: UserWarning: model/Unet_rmbg/BRCAS2TESRI/Predict_mask/V14-20130428-055.png is a low contrast image\n",
      "  warn('%s is a low contrast image' % fname)\n",
      "/usr/local/lib/python3.5/dist-packages/skimage/io/_io.py:132: UserWarning: model/Unet_rmbg/BRCAS2TESRI/Predict_mask/A41-20140325-121.png is a low contrast image\n",
      "  warn('%s is a low contrast image' % fname)\n"
     ]
    },
    {
     "name": "stdout",
     "output_type": "stream",
     "text": [
      "\r",
      "[Predict]-----pred-mini-Batch (50/122)\r"
     ]
    },
    {
     "name": "stderr",
     "output_type": "stream",
     "text": [
      "/usr/local/lib/python3.5/dist-packages/skimage/io/_io.py:132: UserWarning: model/Unet_rmbg/BRCAS2TESRI/Predict_mask/A38-20140206-001.png is a low contrast image\n",
      "  warn('%s is a low contrast image' % fname)\n",
      "/usr/local/lib/python3.5/dist-packages/skimage/io/_io.py:132: UserWarning: model/Unet_rmbg/BRCAS2TESRI/Predict_mask/V12-20131028-013.png is a low contrast image\n",
      "  warn('%s is a low contrast image' % fname)\n",
      "/usr/local/lib/python3.5/dist-packages/skimage/io/_io.py:132: UserWarning: model/Unet_rmbg/BRCAS2TESRI/Predict_mask/A47-20150318-009.png is a low contrast image\n",
      "  warn('%s is a low contrast image' % fname)\n",
      "/usr/local/lib/python3.5/dist-packages/skimage/io/_io.py:132: UserWarning: model/Unet_rmbg/BRCAS2TESRI/Predict_mask/A44-20141021-041.png is a low contrast image\n",
      "  warn('%s is a low contrast image' % fname)\n",
      "/usr/local/lib/python3.5/dist-packages/skimage/io/_io.py:132: UserWarning: model/Unet_rmbg/BRCAS2TESRI/Predict_mask/A41-20140325-034.png is a low contrast image\n",
      "  warn('%s is a low contrast image' % fname)\n",
      "/usr/local/lib/python3.5/dist-packages/skimage/io/_io.py:132: UserWarning: model/Unet_rmbg/BRCAS2TESRI/Predict_mask/A43-20150408-112.png is a low contrast image\n",
      "  warn('%s is a low contrast image' % fname)\n",
      "/usr/local/lib/python3.5/dist-packages/skimage/io/_io.py:132: UserWarning: model/Unet_rmbg/BRCAS2TESRI/Predict_mask/V11-20131201-070.png is a low contrast image\n",
      "  warn('%s is a low contrast image' % fname)\n",
      "/usr/local/lib/python3.5/dist-packages/skimage/io/_io.py:132: UserWarning: model/Unet_rmbg/BRCAS2TESRI/Predict_mask/V08-20140103-019.png is a low contrast image\n",
      "  warn('%s is a low contrast image' % fname)\n",
      "/usr/local/lib/python3.5/dist-packages/skimage/io/_io.py:132: UserWarning: model/Unet_rmbg/BRCAS2TESRI/Predict_mask/A38-20130416-046.png is a low contrast image\n",
      "  warn('%s is a low contrast image' % fname)\n",
      "/usr/local/lib/python3.5/dist-packages/skimage/io/_io.py:132: UserWarning: model/Unet_rmbg/BRCAS2TESRI/Predict_mask/V17-20140503-014.png is a low contrast image\n",
      "  warn('%s is a low contrast image' % fname)\n",
      "/usr/local/lib/python3.5/dist-packages/skimage/io/_io.py:132: UserWarning: model/Unet_rmbg/BRCAS2TESRI/Predict_mask/A38-20140325-036.png is a low contrast image\n",
      "  warn('%s is a low contrast image' % fname)\n",
      "/usr/local/lib/python3.5/dist-packages/skimage/io/_io.py:132: UserWarning: model/Unet_rmbg/BRCAS2TESRI/Predict_mask/V06-20131101-062.png is a low contrast image\n",
      "  warn('%s is a low contrast image' % fname)\n",
      "/usr/local/lib/python3.5/dist-packages/skimage/io/_io.py:132: UserWarning: model/Unet_rmbg/BRCAS2TESRI/Predict_mask/A36-20130226-022.png is a low contrast image\n",
      "  warn('%s is a low contrast image' % fname)\n",
      "/usr/local/lib/python3.5/dist-packages/skimage/io/_io.py:132: UserWarning: model/Unet_rmbg/BRCAS2TESRI/Predict_mask/A36-20130606-036.png is a low contrast image\n",
      "  warn('%s is a low contrast image' % fname)\n",
      "/usr/local/lib/python3.5/dist-packages/skimage/io/_io.py:132: UserWarning: model/Unet_rmbg/BRCAS2TESRI/Predict_mask/A34-20130902-267.png is a low contrast image\n",
      "  warn('%s is a low contrast image' % fname)\n"
     ]
    },
    {
     "name": "stdout",
     "output_type": "stream",
     "text": [
      "\r",
      "[Predict]-----pred-mini-Batch (51/122)\r"
     ]
    },
    {
     "name": "stderr",
     "output_type": "stream",
     "text": [
      "/usr/local/lib/python3.5/dist-packages/skimage/io/_io.py:132: UserWarning: model/Unet_rmbg/BRCAS2TESRI/Predict_mask/V20-20160805-029.png is a low contrast image\n",
      "  warn('%s is a low contrast image' % fname)\n",
      "/usr/local/lib/python3.5/dist-packages/skimage/io/_io.py:132: UserWarning: model/Unet_rmbg/BRCAS2TESRI/Predict_mask/A32-20120830-025.png is a low contrast image\n",
      "  warn('%s is a low contrast image' % fname)\n",
      "/usr/local/lib/python3.5/dist-packages/skimage/io/_io.py:132: UserWarning: model/Unet_rmbg/BRCAS2TESRI/Predict_mask/V19-20150515-067.png is a low contrast image\n",
      "  warn('%s is a low contrast image' % fname)\n",
      "/usr/local/lib/python3.5/dist-packages/skimage/io/_io.py:132: UserWarning: model/Unet_rmbg/BRCAS2TESRI/Predict_mask/V02-20140303-121.png is a low contrast image\n",
      "  warn('%s is a low contrast image' % fname)\n",
      "/usr/local/lib/python3.5/dist-packages/skimage/io/_io.py:132: UserWarning: model/Unet_rmbg/BRCAS2TESRI/Predict_mask/V12-20130927-030.png is a low contrast image\n",
      "  warn('%s is a low contrast image' % fname)\n",
      "/usr/local/lib/python3.5/dist-packages/skimage/io/_io.py:132: UserWarning: model/Unet_rmbg/BRCAS2TESRI/Predict_mask/A32-20111226-028.png is a low contrast image\n",
      "  warn('%s is a low contrast image' % fname)\n",
      "/usr/local/lib/python3.5/dist-packages/skimage/io/_io.py:132: UserWarning: model/Unet_rmbg/BRCAS2TESRI/Predict_mask/V03-20140402-070.png is a low contrast image\n",
      "  warn('%s is a low contrast image' % fname)\n",
      "/usr/local/lib/python3.5/dist-packages/skimage/io/_io.py:132: UserWarning: model/Unet_rmbg/BRCAS2TESRI/Predict_mask/V05-20130607-066.png is a low contrast image\n",
      "  warn('%s is a low contrast image' % fname)\n",
      "/usr/local/lib/python3.5/dist-packages/skimage/io/_io.py:132: UserWarning: model/Unet_rmbg/BRCAS2TESRI/Predict_mask/A32-20111123-021.png is a low contrast image\n",
      "  warn('%s is a low contrast image' % fname)\n",
      "/usr/local/lib/python3.5/dist-packages/skimage/io/_io.py:132: UserWarning: model/Unet_rmbg/BRCAS2TESRI/Predict_mask/V03-20130510-021.png is a low contrast image\n",
      "  warn('%s is a low contrast image' % fname)\n",
      "/usr/local/lib/python3.5/dist-packages/skimage/io/_io.py:132: UserWarning: model/Unet_rmbg/BRCAS2TESRI/Predict_mask/A42-20140430-033.png is a low contrast image\n",
      "  warn('%s is a low contrast image' % fname)\n",
      "/usr/local/lib/python3.5/dist-packages/skimage/io/_io.py:132: UserWarning: model/Unet_rmbg/BRCAS2TESRI/Predict_mask/V12-20140809-129.png is a low contrast image\n",
      "  warn('%s is a low contrast image' % fname)\n"
     ]
    },
    {
     "name": "stdout",
     "output_type": "stream",
     "text": [
      "\r",
      "[Predict]-----pred-mini-Batch (52/122)\r"
     ]
    },
    {
     "name": "stderr",
     "output_type": "stream",
     "text": [
      "/usr/local/lib/python3.5/dist-packages/skimage/io/_io.py:132: UserWarning: model/Unet_rmbg/BRCAS2TESRI/Predict_mask/A37-20130806-071.png is a low contrast image\n",
      "  warn('%s is a low contrast image' % fname)\n",
      "/usr/local/lib/python3.5/dist-packages/skimage/io/_io.py:132: UserWarning: model/Unet_rmbg/BRCAS2TESRI/Predict_mask/V04-20150920-045.png is a low contrast image\n",
      "  warn('%s is a low contrast image' % fname)\n",
      "/usr/local/lib/python3.5/dist-packages/skimage/io/_io.py:132: UserWarning: model/Unet_rmbg/BRCAS2TESRI/Predict_mask/V12-20140217-024.png is a low contrast image\n",
      "  warn('%s is a low contrast image' % fname)\n",
      "/usr/local/lib/python3.5/dist-packages/skimage/io/_io.py:132: UserWarning: model/Unet_rmbg/BRCAS2TESRI/Predict_mask/V02-20130801-178.png is a low contrast image\n",
      "  warn('%s is a low contrast image' % fname)\n",
      "/usr/local/lib/python3.5/dist-packages/skimage/io/_io.py:132: UserWarning: model/Unet_rmbg/BRCAS2TESRI/Predict_mask/V03-20130606-157.png is a low contrast image\n",
      "  warn('%s is a low contrast image' % fname)\n",
      "/usr/local/lib/python3.5/dist-packages/skimage/io/_io.py:132: UserWarning: model/Unet_rmbg/BRCAS2TESRI/Predict_mask/A48-20150318-038.png is a low contrast image\n",
      "  warn('%s is a low contrast image' % fname)\n",
      "/usr/local/lib/python3.5/dist-packages/skimage/io/_io.py:132: UserWarning: model/Unet_rmbg/BRCAS2TESRI/Predict_mask/A41-20140325-183.png is a low contrast image\n",
      "  warn('%s is a low contrast image' % fname)\n",
      "/usr/local/lib/python3.5/dist-packages/skimage/io/_io.py:132: UserWarning: model/Unet_rmbg/BRCAS2TESRI/Predict_mask/A32-20111024-106.png is a low contrast image\n",
      "  warn('%s is a low contrast image' % fname)\n",
      "/usr/local/lib/python3.5/dist-packages/skimage/io/_io.py:132: UserWarning: model/Unet_rmbg/BRCAS2TESRI/Predict_mask/V02-20141124-137.png is a low contrast image\n",
      "  warn('%s is a low contrast image' % fname)\n",
      "/usr/local/lib/python3.5/dist-packages/skimage/io/_io.py:132: UserWarning: model/Unet_rmbg/BRCAS2TESRI/Predict_mask/A36-20130606-041.png is a low contrast image\n",
      "  warn('%s is a low contrast image' % fname)\n",
      "/usr/local/lib/python3.5/dist-packages/skimage/io/_io.py:132: UserWarning: model/Unet_rmbg/BRCAS2TESRI/Predict_mask/A36-20130606-082.png is a low contrast image\n",
      "  warn('%s is a low contrast image' % fname)\n",
      "/usr/local/lib/python3.5/dist-packages/skimage/io/_io.py:132: UserWarning: model/Unet_rmbg/BRCAS2TESRI/Predict_mask/A43-20150408-048.png is a low contrast image\n",
      "  warn('%s is a low contrast image' % fname)\n",
      "/usr/local/lib/python3.5/dist-packages/skimage/io/_io.py:132: UserWarning: model/Unet_rmbg/BRCAS2TESRI/Predict_mask/V11-20130508-075.png is a low contrast image\n",
      "  warn('%s is a low contrast image' % fname)\n",
      "/usr/local/lib/python3.5/dist-packages/skimage/io/_io.py:132: UserWarning: model/Unet_rmbg/BRCAS2TESRI/Predict_mask/A35-20130805-005.png is a low contrast image\n",
      "  warn('%s is a low contrast image' % fname)\n",
      "/usr/local/lib/python3.5/dist-packages/skimage/io/_io.py:132: UserWarning: model/Unet_rmbg/BRCAS2TESRI/Predict_mask/V07-20140221-004.png is a low contrast image\n",
      "  warn('%s is a low contrast image' % fname)\n"
     ]
    },
    {
     "name": "stdout",
     "output_type": "stream",
     "text": [
      "\r",
      "[Predict]-----pred-mini-Batch (53/122)\r"
     ]
    },
    {
     "name": "stderr",
     "output_type": "stream",
     "text": [
      "/usr/local/lib/python3.5/dist-packages/skimage/io/_io.py:132: UserWarning: model/Unet_rmbg/BRCAS2TESRI/Predict_mask/A35-20130605-039.png is a low contrast image\n",
      "  warn('%s is a low contrast image' % fname)\n",
      "/usr/local/lib/python3.5/dist-packages/skimage/io/_io.py:132: UserWarning: model/Unet_rmbg/BRCAS2TESRI/Predict_mask/V05-20130412-007.png is a low contrast image\n",
      "  warn('%s is a low contrast image' % fname)\n",
      "/usr/local/lib/python3.5/dist-packages/skimage/io/_io.py:132: UserWarning: model/Unet_rmbg/BRCAS2TESRI/Predict_mask/A35-20130805-068.png is a low contrast image\n",
      "  warn('%s is a low contrast image' % fname)\n",
      "/usr/local/lib/python3.5/dist-packages/skimage/io/_io.py:132: UserWarning: model/Unet_rmbg/BRCAS2TESRI/Predict_mask/V12-20131028-007.png is a low contrast image\n",
      "  warn('%s is a low contrast image' % fname)\n",
      "/usr/local/lib/python3.5/dist-packages/skimage/io/_io.py:132: UserWarning: model/Unet_rmbg/BRCAS2TESRI/Predict_mask/V12-20131223-020.png is a low contrast image\n",
      "  warn('%s is a low contrast image' % fname)\n",
      "/usr/local/lib/python3.5/dist-packages/skimage/io/_io.py:132: UserWarning: model/Unet_rmbg/BRCAS2TESRI/Predict_mask/A38-20131001-035.png is a low contrast image\n",
      "  warn('%s is a low contrast image' % fname)\n",
      "/usr/local/lib/python3.5/dist-packages/skimage/io/_io.py:132: UserWarning: model/Unet_rmbg/BRCAS2TESRI/Predict_mask/V11-20130608-075.png is a low contrast image\n",
      "  warn('%s is a low contrast image' % fname)\n",
      "/usr/local/lib/python3.5/dist-packages/skimage/io/_io.py:132: UserWarning: model/Unet_rmbg/BRCAS2TESRI/Predict_mask/A41-20140325-153.png is a low contrast image\n",
      "  warn('%s is a low contrast image' % fname)\n",
      "/usr/local/lib/python3.5/dist-packages/skimage/io/_io.py:132: UserWarning: model/Unet_rmbg/BRCAS2TESRI/Predict_mask/V03-20130510-043.png is a low contrast image\n",
      "  warn('%s is a low contrast image' % fname)\n",
      "/usr/local/lib/python3.5/dist-packages/skimage/io/_io.py:132: UserWarning: model/Unet_rmbg/BRCAS2TESRI/Predict_mask/M13-20140429-064.png is a low contrast image\n",
      "  warn('%s is a low contrast image' % fname)\n"
     ]
    },
    {
     "name": "stdout",
     "output_type": "stream",
     "text": [
      "\r",
      "[Predict]-----pred-mini-Batch (54/122)\r"
     ]
    },
    {
     "name": "stderr",
     "output_type": "stream",
     "text": [
      "/usr/local/lib/python3.5/dist-packages/skimage/io/_io.py:132: UserWarning: model/Unet_rmbg/BRCAS2TESRI/Predict_mask/V12-20140316-015.png is a low contrast image\n",
      "  warn('%s is a low contrast image' % fname)\n",
      "/usr/local/lib/python3.5/dist-packages/skimage/io/_io.py:132: UserWarning: model/Unet_rmbg/BRCAS2TESRI/Predict_mask/A33-20130115-040.png is a low contrast image\n",
      "  warn('%s is a low contrast image' % fname)\n",
      "/usr/local/lib/python3.5/dist-packages/skimage/io/_io.py:132: UserWarning: model/Unet_rmbg/BRCAS2TESRI/Predict_mask/A34-20151209-134.png is a low contrast image\n",
      "  warn('%s is a low contrast image' % fname)\n",
      "/usr/local/lib/python3.5/dist-packages/skimage/io/_io.py:132: UserWarning: model/Unet_rmbg/BRCAS2TESRI/Predict_mask/V03-20140402-026.png is a low contrast image\n",
      "  warn('%s is a low contrast image' % fname)\n",
      "/usr/local/lib/python3.5/dist-packages/skimage/io/_io.py:132: UserWarning: model/Unet_rmbg/BRCAS2TESRI/Predict_mask/A38-20140325-062.png is a low contrast image\n",
      "  warn('%s is a low contrast image' % fname)\n",
      "/usr/local/lib/python3.5/dist-packages/skimage/io/_io.py:132: UserWarning: model/Unet_rmbg/BRCAS2TESRI/Predict_mask/A43-20160503-085.png is a low contrast image\n",
      "  warn('%s is a low contrast image' % fname)\n",
      "/usr/local/lib/python3.5/dist-packages/skimage/io/_io.py:132: UserWarning: model/Unet_rmbg/BRCAS2TESRI/Predict_mask/A35-20140728-104.png is a low contrast image\n",
      "  warn('%s is a low contrast image' % fname)\n",
      "/usr/local/lib/python3.5/dist-packages/skimage/io/_io.py:132: UserWarning: model/Unet_rmbg/BRCAS2TESRI/Predict_mask/V04-20150320-135.png is a low contrast image\n",
      "  warn('%s is a low contrast image' % fname)\n",
      "/usr/local/lib/python3.5/dist-packages/skimage/io/_io.py:132: UserWarning: model/Unet_rmbg/BRCAS2TESRI/Predict_mask/A34-20130506-009.png is a low contrast image\n",
      "  warn('%s is a low contrast image' % fname)\n",
      "/usr/local/lib/python3.5/dist-packages/skimage/io/_io.py:132: UserWarning: model/Unet_rmbg/BRCAS2TESRI/Predict_mask/V13-20131102-025.png is a low contrast image\n",
      "  warn('%s is a low contrast image' % fname)\n",
      "/usr/local/lib/python3.5/dist-packages/skimage/io/_io.py:132: UserWarning: model/Unet_rmbg/BRCAS2TESRI/Predict_mask/V11-20131005-091.png is a low contrast image\n",
      "  warn('%s is a low contrast image' % fname)\n"
     ]
    },
    {
     "name": "stdout",
     "output_type": "stream",
     "text": [
      "\r",
      "[Predict]-----pred-mini-Batch (55/122)\r"
     ]
    },
    {
     "name": "stderr",
     "output_type": "stream",
     "text": [
      "/usr/local/lib/python3.5/dist-packages/skimage/io/_io.py:132: UserWarning: model/Unet_rmbg/BRCAS2TESRI/Predict_mask/V12-20140316-014.png is a low contrast image\n",
      "  warn('%s is a low contrast image' % fname)\n",
      "/usr/local/lib/python3.5/dist-packages/skimage/io/_io.py:132: UserWarning: model/Unet_rmbg/BRCAS2TESRI/Predict_mask/B13-20120926-008.png is a low contrast image\n",
      "  warn('%s is a low contrast image' % fname)\n",
      "/usr/local/lib/python3.5/dist-packages/skimage/io/_io.py:132: UserWarning: model/Unet_rmbg/BRCAS2TESRI/Predict_mask/A32-20111123-004.png is a low contrast image\n",
      "  warn('%s is a low contrast image' % fname)\n",
      "/usr/local/lib/python3.5/dist-packages/skimage/io/_io.py:132: UserWarning: model/Unet_rmbg/BRCAS2TESRI/Predict_mask/V03-20130510-028.png is a low contrast image\n",
      "  warn('%s is a low contrast image' % fname)\n",
      "/usr/local/lib/python3.5/dist-packages/skimage/io/_io.py:132: UserWarning: model/Unet_rmbg/BRCAS2TESRI/Predict_mask/B29-20131018-067.png is a low contrast image\n",
      "  warn('%s is a low contrast image' % fname)\n",
      "/usr/local/lib/python3.5/dist-packages/skimage/io/_io.py:132: UserWarning: model/Unet_rmbg/BRCAS2TESRI/Predict_mask/V12-20130628-084.png is a low contrast image\n",
      "  warn('%s is a low contrast image' % fname)\n",
      "/usr/local/lib/python3.5/dist-packages/skimage/io/_io.py:132: UserWarning: model/Unet_rmbg/BRCAS2TESRI/Predict_mask/A38-20130416-064.png is a low contrast image\n",
      "  warn('%s is a low contrast image' % fname)\n",
      "/usr/local/lib/python3.5/dist-packages/skimage/io/_io.py:132: UserWarning: model/Unet_rmbg/BRCAS2TESRI/Predict_mask/A41-20140325-114.png is a low contrast image\n",
      "  warn('%s is a low contrast image' % fname)\n",
      "/usr/local/lib/python3.5/dist-packages/skimage/io/_io.py:132: UserWarning: model/Unet_rmbg/BRCAS2TESRI/Predict_mask/V21-20150620-036.png is a low contrast image\n",
      "  warn('%s is a low contrast image' % fname)\n",
      "/usr/local/lib/python3.5/dist-packages/skimage/io/_io.py:132: UserWarning: model/Unet_rmbg/BRCAS2TESRI/Predict_mask/V11-20130508-061.png is a low contrast image\n",
      "  warn('%s is a low contrast image' % fname)\n",
      "/usr/local/lib/python3.5/dist-packages/skimage/io/_io.py:132: UserWarning: model/Unet_rmbg/BRCAS2TESRI/Predict_mask/A35-20130605-107.png is a low contrast image\n",
      "  warn('%s is a low contrast image' % fname)\n",
      "/usr/local/lib/python3.5/dist-packages/skimage/io/_io.py:132: UserWarning: model/Unet_rmbg/BRCAS2TESRI/Predict_mask/A35-20130605-026.png is a low contrast image\n",
      "  warn('%s is a low contrast image' % fname)\n"
     ]
    },
    {
     "name": "stdout",
     "output_type": "stream",
     "text": [
      "\r",
      "[Predict]-----pred-mini-Batch (56/122)\r"
     ]
    },
    {
     "name": "stderr",
     "output_type": "stream",
     "text": [
      "/usr/local/lib/python3.5/dist-packages/skimage/io/_io.py:132: UserWarning: model/Unet_rmbg/BRCAS2TESRI/Predict_mask/A42-20140430-117.png is a low contrast image\n",
      "  warn('%s is a low contrast image' % fname)\n",
      "/usr/local/lib/python3.5/dist-packages/skimage/io/_io.py:132: UserWarning: model/Unet_rmbg/BRCAS2TESRI/Predict_mask/A35-20140501-038.png is a low contrast image\n",
      "  warn('%s is a low contrast image' % fname)\n",
      "/usr/local/lib/python3.5/dist-packages/skimage/io/_io.py:132: UserWarning: model/Unet_rmbg/BRCAS2TESRI/Predict_mask/A46-20160602-003.png is a low contrast image\n",
      "  warn('%s is a low contrast image' % fname)\n",
      "/usr/local/lib/python3.5/dist-packages/skimage/io/_io.py:132: UserWarning: model/Unet_rmbg/BRCAS2TESRI/Predict_mask/V03-20130510-137.png is a low contrast image\n",
      "  warn('%s is a low contrast image' % fname)\n",
      "/usr/local/lib/python3.5/dist-packages/skimage/io/_io.py:132: UserWarning: model/Unet_rmbg/BRCAS2TESRI/Predict_mask/A35-20130805-045.png is a low contrast image\n",
      "  warn('%s is a low contrast image' % fname)\n",
      "/usr/local/lib/python3.5/dist-packages/skimage/io/_io.py:132: UserWarning: model/Unet_rmbg/BRCAS2TESRI/Predict_mask/A32-20120523-158.png is a low contrast image\n",
      "  warn('%s is a low contrast image' % fname)\n",
      "/usr/local/lib/python3.5/dist-packages/skimage/io/_io.py:132: UserWarning: model/Unet_rmbg/BRCAS2TESRI/Predict_mask/V14-20130428-050.png is a low contrast image\n",
      "  warn('%s is a low contrast image' % fname)\n",
      "/usr/local/lib/python3.5/dist-packages/skimage/io/_io.py:132: UserWarning: model/Unet_rmbg/BRCAS2TESRI/Predict_mask/A41-20140206-049.png is a low contrast image\n",
      "  warn('%s is a low contrast image' % fname)\n",
      "/usr/local/lib/python3.5/dist-packages/skimage/io/_io.py:132: UserWarning: model/Unet_rmbg/BRCAS2TESRI/Predict_mask/V14-20130428-136.png is a low contrast image\n",
      "  warn('%s is a low contrast image' % fname)\n"
     ]
    },
    {
     "name": "stdout",
     "output_type": "stream",
     "text": [
      "\r",
      "[Predict]-----pred-mini-Batch (57/122)\r"
     ]
    },
    {
     "name": "stderr",
     "output_type": "stream",
     "text": [
      "/usr/local/lib/python3.5/dist-packages/skimage/io/_io.py:132: UserWarning: model/Unet_rmbg/BRCAS2TESRI/Predict_mask/V05-20130809-022.png is a low contrast image\n",
      "  warn('%s is a low contrast image' % fname)\n",
      "/usr/local/lib/python3.5/dist-packages/skimage/io/_io.py:132: UserWarning: model/Unet_rmbg/BRCAS2TESRI/Predict_mask/V11-20130706-031.png is a low contrast image\n",
      "  warn('%s is a low contrast image' % fname)\n",
      "/usr/local/lib/python3.5/dist-packages/skimage/io/_io.py:132: UserWarning: model/Unet_rmbg/BRCAS2TESRI/Predict_mask/A34-20130313-060.png is a low contrast image\n",
      "  warn('%s is a low contrast image' % fname)\n",
      "/usr/local/lib/python3.5/dist-packages/skimage/io/_io.py:132: UserWarning: model/Unet_rmbg/BRCAS2TESRI/Predict_mask/V14-20130428-053.png is a low contrast image\n",
      "  warn('%s is a low contrast image' % fname)\n",
      "/usr/local/lib/python3.5/dist-packages/skimage/io/_io.py:132: UserWarning: model/Unet_rmbg/BRCAS2TESRI/Predict_mask/V20-20160603-053.png is a low contrast image\n",
      "  warn('%s is a low contrast image' % fname)\n",
      "/usr/local/lib/python3.5/dist-packages/skimage/io/_io.py:132: UserWarning: model/Unet_rmbg/BRCAS2TESRI/Predict_mask/A32-20120425-042.png is a low contrast image\n",
      "  warn('%s is a low contrast image' % fname)\n",
      "/usr/local/lib/python3.5/dist-packages/skimage/io/_io.py:132: UserWarning: model/Unet_rmbg/BRCAS2TESRI/Predict_mask/A32-20120830-065.png is a low contrast image\n",
      "  warn('%s is a low contrast image' % fname)\n",
      "/usr/local/lib/python3.5/dist-packages/skimage/io/_io.py:132: UserWarning: model/Unet_rmbg/BRCAS2TESRI/Predict_mask/A42-20140922-065.png is a low contrast image\n",
      "  warn('%s is a low contrast image' % fname)\n",
      "/usr/local/lib/python3.5/dist-packages/skimage/io/_io.py:132: UserWarning: model/Unet_rmbg/BRCAS2TESRI/Predict_mask/A38-20131203-034.png is a low contrast image\n",
      "  warn('%s is a low contrast image' % fname)\n",
      "/usr/local/lib/python3.5/dist-packages/skimage/io/_io.py:132: UserWarning: model/Unet_rmbg/BRCAS2TESRI/Predict_mask/A35-20140728-114.png is a low contrast image\n",
      "  warn('%s is a low contrast image' % fname)\n",
      "/usr/local/lib/python3.5/dist-packages/skimage/io/_io.py:132: UserWarning: model/Unet_rmbg/BRCAS2TESRI/Predict_mask/A38-20130805-029.png is a low contrast image\n",
      "  warn('%s is a low contrast image' % fname)\n",
      "/usr/local/lib/python3.5/dist-packages/skimage/io/_io.py:132: UserWarning: model/Unet_rmbg/BRCAS2TESRI/Predict_mask/A37-20130418-056.png is a low contrast image\n",
      "  warn('%s is a low contrast image' % fname)\n",
      "/usr/local/lib/python3.5/dist-packages/skimage/io/_io.py:132: UserWarning: model/Unet_rmbg/BRCAS2TESRI/Predict_mask/A35-20130805-085.png is a low contrast image\n",
      "  warn('%s is a low contrast image' % fname)\n",
      "/usr/local/lib/python3.5/dist-packages/skimage/io/_io.py:132: UserWarning: model/Unet_rmbg/BRCAS2TESRI/Predict_mask/A37-20130806-045.png is a low contrast image\n",
      "  warn('%s is a low contrast image' % fname)\n",
      "/usr/local/lib/python3.5/dist-packages/skimage/io/_io.py:132: UserWarning: model/Unet_rmbg/BRCAS2TESRI/Predict_mask/A41-20140206-017.png is a low contrast image\n",
      "  warn('%s is a low contrast image' % fname)\n"
     ]
    },
    {
     "name": "stdout",
     "output_type": "stream",
     "text": [
      "\r",
      "[Predict]-----pred-mini-Batch (58/122)\r"
     ]
    },
    {
     "name": "stderr",
     "output_type": "stream",
     "text": [
      "/usr/local/lib/python3.5/dist-packages/skimage/io/_io.py:132: UserWarning: model/Unet_rmbg/BRCAS2TESRI/Predict_mask/A35-20130605-169.png is a low contrast image\n",
      "  warn('%s is a low contrast image' % fname)\n",
      "/usr/local/lib/python3.5/dist-packages/skimage/io/_io.py:132: UserWarning: model/Unet_rmbg/BRCAS2TESRI/Predict_mask/V07-20130412-020.png is a low contrast image\n",
      "  warn('%s is a low contrast image' % fname)\n",
      "/usr/local/lib/python3.5/dist-packages/skimage/io/_io.py:132: UserWarning: model/Unet_rmbg/BRCAS2TESRI/Predict_mask/V01-20140624-003.png is a low contrast image\n",
      "  warn('%s is a low contrast image' % fname)\n",
      "/usr/local/lib/python3.5/dist-packages/skimage/io/_io.py:132: UserWarning: model/Unet_rmbg/BRCAS2TESRI/Predict_mask/V15-20140531-047.png is a low contrast image\n",
      "  warn('%s is a low contrast image' % fname)\n",
      "/usr/local/lib/python3.5/dist-packages/skimage/io/_io.py:132: UserWarning: model/Unet_rmbg/BRCAS2TESRI/Predict_mask/V29-20160827-001.png is a low contrast image\n",
      "  warn('%s is a low contrast image' % fname)\n",
      "/usr/local/lib/python3.5/dist-packages/skimage/io/_io.py:132: UserWarning: model/Unet_rmbg/BRCAS2TESRI/Predict_mask/V02-20140721-052.png is a low contrast image\n",
      "  warn('%s is a low contrast image' % fname)\n",
      "/usr/local/lib/python3.5/dist-packages/skimage/io/_io.py:132: UserWarning: model/Unet_rmbg/BRCAS2TESRI/Predict_mask/V05-20130607-061.png is a low contrast image\n",
      "  warn('%s is a low contrast image' % fname)\n",
      "/usr/local/lib/python3.5/dist-packages/skimage/io/_io.py:132: UserWarning: model/Unet_rmbg/BRCAS2TESRI/Predict_mask/A36-20130226-045.png is a low contrast image\n",
      "  warn('%s is a low contrast image' % fname)\n",
      "/usr/local/lib/python3.5/dist-packages/skimage/io/_io.py:132: UserWarning: model/Unet_rmbg/BRCAS2TESRI/Predict_mask/A52-20160704-139.png is a low contrast image\n",
      "  warn('%s is a low contrast image' % fname)\n",
      "/usr/local/lib/python3.5/dist-packages/skimage/io/_io.py:132: UserWarning: model/Unet_rmbg/BRCAS2TESRI/Predict_mask/A35-20130221-050.png is a low contrast image\n",
      "  warn('%s is a low contrast image' % fname)\n",
      "/usr/local/lib/python3.5/dist-packages/skimage/io/_io.py:132: UserWarning: model/Unet_rmbg/BRCAS2TESRI/Predict_mask/V03-20140303-061.png is a low contrast image\n",
      "  warn('%s is a low contrast image' % fname)\n",
      "/usr/local/lib/python3.5/dist-packages/skimage/io/_io.py:132: UserWarning: model/Unet_rmbg/BRCAS2TESRI/Predict_mask/V12-20131128-022.png is a low contrast image\n",
      "  warn('%s is a low contrast image' % fname)\n",
      "/usr/local/lib/python3.5/dist-packages/skimage/io/_io.py:132: UserWarning: model/Unet_rmbg/BRCAS2TESRI/Predict_mask/A35-20130805-094.png is a low contrast image\n",
      "  warn('%s is a low contrast image' % fname)\n",
      "/usr/local/lib/python3.5/dist-packages/skimage/io/_io.py:132: UserWarning: model/Unet_rmbg/BRCAS2TESRI/Predict_mask/V29-20160827-006.png is a low contrast image\n",
      "  warn('%s is a low contrast image' % fname)\n"
     ]
    },
    {
     "name": "stdout",
     "output_type": "stream",
     "text": [
      "\r",
      "[Predict]-----pred-mini-Batch (59/122)\r"
     ]
    },
    {
     "name": "stderr",
     "output_type": "stream",
     "text": [
      "/usr/local/lib/python3.5/dist-packages/skimage/io/_io.py:132: UserWarning: model/Unet_rmbg/BRCAS2TESRI/Predict_mask/V06-20130805-152.png is a low contrast image\n",
      "  warn('%s is a low contrast image' % fname)\n",
      "/usr/local/lib/python3.5/dist-packages/skimage/io/_io.py:132: UserWarning: model/Unet_rmbg/BRCAS2TESRI/Predict_mask/A34-20140826-134.png is a low contrast image\n",
      "  warn('%s is a low contrast image' % fname)\n",
      "/usr/local/lib/python3.5/dist-packages/skimage/io/_io.py:132: UserWarning: model/Unet_rmbg/BRCAS2TESRI/Predict_mask/V02-20130603-001.png is a low contrast image\n",
      "  warn('%s is a low contrast image' % fname)\n",
      "/usr/local/lib/python3.5/dist-packages/skimage/io/_io.py:132: UserWarning: model/Unet_rmbg/BRCAS2TESRI/Predict_mask/V12-20130628-072.png is a low contrast image\n",
      "  warn('%s is a low contrast image' % fname)\n",
      "/usr/local/lib/python3.5/dist-packages/skimage/io/_io.py:132: UserWarning: model/Unet_rmbg/BRCAS2TESRI/Predict_mask/V14-20130428-087.png is a low contrast image\n",
      "  warn('%s is a low contrast image' % fname)\n",
      "/usr/local/lib/python3.5/dist-packages/skimage/io/_io.py:132: UserWarning: model/Unet_rmbg/BRCAS2TESRI/Predict_mask/A34-20140102-012.png is a low contrast image\n",
      "  warn('%s is a low contrast image' % fname)\n",
      "/usr/local/lib/python3.5/dist-packages/skimage/io/_io.py:132: UserWarning: model/Unet_rmbg/BRCAS2TESRI/Predict_mask/A32-20120725-004.png is a low contrast image\n",
      "  warn('%s is a low contrast image' % fname)\n",
      "/usr/local/lib/python3.5/dist-packages/skimage/io/_io.py:132: UserWarning: model/Unet_rmbg/BRCAS2TESRI/Predict_mask/V06-20131101-084.png is a low contrast image\n",
      "  warn('%s is a low contrast image' % fname)\n",
      "/usr/local/lib/python3.5/dist-packages/skimage/io/_io.py:132: UserWarning: model/Unet_rmbg/BRCAS2TESRI/Predict_mask/A43-20150210-005.png is a low contrast image\n",
      "  warn('%s is a low contrast image' % fname)\n",
      "/usr/local/lib/python3.5/dist-packages/skimage/io/_io.py:132: UserWarning: model/Unet_rmbg/BRCAS2TESRI/Predict_mask/A37-20130418-004.png is a low contrast image\n",
      "  warn('%s is a low contrast image' % fname)\n"
     ]
    },
    {
     "name": "stdout",
     "output_type": "stream",
     "text": [
      "\r",
      "[Predict]-----pred-mini-Batch (60/122)\r"
     ]
    },
    {
     "name": "stderr",
     "output_type": "stream",
     "text": [
      "/usr/local/lib/python3.5/dist-packages/skimage/io/_io.py:132: UserWarning: model/Unet_rmbg/BRCAS2TESRI/Predict_mask/A35-20130605-045.png is a low contrast image\n",
      "  warn('%s is a low contrast image' % fname)\n",
      "/usr/local/lib/python3.5/dist-packages/skimage/io/_io.py:132: UserWarning: model/Unet_rmbg/BRCAS2TESRI/Predict_mask/A33-20130115-038.png is a low contrast image\n",
      "  warn('%s is a low contrast image' % fname)\n",
      "/usr/local/lib/python3.5/dist-packages/skimage/io/_io.py:132: UserWarning: model/Unet_rmbg/BRCAS2TESRI/Predict_mask/A32-20120725-067.png is a low contrast image\n",
      "  warn('%s is a low contrast image' % fname)\n",
      "/usr/local/lib/python3.5/dist-packages/skimage/io/_io.py:132: UserWarning: model/Unet_rmbg/BRCAS2TESRI/Predict_mask/V09-20140329-001.png is a low contrast image\n",
      "  warn('%s is a low contrast image' % fname)\n",
      "/usr/local/lib/python3.5/dist-packages/skimage/io/_io.py:132: UserWarning: model/Unet_rmbg/BRCAS2TESRI/Predict_mask/V07-20130809-009.png is a low contrast image\n",
      "  warn('%s is a low contrast image' % fname)\n",
      "/usr/local/lib/python3.5/dist-packages/skimage/io/_io.py:132: UserWarning: model/Unet_rmbg/BRCAS2TESRI/Predict_mask/A35-20131202-037.png is a low contrast image\n",
      "  warn('%s is a low contrast image' % fname)\n",
      "/usr/local/lib/python3.5/dist-packages/skimage/io/_io.py:132: UserWarning: model/Unet_rmbg/BRCAS2TESRI/Predict_mask/A39-20130807-060.png is a low contrast image\n",
      "  warn('%s is a low contrast image' % fname)\n",
      "/usr/local/lib/python3.5/dist-packages/skimage/io/_io.py:132: UserWarning: model/Unet_rmbg/BRCAS2TESRI/Predict_mask/A46-20160602-020.png is a low contrast image\n",
      "  warn('%s is a low contrast image' % fname)\n",
      "/usr/local/lib/python3.5/dist-packages/skimage/io/_io.py:132: UserWarning: model/Unet_rmbg/BRCAS2TESRI/Predict_mask/A34-20140226-023.png is a low contrast image\n",
      "  warn('%s is a low contrast image' % fname)\n",
      "/usr/local/lib/python3.5/dist-packages/skimage/io/_io.py:132: UserWarning: model/Unet_rmbg/BRCAS2TESRI/Predict_mask/V20-20160805-030.png is a low contrast image\n",
      "  warn('%s is a low contrast image' % fname)\n",
      "/usr/local/lib/python3.5/dist-packages/skimage/io/_io.py:132: UserWarning: model/Unet_rmbg/BRCAS2TESRI/Predict_mask/V04-20130411-077.png is a low contrast image\n",
      "  warn('%s is a low contrast image' % fname)\n",
      "/usr/local/lib/python3.5/dist-packages/skimage/io/_io.py:132: UserWarning: model/Unet_rmbg/BRCAS2TESRI/Predict_mask/V13-20130608-014.png is a low contrast image\n",
      "  warn('%s is a low contrast image' % fname)\n",
      "/usr/local/lib/python3.5/dist-packages/skimage/io/_io.py:132: UserWarning: model/Unet_rmbg/BRCAS2TESRI/Predict_mask/V15-20140327-043.png is a low contrast image\n",
      "  warn('%s is a low contrast image' % fname)\n"
     ]
    },
    {
     "name": "stdout",
     "output_type": "stream",
     "text": [
      "\r",
      "[Predict]-----pred-mini-Batch (61/122)\r"
     ]
    },
    {
     "name": "stderr",
     "output_type": "stream",
     "text": [
      "/usr/local/lib/python3.5/dist-packages/skimage/io/_io.py:132: UserWarning: model/Unet_rmbg/BRCAS2TESRI/Predict_mask/A41-20140325-180.png is a low contrast image\n",
      "  warn('%s is a low contrast image' % fname)\n",
      "/usr/local/lib/python3.5/dist-packages/skimage/io/_io.py:132: UserWarning: model/Unet_rmbg/BRCAS2TESRI/Predict_mask/V13-20131102-039.png is a low contrast image\n",
      "  warn('%s is a low contrast image' % fname)\n",
      "/usr/local/lib/python3.5/dist-packages/skimage/io/_io.py:132: UserWarning: model/Unet_rmbg/BRCAS2TESRI/Predict_mask/A38-20130416-049.png is a low contrast image\n",
      "  warn('%s is a low contrast image' % fname)\n",
      "/usr/local/lib/python3.5/dist-packages/skimage/io/_io.py:132: UserWarning: model/Unet_rmbg/BRCAS2TESRI/Predict_mask/B29-20131018-007.png is a low contrast image\n",
      "  warn('%s is a low contrast image' % fname)\n",
      "/usr/local/lib/python3.5/dist-packages/skimage/io/_io.py:132: UserWarning: model/Unet_rmbg/BRCAS2TESRI/Predict_mask/V08-20130413-006.png is a low contrast image\n",
      "  warn('%s is a low contrast image' % fname)\n",
      "/usr/local/lib/python3.5/dist-packages/skimage/io/_io.py:132: UserWarning: model/Unet_rmbg/BRCAS2TESRI/Predict_mask/V14-20130428-063.png is a low contrast image\n",
      "  warn('%s is a low contrast image' % fname)\n",
      "/usr/local/lib/python3.5/dist-packages/skimage/io/_io.py:132: UserWarning: model/Unet_rmbg/BRCAS2TESRI/Predict_mask/A32-20120523-183.png is a low contrast image\n",
      "  warn('%s is a low contrast image' % fname)\n",
      "/usr/local/lib/python3.5/dist-packages/skimage/io/_io.py:132: UserWarning: model/Unet_rmbg/BRCAS2TESRI/Predict_mask/A36-20130226-068.png is a low contrast image\n",
      "  warn('%s is a low contrast image' % fname)\n",
      "/usr/local/lib/python3.5/dist-packages/skimage/io/_io.py:132: UserWarning: model/Unet_rmbg/BRCAS2TESRI/Predict_mask/A46-20150319-117.png is a low contrast image\n",
      "  warn('%s is a low contrast image' % fname)\n",
      "/usr/local/lib/python3.5/dist-packages/skimage/io/_io.py:132: UserWarning: model/Unet_rmbg/BRCAS2TESRI/Predict_mask/A46-20150319-008.png is a low contrast image\n",
      "  warn('%s is a low contrast image' % fname)\n",
      "/usr/local/lib/python3.5/dist-packages/skimage/io/_io.py:132: UserWarning: model/Unet_rmbg/BRCAS2TESRI/Predict_mask/V01-20130629-011.png is a low contrast image\n",
      "  warn('%s is a low contrast image' % fname)\n",
      "/usr/local/lib/python3.5/dist-packages/skimage/io/_io.py:132: UserWarning: model/Unet_rmbg/BRCAS2TESRI/Predict_mask/A35-20130605-007.png is a low contrast image\n",
      "  warn('%s is a low contrast image' % fname)\n"
     ]
    },
    {
     "name": "stdout",
     "output_type": "stream",
     "text": [
      "\r",
      "[Predict]-----pred-mini-Batch (62/122)\r"
     ]
    },
    {
     "name": "stderr",
     "output_type": "stream",
     "text": [
      "/usr/local/lib/python3.5/dist-packages/skimage/io/_io.py:132: UserWarning: model/Unet_rmbg/BRCAS2TESRI/Predict_mask/V15-20140222-017.png is a low contrast image\n",
      "  warn('%s is a low contrast image' % fname)\n",
      "/usr/local/lib/python3.5/dist-packages/skimage/io/_io.py:132: UserWarning: model/Unet_rmbg/BRCAS2TESRI/Predict_mask/A32-20120725-043.png is a low contrast image\n",
      "  warn('%s is a low contrast image' % fname)\n",
      "/usr/local/lib/python3.5/dist-packages/skimage/io/_io.py:132: UserWarning: model/Unet_rmbg/BRCAS2TESRI/Predict_mask/V01-20140624-025.png is a low contrast image\n",
      "  warn('%s is a low contrast image' % fname)\n",
      "/usr/local/lib/python3.5/dist-packages/skimage/io/_io.py:132: UserWarning: model/Unet_rmbg/BRCAS2TESRI/Predict_mask/A33-20130115-054.png is a low contrast image\n",
      "  warn('%s is a low contrast image' % fname)\n",
      "/usr/local/lib/python3.5/dist-packages/skimage/io/_io.py:132: UserWarning: model/Unet_rmbg/BRCAS2TESRI/Predict_mask/V11-20130508-049.png is a low contrast image\n",
      "  warn('%s is a low contrast image' % fname)\n",
      "/usr/local/lib/python3.5/dist-packages/skimage/io/_io.py:132: UserWarning: model/Unet_rmbg/BRCAS2TESRI/Predict_mask/V12-20130528-059.png is a low contrast image\n",
      "  warn('%s is a low contrast image' % fname)\n",
      "/usr/local/lib/python3.5/dist-packages/skimage/io/_io.py:132: UserWarning: model/Unet_rmbg/BRCAS2TESRI/Predict_mask/A40-20140924-222.png is a low contrast image\n",
      "  warn('%s is a low contrast image' % fname)\n",
      "/usr/local/lib/python3.5/dist-packages/skimage/io/_io.py:132: UserWarning: model/Unet_rmbg/BRCAS2TESRI/Predict_mask/V07-20130607-044.png is a low contrast image\n",
      "  warn('%s is a low contrast image' % fname)\n",
      "/usr/local/lib/python3.5/dist-packages/skimage/io/_io.py:132: UserWarning: model/Unet_rmbg/BRCAS2TESRI/Predict_mask/V11-20130608-118.png is a low contrast image\n",
      "  warn('%s is a low contrast image' % fname)\n",
      "/usr/local/lib/python3.5/dist-packages/skimage/io/_io.py:132: UserWarning: model/Unet_rmbg/BRCAS2TESRI/Predict_mask/A47-20160425-012.png is a low contrast image\n",
      "  warn('%s is a low contrast image' % fname)\n",
      "/usr/local/lib/python3.5/dist-packages/skimage/io/_io.py:132: UserWarning: model/Unet_rmbg/BRCAS2TESRI/Predict_mask/V12-20130528-195.png is a low contrast image\n",
      "  warn('%s is a low contrast image' % fname)\n",
      "/usr/local/lib/python3.5/dist-packages/skimage/io/_io.py:132: UserWarning: model/Unet_rmbg/BRCAS2TESRI/Predict_mask/V12-20130927-009.png is a low contrast image\n",
      "  warn('%s is a low contrast image' % fname)\n"
     ]
    },
    {
     "name": "stdout",
     "output_type": "stream",
     "text": [
      "\r",
      "[Predict]-----pred-mini-Batch (63/122)\r"
     ]
    },
    {
     "name": "stderr",
     "output_type": "stream",
     "text": [
      "/usr/local/lib/python3.5/dist-packages/skimage/io/_io.py:132: UserWarning: model/Unet_rmbg/BRCAS2TESRI/Predict_mask/A35-20130221-055.png is a low contrast image\n",
      "  warn('%s is a low contrast image' % fname)\n",
      "/usr/local/lib/python3.5/dist-packages/skimage/io/_io.py:132: UserWarning: model/Unet_rmbg/BRCAS2TESRI/Predict_mask/V02-20130930-076.png is a low contrast image\n",
      "  warn('%s is a low contrast image' % fname)\n",
      "/usr/local/lib/python3.5/dist-packages/skimage/io/_io.py:132: UserWarning: model/Unet_rmbg/BRCAS2TESRI/Predict_mask/V11-20131201-060.png is a low contrast image\n",
      "  warn('%s is a low contrast image' % fname)\n",
      "/usr/local/lib/python3.5/dist-packages/skimage/io/_io.py:132: UserWarning: model/Unet_rmbg/BRCAS2TESRI/Predict_mask/V12-20130628-045.png is a low contrast image\n",
      "  warn('%s is a low contrast image' % fname)\n",
      "/usr/local/lib/python3.5/dist-packages/skimage/io/_io.py:132: UserWarning: model/Unet_rmbg/BRCAS2TESRI/Predict_mask/A41-20140325-162.png is a low contrast image\n",
      "  warn('%s is a low contrast image' % fname)\n",
      "/usr/local/lib/python3.5/dist-packages/skimage/io/_io.py:132: UserWarning: model/Unet_rmbg/BRCAS2TESRI/Predict_mask/A35-20130417-013.png is a low contrast image\n",
      "  warn('%s is a low contrast image' % fname)\n",
      "/usr/local/lib/python3.5/dist-packages/skimage/io/_io.py:132: UserWarning: model/Unet_rmbg/BRCAS2TESRI/Predict_mask/A35-20130221-053.png is a low contrast image\n",
      "  warn('%s is a low contrast image' % fname)\n",
      "/usr/local/lib/python3.5/dist-packages/skimage/io/_io.py:132: UserWarning: model/Unet_rmbg/BRCAS2TESRI/Predict_mask/A34-20130709-091.png is a low contrast image\n",
      "  warn('%s is a low contrast image' % fname)\n",
      "/usr/local/lib/python3.5/dist-packages/skimage/io/_io.py:132: UserWarning: model/Unet_rmbg/BRCAS2TESRI/Predict_mask/A42-20150409-016.png is a low contrast image\n",
      "  warn('%s is a low contrast image' % fname)\n",
      "/usr/local/lib/python3.5/dist-packages/skimage/io/_io.py:132: UserWarning: model/Unet_rmbg/BRCAS2TESRI/Predict_mask/V02-20130801-005.png is a low contrast image\n",
      "  warn('%s is a low contrast image' % fname)\n",
      "/usr/local/lib/python3.5/dist-packages/skimage/io/_io.py:132: UserWarning: model/Unet_rmbg/BRCAS2TESRI/Predict_mask/V14-20130428-013.png is a low contrast image\n",
      "  warn('%s is a low contrast image' % fname)\n"
     ]
    },
    {
     "name": "stdout",
     "output_type": "stream",
     "text": [
      "\r",
      "[Predict]-----pred-mini-Batch (64/122)\r"
     ]
    },
    {
     "name": "stderr",
     "output_type": "stream",
     "text": [
      "/usr/local/lib/python3.5/dist-packages/skimage/io/_io.py:132: UserWarning: model/Unet_rmbg/BRCAS2TESRI/Predict_mask/A34-20151209-075.png is a low contrast image\n",
      "  warn('%s is a low contrast image' % fname)\n",
      "/usr/local/lib/python3.5/dist-packages/skimage/io/_io.py:132: UserWarning: model/Unet_rmbg/BRCAS2TESRI/Predict_mask/A37-20131016-116.png is a low contrast image\n",
      "  warn('%s is a low contrast image' % fname)\n",
      "/usr/local/lib/python3.5/dist-packages/skimage/io/_io.py:132: UserWarning: model/Unet_rmbg/BRCAS2TESRI/Predict_mask/V07-20130412-081.png is a low contrast image\n",
      "  warn('%s is a low contrast image' % fname)\n",
      "/usr/local/lib/python3.5/dist-packages/skimage/io/_io.py:132: UserWarning: model/Unet_rmbg/BRCAS2TESRI/Predict_mask/A34-20130313-056.png is a low contrast image\n",
      "  warn('%s is a low contrast image' % fname)\n",
      "/usr/local/lib/python3.5/dist-packages/skimage/io/_io.py:132: UserWarning: model/Unet_rmbg/BRCAS2TESRI/Predict_mask/V07-20130412-075.png is a low contrast image\n",
      "  warn('%s is a low contrast image' % fname)\n",
      "/usr/local/lib/python3.5/dist-packages/skimage/io/_io.py:132: UserWarning: model/Unet_rmbg/BRCAS2TESRI/Predict_mask/V11-20130810-101.png is a low contrast image\n",
      "  warn('%s is a low contrast image' % fname)\n",
      "/usr/local/lib/python3.5/dist-packages/skimage/io/_io.py:132: UserWarning: model/Unet_rmbg/BRCAS2TESRI/Predict_mask/A32-20120830-148.png is a low contrast image\n",
      "  warn('%s is a low contrast image' % fname)\n",
      "/usr/local/lib/python3.5/dist-packages/skimage/io/_io.py:132: UserWarning: model/Unet_rmbg/BRCAS2TESRI/Predict_mask/V17-20140322-077.png is a low contrast image\n",
      "  warn('%s is a low contrast image' % fname)\n",
      "/usr/local/lib/python3.5/dist-packages/skimage/io/_io.py:132: UserWarning: model/Unet_rmbg/BRCAS2TESRI/Predict_mask/A34-20130506-014.png is a low contrast image\n",
      "  warn('%s is a low contrast image' % fname)\n",
      "/usr/local/lib/python3.5/dist-packages/skimage/io/_io.py:132: UserWarning: model/Unet_rmbg/BRCAS2TESRI/Predict_mask/V02-20130801-126.png is a low contrast image\n",
      "  warn('%s is a low contrast image' % fname)\n",
      "/usr/local/lib/python3.5/dist-packages/skimage/io/_io.py:132: UserWarning: model/Unet_rmbg/BRCAS2TESRI/Predict_mask/A37-20131016-019.png is a low contrast image\n",
      "  warn('%s is a low contrast image' % fname)\n"
     ]
    },
    {
     "name": "stdout",
     "output_type": "stream",
     "text": [
      "\r",
      "[Predict]-----pred-mini-Batch (65/122)\r"
     ]
    },
    {
     "name": "stderr",
     "output_type": "stream",
     "text": [
      "/usr/local/lib/python3.5/dist-packages/skimage/io/_io.py:132: UserWarning: model/Unet_rmbg/BRCAS2TESRI/Predict_mask/V14-20130428-180.png is a low contrast image\n",
      "  warn('%s is a low contrast image' % fname)\n",
      "/usr/local/lib/python3.5/dist-packages/skimage/io/_io.py:132: UserWarning: model/Unet_rmbg/BRCAS2TESRI/Predict_mask/A52-20151110-220.png is a low contrast image\n",
      "  warn('%s is a low contrast image' % fname)\n",
      "/usr/local/lib/python3.5/dist-packages/skimage/io/_io.py:132: UserWarning: model/Unet_rmbg/BRCAS2TESRI/Predict_mask/V05-20130809-044.png is a low contrast image\n",
      "  warn('%s is a low contrast image' % fname)\n",
      "/usr/local/lib/python3.5/dist-packages/skimage/io/_io.py:132: UserWarning: model/Unet_rmbg/BRCAS2TESRI/Predict_mask/V04-20130509-117.png is a low contrast image\n",
      "  warn('%s is a low contrast image' % fname)\n",
      "/usr/local/lib/python3.5/dist-packages/skimage/io/_io.py:132: UserWarning: model/Unet_rmbg/BRCAS2TESRI/Predict_mask/A35-20130605-046.png is a low contrast image\n",
      "  warn('%s is a low contrast image' % fname)\n",
      "/usr/local/lib/python3.5/dist-packages/skimage/io/_io.py:132: UserWarning: model/Unet_rmbg/BRCAS2TESRI/Predict_mask/A48-20160601-202.png is a low contrast image\n",
      "  warn('%s is a low contrast image' % fname)\n",
      "/usr/local/lib/python3.5/dist-packages/skimage/io/_io.py:132: UserWarning: model/Unet_rmbg/BRCAS2TESRI/Predict_mask/V16-20131004-077.png is a low contrast image\n",
      "  warn('%s is a low contrast image' % fname)\n",
      "/usr/local/lib/python3.5/dist-packages/skimage/io/_io.py:132: UserWarning: model/Unet_rmbg/BRCAS2TESRI/Predict_mask/V13-20140322-062.png is a low contrast image\n",
      "  warn('%s is a low contrast image' % fname)\n",
      "/usr/local/lib/python3.5/dist-packages/skimage/io/_io.py:132: UserWarning: model/Unet_rmbg/BRCAS2TESRI/Predict_mask/V12-20130910-105.png is a low contrast image\n",
      "  warn('%s is a low contrast image' % fname)\n",
      "/usr/local/lib/python3.5/dist-packages/skimage/io/_io.py:132: UserWarning: model/Unet_rmbg/BRCAS2TESRI/Predict_mask/V06-20130805-039.png is a low contrast image\n",
      "  warn('%s is a low contrast image' % fname)\n",
      "/usr/local/lib/python3.5/dist-packages/skimage/io/_io.py:132: UserWarning: model/Unet_rmbg/BRCAS2TESRI/Predict_mask/V12-20130628-067.png is a low contrast image\n",
      "  warn('%s is a low contrast image' % fname)\n",
      "/usr/local/lib/python3.5/dist-packages/skimage/io/_io.py:132: UserWarning: model/Unet_rmbg/BRCAS2TESRI/Predict_mask/A35-20130805-062.png is a low contrast image\n",
      "  warn('%s is a low contrast image' % fname)\n",
      "/usr/local/lib/python3.5/dist-packages/skimage/io/_io.py:132: UserWarning: model/Unet_rmbg/BRCAS2TESRI/Predict_mask/A46-20150513-163.png is a low contrast image\n",
      "  warn('%s is a low contrast image' % fname)\n",
      "/usr/local/lib/python3.5/dist-packages/skimage/io/_io.py:132: UserWarning: model/Unet_rmbg/BRCAS2TESRI/Predict_mask/A32-20111123-076.png is a low contrast image\n",
      "  warn('%s is a low contrast image' % fname)\n",
      "/usr/local/lib/python3.5/dist-packages/skimage/io/_io.py:132: UserWarning: model/Unet_rmbg/BRCAS2TESRI/Predict_mask/A32-20120725-069.png is a low contrast image\n",
      "  warn('%s is a low contrast image' % fname)\n"
     ]
    },
    {
     "name": "stdout",
     "output_type": "stream",
     "text": [
      "\r",
      "[Predict]-----pred-mini-Batch (66/122)\r"
     ]
    },
    {
     "name": "stderr",
     "output_type": "stream",
     "text": [
      "/usr/local/lib/python3.5/dist-packages/skimage/io/_io.py:132: UserWarning: model/Unet_rmbg/BRCAS2TESRI/Predict_mask/A38-20130416-051.png is a low contrast image\n",
      "  warn('%s is a low contrast image' % fname)\n",
      "/usr/local/lib/python3.5/dist-packages/skimage/io/_io.py:132: UserWarning: model/Unet_rmbg/BRCAS2TESRI/Predict_mask/V11-20130608-107.png is a low contrast image\n",
      "  warn('%s is a low contrast image' % fname)\n",
      "/usr/local/lib/python3.5/dist-packages/skimage/io/_io.py:132: UserWarning: model/Unet_rmbg/BRCAS2TESRI/Predict_mask/A35-20130221-067.png is a low contrast image\n",
      "  warn('%s is a low contrast image' % fname)\n",
      "/usr/local/lib/python3.5/dist-packages/skimage/io/_io.py:132: UserWarning: model/Unet_rmbg/BRCAS2TESRI/Predict_mask/V10-20130413-023.png is a low contrast image\n",
      "  warn('%s is a low contrast image' % fname)\n",
      "/usr/local/lib/python3.5/dist-packages/skimage/io/_io.py:132: UserWarning: model/Unet_rmbg/BRCAS2TESRI/Predict_mask/V01-20130928-034.png is a low contrast image\n",
      "  warn('%s is a low contrast image' % fname)\n",
      "/usr/local/lib/python3.5/dist-packages/skimage/io/_io.py:132: UserWarning: model/Unet_rmbg/BRCAS2TESRI/Predict_mask/A37-20150812-115.png is a low contrast image\n",
      "  warn('%s is a low contrast image' % fname)\n",
      "/usr/local/lib/python3.5/dist-packages/skimage/io/_io.py:132: UserWarning: model/Unet_rmbg/BRCAS2TESRI/Predict_mask/V29-20160827-043.png is a low contrast image\n",
      "  warn('%s is a low contrast image' % fname)\n",
      "/usr/local/lib/python3.5/dist-packages/skimage/io/_io.py:132: UserWarning: model/Unet_rmbg/BRCAS2TESRI/Predict_mask/V20-20150417-065.png is a low contrast image\n",
      "  warn('%s is a low contrast image' % fname)\n",
      "/usr/local/lib/python3.5/dist-packages/skimage/io/_io.py:132: UserWarning: model/Unet_rmbg/BRCAS2TESRI/Predict_mask/V15-20140531-005.png is a low contrast image\n",
      "  warn('%s is a low contrast image' % fname)\n",
      "/usr/local/lib/python3.5/dist-packages/skimage/io/_io.py:132: UserWarning: model/Unet_rmbg/BRCAS2TESRI/Predict_mask/V17-20140412-011.png is a low contrast image\n",
      "  warn('%s is a low contrast image' % fname)\n",
      "/usr/local/lib/python3.5/dist-packages/skimage/io/_io.py:132: UserWarning: model/Unet_rmbg/BRCAS2TESRI/Predict_mask/A37-20150812-162.png is a low contrast image\n",
      "  warn('%s is a low contrast image' % fname)\n",
      "/usr/local/lib/python3.5/dist-packages/skimage/io/_io.py:132: UserWarning: model/Unet_rmbg/BRCAS2TESRI/Predict_mask/A32-20120725-102.png is a low contrast image\n",
      "  warn('%s is a low contrast image' % fname)\n"
     ]
    },
    {
     "name": "stdout",
     "output_type": "stream",
     "text": [
      "\r",
      "[Predict]-----pred-mini-Batch (67/122)\r"
     ]
    },
    {
     "name": "stderr",
     "output_type": "stream",
     "text": [
      "/usr/local/lib/python3.5/dist-packages/skimage/io/_io.py:132: UserWarning: model/Unet_rmbg/BRCAS2TESRI/Predict_mask/V03-20130510-104.png is a low contrast image\n",
      "  warn('%s is a low contrast image' % fname)\n",
      "/usr/local/lib/python3.5/dist-packages/skimage/io/_io.py:132: UserWarning: model/Unet_rmbg/BRCAS2TESRI/Predict_mask/V12-20130528-043.png is a low contrast image\n",
      "  warn('%s is a low contrast image' % fname)\n",
      "/usr/local/lib/python3.5/dist-packages/skimage/io/_io.py:132: UserWarning: model/Unet_rmbg/BRCAS2TESRI/Predict_mask/A38-20140925-233.png is a low contrast image\n",
      "  warn('%s is a low contrast image' % fname)\n",
      "/usr/local/lib/python3.5/dist-packages/skimage/io/_io.py:132: UserWarning: model/Unet_rmbg/BRCAS2TESRI/Predict_mask/V12-20131028-043.png is a low contrast image\n",
      "  warn('%s is a low contrast image' % fname)\n",
      "/usr/local/lib/python3.5/dist-packages/skimage/io/_io.py:132: UserWarning: model/Unet_rmbg/BRCAS2TESRI/Predict_mask/V16-20140425-010.png is a low contrast image\n",
      "  warn('%s is a low contrast image' % fname)\n",
      "/usr/local/lib/python3.5/dist-packages/skimage/io/_io.py:132: UserWarning: model/Unet_rmbg/BRCAS2TESRI/Predict_mask/V12-20131128-055.png is a low contrast image\n",
      "  warn('%s is a low contrast image' % fname)\n",
      "/usr/local/lib/python3.5/dist-packages/skimage/io/_io.py:132: UserWarning: model/Unet_rmbg/BRCAS2TESRI/Predict_mask/V10-20140730-049.png is a low contrast image\n",
      "  warn('%s is a low contrast image' % fname)\n",
      "/usr/local/lib/python3.5/dist-packages/skimage/io/_io.py:132: UserWarning: model/Unet_rmbg/BRCAS2TESRI/Predict_mask/A32-20120830-075.png is a low contrast image\n",
      "  warn('%s is a low contrast image' % fname)\n",
      "/usr/local/lib/python3.5/dist-packages/skimage/io/_io.py:132: UserWarning: model/Unet_rmbg/BRCAS2TESRI/Predict_mask/A36-20130226-046.png is a low contrast image\n",
      "  warn('%s is a low contrast image' % fname)\n",
      "/usr/local/lib/python3.5/dist-packages/skimage/io/_io.py:132: UserWarning: model/Unet_rmbg/BRCAS2TESRI/Predict_mask/V18-20151007-108.png is a low contrast image\n",
      "  warn('%s is a low contrast image' % fname)\n",
      "/usr/local/lib/python3.5/dist-packages/skimage/io/_io.py:132: UserWarning: model/Unet_rmbg/BRCAS2TESRI/Predict_mask/V03-20140102-017.png is a low contrast image\n",
      "  warn('%s is a low contrast image' % fname)\n",
      "/usr/local/lib/python3.5/dist-packages/skimage/io/_io.py:132: UserWarning: model/Unet_rmbg/BRCAS2TESRI/Predict_mask/V02-20131201-054.png is a low contrast image\n",
      "  warn('%s is a low contrast image' % fname)\n",
      "/usr/local/lib/python3.5/dist-packages/skimage/io/_io.py:132: UserWarning: model/Unet_rmbg/BRCAS2TESRI/Predict_mask/A38-20130416-066.png is a low contrast image\n",
      "  warn('%s is a low contrast image' % fname)\n"
     ]
    },
    {
     "name": "stdout",
     "output_type": "stream",
     "text": [
      "\r",
      "[Predict]-----pred-mini-Batch (68/122)\r"
     ]
    },
    {
     "name": "stderr",
     "output_type": "stream",
     "text": [
      "/usr/local/lib/python3.5/dist-packages/skimage/io/_io.py:132: UserWarning: model/Unet_rmbg/BRCAS2TESRI/Predict_mask/V02-20130603-122.png is a low contrast image\n",
      "  warn('%s is a low contrast image' % fname)\n",
      "/usr/local/lib/python3.5/dist-packages/skimage/io/_io.py:132: UserWarning: model/Unet_rmbg/BRCAS2TESRI/Predict_mask/A32-20120425-070.png is a low contrast image\n",
      "  warn('%s is a low contrast image' % fname)\n",
      "/usr/local/lib/python3.5/dist-packages/skimage/io/_io.py:132: UserWarning: model/Unet_rmbg/BRCAS2TESRI/Predict_mask/V03-20131201-057.png is a low contrast image\n",
      "  warn('%s is a low contrast image' % fname)\n",
      "/usr/local/lib/python3.5/dist-packages/skimage/io/_io.py:132: UserWarning: model/Unet_rmbg/BRCAS2TESRI/Predict_mask/A37-20130418-026.png is a low contrast image\n",
      "  warn('%s is a low contrast image' % fname)\n",
      "/usr/local/lib/python3.5/dist-packages/skimage/io/_io.py:132: UserWarning: model/Unet_rmbg/BRCAS2TESRI/Predict_mask/V03-20140303-001.png is a low contrast image\n",
      "  warn('%s is a low contrast image' % fname)\n",
      "/usr/local/lib/python3.5/dist-packages/skimage/io/_io.py:132: UserWarning: model/Unet_rmbg/BRCAS2TESRI/Predict_mask/A48-20160601-294.png is a low contrast image\n",
      "  warn('%s is a low contrast image' % fname)\n",
      "/usr/local/lib/python3.5/dist-packages/skimage/io/_io.py:132: UserWarning: model/Unet_rmbg/BRCAS2TESRI/Predict_mask/A48-20160601-184.png is a low contrast image\n",
      "  warn('%s is a low contrast image' % fname)\n",
      "/usr/local/lib/python3.5/dist-packages/skimage/io/_io.py:132: UserWarning: model/Unet_rmbg/BRCAS2TESRI/Predict_mask/A32-20120725-096.png is a low contrast image\n",
      "  warn('%s is a low contrast image' % fname)\n",
      "/usr/local/lib/python3.5/dist-packages/skimage/io/_io.py:132: UserWarning: model/Unet_rmbg/BRCAS2TESRI/Predict_mask/A35-20131015-006.png is a low contrast image\n",
      "  warn('%s is a low contrast image' % fname)\n",
      "/usr/local/lib/python3.5/dist-packages/skimage/io/_io.py:132: UserWarning: model/Unet_rmbg/BRCAS2TESRI/Predict_mask/V01-20130629-021.png is a low contrast image\n",
      "  warn('%s is a low contrast image' % fname)\n",
      "/usr/local/lib/python3.5/dist-packages/skimage/io/_io.py:132: UserWarning: model/Unet_rmbg/BRCAS2TESRI/Predict_mask/A41-20140325-041.png is a low contrast image\n",
      "  warn('%s is a low contrast image' % fname)\n",
      "/usr/local/lib/python3.5/dist-packages/skimage/io/_io.py:132: UserWarning: model/Unet_rmbg/BRCAS2TESRI/Predict_mask/V11-20130608-019.png is a low contrast image\n",
      "  warn('%s is a low contrast image' % fname)\n"
     ]
    },
    {
     "name": "stdout",
     "output_type": "stream",
     "text": [
      "\r",
      "[Predict]-----pred-mini-Batch (69/122)\r"
     ]
    },
    {
     "name": "stderr",
     "output_type": "stream",
     "text": [
      "/usr/local/lib/python3.5/dist-packages/skimage/io/_io.py:132: UserWarning: model/Unet_rmbg/BRCAS2TESRI/Predict_mask/A32-20111123-097.png is a low contrast image\n",
      "  warn('%s is a low contrast image' % fname)\n",
      "/usr/local/lib/python3.5/dist-packages/skimage/io/_io.py:132: UserWarning: model/Unet_rmbg/BRCAS2TESRI/Predict_mask/A41-20140325-019.png is a low contrast image\n",
      "  warn('%s is a low contrast image' % fname)\n",
      "/usr/local/lib/python3.5/dist-packages/skimage/io/_io.py:132: UserWarning: model/Unet_rmbg/BRCAS2TESRI/Predict_mask/V11-20140111-039.png is a low contrast image\n",
      "  warn('%s is a low contrast image' % fname)\n",
      "/usr/local/lib/python3.5/dist-packages/skimage/io/_io.py:132: UserWarning: model/Unet_rmbg/BRCAS2TESRI/Predict_mask/V12-20130927-021.png is a low contrast image\n",
      "  warn('%s is a low contrast image' % fname)\n",
      "/usr/local/lib/python3.5/dist-packages/skimage/io/_io.py:132: UserWarning: model/Unet_rmbg/BRCAS2TESRI/Predict_mask/V12-20130910-041.png is a low contrast image\n",
      "  warn('%s is a low contrast image' % fname)\n",
      "/usr/local/lib/python3.5/dist-packages/skimage/io/_io.py:132: UserWarning: model/Unet_rmbg/BRCAS2TESRI/Predict_mask/V03-20140402-068.png is a low contrast image\n",
      "  warn('%s is a low contrast image' % fname)\n",
      "/usr/local/lib/python3.5/dist-packages/skimage/io/_io.py:132: UserWarning: model/Unet_rmbg/BRCAS2TESRI/Predict_mask/A43-20150210-004.png is a low contrast image\n",
      "  warn('%s is a low contrast image' % fname)\n",
      "/usr/local/lib/python3.5/dist-packages/skimage/io/_io.py:132: UserWarning: model/Unet_rmbg/BRCAS2TESRI/Predict_mask/A35-20130605-075.png is a low contrast image\n",
      "  warn('%s is a low contrast image' % fname)\n",
      "/usr/local/lib/python3.5/dist-packages/skimage/io/_io.py:132: UserWarning: model/Unet_rmbg/BRCAS2TESRI/Predict_mask/A38-20140728-111.png is a low contrast image\n",
      "  warn('%s is a low contrast image' % fname)\n",
      "/usr/local/lib/python3.5/dist-packages/skimage/io/_io.py:132: UserWarning: model/Unet_rmbg/BRCAS2TESRI/Predict_mask/V04-20130606-057.png is a low contrast image\n",
      "  warn('%s is a low contrast image' % fname)\n",
      "/usr/local/lib/python3.5/dist-packages/skimage/io/_io.py:132: UserWarning: model/Unet_rmbg/BRCAS2TESRI/Predict_mask/A48-20160601-083.png is a low contrast image\n",
      "  warn('%s is a low contrast image' % fname)\n",
      "/usr/local/lib/python3.5/dist-packages/skimage/io/_io.py:132: UserWarning: model/Unet_rmbg/BRCAS2TESRI/Predict_mask/V11-20130608-102.png is a low contrast image\n",
      "  warn('%s is a low contrast image' % fname)\n"
     ]
    },
    {
     "name": "stdout",
     "output_type": "stream",
     "text": [
      "\r",
      "[Predict]-----pred-mini-Batch (70/122)\r"
     ]
    },
    {
     "name": "stderr",
     "output_type": "stream",
     "text": [
      "/usr/local/lib/python3.5/dist-packages/skimage/io/_io.py:132: UserWarning: model/Unet_rmbg/BRCAS2TESRI/Predict_mask/V07-20141024-033.png is a low contrast image\n",
      "  warn('%s is a low contrast image' % fname)\n",
      "/usr/local/lib/python3.5/dist-packages/skimage/io/_io.py:132: UserWarning: model/Unet_rmbg/BRCAS2TESRI/Predict_mask/A32-20111123-024.png is a low contrast image\n",
      "  warn('%s is a low contrast image' % fname)\n",
      "/usr/local/lib/python3.5/dist-packages/skimage/io/_io.py:132: UserWarning: model/Unet_rmbg/BRCAS2TESRI/Predict_mask/A38-20130416-114.png is a low contrast image\n",
      "  warn('%s is a low contrast image' % fname)\n",
      "/usr/local/lib/python3.5/dist-packages/skimage/io/_io.py:132: UserWarning: model/Unet_rmbg/BRCAS2TESRI/Predict_mask/V05-20150116-015.png is a low contrast image\n",
      "  warn('%s is a low contrast image' % fname)\n",
      "/usr/local/lib/python3.5/dist-packages/skimage/io/_io.py:132: UserWarning: model/Unet_rmbg/BRCAS2TESRI/Predict_mask/A41-20140206-095.png is a low contrast image\n",
      "  warn('%s is a low contrast image' % fname)\n",
      "/usr/local/lib/python3.5/dist-packages/skimage/io/_io.py:132: UserWarning: model/Unet_rmbg/BRCAS2TESRI/Predict_mask/A36-20130226-058.png is a low contrast image\n",
      "  warn('%s is a low contrast image' % fname)\n",
      "/usr/local/lib/python3.5/dist-packages/skimage/io/_io.py:132: UserWarning: model/Unet_rmbg/BRCAS2TESRI/Predict_mask/A37-20130418-016.png is a low contrast image\n",
      "  warn('%s is a low contrast image' % fname)\n",
      "/usr/local/lib/python3.5/dist-packages/skimage/io/_io.py:132: UserWarning: model/Unet_rmbg/BRCAS2TESRI/Predict_mask/A35-20160712-022.png is a low contrast image\n",
      "  warn('%s is a low contrast image' % fname)\n",
      "/usr/local/lib/python3.5/dist-packages/skimage/io/_io.py:132: UserWarning: model/Unet_rmbg/BRCAS2TESRI/Predict_mask/V14-20130428-105.png is a low contrast image\n",
      "  warn('%s is a low contrast image' % fname)\n",
      "/usr/local/lib/python3.5/dist-packages/skimage/io/_io.py:132: UserWarning: model/Unet_rmbg/BRCAS2TESRI/Predict_mask/V03-20130708-111.png is a low contrast image\n",
      "  warn('%s is a low contrast image' % fname)\n",
      "/usr/local/lib/python3.5/dist-packages/skimage/io/_io.py:132: UserWarning: model/Unet_rmbg/BRCAS2TESRI/Predict_mask/A35-20140501-005.png is a low contrast image\n",
      "  warn('%s is a low contrast image' % fname)\n",
      "/usr/local/lib/python3.5/dist-packages/skimage/io/_io.py:132: UserWarning: model/Unet_rmbg/BRCAS2TESRI/Predict_mask/V10-20130413-073.png is a low contrast image\n",
      "  warn('%s is a low contrast image' % fname)\n",
      "/usr/local/lib/python3.5/dist-packages/skimage/io/_io.py:132: UserWarning: model/Unet_rmbg/BRCAS2TESRI/Predict_mask/V03-20130708-099.png is a low contrast image\n",
      "  warn('%s is a low contrast image' % fname)\n",
      "/usr/local/lib/python3.5/dist-packages/skimage/io/_io.py:132: UserWarning: model/Unet_rmbg/BRCAS2TESRI/Predict_mask/V05-20130607-086.png is a low contrast image\n",
      "  warn('%s is a low contrast image' % fname)\n"
     ]
    },
    {
     "name": "stdout",
     "output_type": "stream",
     "text": [
      "\r",
      "[Predict]-----pred-mini-Batch (71/122)\r"
     ]
    },
    {
     "name": "stderr",
     "output_type": "stream",
     "text": [
      "/usr/local/lib/python3.5/dist-packages/skimage/io/_io.py:132: UserWarning: model/Unet_rmbg/BRCAS2TESRI/Predict_mask/A48-20150318-112.png is a low contrast image\n",
      "  warn('%s is a low contrast image' % fname)\n",
      "/usr/local/lib/python3.5/dist-packages/skimage/io/_io.py:132: UserWarning: model/Unet_rmbg/BRCAS2TESRI/Predict_mask/V04-20140721-068.png is a low contrast image\n",
      "  warn('%s is a low contrast image' % fname)\n",
      "/usr/local/lib/python3.5/dist-packages/skimage/io/_io.py:132: UserWarning: model/Unet_rmbg/BRCAS2TESRI/Predict_mask/V04-20130411-051.png is a low contrast image\n",
      "  warn('%s is a low contrast image' % fname)\n",
      "/usr/local/lib/python3.5/dist-packages/skimage/io/_io.py:132: UserWarning: model/Unet_rmbg/BRCAS2TESRI/Predict_mask/A39-20130807-059.png is a low contrast image\n",
      "  warn('%s is a low contrast image' % fname)\n",
      "/usr/local/lib/python3.5/dist-packages/skimage/io/_io.py:132: UserWarning: model/Unet_rmbg/BRCAS2TESRI/Predict_mask/A35-20140923-193.png is a low contrast image\n",
      "  warn('%s is a low contrast image' % fname)\n",
      "/usr/local/lib/python3.5/dist-packages/skimage/io/_io.py:132: UserWarning: model/Unet_rmbg/BRCAS2TESRI/Predict_mask/A42-20140430-095.png is a low contrast image\n",
      "  warn('%s is a low contrast image' % fname)\n",
      "/usr/local/lib/python3.5/dist-packages/skimage/io/_io.py:132: UserWarning: model/Unet_rmbg/BRCAS2TESRI/Predict_mask/A34-20151209-139.png is a low contrast image\n",
      "  warn('%s is a low contrast image' % fname)\n",
      "/usr/local/lib/python3.5/dist-packages/skimage/io/_io.py:132: UserWarning: model/Unet_rmbg/BRCAS2TESRI/Predict_mask/V02-20130801-007.png is a low contrast image\n",
      "  warn('%s is a low contrast image' % fname)\n",
      "/usr/local/lib/python3.5/dist-packages/skimage/io/_io.py:132: UserWarning: model/Unet_rmbg/BRCAS2TESRI/Predict_mask/A32-20120425-007.png is a low contrast image\n",
      "  warn('%s is a low contrast image' % fname)\n",
      "/usr/local/lib/python3.5/dist-packages/skimage/io/_io.py:132: UserWarning: model/Unet_rmbg/BRCAS2TESRI/Predict_mask/A35-20140101-065.png is a low contrast image\n",
      "  warn('%s is a low contrast image' % fname)\n",
      "/usr/local/lib/python3.5/dist-packages/skimage/io/_io.py:132: UserWarning: model/Unet_rmbg/BRCAS2TESRI/Predict_mask/A34-20140826-098.png is a low contrast image\n",
      "  warn('%s is a low contrast image' % fname)\n",
      "/usr/local/lib/python3.5/dist-packages/skimage/io/_io.py:132: UserWarning: model/Unet_rmbg/BRCAS2TESRI/Predict_mask/A48-20160601-079.png is a low contrast image\n",
      "  warn('%s is a low contrast image' % fname)\n",
      "/usr/local/lib/python3.5/dist-packages/skimage/io/_io.py:132: UserWarning: model/Unet_rmbg/BRCAS2TESRI/Predict_mask/V07-20130412-004.png is a low contrast image\n",
      "  warn('%s is a low contrast image' % fname)\n",
      "/usr/local/lib/python3.5/dist-packages/skimage/io/_io.py:132: UserWarning: model/Unet_rmbg/BRCAS2TESRI/Predict_mask/A48-20150512-151.png is a low contrast image\n",
      "  warn('%s is a low contrast image' % fname)\n"
     ]
    },
    {
     "name": "stdout",
     "output_type": "stream",
     "text": [
      "\r",
      "[Predict]-----pred-mini-Batch (72/122)\r"
     ]
    },
    {
     "name": "stderr",
     "output_type": "stream",
     "text": [
      "/usr/local/lib/python3.5/dist-packages/skimage/io/_io.py:132: UserWarning: model/Unet_rmbg/BRCAS2TESRI/Predict_mask/A41-20140325-044.png is a low contrast image\n",
      "  warn('%s is a low contrast image' % fname)\n",
      "/usr/local/lib/python3.5/dist-packages/skimage/io/_io.py:132: UserWarning: model/Unet_rmbg/BRCAS2TESRI/Predict_mask/V12-20131028-056.png is a low contrast image\n",
      "  warn('%s is a low contrast image' % fname)\n",
      "/usr/local/lib/python3.5/dist-packages/skimage/io/_io.py:132: UserWarning: model/Unet_rmbg/BRCAS2TESRI/Predict_mask/A32-20111123-012.png is a low contrast image\n",
      "  warn('%s is a low contrast image' % fname)\n",
      "/usr/local/lib/python3.5/dist-packages/skimage/io/_io.py:132: UserWarning: model/Unet_rmbg/BRCAS2TESRI/Predict_mask/A32-20111226-044.png is a low contrast image\n",
      "  warn('%s is a low contrast image' % fname)\n",
      "/usr/local/lib/python3.5/dist-packages/skimage/io/_io.py:132: UserWarning: model/Unet_rmbg/BRCAS2TESRI/Predict_mask/A32-20120725-112.png is a low contrast image\n",
      "  warn('%s is a low contrast image' % fname)\n",
      "/usr/local/lib/python3.5/dist-packages/skimage/io/_io.py:132: UserWarning: model/Unet_rmbg/BRCAS2TESRI/Predict_mask/V19-20150515-176.png is a low contrast image\n",
      "  warn('%s is a low contrast image' % fname)\n",
      "/usr/local/lib/python3.5/dist-packages/skimage/io/_io.py:132: UserWarning: model/Unet_rmbg/BRCAS2TESRI/Predict_mask/V11-20130608-114.png is a low contrast image\n",
      "  warn('%s is a low contrast image' % fname)\n",
      "/usr/local/lib/python3.5/dist-packages/skimage/io/_io.py:132: UserWarning: model/Unet_rmbg/BRCAS2TESRI/Predict_mask/V03-20131103-044.png is a low contrast image\n",
      "  warn('%s is a low contrast image' % fname)\n",
      "/usr/local/lib/python3.5/dist-packages/skimage/io/_io.py:132: UserWarning: model/Unet_rmbg/BRCAS2TESRI/Predict_mask/V07-20130412-063.png is a low contrast image\n",
      "  warn('%s is a low contrast image' % fname)\n",
      "/usr/local/lib/python3.5/dist-packages/skimage/io/_io.py:132: UserWarning: model/Unet_rmbg/BRCAS2TESRI/Predict_mask/A35-20151209-084.png is a low contrast image\n",
      "  warn('%s is a low contrast image' % fname)\n",
      "/usr/local/lib/python3.5/dist-packages/skimage/io/_io.py:132: UserWarning: model/Unet_rmbg/BRCAS2TESRI/Predict_mask/V02-20130603-075.png is a low contrast image\n",
      "  warn('%s is a low contrast image' % fname)\n",
      "/usr/local/lib/python3.5/dist-packages/skimage/io/_io.py:132: UserWarning: model/Unet_rmbg/BRCAS2TESRI/Predict_mask/A38-20140728-050.png is a low contrast image\n",
      "  warn('%s is a low contrast image' % fname)\n",
      "/usr/local/lib/python3.5/dist-packages/skimage/io/_io.py:132: UserWarning: model/Unet_rmbg/BRCAS2TESRI/Predict_mask/A33-20130115-053.png is a low contrast image\n",
      "  warn('%s is a low contrast image' % fname)\n"
     ]
    },
    {
     "name": "stdout",
     "output_type": "stream",
     "text": [
      "\r",
      "[Predict]-----pred-mini-Batch (73/122)\r"
     ]
    },
    {
     "name": "stderr",
     "output_type": "stream",
     "text": [
      "/usr/local/lib/python3.5/dist-packages/skimage/io/_io.py:132: UserWarning: model/Unet_rmbg/BRCAS2TESRI/Predict_mask/A41-20140206-037.png is a low contrast image\n",
      "  warn('%s is a low contrast image' % fname)\n",
      "/usr/local/lib/python3.5/dist-packages/skimage/io/_io.py:132: UserWarning: model/Unet_rmbg/BRCAS2TESRI/Predict_mask/V13-20140516-079.png is a low contrast image\n",
      "  warn('%s is a low contrast image' % fname)\n",
      "/usr/local/lib/python3.5/dist-packages/skimage/io/_io.py:132: UserWarning: model/Unet_rmbg/BRCAS2TESRI/Predict_mask/V03-20130510-176.png is a low contrast image\n",
      "  warn('%s is a low contrast image' % fname)\n",
      "/usr/local/lib/python3.5/dist-packages/skimage/io/_io.py:132: UserWarning: model/Unet_rmbg/BRCAS2TESRI/Predict_mask/A43-20160308-214.png is a low contrast image\n",
      "  warn('%s is a low contrast image' % fname)\n",
      "/usr/local/lib/python3.5/dist-packages/skimage/io/_io.py:132: UserWarning: model/Unet_rmbg/BRCAS2TESRI/Predict_mask/A34-20130902-269.png is a low contrast image\n",
      "  warn('%s is a low contrast image' % fname)\n",
      "/usr/local/lib/python3.5/dist-packages/skimage/io/_io.py:132: UserWarning: model/Unet_rmbg/BRCAS2TESRI/Predict_mask/V12-20140809-233.png is a low contrast image\n",
      "  warn('%s is a low contrast image' % fname)\n",
      "/usr/local/lib/python3.5/dist-packages/skimage/io/_io.py:132: UserWarning: model/Unet_rmbg/BRCAS2TESRI/Predict_mask/A32-20120523-140.png is a low contrast image\n",
      "  warn('%s is a low contrast image' % fname)\n",
      "/usr/local/lib/python3.5/dist-packages/skimage/io/_io.py:132: UserWarning: model/Unet_rmbg/BRCAS2TESRI/Predict_mask/V04-20140530-192.png is a low contrast image\n",
      "  warn('%s is a low contrast image' % fname)\n",
      "/usr/local/lib/python3.5/dist-packages/skimage/io/_io.py:132: UserWarning: model/Unet_rmbg/BRCAS2TESRI/Predict_mask/A32-20111024-024.png is a low contrast image\n",
      "  warn('%s is a low contrast image' % fname)\n",
      "/usr/local/lib/python3.5/dist-packages/skimage/io/_io.py:132: UserWarning: model/Unet_rmbg/BRCAS2TESRI/Predict_mask/V17-20151107-013.png is a low contrast image\n",
      "  warn('%s is a low contrast image' % fname)\n",
      "/usr/local/lib/python3.5/dist-packages/skimage/io/_io.py:132: UserWarning: model/Unet_rmbg/BRCAS2TESRI/Predict_mask/V10-20140328-023.png is a low contrast image\n",
      "  warn('%s is a low contrast image' % fname)\n"
     ]
    },
    {
     "name": "stdout",
     "output_type": "stream",
     "text": [
      "\r",
      "[Predict]-----pred-mini-Batch (74/122)\r"
     ]
    },
    {
     "name": "stderr",
     "output_type": "stream",
     "text": [
      "/usr/local/lib/python3.5/dist-packages/skimage/io/_io.py:132: UserWarning: model/Unet_rmbg/BRCAS2TESRI/Predict_mask/A32-20111024-112.png is a low contrast image\n",
      "  warn('%s is a low contrast image' % fname)\n",
      "/usr/local/lib/python3.5/dist-packages/skimage/io/_io.py:132: UserWarning: model/Unet_rmbg/BRCAS2TESRI/Predict_mask/V17-20140503-085.png is a low contrast image\n",
      "  warn('%s is a low contrast image' % fname)\n",
      "/usr/local/lib/python3.5/dist-packages/skimage/io/_io.py:132: UserWarning: model/Unet_rmbg/BRCAS2TESRI/Predict_mask/A47-20160425-038.png is a low contrast image\n",
      "  warn('%s is a low contrast image' % fname)\n",
      "/usr/local/lib/python3.5/dist-packages/skimage/io/_io.py:132: UserWarning: model/Unet_rmbg/BRCAS2TESRI/Predict_mask/A34-20151209-135.png is a low contrast image\n",
      "  warn('%s is a low contrast image' % fname)\n",
      "/usr/local/lib/python3.5/dist-packages/skimage/io/_io.py:132: UserWarning: model/Unet_rmbg/BRCAS2TESRI/Predict_mask/A32-20111123-023.png is a low contrast image\n",
      "  warn('%s is a low contrast image' % fname)\n",
      "/usr/local/lib/python3.5/dist-packages/skimage/io/_io.py:132: UserWarning: model/Unet_rmbg/BRCAS2TESRI/Predict_mask/A34-20130902-266.png is a low contrast image\n",
      "  warn('%s is a low contrast image' % fname)\n",
      "/usr/local/lib/python3.5/dist-packages/skimage/io/_io.py:132: UserWarning: model/Unet_rmbg/BRCAS2TESRI/Predict_mask/A35-20130221-044.png is a low contrast image\n",
      "  warn('%s is a low contrast image' % fname)\n",
      "/usr/local/lib/python3.5/dist-packages/skimage/io/_io.py:132: UserWarning: model/Unet_rmbg/BRCAS2TESRI/Predict_mask/A36-20130226-018.png is a low contrast image\n",
      "  warn('%s is a low contrast image' % fname)\n",
      "/usr/local/lib/python3.5/dist-packages/skimage/io/_io.py:132: UserWarning: model/Unet_rmbg/BRCAS2TESRI/Predict_mask/A35-20130417-002.png is a low contrast image\n",
      "  warn('%s is a low contrast image' % fname)\n",
      "/usr/local/lib/python3.5/dist-packages/skimage/io/_io.py:132: UserWarning: model/Unet_rmbg/BRCAS2TESRI/Predict_mask/A32-20120725-100.png is a low contrast image\n",
      "  warn('%s is a low contrast image' % fname)\n",
      "/usr/local/lib/python3.5/dist-packages/skimage/io/_io.py:132: UserWarning: model/Unet_rmbg/BRCAS2TESRI/Predict_mask/A46-20151111-196.png is a low contrast image\n",
      "  warn('%s is a low contrast image' % fname)\n"
     ]
    },
    {
     "name": "stdout",
     "output_type": "stream",
     "text": [
      "\r",
      "[Predict]-----pred-mini-Batch (75/122)\r"
     ]
    },
    {
     "name": "stderr",
     "output_type": "stream",
     "text": [
      "/usr/local/lib/python3.5/dist-packages/skimage/io/_io.py:132: UserWarning: model/Unet_rmbg/BRCAS2TESRI/Predict_mask/V04-20130411-058.png is a low contrast image\n",
      "  warn('%s is a low contrast image' % fname)\n",
      "/usr/local/lib/python3.5/dist-packages/skimage/io/_io.py:132: UserWarning: model/Unet_rmbg/BRCAS2TESRI/Predict_mask/V02-20130603-091.png is a low contrast image\n",
      "  warn('%s is a low contrast image' % fname)\n",
      "/usr/local/lib/python3.5/dist-packages/skimage/io/_io.py:132: UserWarning: model/Unet_rmbg/BRCAS2TESRI/Predict_mask/A32-20111123-064.png is a low contrast image\n",
      "  warn('%s is a low contrast image' % fname)\n",
      "/usr/local/lib/python3.5/dist-packages/skimage/io/_io.py:132: UserWarning: model/Unet_rmbg/BRCAS2TESRI/Predict_mask/A38-20140325-072.png is a low contrast image\n",
      "  warn('%s is a low contrast image' % fname)\n",
      "/usr/local/lib/python3.5/dist-packages/skimage/io/_io.py:132: UserWarning: model/Unet_rmbg/BRCAS2TESRI/Predict_mask/V18-20151007-049.png is a low contrast image\n",
      "  warn('%s is a low contrast image' % fname)\n",
      "/usr/local/lib/python3.5/dist-packages/skimage/io/_io.py:132: UserWarning: model/Unet_rmbg/BRCAS2TESRI/Predict_mask/A35-20130605-120.png is a low contrast image\n",
      "  warn('%s is a low contrast image' % fname)\n",
      "/usr/local/lib/python3.5/dist-packages/skimage/io/_io.py:132: UserWarning: model/Unet_rmbg/BRCAS2TESRI/Predict_mask/A44-20141021-010.png is a low contrast image\n",
      "  warn('%s is a low contrast image' % fname)\n",
      "/usr/local/lib/python3.5/dist-packages/skimage/io/_io.py:132: UserWarning: model/Unet_rmbg/BRCAS2TESRI/Predict_mask/A34-20140626-131.png is a low contrast image\n",
      "  warn('%s is a low contrast image' % fname)\n",
      "/usr/local/lib/python3.5/dist-packages/skimage/io/_io.py:132: UserWarning: model/Unet_rmbg/BRCAS2TESRI/Predict_mask/V12-20130927-029.png is a low contrast image\n",
      "  warn('%s is a low contrast image' % fname)\n",
      "/usr/local/lib/python3.5/dist-packages/skimage/io/_io.py:132: UserWarning: model/Unet_rmbg/BRCAS2TESRI/Predict_mask/A48-20150318-044.png is a low contrast image\n",
      "  warn('%s is a low contrast image' % fname)\n",
      "/usr/local/lib/python3.5/dist-packages/skimage/io/_io.py:132: UserWarning: model/Unet_rmbg/BRCAS2TESRI/Predict_mask/A38-20130805-120.png is a low contrast image\n",
      "  warn('%s is a low contrast image' % fname)\n",
      "/usr/local/lib/python3.5/dist-packages/skimage/io/_io.py:132: UserWarning: model/Unet_rmbg/BRCAS2TESRI/Predict_mask/V11-20150226-026.png is a low contrast image\n",
      "  warn('%s is a low contrast image' % fname)\n"
     ]
    },
    {
     "name": "stdout",
     "output_type": "stream",
     "text": [
      "\r",
      "[Predict]-----pred-mini-Batch (76/122)\r"
     ]
    },
    {
     "name": "stderr",
     "output_type": "stream",
     "text": [
      "/usr/local/lib/python3.5/dist-packages/skimage/io/_io.py:132: UserWarning: model/Unet_rmbg/BRCAS2TESRI/Predict_mask/A36-20130606-048.png is a low contrast image\n",
      "  warn('%s is a low contrast image' % fname)\n",
      "/usr/local/lib/python3.5/dist-packages/skimage/io/_io.py:132: UserWarning: model/Unet_rmbg/BRCAS2TESRI/Predict_mask/V12-20130927-027.png is a low contrast image\n",
      "  warn('%s is a low contrast image' % fname)\n",
      "/usr/local/lib/python3.5/dist-packages/skimage/io/_io.py:132: UserWarning: model/Unet_rmbg/BRCAS2TESRI/Predict_mask/A32-20120725-114.png is a low contrast image\n",
      "  warn('%s is a low contrast image' % fname)\n",
      "/usr/local/lib/python3.5/dist-packages/skimage/io/_io.py:132: UserWarning: model/Unet_rmbg/BRCAS2TESRI/Predict_mask/A37-20140303-023.png is a low contrast image\n",
      "  warn('%s is a low contrast image' % fname)\n",
      "/usr/local/lib/python3.5/dist-packages/skimage/io/_io.py:132: UserWarning: model/Unet_rmbg/BRCAS2TESRI/Predict_mask/A41-20140206-091.png is a low contrast image\n",
      "  warn('%s is a low contrast image' % fname)\n",
      "/usr/local/lib/python3.5/dist-packages/skimage/io/_io.py:132: UserWarning: model/Unet_rmbg/BRCAS2TESRI/Predict_mask/V06-20130805-098.png is a low contrast image\n",
      "  warn('%s is a low contrast image' % fname)\n",
      "/usr/local/lib/python3.5/dist-packages/skimage/io/_io.py:132: UserWarning: model/Unet_rmbg/BRCAS2TESRI/Predict_mask/V03-20130409-023.png is a low contrast image\n",
      "  warn('%s is a low contrast image' % fname)\n",
      "/usr/local/lib/python3.5/dist-packages/skimage/io/_io.py:132: UserWarning: model/Unet_rmbg/BRCAS2TESRI/Predict_mask/A35-20130605-034.png is a low contrast image\n",
      "  warn('%s is a low contrast image' % fname)\n",
      "/usr/local/lib/python3.5/dist-packages/skimage/io/_io.py:132: UserWarning: model/Unet_rmbg/BRCAS2TESRI/Predict_mask/V13-20130928-062.png is a low contrast image\n",
      "  warn('%s is a low contrast image' % fname)\n",
      "/usr/local/lib/python3.5/dist-packages/skimage/io/_io.py:132: UserWarning: model/Unet_rmbg/BRCAS2TESRI/Predict_mask/A48-20160601-285.png is a low contrast image\n",
      "  warn('%s is a low contrast image' % fname)\n",
      "/usr/local/lib/python3.5/dist-packages/skimage/io/_io.py:132: UserWarning: model/Unet_rmbg/BRCAS2TESRI/Predict_mask/A35-20130221-043.png is a low contrast image\n",
      "  warn('%s is a low contrast image' % fname)\n"
     ]
    },
    {
     "name": "stdout",
     "output_type": "stream",
     "text": [
      "\r",
      "[Predict]-----pred-mini-Batch (77/122)\r"
     ]
    },
    {
     "name": "stderr",
     "output_type": "stream",
     "text": [
      "/usr/local/lib/python3.5/dist-packages/skimage/io/_io.py:132: UserWarning: model/Unet_rmbg/BRCAS2TESRI/Predict_mask/V11-20130608-113.png is a low contrast image\n",
      "  warn('%s is a low contrast image' % fname)\n",
      "/usr/local/lib/python3.5/dist-packages/skimage/io/_io.py:132: UserWarning: model/Unet_rmbg/BRCAS2TESRI/Predict_mask/A32-20111024-162.png is a low contrast image\n",
      "  warn('%s is a low contrast image' % fname)\n",
      "/usr/local/lib/python3.5/dist-packages/skimage/io/_io.py:132: UserWarning: model/Unet_rmbg/BRCAS2TESRI/Predict_mask/V18-20160309-035.png is a low contrast image\n",
      "  warn('%s is a low contrast image' % fname)\n",
      "/usr/local/lib/python3.5/dist-packages/skimage/io/_io.py:132: UserWarning: model/Unet_rmbg/BRCAS2TESRI/Predict_mask/V12-20131128-086.png is a low contrast image\n",
      "  warn('%s is a low contrast image' % fname)\n",
      "/usr/local/lib/python3.5/dist-packages/skimage/io/_io.py:132: UserWarning: model/Unet_rmbg/BRCAS2TESRI/Predict_mask/V05-20130607-062.png is a low contrast image\n",
      "  warn('%s is a low contrast image' % fname)\n",
      "/usr/local/lib/python3.5/dist-packages/skimage/io/_io.py:132: UserWarning: model/Unet_rmbg/BRCAS2TESRI/Predict_mask/A35-20140302-029.png is a low contrast image\n",
      "  warn('%s is a low contrast image' % fname)\n",
      "/usr/local/lib/python3.5/dist-packages/skimage/io/_io.py:132: UserWarning: model/Unet_rmbg/BRCAS2TESRI/Predict_mask/A42-20140430-116.png is a low contrast image\n",
      "  warn('%s is a low contrast image' % fname)\n",
      "/usr/local/lib/python3.5/dist-packages/skimage/io/_io.py:132: UserWarning: model/Unet_rmbg/BRCAS2TESRI/Predict_mask/V04-20140530-153.png is a low contrast image\n",
      "  warn('%s is a low contrast image' % fname)\n",
      "/usr/local/lib/python3.5/dist-packages/skimage/io/_io.py:132: UserWarning: model/Unet_rmbg/BRCAS2TESRI/Predict_mask/V11-20131109-040.png is a low contrast image\n",
      "  warn('%s is a low contrast image' % fname)\n",
      "/usr/local/lib/python3.5/dist-packages/skimage/io/_io.py:132: UserWarning: model/Unet_rmbg/BRCAS2TESRI/Predict_mask/V03-20130606-175.png is a low contrast image\n",
      "  warn('%s is a low contrast image' % fname)\n",
      "/usr/local/lib/python3.5/dist-packages/skimage/io/_io.py:132: UserWarning: model/Unet_rmbg/BRCAS2TESRI/Predict_mask/A32-20120222-091.png is a low contrast image\n",
      "  warn('%s is a low contrast image' % fname)\n",
      "/usr/local/lib/python3.5/dist-packages/skimage/io/_io.py:132: UserWarning: model/Unet_rmbg/BRCAS2TESRI/Predict_mask/A32-20120830-050.png is a low contrast image\n",
      "  warn('%s is a low contrast image' % fname)\n"
     ]
    },
    {
     "name": "stdout",
     "output_type": "stream",
     "text": [
      "\r",
      "[Predict]-----pred-mini-Batch (78/122)\r"
     ]
    },
    {
     "name": "stderr",
     "output_type": "stream",
     "text": [
      "/usr/local/lib/python3.5/dist-packages/skimage/io/_io.py:132: UserWarning: model/Unet_rmbg/BRCAS2TESRI/Predict_mask/V04-20130509-063.png is a low contrast image\n",
      "  warn('%s is a low contrast image' % fname)\n",
      "/usr/local/lib/python3.5/dist-packages/skimage/io/_io.py:132: UserWarning: model/Unet_rmbg/BRCAS2TESRI/Predict_mask/A32-20111123-060.png is a low contrast image\n",
      "  warn('%s is a low contrast image' % fname)\n",
      "/usr/local/lib/python3.5/dist-packages/skimage/io/_io.py:132: UserWarning: model/Unet_rmbg/BRCAS2TESRI/Predict_mask/A35-20140302-063.png is a low contrast image\n",
      "  warn('%s is a low contrast image' % fname)\n",
      "/usr/local/lib/python3.5/dist-packages/skimage/io/_io.py:132: UserWarning: model/Unet_rmbg/BRCAS2TESRI/Predict_mask/V03-20130409-025.png is a low contrast image\n",
      "  warn('%s is a low contrast image' % fname)\n",
      "/usr/local/lib/python3.5/dist-packages/skimage/io/_io.py:132: UserWarning: model/Unet_rmbg/BRCAS2TESRI/Predict_mask/A34-20130902-273.png is a low contrast image\n",
      "  warn('%s is a low contrast image' % fname)\n",
      "/usr/local/lib/python3.5/dist-packages/skimage/io/_io.py:132: UserWarning: model/Unet_rmbg/BRCAS2TESRI/Predict_mask/A38-20130416-017.png is a low contrast image\n",
      "  warn('%s is a low contrast image' % fname)\n",
      "/usr/local/lib/python3.5/dist-packages/skimage/io/_io.py:132: UserWarning: model/Unet_rmbg/BRCAS2TESRI/Predict_mask/V12-20130927-003.png is a low contrast image\n",
      "  warn('%s is a low contrast image' % fname)\n",
      "/usr/local/lib/python3.5/dist-packages/skimage/io/_io.py:132: UserWarning: model/Unet_rmbg/BRCAS2TESRI/Predict_mask/V13-20130428-003.png is a low contrast image\n",
      "  warn('%s is a low contrast image' % fname)\n",
      "/usr/local/lib/python3.5/dist-packages/skimage/io/_io.py:132: UserWarning: model/Unet_rmbg/BRCAS2TESRI/Predict_mask/A41-20140325-087.png is a low contrast image\n",
      "  warn('%s is a low contrast image' % fname)\n",
      "/usr/local/lib/python3.5/dist-packages/skimage/io/_io.py:132: UserWarning: model/Unet_rmbg/BRCAS2TESRI/Predict_mask/A32-20120523-121.png is a low contrast image\n",
      "  warn('%s is a low contrast image' % fname)\n",
      "/usr/local/lib/python3.5/dist-packages/skimage/io/_io.py:132: UserWarning: model/Unet_rmbg/BRCAS2TESRI/Predict_mask/V15-20140327-020.png is a low contrast image\n",
      "  warn('%s is a low contrast image' % fname)\n",
      "/usr/local/lib/python3.5/dist-packages/skimage/io/_io.py:132: UserWarning: model/Unet_rmbg/BRCAS2TESRI/Predict_mask/B12-20120921-022.png is a low contrast image\n",
      "  warn('%s is a low contrast image' % fname)\n"
     ]
    },
    {
     "name": "stdout",
     "output_type": "stream",
     "text": [
      "\r",
      "[Predict]-----pred-mini-Batch (79/122)\r"
     ]
    },
    {
     "name": "stderr",
     "output_type": "stream",
     "text": [
      "/usr/local/lib/python3.5/dist-packages/skimage/io/_io.py:132: UserWarning: model/Unet_rmbg/BRCAS2TESRI/Predict_mask/A34-20130506-087.png is a low contrast image\n",
      "  warn('%s is a low contrast image' % fname)\n",
      "/usr/local/lib/python3.5/dist-packages/skimage/io/_io.py:132: UserWarning: model/Unet_rmbg/BRCAS2TESRI/Predict_mask/V12-20131223-004.png is a low contrast image\n",
      "  warn('%s is a low contrast image' % fname)\n",
      "/usr/local/lib/python3.5/dist-packages/skimage/io/_io.py:132: UserWarning: model/Unet_rmbg/BRCAS2TESRI/Predict_mask/A34-20130902-204.png is a low contrast image\n",
      "  warn('%s is a low contrast image' % fname)\n",
      "/usr/local/lib/python3.5/dist-packages/skimage/io/_io.py:132: UserWarning: model/Unet_rmbg/BRCAS2TESRI/Predict_mask/V12-20131128-108.png is a low contrast image\n",
      "  warn('%s is a low contrast image' % fname)\n",
      "/usr/local/lib/python3.5/dist-packages/skimage/io/_io.py:132: UserWarning: model/Unet_rmbg/BRCAS2TESRI/Predict_mask/A34-20140826-113.png is a low contrast image\n",
      "  warn('%s is a low contrast image' % fname)\n",
      "/usr/local/lib/python3.5/dist-packages/skimage/io/_io.py:132: UserWarning: model/Unet_rmbg/BRCAS2TESRI/Predict_mask/V03-20130809-020.png is a low contrast image\n",
      "  warn('%s is a low contrast image' % fname)\n",
      "/usr/local/lib/python3.5/dist-packages/skimage/io/_io.py:132: UserWarning: model/Unet_rmbg/BRCAS2TESRI/Predict_mask/A35-20130805-209.png is a low contrast image\n",
      "  warn('%s is a low contrast image' % fname)\n",
      "/usr/local/lib/python3.5/dist-packages/skimage/io/_io.py:132: UserWarning: model/Unet_rmbg/BRCAS2TESRI/Predict_mask/V04-20130606-078.png is a low contrast image\n",
      "  warn('%s is a low contrast image' % fname)\n",
      "/usr/local/lib/python3.5/dist-packages/skimage/io/_io.py:132: UserWarning: model/Unet_rmbg/BRCAS2TESRI/Predict_mask/A34-20130313-002.png is a low contrast image\n",
      "  warn('%s is a low contrast image' % fname)\n",
      "/usr/local/lib/python3.5/dist-packages/skimage/io/_io.py:132: UserWarning: model/Unet_rmbg/BRCAS2TESRI/Predict_mask/A34-20130506-046.png is a low contrast image\n",
      "  warn('%s is a low contrast image' % fname)\n",
      "/usr/local/lib/python3.5/dist-packages/skimage/io/_io.py:132: UserWarning: model/Unet_rmbg/BRCAS2TESRI/Predict_mask/A35-20150609-256.png is a low contrast image\n",
      "  warn('%s is a low contrast image' % fname)\n",
      "/usr/local/lib/python3.5/dist-packages/skimage/io/_io.py:132: UserWarning: model/Unet_rmbg/BRCAS2TESRI/Predict_mask/A42-20140430-082.png is a low contrast image\n",
      "  warn('%s is a low contrast image' % fname)\n",
      "/usr/local/lib/python3.5/dist-packages/skimage/io/_io.py:132: UserWarning: model/Unet_rmbg/BRCAS2TESRI/Predict_mask/A34-20130902-251.png is a low contrast image\n",
      "  warn('%s is a low contrast image' % fname)\n"
     ]
    },
    {
     "name": "stdout",
     "output_type": "stream",
     "text": [
      "\r",
      "[Predict]-----pred-mini-Batch (80/122)\r"
     ]
    },
    {
     "name": "stderr",
     "output_type": "stream",
     "text": [
      "/usr/local/lib/python3.5/dist-packages/skimage/io/_io.py:132: UserWarning: model/Unet_rmbg/BRCAS2TESRI/Predict_mask/V03-20130409-130.png is a low contrast image\n",
      "  warn('%s is a low contrast image' % fname)\n",
      "/usr/local/lib/python3.5/dist-packages/skimage/io/_io.py:132: UserWarning: model/Unet_rmbg/BRCAS2TESRI/Predict_mask/V03-20130809-009.png is a low contrast image\n",
      "  warn('%s is a low contrast image' % fname)\n",
      "/usr/local/lib/python3.5/dist-packages/skimage/io/_io.py:132: UserWarning: model/Unet_rmbg/BRCAS2TESRI/Predict_mask/A38-20140325-092.png is a low contrast image\n",
      "  warn('%s is a low contrast image' % fname)\n",
      "/usr/local/lib/python3.5/dist-packages/skimage/io/_io.py:132: UserWarning: model/Unet_rmbg/BRCAS2TESRI/Predict_mask/V03-20140303-058.png is a low contrast image\n",
      "  warn('%s is a low contrast image' % fname)\n",
      "/usr/local/lib/python3.5/dist-packages/skimage/io/_io.py:132: UserWarning: model/Unet_rmbg/BRCAS2TESRI/Predict_mask/V02-20130603-046.png is a low contrast image\n",
      "  warn('%s is a low contrast image' % fname)\n",
      "/usr/local/lib/python3.5/dist-packages/skimage/io/_io.py:132: UserWarning: model/Unet_rmbg/BRCAS2TESRI/Predict_mask/A34-20130313-059.png is a low contrast image\n",
      "  warn('%s is a low contrast image' % fname)\n",
      "/usr/local/lib/python3.5/dist-packages/skimage/io/_io.py:132: UserWarning: model/Unet_rmbg/BRCAS2TESRI/Predict_mask/A36-20130226-009.png is a low contrast image\n",
      "  warn('%s is a low contrast image' % fname)\n",
      "/usr/local/lib/python3.5/dist-packages/skimage/io/_io.py:132: UserWarning: model/Unet_rmbg/BRCAS2TESRI/Predict_mask/V11-20130810-028.png is a low contrast image\n",
      "  warn('%s is a low contrast image' % fname)\n",
      "/usr/local/lib/python3.5/dist-packages/skimage/io/_io.py:132: UserWarning: model/Unet_rmbg/BRCAS2TESRI/Predict_mask/V12-20130910-057.png is a low contrast image\n",
      "  warn('%s is a low contrast image' % fname)\n",
      "/usr/local/lib/python3.5/dist-packages/skimage/io/_io.py:132: UserWarning: model/Unet_rmbg/BRCAS2TESRI/Predict_mask/A35-20130417-152.png is a low contrast image\n",
      "  warn('%s is a low contrast image' % fname)\n",
      "/usr/local/lib/python3.5/dist-packages/skimage/io/_io.py:132: UserWarning: model/Unet_rmbg/BRCAS2TESRI/Predict_mask/V04-20140530-194.png is a low contrast image\n",
      "  warn('%s is a low contrast image' % fname)\n"
     ]
    },
    {
     "name": "stdout",
     "output_type": "stream",
     "text": [
      "\r",
      "[Predict]-----pred-mini-Batch (81/122)\r"
     ]
    },
    {
     "name": "stderr",
     "output_type": "stream",
     "text": [
      "/usr/local/lib/python3.5/dist-packages/skimage/io/_io.py:132: UserWarning: model/Unet_rmbg/BRCAS2TESRI/Predict_mask/V04-20140530-196.png is a low contrast image\n",
      "  warn('%s is a low contrast image' % fname)\n",
      "/usr/local/lib/python3.5/dist-packages/skimage/io/_io.py:132: UserWarning: model/Unet_rmbg/BRCAS2TESRI/Predict_mask/V04-20130509-042.png is a low contrast image\n",
      "  warn('%s is a low contrast image' % fname)\n",
      "/usr/local/lib/python3.5/dist-packages/skimage/io/_io.py:132: UserWarning: model/Unet_rmbg/BRCAS2TESRI/Predict_mask/V12-20131028-012.png is a low contrast image\n",
      "  warn('%s is a low contrast image' % fname)\n",
      "/usr/local/lib/python3.5/dist-packages/skimage/io/_io.py:132: UserWarning: model/Unet_rmbg/BRCAS2TESRI/Predict_mask/A34-20130709-071.png is a low contrast image\n",
      "  warn('%s is a low contrast image' % fname)\n",
      "/usr/local/lib/python3.5/dist-packages/skimage/io/_io.py:132: UserWarning: model/Unet_rmbg/BRCAS2TESRI/Predict_mask/V03-20140917-040.png is a low contrast image\n",
      "  warn('%s is a low contrast image' % fname)\n",
      "/usr/local/lib/python3.5/dist-packages/skimage/io/_io.py:132: UserWarning: model/Unet_rmbg/BRCAS2TESRI/Predict_mask/A32-20111024-093.png is a low contrast image\n",
      "  warn('%s is a low contrast image' % fname)\n",
      "/usr/local/lib/python3.5/dist-packages/skimage/io/_io.py:132: UserWarning: model/Unet_rmbg/BRCAS2TESRI/Predict_mask/V12-20130628-044.png is a low contrast image\n",
      "  warn('%s is a low contrast image' % fname)\n",
      "/usr/local/lib/python3.5/dist-packages/skimage/io/_io.py:132: UserWarning: model/Unet_rmbg/BRCAS2TESRI/Predict_mask/A35-20130605-137.png is a low contrast image\n",
      "  warn('%s is a low contrast image' % fname)\n",
      "/usr/local/lib/python3.5/dist-packages/skimage/io/_io.py:132: UserWarning: model/Unet_rmbg/BRCAS2TESRI/Predict_mask/A39-20130807-070.png is a low contrast image\n",
      "  warn('%s is a low contrast image' % fname)\n"
     ]
    },
    {
     "name": "stdout",
     "output_type": "stream",
     "text": [
      "\r",
      "[Predict]-----pred-mini-Batch (82/122)\r"
     ]
    },
    {
     "name": "stderr",
     "output_type": "stream",
     "text": [
      "/usr/local/lib/python3.5/dist-packages/skimage/io/_io.py:132: UserWarning: model/Unet_rmbg/BRCAS2TESRI/Predict_mask/V02-20141124-082.png is a low contrast image\n",
      "  warn('%s is a low contrast image' % fname)\n",
      "/usr/local/lib/python3.5/dist-packages/skimage/io/_io.py:132: UserWarning: model/Unet_rmbg/BRCAS2TESRI/Predict_mask/A35-20130417-068.png is a low contrast image\n",
      "  warn('%s is a low contrast image' % fname)\n",
      "/usr/local/lib/python3.5/dist-packages/skimage/io/_io.py:132: UserWarning: model/Unet_rmbg/BRCAS2TESRI/Predict_mask/V15-20140531-015.png is a low contrast image\n",
      "  warn('%s is a low contrast image' % fname)\n",
      "/usr/local/lib/python3.5/dist-packages/skimage/io/_io.py:132: UserWarning: model/Unet_rmbg/BRCAS2TESRI/Predict_mask/V12-20131028-061.png is a low contrast image\n",
      "  warn('%s is a low contrast image' % fname)\n",
      "/usr/local/lib/python3.5/dist-packages/skimage/io/_io.py:132: UserWarning: model/Unet_rmbg/BRCAS2TESRI/Predict_mask/A35-20140101-043.png is a low contrast image\n",
      "  warn('%s is a low contrast image' % fname)\n",
      "/usr/local/lib/python3.5/dist-packages/skimage/io/_io.py:132: UserWarning: model/Unet_rmbg/BRCAS2TESRI/Predict_mask/V04-20130606-093.png is a low contrast image\n",
      "  warn('%s is a low contrast image' % fname)\n",
      "/usr/local/lib/python3.5/dist-packages/skimage/io/_io.py:132: UserWarning: model/Unet_rmbg/BRCAS2TESRI/Predict_mask/A42-20160713-043.png is a low contrast image\n",
      "  warn('%s is a low contrast image' % fname)\n",
      "/usr/local/lib/python3.5/dist-packages/skimage/io/_io.py:132: UserWarning: model/Unet_rmbg/BRCAS2TESRI/Predict_mask/V01-20131026-001.png is a low contrast image\n",
      "  warn('%s is a low contrast image' % fname)\n",
      "/usr/local/lib/python3.5/dist-packages/skimage/io/_io.py:132: UserWarning: model/Unet_rmbg/BRCAS2TESRI/Predict_mask/V12-20140809-259.png is a low contrast image\n",
      "  warn('%s is a low contrast image' % fname)\n",
      "/usr/local/lib/python3.5/dist-packages/skimage/io/_io.py:132: UserWarning: model/Unet_rmbg/BRCAS2TESRI/Predict_mask/A32-20111024-069.png is a low contrast image\n",
      "  warn('%s is a low contrast image' % fname)\n",
      "/usr/local/lib/python3.5/dist-packages/skimage/io/_io.py:132: UserWarning: model/Unet_rmbg/BRCAS2TESRI/Predict_mask/V02-20130603-081.png is a low contrast image\n",
      "  warn('%s is a low contrast image' % fname)\n",
      "/usr/local/lib/python3.5/dist-packages/skimage/io/_io.py:132: UserWarning: model/Unet_rmbg/BRCAS2TESRI/Predict_mask/B13-20120926-004.png is a low contrast image\n",
      "  warn('%s is a low contrast image' % fname)\n"
     ]
    },
    {
     "name": "stdout",
     "output_type": "stream",
     "text": [
      "\r",
      "[Predict]-----pred-mini-Batch (83/122)\r"
     ]
    },
    {
     "name": "stderr",
     "output_type": "stream",
     "text": [
      "/usr/local/lib/python3.5/dist-packages/skimage/io/_io.py:132: UserWarning: model/Unet_rmbg/BRCAS2TESRI/Predict_mask/V02-20140204-105.png is a low contrast image\n",
      "  warn('%s is a low contrast image' % fname)\n",
      "/usr/local/lib/python3.5/dist-packages/skimage/io/_io.py:132: UserWarning: model/Unet_rmbg/BRCAS2TESRI/Predict_mask/V07-20130412-049.png is a low contrast image\n",
      "  warn('%s is a low contrast image' % fname)\n",
      "/usr/local/lib/python3.5/dist-packages/skimage/io/_io.py:132: UserWarning: model/Unet_rmbg/BRCAS2TESRI/Predict_mask/V02-20140204-107.png is a low contrast image\n",
      "  warn('%s is a low contrast image' % fname)\n",
      "/usr/local/lib/python3.5/dist-packages/skimage/io/_io.py:132: UserWarning: model/Unet_rmbg/BRCAS2TESRI/Predict_mask/A42-20140430-111.png is a low contrast image\n",
      "  warn('%s is a low contrast image' % fname)\n",
      "/usr/local/lib/python3.5/dist-packages/skimage/io/_io.py:132: UserWarning: model/Unet_rmbg/BRCAS2TESRI/Predict_mask/A41-20140325-116.png is a low contrast image\n",
      "  warn('%s is a low contrast image' % fname)\n",
      "/usr/local/lib/python3.5/dist-packages/skimage/io/_io.py:132: UserWarning: model/Unet_rmbg/BRCAS2TESRI/Predict_mask/V04-20130509-075.png is a low contrast image\n",
      "  warn('%s is a low contrast image' % fname)\n",
      "/usr/local/lib/python3.5/dist-packages/skimage/io/_io.py:132: UserWarning: model/Unet_rmbg/BRCAS2TESRI/Predict_mask/V03-20140303-034.png is a low contrast image\n",
      "  warn('%s is a low contrast image' % fname)\n",
      "/usr/local/lib/python3.5/dist-packages/skimage/io/_io.py:132: UserWarning: model/Unet_rmbg/BRCAS2TESRI/Predict_mask/V06-20140820-110.png is a low contrast image\n",
      "  warn('%s is a low contrast image' % fname)\n",
      "/usr/local/lib/python3.5/dist-packages/skimage/io/_io.py:132: UserWarning: model/Unet_rmbg/BRCAS2TESRI/Predict_mask/V14-20130428-006.png is a low contrast image\n",
      "  warn('%s is a low contrast image' % fname)\n"
     ]
    },
    {
     "name": "stdout",
     "output_type": "stream",
     "text": [
      "\r",
      "[Predict]-----pred-mini-Batch (84/122)\r"
     ]
    },
    {
     "name": "stderr",
     "output_type": "stream",
     "text": [
      "/usr/local/lib/python3.5/dist-packages/skimage/io/_io.py:132: UserWarning: model/Unet_rmbg/BRCAS2TESRI/Predict_mask/V14-20130428-103.png is a low contrast image\n",
      "  warn('%s is a low contrast image' % fname)\n",
      "/usr/local/lib/python3.5/dist-packages/skimage/io/_io.py:132: UserWarning: model/Unet_rmbg/BRCAS2TESRI/Predict_mask/A39-20130807-056.png is a low contrast image\n",
      "  warn('%s is a low contrast image' % fname)\n",
      "/usr/local/lib/python3.5/dist-packages/skimage/io/_io.py:132: UserWarning: model/Unet_rmbg/BRCAS2TESRI/Predict_mask/V07-20140321-009.png is a low contrast image\n",
      "  warn('%s is a low contrast image' % fname)\n",
      "/usr/local/lib/python3.5/dist-packages/skimage/io/_io.py:132: UserWarning: model/Unet_rmbg/BRCAS2TESRI/Predict_mask/V03-20130510-135.png is a low contrast image\n",
      "  warn('%s is a low contrast image' % fname)\n",
      "/usr/local/lib/python3.5/dist-packages/skimage/io/_io.py:132: UserWarning: model/Unet_rmbg/BRCAS2TESRI/Predict_mask/V12-20130910-073.png is a low contrast image\n",
      "  warn('%s is a low contrast image' % fname)\n",
      "/usr/local/lib/python3.5/dist-packages/skimage/io/_io.py:132: UserWarning: model/Unet_rmbg/BRCAS2TESRI/Predict_mask/V07-20130809-050.png is a low contrast image\n",
      "  warn('%s is a low contrast image' % fname)\n",
      "/usr/local/lib/python3.5/dist-packages/skimage/io/_io.py:132: UserWarning: model/Unet_rmbg/BRCAS2TESRI/Predict_mask/V03-20130510-124.png is a low contrast image\n",
      "  warn('%s is a low contrast image' % fname)\n",
      "/usr/local/lib/python3.5/dist-packages/skimage/io/_io.py:132: UserWarning: model/Unet_rmbg/BRCAS2TESRI/Predict_mask/V14-20130428-122.png is a low contrast image\n",
      "  warn('%s is a low contrast image' % fname)\n",
      "/usr/local/lib/python3.5/dist-packages/skimage/io/_io.py:132: UserWarning: model/Unet_rmbg/BRCAS2TESRI/Predict_mask/A38-20130416-013.png is a low contrast image\n",
      "  warn('%s is a low contrast image' % fname)\n",
      "/usr/local/lib/python3.5/dist-packages/skimage/io/_io.py:132: UserWarning: model/Unet_rmbg/BRCAS2TESRI/Predict_mask/A37-20130418-008.png is a low contrast image\n",
      "  warn('%s is a low contrast image' % fname)\n"
     ]
    },
    {
     "name": "stdout",
     "output_type": "stream",
     "text": [
      "\r",
      "[Predict]-----pred-mini-Batch (85/122)\r"
     ]
    },
    {
     "name": "stderr",
     "output_type": "stream",
     "text": [
      "/usr/local/lib/python3.5/dist-packages/skimage/io/_io.py:132: UserWarning: model/Unet_rmbg/BRCAS2TESRI/Predict_mask/A41-20140325-038.png is a low contrast image\n",
      "  warn('%s is a low contrast image' % fname)\n",
      "/usr/local/lib/python3.5/dist-packages/skimage/io/_io.py:132: UserWarning: model/Unet_rmbg/BRCAS2TESRI/Predict_mask/A34-20130313-019.png is a low contrast image\n",
      "  warn('%s is a low contrast image' % fname)\n",
      "/usr/local/lib/python3.5/dist-packages/skimage/io/_io.py:132: UserWarning: model/Unet_rmbg/BRCAS2TESRI/Predict_mask/V12-20130628-068.png is a low contrast image\n",
      "  warn('%s is a low contrast image' % fname)\n",
      "/usr/local/lib/python3.5/dist-packages/skimage/io/_io.py:132: UserWarning: model/Unet_rmbg/BRCAS2TESRI/Predict_mask/V02-20131201-010.png is a low contrast image\n",
      "  warn('%s is a low contrast image' % fname)\n",
      "/usr/local/lib/python3.5/dist-packages/skimage/io/_io.py:132: UserWarning: model/Unet_rmbg/BRCAS2TESRI/Predict_mask/V11-20130608-008.png is a low contrast image\n",
      "  warn('%s is a low contrast image' % fname)\n",
      "/usr/local/lib/python3.5/dist-packages/skimage/io/_io.py:132: UserWarning: model/Unet_rmbg/BRCAS2TESRI/Predict_mask/A41-20140325-174.png is a low contrast image\n",
      "  warn('%s is a low contrast image' % fname)\n",
      "/usr/local/lib/python3.5/dist-packages/skimage/io/_io.py:132: UserWarning: model/Unet_rmbg/BRCAS2TESRI/Predict_mask/V03-20130909-057.png is a low contrast image\n",
      "  warn('%s is a low contrast image' % fname)\n",
      "/usr/local/lib/python3.5/dist-packages/skimage/io/_io.py:132: UserWarning: model/Unet_rmbg/BRCAS2TESRI/Predict_mask/A34-20140226-008.png is a low contrast image\n",
      "  warn('%s is a low contrast image' % fname)\n",
      "/usr/local/lib/python3.5/dist-packages/skimage/io/_io.py:132: UserWarning: model/Unet_rmbg/BRCAS2TESRI/Predict_mask/V17-20140412-002.png is a low contrast image\n",
      "  warn('%s is a low contrast image' % fname)\n",
      "/usr/local/lib/python3.5/dist-packages/skimage/io/_io.py:132: UserWarning: model/Unet_rmbg/BRCAS2TESRI/Predict_mask/V29-20160827-009.png is a low contrast image\n",
      "  warn('%s is a low contrast image' % fname)\n",
      "/usr/local/lib/python3.5/dist-packages/skimage/io/_io.py:132: UserWarning: model/Unet_rmbg/BRCAS2TESRI/Predict_mask/V06-20130805-013.png is a low contrast image\n",
      "  warn('%s is a low contrast image' % fname)\n",
      "/usr/local/lib/python3.5/dist-packages/skimage/io/_io.py:132: UserWarning: model/Unet_rmbg/BRCAS2TESRI/Predict_mask/A32-20120725-061.png is a low contrast image\n",
      "  warn('%s is a low contrast image' % fname)\n",
      "/usr/local/lib/python3.5/dist-packages/skimage/io/_io.py:132: UserWarning: model/Unet_rmbg/BRCAS2TESRI/Predict_mask/A35-20140501-039.png is a low contrast image\n",
      "  warn('%s is a low contrast image' % fname)\n"
     ]
    },
    {
     "name": "stdout",
     "output_type": "stream",
     "text": [
      "\r",
      "[Predict]-----pred-mini-Batch (86/122)\r"
     ]
    },
    {
     "name": "stderr",
     "output_type": "stream",
     "text": [
      "/usr/local/lib/python3.5/dist-packages/skimage/io/_io.py:132: UserWarning: model/Unet_rmbg/BRCAS2TESRI/Predict_mask/V12-20130528-078.png is a low contrast image\n",
      "  warn('%s is a low contrast image' % fname)\n",
      "/usr/local/lib/python3.5/dist-packages/skimage/io/_io.py:132: UserWarning: model/Unet_rmbg/BRCAS2TESRI/Predict_mask/V04-20130606-055.png is a low contrast image\n",
      "  warn('%s is a low contrast image' % fname)\n",
      "/usr/local/lib/python3.5/dist-packages/skimage/io/_io.py:132: UserWarning: model/Unet_rmbg/BRCAS2TESRI/Predict_mask/V12-20130528-025.png is a low contrast image\n",
      "  warn('%s is a low contrast image' % fname)\n",
      "/usr/local/lib/python3.5/dist-packages/skimage/io/_io.py:132: UserWarning: model/Unet_rmbg/BRCAS2TESRI/Predict_mask/V03-20150422-039.png is a low contrast image\n",
      "  warn('%s is a low contrast image' % fname)\n",
      "/usr/local/lib/python3.5/dist-packages/skimage/io/_io.py:132: UserWarning: model/Unet_rmbg/BRCAS2TESRI/Predict_mask/A38-20130416-089.png is a low contrast image\n",
      "  warn('%s is a low contrast image' % fname)\n",
      "/usr/local/lib/python3.5/dist-packages/skimage/io/_io.py:132: UserWarning: model/Unet_rmbg/BRCAS2TESRI/Predict_mask/V04-20140721-165.png is a low contrast image\n",
      "  warn('%s is a low contrast image' % fname)\n",
      "/usr/local/lib/python3.5/dist-packages/skimage/io/_io.py:132: UserWarning: model/Unet_rmbg/BRCAS2TESRI/Predict_mask/V14-20130428-080.png is a low contrast image\n",
      "  warn('%s is a low contrast image' % fname)\n",
      "/usr/local/lib/python3.5/dist-packages/skimage/io/_io.py:132: UserWarning: model/Unet_rmbg/BRCAS2TESRI/Predict_mask/A32-20111123-078.png is a low contrast image\n",
      "  warn('%s is a low contrast image' % fname)\n",
      "/usr/local/lib/python3.5/dist-packages/skimage/io/_io.py:132: UserWarning: model/Unet_rmbg/BRCAS2TESRI/Predict_mask/A35-20151014-184.png is a low contrast image\n",
      "  warn('%s is a low contrast image' % fname)\n",
      "/usr/local/lib/python3.5/dist-packages/skimage/io/_io.py:132: UserWarning: model/Unet_rmbg/BRCAS2TESRI/Predict_mask/A35-20130221-016.png is a low contrast image\n",
      "  warn('%s is a low contrast image' % fname)\n",
      "/usr/local/lib/python3.5/dist-packages/skimage/io/_io.py:132: UserWarning: model/Unet_rmbg/BRCAS2TESRI/Predict_mask/V15-20140101-048.png is a low contrast image\n",
      "  warn('%s is a low contrast image' % fname)\n",
      "/usr/local/lib/python3.5/dist-packages/skimage/io/_io.py:132: UserWarning: model/Unet_rmbg/BRCAS2TESRI/Predict_mask/A37-20150610-012.png is a low contrast image\n",
      "  warn('%s is a low contrast image' % fname)\n",
      "/usr/local/lib/python3.5/dist-packages/skimage/io/_io.py:132: UserWarning: model/Unet_rmbg/BRCAS2TESRI/Predict_mask/V02-20140721-046.png is a low contrast image\n",
      "  warn('%s is a low contrast image' % fname)\n",
      "/usr/local/lib/python3.5/dist-packages/skimage/io/_io.py:132: UserWarning: model/Unet_rmbg/BRCAS2TESRI/Predict_mask/V11-20130810-016.png is a low contrast image\n",
      "  warn('%s is a low contrast image' % fname)\n"
     ]
    },
    {
     "name": "stdout",
     "output_type": "stream",
     "text": [
      "\r",
      "[Predict]-----pred-mini-Batch (87/122)\r"
     ]
    },
    {
     "name": "stderr",
     "output_type": "stream",
     "text": [
      "/usr/local/lib/python3.5/dist-packages/skimage/io/_io.py:132: UserWarning: model/Unet_rmbg/BRCAS2TESRI/Predict_mask/V16-20140117-010.png is a low contrast image\n",
      "  warn('%s is a low contrast image' % fname)\n",
      "/usr/local/lib/python3.5/dist-packages/skimage/io/_io.py:132: UserWarning: model/Unet_rmbg/BRCAS2TESRI/Predict_mask/A38-20140925-105.png is a low contrast image\n",
      "  warn('%s is a low contrast image' % fname)\n",
      "/usr/local/lib/python3.5/dist-packages/skimage/io/_io.py:132: UserWarning: model/Unet_rmbg/BRCAS2TESRI/Predict_mask/V04-20140721-086.png is a low contrast image\n",
      "  warn('%s is a low contrast image' % fname)\n",
      "/usr/local/lib/python3.5/dist-packages/skimage/io/_io.py:132: UserWarning: model/Unet_rmbg/BRCAS2TESRI/Predict_mask/V15-20140531-022.png is a low contrast image\n",
      "  warn('%s is a low contrast image' % fname)\n",
      "/usr/local/lib/python3.5/dist-packages/skimage/io/_io.py:132: UserWarning: model/Unet_rmbg/BRCAS2TESRI/Predict_mask/V17-20141206-065.png is a low contrast image\n",
      "  warn('%s is a low contrast image' % fname)\n",
      "/usr/local/lib/python3.5/dist-packages/skimage/io/_io.py:132: UserWarning: model/Unet_rmbg/BRCAS2TESRI/Predict_mask/A41-20140206-106.png is a low contrast image\n",
      "  warn('%s is a low contrast image' % fname)\n",
      "/usr/local/lib/python3.5/dist-packages/skimage/io/_io.py:132: UserWarning: model/Unet_rmbg/BRCAS2TESRI/Predict_mask/V12-20130528-024.png is a low contrast image\n",
      "  warn('%s is a low contrast image' % fname)\n",
      "/usr/local/lib/python3.5/dist-packages/skimage/io/_io.py:132: UserWarning: model/Unet_rmbg/BRCAS2TESRI/Predict_mask/A34-20130709-097.png is a low contrast image\n",
      "  warn('%s is a low contrast image' % fname)\n",
      "/usr/local/lib/python3.5/dist-packages/skimage/io/_io.py:132: UserWarning: model/Unet_rmbg/BRCAS2TESRI/Predict_mask/A35-20150609-223.png is a low contrast image\n",
      "  warn('%s is a low contrast image' % fname)\n",
      "/usr/local/lib/python3.5/dist-packages/skimage/io/_io.py:132: UserWarning: model/Unet_rmbg/BRCAS2TESRI/Predict_mask/A37-20130418-019.png is a low contrast image\n",
      "  warn('%s is a low contrast image' % fname)\n",
      "/usr/local/lib/python3.5/dist-packages/skimage/io/_io.py:132: UserWarning: model/Unet_rmbg/BRCAS2TESRI/Predict_mask/A37-20130806-014.png is a low contrast image\n",
      "  warn('%s is a low contrast image' % fname)\n",
      "/usr/local/lib/python3.5/dist-packages/skimage/io/_io.py:132: UserWarning: model/Unet_rmbg/BRCAS2TESRI/Predict_mask/V05-20140525-116.png is a low contrast image\n",
      "  warn('%s is a low contrast image' % fname)\n",
      "/usr/local/lib/python3.5/dist-packages/skimage/io/_io.py:132: UserWarning: model/Unet_rmbg/BRCAS2TESRI/Predict_mask/V03-20130606-066.png is a low contrast image\n",
      "  warn('%s is a low contrast image' % fname)\n"
     ]
    },
    {
     "name": "stdout",
     "output_type": "stream",
     "text": [
      "\r",
      "[Predict]-----pred-mini-Batch (88/122)\r"
     ]
    },
    {
     "name": "stderr",
     "output_type": "stream",
     "text": [
      "/usr/local/lib/python3.5/dist-packages/skimage/io/_io.py:132: UserWarning: model/Unet_rmbg/BRCAS2TESRI/Predict_mask/V02-20140721-042.png is a low contrast image\n",
      "  warn('%s is a low contrast image' % fname)\n",
      "/usr/local/lib/python3.5/dist-packages/skimage/io/_io.py:132: UserWarning: model/Unet_rmbg/BRCAS2TESRI/Predict_mask/V12-20130628-088.png is a low contrast image\n",
      "  warn('%s is a low contrast image' % fname)\n",
      "/usr/local/lib/python3.5/dist-packages/skimage/io/_io.py:132: UserWarning: model/Unet_rmbg/BRCAS2TESRI/Predict_mask/A38-20140325-004.png is a low contrast image\n",
      "  warn('%s is a low contrast image' % fname)\n",
      "/usr/local/lib/python3.5/dist-packages/skimage/io/_io.py:132: UserWarning: model/Unet_rmbg/BRCAS2TESRI/Predict_mask/V04-20150920-046.png is a low contrast image\n",
      "  warn('%s is a low contrast image' % fname)\n",
      "/usr/local/lib/python3.5/dist-packages/skimage/io/_io.py:132: UserWarning: model/Unet_rmbg/BRCAS2TESRI/Predict_mask/A34-20130902-233.png is a low contrast image\n",
      "  warn('%s is a low contrast image' % fname)\n",
      "/usr/local/lib/python3.5/dist-packages/skimage/io/_io.py:132: UserWarning: model/Unet_rmbg/BRCAS2TESRI/Predict_mask/V18-20150414-052.png is a low contrast image\n",
      "  warn('%s is a low contrast image' % fname)\n",
      "/usr/local/lib/python3.5/dist-packages/skimage/io/_io.py:132: UserWarning: model/Unet_rmbg/BRCAS2TESRI/Predict_mask/V03-20130606-006.png is a low contrast image\n",
      "  warn('%s is a low contrast image' % fname)\n",
      "/usr/local/lib/python3.5/dist-packages/skimage/io/_io.py:132: UserWarning: model/Unet_rmbg/BRCAS2TESRI/Predict_mask/A35-20130605-187.png is a low contrast image\n",
      "  warn('%s is a low contrast image' % fname)\n",
      "/usr/local/lib/python3.5/dist-packages/skimage/io/_io.py:132: UserWarning: model/Unet_rmbg/BRCAS2TESRI/Predict_mask/V15-20140425-025.png is a low contrast image\n",
      "  warn('%s is a low contrast image' % fname)\n",
      "/usr/local/lib/python3.5/dist-packages/skimage/io/_io.py:132: UserWarning: model/Unet_rmbg/BRCAS2TESRI/Predict_mask/V03-20130606-184.png is a low contrast image\n",
      "  warn('%s is a low contrast image' % fname)\n",
      "/usr/local/lib/python3.5/dist-packages/skimage/io/_io.py:132: UserWarning: model/Unet_rmbg/BRCAS2TESRI/Predict_mask/A38-20130416-074.png is a low contrast image\n",
      "  warn('%s is a low contrast image' % fname)\n",
      "/usr/local/lib/python3.5/dist-packages/skimage/io/_io.py:132: UserWarning: model/Unet_rmbg/BRCAS2TESRI/Predict_mask/V17-20140322-020.png is a low contrast image\n",
      "  warn('%s is a low contrast image' % fname)\n",
      "/usr/local/lib/python3.5/dist-packages/skimage/io/_io.py:132: UserWarning: model/Unet_rmbg/BRCAS2TESRI/Predict_mask/V15-20140627-050.png is a low contrast image\n",
      "  warn('%s is a low contrast image' % fname)\n",
      "/usr/local/lib/python3.5/dist-packages/skimage/io/_io.py:132: UserWarning: model/Unet_rmbg/BRCAS2TESRI/Predict_mask/V06-20130705-011.png is a low contrast image\n",
      "  warn('%s is a low contrast image' % fname)\n"
     ]
    },
    {
     "name": "stdout",
     "output_type": "stream",
     "text": [
      "\r",
      "[Predict]-----pred-mini-Batch (89/122)\r"
     ]
    },
    {
     "name": "stderr",
     "output_type": "stream",
     "text": [
      "/usr/local/lib/python3.5/dist-packages/skimage/io/_io.py:132: UserWarning: model/Unet_rmbg/BRCAS2TESRI/Predict_mask/A32-20120222-055.png is a low contrast image\n",
      "  warn('%s is a low contrast image' % fname)\n",
      "/usr/local/lib/python3.5/dist-packages/skimage/io/_io.py:132: UserWarning: model/Unet_rmbg/BRCAS2TESRI/Predict_mask/A32-20120830-042.png is a low contrast image\n",
      "  warn('%s is a low contrast image' % fname)\n",
      "/usr/local/lib/python3.5/dist-packages/skimage/io/_io.py:132: UserWarning: model/Unet_rmbg/BRCAS2TESRI/Predict_mask/A46-20151111-091.png is a low contrast image\n",
      "  warn('%s is a low contrast image' % fname)\n",
      "/usr/local/lib/python3.5/dist-packages/skimage/io/_io.py:132: UserWarning: model/Unet_rmbg/BRCAS2TESRI/Predict_mask/V14-20130428-126.png is a low contrast image\n",
      "  warn('%s is a low contrast image' % fname)\n",
      "/usr/local/lib/python3.5/dist-packages/skimage/io/_io.py:132: UserWarning: model/Unet_rmbg/BRCAS2TESRI/Predict_mask/A46-20160705-263.png is a low contrast image\n",
      "  warn('%s is a low contrast image' % fname)\n",
      "/usr/local/lib/python3.5/dist-packages/skimage/io/_io.py:132: UserWarning: model/Unet_rmbg/BRCAS2TESRI/Predict_mask/V11-20130907-028.png is a low contrast image\n",
      "  warn('%s is a low contrast image' % fname)\n",
      "/usr/local/lib/python3.5/dist-packages/skimage/io/_io.py:132: UserWarning: model/Unet_rmbg/BRCAS2TESRI/Predict_mask/A46-20151111-051.png is a low contrast image\n",
      "  warn('%s is a low contrast image' % fname)\n",
      "/usr/local/lib/python3.5/dist-packages/skimage/io/_io.py:132: UserWarning: model/Unet_rmbg/BRCAS2TESRI/Predict_mask/V12-20130927-010.png is a low contrast image\n",
      "  warn('%s is a low contrast image' % fname)\n",
      "/usr/local/lib/python3.5/dist-packages/skimage/io/_io.py:132: UserWarning: model/Unet_rmbg/BRCAS2TESRI/Predict_mask/A42-20140430-042.png is a low contrast image\n",
      "  warn('%s is a low contrast image' % fname)\n",
      "/usr/local/lib/python3.5/dist-packages/skimage/io/_io.py:132: UserWarning: model/Unet_rmbg/BRCAS2TESRI/Predict_mask/V12-20130528-093.png is a low contrast image\n",
      "  warn('%s is a low contrast image' % fname)\n",
      "/usr/local/lib/python3.5/dist-packages/skimage/io/_io.py:132: UserWarning: model/Unet_rmbg/BRCAS2TESRI/Predict_mask/V11-20130508-048.png is a low contrast image\n",
      "  warn('%s is a low contrast image' % fname)\n",
      "/usr/local/lib/python3.5/dist-packages/skimage/io/_io.py:132: UserWarning: model/Unet_rmbg/BRCAS2TESRI/Predict_mask/V11-20130608-062.png is a low contrast image\n",
      "  warn('%s is a low contrast image' % fname)\n",
      "/usr/local/lib/python3.5/dist-packages/skimage/io/_io.py:132: UserWarning: model/Unet_rmbg/BRCAS2TESRI/Predict_mask/A35-20131202-058.png is a low contrast image\n",
      "  warn('%s is a low contrast image' % fname)\n"
     ]
    },
    {
     "name": "stdout",
     "output_type": "stream",
     "text": [
      "\r",
      "[Predict]-----pred-mini-Batch (90/122)\r"
     ]
    },
    {
     "name": "stderr",
     "output_type": "stream",
     "text": [
      "/usr/local/lib/python3.5/dist-packages/skimage/io/_io.py:132: UserWarning: model/Unet_rmbg/BRCAS2TESRI/Predict_mask/V04-20130509-120.png is a low contrast image\n",
      "  warn('%s is a low contrast image' % fname)\n",
      "/usr/local/lib/python3.5/dist-packages/skimage/io/_io.py:132: UserWarning: model/Unet_rmbg/BRCAS2TESRI/Predict_mask/A36-20130606-106.png is a low contrast image\n",
      "  warn('%s is a low contrast image' % fname)\n",
      "/usr/local/lib/python3.5/dist-packages/skimage/io/_io.py:132: UserWarning: model/Unet_rmbg/BRCAS2TESRI/Predict_mask/A35-20130221-031.png is a low contrast image\n",
      "  warn('%s is a low contrast image' % fname)\n",
      "/usr/local/lib/python3.5/dist-packages/skimage/io/_io.py:132: UserWarning: model/Unet_rmbg/BRCAS2TESRI/Predict_mask/V07-20130412-109.png is a low contrast image\n",
      "  warn('%s is a low contrast image' % fname)\n",
      "/usr/local/lib/python3.5/dist-packages/skimage/io/_io.py:132: UserWarning: model/Unet_rmbg/BRCAS2TESRI/Predict_mask/A41-20140325-070.png is a low contrast image\n",
      "  warn('%s is a low contrast image' % fname)\n",
      "/usr/local/lib/python3.5/dist-packages/skimage/io/_io.py:132: UserWarning: model/Unet_rmbg/BRCAS2TESRI/Predict_mask/V12-20131223-054.png is a low contrast image\n",
      "  warn('%s is a low contrast image' % fname)\n",
      "/usr/local/lib/python3.5/dist-packages/skimage/io/_io.py:132: UserWarning: model/Unet_rmbg/BRCAS2TESRI/Predict_mask/A34-20151209-078.png is a low contrast image\n",
      "  warn('%s is a low contrast image' % fname)\n",
      "/usr/local/lib/python3.5/dist-packages/skimage/io/_io.py:132: UserWarning: model/Unet_rmbg/BRCAS2TESRI/Predict_mask/V02-20140501-118.png is a low contrast image\n",
      "  warn('%s is a low contrast image' % fname)\n",
      "/usr/local/lib/python3.5/dist-packages/skimage/io/_io.py:132: UserWarning: model/Unet_rmbg/BRCAS2TESRI/Predict_mask/A42-20150409-064.png is a low contrast image\n",
      "  warn('%s is a low contrast image' % fname)\n",
      "/usr/local/lib/python3.5/dist-packages/skimage/io/_io.py:132: UserWarning: model/Unet_rmbg/BRCAS2TESRI/Predict_mask/A46-20151111-094.png is a low contrast image\n",
      "  warn('%s is a low contrast image' % fname)\n",
      "/usr/local/lib/python3.5/dist-packages/skimage/io/_io.py:132: UserWarning: model/Unet_rmbg/BRCAS2TESRI/Predict_mask/A38-20140925-027.png is a low contrast image\n",
      "  warn('%s is a low contrast image' % fname)\n"
     ]
    },
    {
     "name": "stdout",
     "output_type": "stream",
     "text": [
      "\r",
      "[Predict]-----pred-mini-Batch (91/122)\r"
     ]
    },
    {
     "name": "stderr",
     "output_type": "stream",
     "text": [
      "/usr/local/lib/python3.5/dist-packages/skimage/io/_io.py:132: UserWarning: model/Unet_rmbg/BRCAS2TESRI/Predict_mask/A46-20150319-037.png is a low contrast image\n",
      "  warn('%s is a low contrast image' % fname)\n",
      "/usr/local/lib/python3.5/dist-packages/skimage/io/_io.py:132: UserWarning: model/Unet_rmbg/BRCAS2TESRI/Predict_mask/A35-20160307-136.png is a low contrast image\n",
      "  warn('%s is a low contrast image' % fname)\n",
      "/usr/local/lib/python3.5/dist-packages/skimage/io/_io.py:132: UserWarning: model/Unet_rmbg/BRCAS2TESRI/Predict_mask/V02-20140501-129.png is a low contrast image\n",
      "  warn('%s is a low contrast image' % fname)\n",
      "/usr/local/lib/python3.5/dist-packages/skimage/io/_io.py:132: UserWarning: model/Unet_rmbg/BRCAS2TESRI/Predict_mask/V03-20140303-040.png is a low contrast image\n",
      "  warn('%s is a low contrast image' % fname)\n",
      "/usr/local/lib/python3.5/dist-packages/skimage/io/_io.py:132: UserWarning: model/Unet_rmbg/BRCAS2TESRI/Predict_mask/V12-20131128-056.png is a low contrast image\n",
      "  warn('%s is a low contrast image' % fname)\n",
      "/usr/local/lib/python3.5/dist-packages/skimage/io/_io.py:132: UserWarning: model/Unet_rmbg/BRCAS2TESRI/Predict_mask/V07-20130607-033.png is a low contrast image\n",
      "  warn('%s is a low contrast image' % fname)\n",
      "/usr/local/lib/python3.5/dist-packages/skimage/io/_io.py:132: UserWarning: model/Unet_rmbg/BRCAS2TESRI/Predict_mask/A34-20130902-232.png is a low contrast image\n",
      "  warn('%s is a low contrast image' % fname)\n",
      "/usr/local/lib/python3.5/dist-packages/skimage/io/_io.py:132: UserWarning: model/Unet_rmbg/BRCAS2TESRI/Predict_mask/V17-20140322-030.png is a low contrast image\n",
      "  warn('%s is a low contrast image' % fname)\n",
      "/usr/local/lib/python3.5/dist-packages/skimage/io/_io.py:132: UserWarning: model/Unet_rmbg/BRCAS2TESRI/Predict_mask/V20-20150417-137.png is a low contrast image\n",
      "  warn('%s is a low contrast image' % fname)\n"
     ]
    },
    {
     "name": "stdout",
     "output_type": "stream",
     "text": [
      "\r",
      "[Predict]-----pred-mini-Batch (92/122)\r"
     ]
    },
    {
     "name": "stderr",
     "output_type": "stream",
     "text": [
      "/usr/local/lib/python3.5/dist-packages/skimage/io/_io.py:132: UserWarning: model/Unet_rmbg/BRCAS2TESRI/Predict_mask/A46-20160705-105.png is a low contrast image\n",
      "  warn('%s is a low contrast image' % fname)\n",
      "/usr/local/lib/python3.5/dist-packages/skimage/io/_io.py:132: UserWarning: model/Unet_rmbg/BRCAS2TESRI/Predict_mask/V04-20140530-252.png is a low contrast image\n",
      "  warn('%s is a low contrast image' % fname)\n",
      "/usr/local/lib/python3.5/dist-packages/skimage/io/_io.py:132: UserWarning: model/Unet_rmbg/BRCAS2TESRI/Predict_mask/A48-20160601-276.png is a low contrast image\n",
      "  warn('%s is a low contrast image' % fname)\n",
      "/usr/local/lib/python3.5/dist-packages/skimage/io/_io.py:132: UserWarning: model/Unet_rmbg/BRCAS2TESRI/Predict_mask/A35-20130805-072.png is a low contrast image\n",
      "  warn('%s is a low contrast image' % fname)\n",
      "/usr/local/lib/python3.5/dist-packages/skimage/io/_io.py:132: UserWarning: model/Unet_rmbg/BRCAS2TESRI/Predict_mask/A35-20130805-015.png is a low contrast image\n",
      "  warn('%s is a low contrast image' % fname)\n",
      "/usr/local/lib/python3.5/dist-packages/skimage/io/_io.py:132: UserWarning: model/Unet_rmbg/BRCAS2TESRI/Predict_mask/A34-20130709-058.png is a low contrast image\n",
      "  warn('%s is a low contrast image' % fname)\n",
      "/usr/local/lib/python3.5/dist-packages/skimage/io/_io.py:132: UserWarning: model/Unet_rmbg/BRCAS2TESRI/Predict_mask/A34-20151006-019.png is a low contrast image\n",
      "  warn('%s is a low contrast image' % fname)\n",
      "/usr/local/lib/python3.5/dist-packages/skimage/io/_io.py:132: UserWarning: model/Unet_rmbg/BRCAS2TESRI/Predict_mask/A46-20160223-020.png is a low contrast image\n",
      "  warn('%s is a low contrast image' % fname)\n",
      "/usr/local/lib/python3.5/dist-packages/skimage/io/_io.py:132: UserWarning: model/Unet_rmbg/BRCAS2TESRI/Predict_mask/V13-20140322-045.png is a low contrast image\n",
      "  warn('%s is a low contrast image' % fname)\n",
      "/usr/local/lib/python3.5/dist-packages/skimage/io/_io.py:132: UserWarning: model/Unet_rmbg/BRCAS2TESRI/Predict_mask/V12-20130910-035.png is a low contrast image\n",
      "  warn('%s is a low contrast image' % fname)\n",
      "/usr/local/lib/python3.5/dist-packages/skimage/io/_io.py:132: UserWarning: model/Unet_rmbg/BRCAS2TESRI/Predict_mask/V12-20130910-103.png is a low contrast image\n",
      "  warn('%s is a low contrast image' % fname)\n",
      "/usr/local/lib/python3.5/dist-packages/skimage/io/_io.py:132: UserWarning: model/Unet_rmbg/BRCAS2TESRI/Predict_mask/V13-20140322-044.png is a low contrast image\n",
      "  warn('%s is a low contrast image' % fname)\n",
      "/usr/local/lib/python3.5/dist-packages/skimage/io/_io.py:132: UserWarning: model/Unet_rmbg/BRCAS2TESRI/Predict_mask/A34-20140626-008.png is a low contrast image\n",
      "  warn('%s is a low contrast image' % fname)\n",
      "/usr/local/lib/python3.5/dist-packages/skimage/io/_io.py:132: UserWarning: model/Unet_rmbg/BRCAS2TESRI/Predict_mask/V14-20130725-030.png is a low contrast image\n",
      "  warn('%s is a low contrast image' % fname)\n"
     ]
    },
    {
     "name": "stdout",
     "output_type": "stream",
     "text": [
      "\r",
      "[Predict]-----pred-mini-Batch (93/122)\r"
     ]
    },
    {
     "name": "stderr",
     "output_type": "stream",
     "text": [
      "/usr/local/lib/python3.5/dist-packages/skimage/io/_io.py:132: UserWarning: model/Unet_rmbg/BRCAS2TESRI/Predict_mask/A35-20140101-022.png is a low contrast image\n",
      "  warn('%s is a low contrast image' % fname)\n",
      "/usr/local/lib/python3.5/dist-packages/skimage/io/_io.py:132: UserWarning: model/Unet_rmbg/BRCAS2TESRI/Predict_mask/V12-20130528-080.png is a low contrast image\n",
      "  warn('%s is a low contrast image' % fname)\n",
      "/usr/local/lib/python3.5/dist-packages/skimage/io/_io.py:132: UserWarning: model/Unet_rmbg/BRCAS2TESRI/Predict_mask/A32-20120725-107.png is a low contrast image\n",
      "  warn('%s is a low contrast image' % fname)\n",
      "/usr/local/lib/python3.5/dist-packages/skimage/io/_io.py:132: UserWarning: model/Unet_rmbg/BRCAS2TESRI/Predict_mask/A35-20131202-061.png is a low contrast image\n",
      "  warn('%s is a low contrast image' % fname)\n",
      "/usr/local/lib/python3.5/dist-packages/skimage/io/_io.py:132: UserWarning: model/Unet_rmbg/BRCAS2TESRI/Predict_mask/A35-20150409-185.png is a low contrast image\n",
      "  warn('%s is a low contrast image' % fname)\n",
      "/usr/local/lib/python3.5/dist-packages/skimage/io/_io.py:132: UserWarning: model/Unet_rmbg/BRCAS2TESRI/Predict_mask/V06-20140820-029.png is a low contrast image\n",
      "  warn('%s is a low contrast image' % fname)\n",
      "/usr/local/lib/python3.5/dist-packages/skimage/io/_io.py:132: UserWarning: model/Unet_rmbg/BRCAS2TESRI/Predict_mask/V03-20130708-051.png is a low contrast image\n",
      "  warn('%s is a low contrast image' % fname)\n",
      "/usr/local/lib/python3.5/dist-packages/skimage/io/_io.py:132: UserWarning: model/Unet_rmbg/BRCAS2TESRI/Predict_mask/V13-20130608-084.png is a low contrast image\n",
      "  warn('%s is a low contrast image' % fname)\n",
      "/usr/local/lib/python3.5/dist-packages/skimage/io/_io.py:132: UserWarning: model/Unet_rmbg/BRCAS2TESRI/Predict_mask/V12-20130528-176.png is a low contrast image\n",
      "  warn('%s is a low contrast image' % fname)\n",
      "/usr/local/lib/python3.5/dist-packages/skimage/io/_io.py:132: UserWarning: model/Unet_rmbg/BRCAS2TESRI/Predict_mask/V04-20130606-011.png is a low contrast image\n",
      "  warn('%s is a low contrast image' % fname)\n",
      "/usr/local/lib/python3.5/dist-packages/skimage/io/_io.py:132: UserWarning: model/Unet_rmbg/BRCAS2TESRI/Predict_mask/V07-20130412-117.png is a low contrast image\n",
      "  warn('%s is a low contrast image' % fname)\n",
      "/usr/local/lib/python3.5/dist-packages/skimage/io/_io.py:132: UserWarning: model/Unet_rmbg/BRCAS2TESRI/Predict_mask/V08-20130413-076.png is a low contrast image\n",
      "  warn('%s is a low contrast image' % fname)\n",
      "/usr/local/lib/python3.5/dist-packages/skimage/io/_io.py:132: UserWarning: model/Unet_rmbg/BRCAS2TESRI/Predict_mask/V03-20150226-011.png is a low contrast image\n",
      "  warn('%s is a low contrast image' % fname)\n"
     ]
    },
    {
     "name": "stdout",
     "output_type": "stream",
     "text": [
      "\r",
      "[Predict]-----pred-mini-Batch (94/122)\r"
     ]
    },
    {
     "name": "stderr",
     "output_type": "stream",
     "text": [
      "/usr/local/lib/python3.5/dist-packages/skimage/io/_io.py:132: UserWarning: model/Unet_rmbg/BRCAS2TESRI/Predict_mask/V17-20140816-055.png is a low contrast image\n",
      "  warn('%s is a low contrast image' % fname)\n",
      "/usr/local/lib/python3.5/dist-packages/skimage/io/_io.py:132: UserWarning: model/Unet_rmbg/BRCAS2TESRI/Predict_mask/A34-20140826-131.png is a low contrast image\n",
      "  warn('%s is a low contrast image' % fname)\n",
      "/usr/local/lib/python3.5/dist-packages/skimage/io/_io.py:132: UserWarning: model/Unet_rmbg/BRCAS2TESRI/Predict_mask/A46-20160426-121.png is a low contrast image\n",
      "  warn('%s is a low contrast image' % fname)\n",
      "/usr/local/lib/python3.5/dist-packages/skimage/io/_io.py:132: UserWarning: model/Unet_rmbg/BRCAS2TESRI/Predict_mask/V13-20131102-072.png is a low contrast image\n",
      "  warn('%s is a low contrast image' % fname)\n",
      "/usr/local/lib/python3.5/dist-packages/skimage/io/_io.py:132: UserWarning: model/Unet_rmbg/BRCAS2TESRI/Predict_mask/A32-20111123-030.png is a low contrast image\n",
      "  warn('%s is a low contrast image' % fname)\n",
      "/usr/local/lib/python3.5/dist-packages/skimage/io/_io.py:132: UserWarning: model/Unet_rmbg/BRCAS2TESRI/Predict_mask/B28-20131017-046.png is a low contrast image\n",
      "  warn('%s is a low contrast image' % fname)\n",
      "/usr/local/lib/python3.5/dist-packages/skimage/io/_io.py:132: UserWarning: model/Unet_rmbg/BRCAS2TESRI/Predict_mask/A46-20160705-116.png is a low contrast image\n",
      "  warn('%s is a low contrast image' % fname)\n",
      "/usr/local/lib/python3.5/dist-packages/skimage/io/_io.py:132: UserWarning: model/Unet_rmbg/BRCAS2TESRI/Predict_mask/A35-20150609-110.png is a low contrast image\n",
      "  warn('%s is a low contrast image' % fname)\n",
      "/usr/local/lib/python3.5/dist-packages/skimage/io/_io.py:132: UserWarning: model/Unet_rmbg/BRCAS2TESRI/Predict_mask/V12-20130910-063.png is a low contrast image\n",
      "  warn('%s is a low contrast image' % fname)\n"
     ]
    },
    {
     "name": "stdout",
     "output_type": "stream",
     "text": [
      "\r",
      "[Predict]-----pred-mini-Batch (95/122)\r"
     ]
    },
    {
     "name": "stderr",
     "output_type": "stream",
     "text": [
      "/usr/local/lib/python3.5/dist-packages/skimage/io/_io.py:132: UserWarning: model/Unet_rmbg/BRCAS2TESRI/Predict_mask/V03-20140203-025.png is a low contrast image\n",
      "  warn('%s is a low contrast image' % fname)\n",
      "/usr/local/lib/python3.5/dist-packages/skimage/io/_io.py:132: UserWarning: model/Unet_rmbg/BRCAS2TESRI/Predict_mask/A52-20151110-194.png is a low contrast image\n",
      "  warn('%s is a low contrast image' % fname)\n",
      "/usr/local/lib/python3.5/dist-packages/skimage/io/_io.py:132: UserWarning: model/Unet_rmbg/BRCAS2TESRI/Predict_mask/A32-20120523-023.png is a low contrast image\n",
      "  warn('%s is a low contrast image' % fname)\n",
      "/usr/local/lib/python3.5/dist-packages/skimage/io/_io.py:132: UserWarning: model/Unet_rmbg/BRCAS2TESRI/Predict_mask/V03-20130809-035.png is a low contrast image\n",
      "  warn('%s is a low contrast image' % fname)\n",
      "/usr/local/lib/python3.5/dist-packages/skimage/io/_io.py:132: UserWarning: model/Unet_rmbg/BRCAS2TESRI/Predict_mask/A37-20131016-113.png is a low contrast image\n",
      "  warn('%s is a low contrast image' % fname)\n",
      "/usr/local/lib/python3.5/dist-packages/skimage/io/_io.py:132: UserWarning: model/Unet_rmbg/BRCAS2TESRI/Predict_mask/A35-20131202-067.png is a low contrast image\n",
      "  warn('%s is a low contrast image' % fname)\n",
      "/usr/local/lib/python3.5/dist-packages/skimage/io/_io.py:132: UserWarning: model/Unet_rmbg/BRCAS2TESRI/Predict_mask/A36-20130226-085.png is a low contrast image\n",
      "  warn('%s is a low contrast image' % fname)\n",
      "/usr/local/lib/python3.5/dist-packages/skimage/io/_io.py:132: UserWarning: model/Unet_rmbg/BRCAS2TESRI/Predict_mask/A38-20140206-005.png is a low contrast image\n",
      "  warn('%s is a low contrast image' % fname)\n",
      "/usr/local/lib/python3.5/dist-packages/skimage/io/_io.py:132: UserWarning: model/Unet_rmbg/BRCAS2TESRI/Predict_mask/V11-20130810-043.png is a low contrast image\n",
      "  warn('%s is a low contrast image' % fname)\n",
      "/usr/local/lib/python3.5/dist-packages/skimage/io/_io.py:132: UserWarning: model/Unet_rmbg/BRCAS2TESRI/Predict_mask/A35-20130605-161.png is a low contrast image\n",
      "  warn('%s is a low contrast image' % fname)\n"
     ]
    },
    {
     "name": "stdout",
     "output_type": "stream",
     "text": [
      "\r",
      "[Predict]-----pred-mini-Batch (96/122)\r"
     ]
    },
    {
     "name": "stderr",
     "output_type": "stream",
     "text": [
      "/usr/local/lib/python3.5/dist-packages/skimage/io/_io.py:132: UserWarning: model/Unet_rmbg/BRCAS2TESRI/Predict_mask/A35-20130605-160.png is a low contrast image\n",
      "  warn('%s is a low contrast image' % fname)\n",
      "/usr/local/lib/python3.5/dist-packages/skimage/io/_io.py:132: UserWarning: model/Unet_rmbg/BRCAS2TESRI/Predict_mask/V02-20140501-196.png is a low contrast image\n",
      "  warn('%s is a low contrast image' % fname)\n",
      "/usr/local/lib/python3.5/dist-packages/skimage/io/_io.py:132: UserWarning: model/Unet_rmbg/BRCAS2TESRI/Predict_mask/V04-20140425-149.png is a low contrast image\n",
      "  warn('%s is a low contrast image' % fname)\n",
      "/usr/local/lib/python3.5/dist-packages/skimage/io/_io.py:132: UserWarning: model/Unet_rmbg/BRCAS2TESRI/Predict_mask/A35-20160712-016.png is a low contrast image\n",
      "  warn('%s is a low contrast image' % fname)\n",
      "/usr/local/lib/python3.5/dist-packages/skimage/io/_io.py:132: UserWarning: model/Unet_rmbg/BRCAS2TESRI/Predict_mask/A34-20140626-029.png is a low contrast image\n",
      "  warn('%s is a low contrast image' % fname)\n",
      "/usr/local/lib/python3.5/dist-packages/skimage/io/_io.py:132: UserWarning: model/Unet_rmbg/BRCAS2TESRI/Predict_mask/V11-20130706-053.png is a low contrast image\n",
      "  warn('%s is a low contrast image' % fname)\n",
      "/usr/local/lib/python3.5/dist-packages/skimage/io/_io.py:132: UserWarning: model/Unet_rmbg/BRCAS2TESRI/Predict_mask/A42-20151015-024.png is a low contrast image\n",
      "  warn('%s is a low contrast image' % fname)\n",
      "/usr/local/lib/python3.5/dist-packages/skimage/io/_io.py:132: UserWarning: model/Unet_rmbg/BRCAS2TESRI/Predict_mask/V12-20130910-072.png is a low contrast image\n",
      "  warn('%s is a low contrast image' % fname)\n",
      "/usr/local/lib/python3.5/dist-packages/skimage/io/_io.py:132: UserWarning: model/Unet_rmbg/BRCAS2TESRI/Predict_mask/V17-20151107-116.png is a low contrast image\n",
      "  warn('%s is a low contrast image' % fname)\n",
      "/usr/local/lib/python3.5/dist-packages/skimage/io/_io.py:132: UserWarning: model/Unet_rmbg/BRCAS2TESRI/Predict_mask/A32-20120725-082.png is a low contrast image\n",
      "  warn('%s is a low contrast image' % fname)\n",
      "/usr/local/lib/python3.5/dist-packages/skimage/io/_io.py:132: UserWarning: model/Unet_rmbg/BRCAS2TESRI/Predict_mask/V10-20140328-077.png is a low contrast image\n",
      "  warn('%s is a low contrast image' % fname)\n",
      "/usr/local/lib/python3.5/dist-packages/skimage/io/_io.py:132: UserWarning: model/Unet_rmbg/BRCAS2TESRI/Predict_mask/V12-20130528-090.png is a low contrast image\n",
      "  warn('%s is a low contrast image' % fname)\n",
      "/usr/local/lib/python3.5/dist-packages/skimage/io/_io.py:132: UserWarning: model/Unet_rmbg/BRCAS2TESRI/Predict_mask/V08-20140719-037.png is a low contrast image\n",
      "  warn('%s is a low contrast image' % fname)\n",
      "/usr/local/lib/python3.5/dist-packages/skimage/io/_io.py:132: UserWarning: model/Unet_rmbg/BRCAS2TESRI/Predict_mask/V15-20140721-019.png is a low contrast image\n",
      "  warn('%s is a low contrast image' % fname)\n",
      "/usr/local/lib/python3.5/dist-packages/skimage/io/_io.py:132: UserWarning: model/Unet_rmbg/BRCAS2TESRI/Predict_mask/V10-20140822-048.png is a low contrast image\n",
      "  warn('%s is a low contrast image' % fname)\n"
     ]
    },
    {
     "name": "stdout",
     "output_type": "stream",
     "text": [
      "\r",
      "[Predict]-----pred-mini-Batch (97/122)\r"
     ]
    },
    {
     "name": "stderr",
     "output_type": "stream",
     "text": [
      "/usr/local/lib/python3.5/dist-packages/skimage/io/_io.py:132: UserWarning: model/Unet_rmbg/BRCAS2TESRI/Predict_mask/A38-20150518-091.png is a low contrast image\n",
      "  warn('%s is a low contrast image' % fname)\n",
      "/usr/local/lib/python3.5/dist-packages/skimage/io/_io.py:132: UserWarning: model/Unet_rmbg/BRCAS2TESRI/Predict_mask/A47-20150318-011.png is a low contrast image\n",
      "  warn('%s is a low contrast image' % fname)\n",
      "/usr/local/lib/python3.5/dist-packages/skimage/io/_io.py:132: UserWarning: model/Unet_rmbg/BRCAS2TESRI/Predict_mask/V04-20130509-096.png is a low contrast image\n",
      "  warn('%s is a low contrast image' % fname)\n",
      "/usr/local/lib/python3.5/dist-packages/skimage/io/_io.py:132: UserWarning: model/Unet_rmbg/BRCAS2TESRI/Predict_mask/A34-20130902-304.png is a low contrast image\n",
      "  warn('%s is a low contrast image' % fname)\n",
      "/usr/local/lib/python3.5/dist-packages/skimage/io/_io.py:132: UserWarning: model/Unet_rmbg/BRCAS2TESRI/Predict_mask/A36-20130226-003.png is a low contrast image\n",
      "  warn('%s is a low contrast image' % fname)\n",
      "/usr/local/lib/python3.5/dist-packages/skimage/io/_io.py:132: UserWarning: model/Unet_rmbg/BRCAS2TESRI/Predict_mask/A48-20150318-052.png is a low contrast image\n",
      "  warn('%s is a low contrast image' % fname)\n",
      "/usr/local/lib/python3.5/dist-packages/skimage/io/_io.py:132: UserWarning: model/Unet_rmbg/BRCAS2TESRI/Predict_mask/V11-20130706-055.png is a low contrast image\n",
      "  warn('%s is a low contrast image' % fname)\n",
      "/usr/local/lib/python3.5/dist-packages/skimage/io/_io.py:132: UserWarning: model/Unet_rmbg/BRCAS2TESRI/Predict_mask/V16-20131004-005.png is a low contrast image\n",
      "  warn('%s is a low contrast image' % fname)\n",
      "/usr/local/lib/python3.5/dist-packages/skimage/io/_io.py:132: UserWarning: model/Unet_rmbg/BRCAS2TESRI/Predict_mask/V12-20130910-060.png is a low contrast image\n",
      "  warn('%s is a low contrast image' % fname)\n",
      "/usr/local/lib/python3.5/dist-packages/skimage/io/_io.py:132: UserWarning: model/Unet_rmbg/BRCAS2TESRI/Predict_mask/A41-20140206-044.png is a low contrast image\n",
      "  warn('%s is a low contrast image' % fname)\n",
      "/usr/local/lib/python3.5/dist-packages/skimage/io/_io.py:132: UserWarning: model/Unet_rmbg/BRCAS2TESRI/Predict_mask/A35-20150609-214.png is a low contrast image\n",
      "  warn('%s is a low contrast image' % fname)\n",
      "/usr/local/lib/python3.5/dist-packages/skimage/io/_io.py:132: UserWarning: model/Unet_rmbg/BRCAS2TESRI/Predict_mask/V23-20151110-028.png is a low contrast image\n",
      "  warn('%s is a low contrast image' % fname)\n",
      "/usr/local/lib/python3.5/dist-packages/skimage/io/_io.py:132: UserWarning: model/Unet_rmbg/BRCAS2TESRI/Predict_mask/A34-20130506-052.png is a low contrast image\n",
      "  warn('%s is a low contrast image' % fname)\n",
      "/usr/local/lib/python3.5/dist-packages/skimage/io/_io.py:132: UserWarning: model/Unet_rmbg/BRCAS2TESRI/Predict_mask/V11-20130810-142.png is a low contrast image\n",
      "  warn('%s is a low contrast image' % fname)\n",
      "/usr/local/lib/python3.5/dist-packages/skimage/io/_io.py:132: UserWarning: model/Unet_rmbg/BRCAS2TESRI/Predict_mask/A38-20131001-067.png is a low contrast image\n",
      "  warn('%s is a low contrast image' % fname)\n"
     ]
    },
    {
     "name": "stdout",
     "output_type": "stream",
     "text": [
      "\r",
      "[Predict]-----pred-mini-Batch (98/122)\r"
     ]
    },
    {
     "name": "stderr",
     "output_type": "stream",
     "text": [
      "/usr/local/lib/python3.5/dist-packages/skimage/io/_io.py:132: UserWarning: model/Unet_rmbg/BRCAS2TESRI/Predict_mask/A39-20130807-062.png is a low contrast image\n",
      "  warn('%s is a low contrast image' % fname)\n",
      "/usr/local/lib/python3.5/dist-packages/skimage/io/_io.py:132: UserWarning: model/Unet_rmbg/BRCAS2TESRI/Predict_mask/A35-20130805-131.png is a low contrast image\n",
      "  warn('%s is a low contrast image' % fname)\n",
      "/usr/local/lib/python3.5/dist-packages/skimage/io/_io.py:132: UserWarning: model/Unet_rmbg/BRCAS2TESRI/Predict_mask/A34-20140226-061.png is a low contrast image\n",
      "  warn('%s is a low contrast image' % fname)\n",
      "/usr/local/lib/python3.5/dist-packages/skimage/io/_io.py:132: UserWarning: model/Unet_rmbg/BRCAS2TESRI/Predict_mask/V11-20130508-058.png is a low contrast image\n",
      "  warn('%s is a low contrast image' % fname)\n",
      "/usr/local/lib/python3.5/dist-packages/skimage/io/_io.py:132: UserWarning: model/Unet_rmbg/BRCAS2TESRI/Predict_mask/V07-20130607-031.png is a low contrast image\n",
      "  warn('%s is a low contrast image' % fname)\n",
      "/usr/local/lib/python3.5/dist-packages/skimage/io/_io.py:132: UserWarning: model/Unet_rmbg/BRCAS2TESRI/Predict_mask/V11-20130907-057.png is a low contrast image\n",
      "  warn('%s is a low contrast image' % fname)\n",
      "/usr/local/lib/python3.5/dist-packages/skimage/io/_io.py:132: UserWarning: model/Unet_rmbg/BRCAS2TESRI/Predict_mask/V04-20130606-040.png is a low contrast image\n",
      "  warn('%s is a low contrast image' % fname)\n",
      "/usr/local/lib/python3.5/dist-packages/skimage/io/_io.py:132: UserWarning: model/Unet_rmbg/BRCAS2TESRI/Predict_mask/V07-20130412-025.png is a low contrast image\n",
      "  warn('%s is a low contrast image' % fname)\n",
      "/usr/local/lib/python3.5/dist-packages/skimage/io/_io.py:132: UserWarning: model/Unet_rmbg/BRCAS2TESRI/Predict_mask/A32-20120830-103.png is a low contrast image\n",
      "  warn('%s is a low contrast image' % fname)\n",
      "/usr/local/lib/python3.5/dist-packages/skimage/io/_io.py:132: UserWarning: model/Unet_rmbg/BRCAS2TESRI/Predict_mask/A34-20130506-006.png is a low contrast image\n",
      "  warn('%s is a low contrast image' % fname)\n",
      "/usr/local/lib/python3.5/dist-packages/skimage/io/_io.py:132: UserWarning: model/Unet_rmbg/BRCAS2TESRI/Predict_mask/A48-20160601-235.png is a low contrast image\n",
      "  warn('%s is a low contrast image' % fname)\n",
      "/usr/local/lib/python3.5/dist-packages/skimage/io/_io.py:132: UserWarning: model/Unet_rmbg/BRCAS2TESRI/Predict_mask/A46-20150513-090.png is a low contrast image\n",
      "  warn('%s is a low contrast image' % fname)\n",
      "/usr/local/lib/python3.5/dist-packages/skimage/io/_io.py:132: UserWarning: model/Unet_rmbg/BRCAS2TESRI/Predict_mask/V06-20140227-047.png is a low contrast image\n",
      "  warn('%s is a low contrast image' % fname)\n",
      "/usr/local/lib/python3.5/dist-packages/skimage/io/_io.py:132: UserWarning: model/Unet_rmbg/BRCAS2TESRI/Predict_mask/A35-20131015-033.png is a low contrast image\n",
      "  warn('%s is a low contrast image' % fname)\n"
     ]
    },
    {
     "name": "stdout",
     "output_type": "stream",
     "text": [
      "\r",
      "[Predict]-----pred-mini-Batch (99/122)\r"
     ]
    },
    {
     "name": "stderr",
     "output_type": "stream",
     "text": [
      "/usr/local/lib/python3.5/dist-packages/skimage/io/_io.py:132: UserWarning: model/Unet_rmbg/BRCAS2TESRI/Predict_mask/V15-20140222-012.png is a low contrast image\n",
      "  warn('%s is a low contrast image' % fname)\n",
      "/usr/local/lib/python3.5/dist-packages/skimage/io/_io.py:132: UserWarning: model/Unet_rmbg/BRCAS2TESRI/Predict_mask/V07-20130412-041.png is a low contrast image\n",
      "  warn('%s is a low contrast image' % fname)\n",
      "/usr/local/lib/python3.5/dist-packages/skimage/io/_io.py:132: UserWarning: model/Unet_rmbg/BRCAS2TESRI/Predict_mask/A32-20120830-087.png is a low contrast image\n",
      "  warn('%s is a low contrast image' % fname)\n",
      "/usr/local/lib/python3.5/dist-packages/skimage/io/_io.py:132: UserWarning: model/Unet_rmbg/BRCAS2TESRI/Predict_mask/A32-20111024-177.png is a low contrast image\n",
      "  warn('%s is a low contrast image' % fname)\n",
      "/usr/local/lib/python3.5/dist-packages/skimage/io/_io.py:132: UserWarning: model/Unet_rmbg/BRCAS2TESRI/Predict_mask/V07-20130412-101.png is a low contrast image\n",
      "  warn('%s is a low contrast image' % fname)\n",
      "/usr/local/lib/python3.5/dist-packages/skimage/io/_io.py:132: UserWarning: model/Unet_rmbg/BRCAS2TESRI/Predict_mask/A32-20120830-083.png is a low contrast image\n",
      "  warn('%s is a low contrast image' % fname)\n",
      "/usr/local/lib/python3.5/dist-packages/skimage/io/_io.py:132: UserWarning: model/Unet_rmbg/BRCAS2TESRI/Predict_mask/V11-20130907-083.png is a low contrast image\n",
      "  warn('%s is a low contrast image' % fname)\n",
      "/usr/local/lib/python3.5/dist-packages/skimage/io/_io.py:132: UserWarning: model/Unet_rmbg/BRCAS2TESRI/Predict_mask/V15-20140627-031.png is a low contrast image\n",
      "  warn('%s is a low contrast image' % fname)\n",
      "/usr/local/lib/python3.5/dist-packages/skimage/io/_io.py:132: UserWarning: model/Unet_rmbg/BRCAS2TESRI/Predict_mask/A37-20130418-061.png is a low contrast image\n",
      "  warn('%s is a low contrast image' % fname)\n",
      "/usr/local/lib/python3.5/dist-packages/skimage/io/_io.py:132: UserWarning: model/Unet_rmbg/BRCAS2TESRI/Predict_mask/V04-20130411-056.png is a low contrast image\n",
      "  warn('%s is a low contrast image' % fname)\n",
      "/usr/local/lib/python3.5/dist-packages/skimage/io/_io.py:132: UserWarning: model/Unet_rmbg/BRCAS2TESRI/Predict_mask/V04-20130509-148.png is a low contrast image\n",
      "  warn('%s is a low contrast image' % fname)\n",
      "/usr/local/lib/python3.5/dist-packages/skimage/io/_io.py:132: UserWarning: model/Unet_rmbg/BRCAS2TESRI/Predict_mask/A34-20130506-025.png is a low contrast image\n",
      "  warn('%s is a low contrast image' % fname)\n",
      "/usr/local/lib/python3.5/dist-packages/skimage/io/_io.py:132: UserWarning: model/Unet_rmbg/BRCAS2TESRI/Predict_mask/A39-20130807-080.png is a low contrast image\n",
      "  warn('%s is a low contrast image' % fname)\n"
     ]
    },
    {
     "name": "stdout",
     "output_type": "stream",
     "text": [
      "\r",
      "[Predict]-----pred-mini-Batch (100/122)\r"
     ]
    },
    {
     "name": "stderr",
     "output_type": "stream",
     "text": [
      "/usr/local/lib/python3.5/dist-packages/skimage/io/_io.py:132: UserWarning: model/Unet_rmbg/BRCAS2TESRI/Predict_mask/V27-20160319-006.png is a low contrast image\n",
      "  warn('%s is a low contrast image' % fname)\n",
      "/usr/local/lib/python3.5/dist-packages/skimage/io/_io.py:132: UserWarning: model/Unet_rmbg/BRCAS2TESRI/Predict_mask/B13-20120926-014.png is a low contrast image\n",
      "  warn('%s is a low contrast image' % fname)\n",
      "/usr/local/lib/python3.5/dist-packages/skimage/io/_io.py:132: UserWarning: model/Unet_rmbg/BRCAS2TESRI/Predict_mask/A32-20120222-060.png is a low contrast image\n",
      "  warn('%s is a low contrast image' % fname)\n",
      "/usr/local/lib/python3.5/dist-packages/skimage/io/_io.py:132: UserWarning: model/Unet_rmbg/BRCAS2TESRI/Predict_mask/A34-20130506-081.png is a low contrast image\n",
      "  warn('%s is a low contrast image' % fname)\n",
      "/usr/local/lib/python3.5/dist-packages/skimage/io/_io.py:132: UserWarning: model/Unet_rmbg/BRCAS2TESRI/Predict_mask/A46-20160223-026.png is a low contrast image\n",
      "  warn('%s is a low contrast image' % fname)\n",
      "/usr/local/lib/python3.5/dist-packages/skimage/io/_io.py:132: UserWarning: model/Unet_rmbg/BRCAS2TESRI/Predict_mask/A35-20130417-105.png is a low contrast image\n",
      "  warn('%s is a low contrast image' % fname)\n",
      "/usr/local/lib/python3.5/dist-packages/skimage/io/_io.py:132: UserWarning: model/Unet_rmbg/BRCAS2TESRI/Predict_mask/A48-20160601-171.png is a low contrast image\n",
      "  warn('%s is a low contrast image' % fname)\n",
      "/usr/local/lib/python3.5/dist-packages/skimage/io/_io.py:132: UserWarning: model/Unet_rmbg/BRCAS2TESRI/Predict_mask/V14-20130428-143.png is a low contrast image\n",
      "  warn('%s is a low contrast image' % fname)\n",
      "/usr/local/lib/python3.5/dist-packages/skimage/io/_io.py:132: UserWarning: model/Unet_rmbg/BRCAS2TESRI/Predict_mask/A32-20120425-048.png is a low contrast image\n",
      "  warn('%s is a low contrast image' % fname)\n",
      "/usr/local/lib/python3.5/dist-packages/skimage/io/_io.py:132: UserWarning: model/Unet_rmbg/BRCAS2TESRI/Predict_mask/A33-20130115-024.png is a low contrast image\n",
      "  warn('%s is a low contrast image' % fname)\n",
      "/usr/local/lib/python3.5/dist-packages/skimage/io/_io.py:132: UserWarning: model/Unet_rmbg/BRCAS2TESRI/Predict_mask/V09-20140524-051.png is a low contrast image\n",
      "  warn('%s is a low contrast image' % fname)\n",
      "/usr/local/lib/python3.5/dist-packages/skimage/io/_io.py:132: UserWarning: model/Unet_rmbg/BRCAS2TESRI/Predict_mask/A32-20111226-018.png is a low contrast image\n",
      "  warn('%s is a low contrast image' % fname)\n",
      "/usr/local/lib/python3.5/dist-packages/skimage/io/_io.py:132: UserWarning: model/Unet_rmbg/BRCAS2TESRI/Predict_mask/A32-20111123-073.png is a low contrast image\n",
      "  warn('%s is a low contrast image' % fname)\n"
     ]
    },
    {
     "name": "stdout",
     "output_type": "stream",
     "text": [
      "\r",
      "[Predict]-----pred-mini-Batch (101/122)\r"
     ]
    },
    {
     "name": "stderr",
     "output_type": "stream",
     "text": [
      "/usr/local/lib/python3.5/dist-packages/skimage/io/_io.py:132: UserWarning: model/Unet_rmbg/BRCAS2TESRI/Predict_mask/A46-20160705-179.png is a low contrast image\n",
      "  warn('%s is a low contrast image' % fname)\n",
      "/usr/local/lib/python3.5/dist-packages/skimage/io/_io.py:132: UserWarning: model/Unet_rmbg/BRCAS2TESRI/Predict_mask/V03-20130409-031.png is a low contrast image\n",
      "  warn('%s is a low contrast image' % fname)\n",
      "/usr/local/lib/python3.5/dist-packages/skimage/io/_io.py:132: UserWarning: model/Unet_rmbg/BRCAS2TESRI/Predict_mask/A35-20130805-151.png is a low contrast image\n",
      "  warn('%s is a low contrast image' % fname)\n",
      "/usr/local/lib/python3.5/dist-packages/skimage/io/_io.py:132: UserWarning: model/Unet_rmbg/BRCAS2TESRI/Predict_mask/A32-20110927-027.png is a low contrast image\n",
      "  warn('%s is a low contrast image' % fname)\n",
      "/usr/local/lib/python3.5/dist-packages/skimage/io/_io.py:132: UserWarning: model/Unet_rmbg/BRCAS2TESRI/Predict_mask/A37-20150213-016.png is a low contrast image\n",
      "  warn('%s is a low contrast image' % fname)\n",
      "/usr/local/lib/python3.5/dist-packages/skimage/io/_io.py:132: UserWarning: model/Unet_rmbg/BRCAS2TESRI/Predict_mask/A37-20130418-020.png is a low contrast image\n",
      "  warn('%s is a low contrast image' % fname)\n",
      "/usr/local/lib/python3.5/dist-packages/skimage/io/_io.py:132: UserWarning: model/Unet_rmbg/BRCAS2TESRI/Predict_mask/V04-20130411-054.png is a low contrast image\n",
      "  warn('%s is a low contrast image' % fname)\n",
      "/usr/local/lib/python3.5/dist-packages/skimage/io/_io.py:132: UserWarning: model/Unet_rmbg/BRCAS2TESRI/Predict_mask/V15-20140327-061.png is a low contrast image\n",
      "  warn('%s is a low contrast image' % fname)\n",
      "/usr/local/lib/python3.5/dist-packages/skimage/io/_io.py:132: UserWarning: model/Unet_rmbg/BRCAS2TESRI/Predict_mask/V11-20130508-021.png is a low contrast image\n",
      "  warn('%s is a low contrast image' % fname)\n",
      "/usr/local/lib/python3.5/dist-packages/skimage/io/_io.py:132: UserWarning: model/Unet_rmbg/BRCAS2TESRI/Predict_mask/A41-20140325-164.png is a low contrast image\n",
      "  warn('%s is a low contrast image' % fname)\n",
      "/usr/local/lib/python3.5/dist-packages/skimage/io/_io.py:132: UserWarning: model/Unet_rmbg/BRCAS2TESRI/Predict_mask/A34-20130902-234.png is a low contrast image\n",
      "  warn('%s is a low contrast image' % fname)\n",
      "/usr/local/lib/python3.5/dist-packages/skimage/io/_io.py:132: UserWarning: model/Unet_rmbg/BRCAS2TESRI/Predict_mask/A37-20130418-038.png is a low contrast image\n",
      "  warn('%s is a low contrast image' % fname)\n",
      "/usr/local/lib/python3.5/dist-packages/skimage/io/_io.py:132: UserWarning: model/Unet_rmbg/BRCAS2TESRI/Predict_mask/A46-20160705-042.png is a low contrast image\n",
      "  warn('%s is a low contrast image' % fname)\n",
      "/usr/local/lib/python3.5/dist-packages/skimage/io/_io.py:132: UserWarning: model/Unet_rmbg/BRCAS2TESRI/Predict_mask/V12-20140217-017.png is a low contrast image\n",
      "  warn('%s is a low contrast image' % fname)\n"
     ]
    },
    {
     "name": "stdout",
     "output_type": "stream",
     "text": [
      "\r",
      "[Predict]-----pred-mini-Batch (102/122)\r"
     ]
    },
    {
     "name": "stderr",
     "output_type": "stream",
     "text": [
      "/usr/local/lib/python3.5/dist-packages/skimage/io/_io.py:132: UserWarning: model/Unet_rmbg/BRCAS2TESRI/Predict_mask/V02-20131201-046.png is a low contrast image\n",
      "  warn('%s is a low contrast image' % fname)\n",
      "/usr/local/lib/python3.5/dist-packages/skimage/io/_io.py:132: UserWarning: model/Unet_rmbg/BRCAS2TESRI/Predict_mask/A38-20140325-112.png is a low contrast image\n",
      "  warn('%s is a low contrast image' % fname)\n",
      "/usr/local/lib/python3.5/dist-packages/skimage/io/_io.py:132: UserWarning: model/Unet_rmbg/BRCAS2TESRI/Predict_mask/V14-20130428-124.png is a low contrast image\n",
      "  warn('%s is a low contrast image' % fname)\n",
      "/usr/local/lib/python3.5/dist-packages/skimage/io/_io.py:132: UserWarning: model/Unet_rmbg/BRCAS2TESRI/Predict_mask/V04-20130509-112.png is a low contrast image\n",
      "  warn('%s is a low contrast image' % fname)\n",
      "/usr/local/lib/python3.5/dist-packages/skimage/io/_io.py:132: UserWarning: model/Unet_rmbg/BRCAS2TESRI/Predict_mask/A39-20130807-042.png is a low contrast image\n",
      "  warn('%s is a low contrast image' % fname)\n",
      "/usr/local/lib/python3.5/dist-packages/skimage/io/_io.py:132: UserWarning: model/Unet_rmbg/BRCAS2TESRI/Predict_mask/V10-20140530-032.png is a low contrast image\n",
      "  warn('%s is a low contrast image' % fname)\n",
      "/usr/local/lib/python3.5/dist-packages/skimage/io/_io.py:132: UserWarning: model/Unet_rmbg/BRCAS2TESRI/Predict_mask/A35-20130417-033.png is a low contrast image\n",
      "  warn('%s is a low contrast image' % fname)\n",
      "/usr/local/lib/python3.5/dist-packages/skimage/io/_io.py:132: UserWarning: model/Unet_rmbg/BRCAS2TESRI/Predict_mask/A38-20130805-043.png is a low contrast image\n",
      "  warn('%s is a low contrast image' % fname)\n",
      "/usr/local/lib/python3.5/dist-packages/skimage/io/_io.py:132: UserWarning: model/Unet_rmbg/BRCAS2TESRI/Predict_mask/V12-20130910-118.png is a low contrast image\n",
      "  warn('%s is a low contrast image' % fname)\n",
      "/usr/local/lib/python3.5/dist-packages/skimage/io/_io.py:132: UserWarning: model/Unet_rmbg/BRCAS2TESRI/Predict_mask/V12-20130528-088.png is a low contrast image\n",
      "  warn('%s is a low contrast image' % fname)\n",
      "/usr/local/lib/python3.5/dist-packages/skimage/io/_io.py:132: UserWarning: model/Unet_rmbg/BRCAS2TESRI/Predict_mask/A32-20111226-046.png is a low contrast image\n",
      "  warn('%s is a low contrast image' % fname)\n",
      "/usr/local/lib/python3.5/dist-packages/skimage/io/_io.py:132: UserWarning: model/Unet_rmbg/BRCAS2TESRI/Predict_mask/V05-20141017-022.png is a low contrast image\n",
      "  warn('%s is a low contrast image' % fname)\n",
      "/usr/local/lib/python3.5/dist-packages/skimage/io/_io.py:132: UserWarning: model/Unet_rmbg/BRCAS2TESRI/Predict_mask/A35-20140101-010.png is a low contrast image\n",
      "  warn('%s is a low contrast image' % fname)\n",
      "/usr/local/lib/python3.5/dist-packages/skimage/io/_io.py:132: UserWarning: model/Unet_rmbg/BRCAS2TESRI/Predict_mask/A38-20130416-073.png is a low contrast image\n",
      "  warn('%s is a low contrast image' % fname)\n",
      "/usr/local/lib/python3.5/dist-packages/skimage/io/_io.py:132: UserWarning: model/Unet_rmbg/BRCAS2TESRI/Predict_mask/V04-20130509-013.png is a low contrast image\n",
      "  warn('%s is a low contrast image' % fname)\n"
     ]
    },
    {
     "name": "stdout",
     "output_type": "stream",
     "text": [
      "\r",
      "[Predict]-----pred-mini-Batch (103/122)\r"
     ]
    },
    {
     "name": "stderr",
     "output_type": "stream",
     "text": [
      "/usr/local/lib/python3.5/dist-packages/skimage/io/_io.py:132: UserWarning: model/Unet_rmbg/BRCAS2TESRI/Predict_mask/A34-20130902-305.png is a low contrast image\n",
      "  warn('%s is a low contrast image' % fname)\n",
      "/usr/local/lib/python3.5/dist-packages/skimage/io/_io.py:132: UserWarning: model/Unet_rmbg/BRCAS2TESRI/Predict_mask/A34-20130902-292.png is a low contrast image\n",
      "  warn('%s is a low contrast image' % fname)\n",
      "/usr/local/lib/python3.5/dist-packages/skimage/io/_io.py:132: UserWarning: model/Unet_rmbg/BRCAS2TESRI/Predict_mask/A48-20150512-149.png is a low contrast image\n",
      "  warn('%s is a low contrast image' % fname)\n",
      "/usr/local/lib/python3.5/dist-packages/skimage/io/_io.py:132: UserWarning: model/Unet_rmbg/BRCAS2TESRI/Predict_mask/V19-20151113-032.png is a low contrast image\n",
      "  warn('%s is a low contrast image' % fname)\n",
      "/usr/local/lib/python3.5/dist-packages/skimage/io/_io.py:132: UserWarning: model/Unet_rmbg/BRCAS2TESRI/Predict_mask/A38-20131001-134.png is a low contrast image\n",
      "  warn('%s is a low contrast image' % fname)\n",
      "/usr/local/lib/python3.5/dist-packages/skimage/io/_io.py:132: UserWarning: model/Unet_rmbg/BRCAS2TESRI/Predict_mask/A32-20111024-083.png is a low contrast image\n",
      "  warn('%s is a low contrast image' % fname)\n",
      "/usr/local/lib/python3.5/dist-packages/skimage/io/_io.py:132: UserWarning: model/Unet_rmbg/BRCAS2TESRI/Predict_mask/V13-20130608-005.png is a low contrast image\n",
      "  warn('%s is a low contrast image' % fname)\n",
      "/usr/local/lib/python3.5/dist-packages/skimage/io/_io.py:132: UserWarning: model/Unet_rmbg/BRCAS2TESRI/Predict_mask/V12-20140316-029.png is a low contrast image\n",
      "  warn('%s is a low contrast image' % fname)\n",
      "/usr/local/lib/python3.5/dist-packages/skimage/io/_io.py:132: UserWarning: model/Unet_rmbg/BRCAS2TESRI/Predict_mask/A34-20151209-070.png is a low contrast image\n",
      "  warn('%s is a low contrast image' % fname)\n",
      "/usr/local/lib/python3.5/dist-packages/skimage/io/_io.py:132: UserWarning: model/Unet_rmbg/BRCAS2TESRI/Predict_mask/A39-20130807-043.png is a low contrast image\n",
      "  warn('%s is a low contrast image' % fname)\n"
     ]
    },
    {
     "name": "stdout",
     "output_type": "stream",
     "text": [
      "\r",
      "[Predict]-----pred-mini-Batch (104/122)\r"
     ]
    },
    {
     "name": "stderr",
     "output_type": "stream",
     "text": [
      "/usr/local/lib/python3.5/dist-packages/skimage/io/_io.py:132: UserWarning: model/Unet_rmbg/BRCAS2TESRI/Predict_mask/V01-20130403-001.png is a low contrast image\n",
      "  warn('%s is a low contrast image' % fname)\n",
      "/usr/local/lib/python3.5/dist-packages/skimage/io/_io.py:132: UserWarning: model/Unet_rmbg/BRCAS2TESRI/Predict_mask/V04-20150920-116.png is a low contrast image\n",
      "  warn('%s is a low contrast image' % fname)\n",
      "/usr/local/lib/python3.5/dist-packages/skimage/io/_io.py:132: UserWarning: model/Unet_rmbg/BRCAS2TESRI/Predict_mask/V10-20140328-226.png is a low contrast image\n",
      "  warn('%s is a low contrast image' % fname)\n",
      "/usr/local/lib/python3.5/dist-packages/skimage/io/_io.py:132: UserWarning: model/Unet_rmbg/BRCAS2TESRI/Predict_mask/V14-20130725-015.png is a low contrast image\n",
      "  warn('%s is a low contrast image' % fname)\n",
      "/usr/local/lib/python3.5/dist-packages/skimage/io/_io.py:132: UserWarning: model/Unet_rmbg/BRCAS2TESRI/Predict_mask/A46-20160223-141.png is a low contrast image\n",
      "  warn('%s is a low contrast image' % fname)\n",
      "/usr/local/lib/python3.5/dist-packages/skimage/io/_io.py:132: UserWarning: model/Unet_rmbg/BRCAS2TESRI/Predict_mask/A48-20150318-110.png is a low contrast image\n",
      "  warn('%s is a low contrast image' % fname)\n",
      "/usr/local/lib/python3.5/dist-packages/skimage/io/_io.py:132: UserWarning: model/Unet_rmbg/BRCAS2TESRI/Predict_mask/A48-20160118-030.png is a low contrast image\n",
      "  warn('%s is a low contrast image' % fname)\n",
      "/usr/local/lib/python3.5/dist-packages/skimage/io/_io.py:132: UserWarning: model/Unet_rmbg/BRCAS2TESRI/Predict_mask/V01-20150720-018.png is a low contrast image\n",
      "  warn('%s is a low contrast image' % fname)\n",
      "/usr/local/lib/python3.5/dist-packages/skimage/io/_io.py:132: UserWarning: model/Unet_rmbg/BRCAS2TESRI/Predict_mask/A47-20150512-073.png is a low contrast image\n",
      "  warn('%s is a low contrast image' % fname)\n",
      "/usr/local/lib/python3.5/dist-packages/skimage/io/_io.py:132: UserWarning: model/Unet_rmbg/BRCAS2TESRI/Predict_mask/A38-20130416-060.png is a low contrast image\n",
      "  warn('%s is a low contrast image' % fname)\n"
     ]
    },
    {
     "name": "stdout",
     "output_type": "stream",
     "text": [
      "\r",
      "[Predict]-----pred-mini-Batch (105/122)\r"
     ]
    },
    {
     "name": "stderr",
     "output_type": "stream",
     "text": [
      "/usr/local/lib/python3.5/dist-packages/skimage/io/_io.py:132: UserWarning: model/Unet_rmbg/BRCAS2TESRI/Predict_mask/V11-20140308-110.png is a low contrast image\n",
      "  warn('%s is a low contrast image' % fname)\n",
      "/usr/local/lib/python3.5/dist-packages/skimage/io/_io.py:132: UserWarning: model/Unet_rmbg/BRCAS2TESRI/Predict_mask/A38-20140925-139.png is a low contrast image\n",
      "  warn('%s is a low contrast image' % fname)\n",
      "/usr/local/lib/python3.5/dist-packages/skimage/io/_io.py:132: UserWarning: model/Unet_rmbg/BRCAS2TESRI/Predict_mask/A52-20151110-197.png is a low contrast image\n",
      "  warn('%s is a low contrast image' % fname)\n",
      "/usr/local/lib/python3.5/dist-packages/skimage/io/_io.py:132: UserWarning: model/Unet_rmbg/BRCAS2TESRI/Predict_mask/V03-20130510-111.png is a low contrast image\n",
      "  warn('%s is a low contrast image' % fname)\n",
      "/usr/local/lib/python3.5/dist-packages/skimage/io/_io.py:132: UserWarning: model/Unet_rmbg/BRCAS2TESRI/Predict_mask/V15-20140327-027.png is a low contrast image\n",
      "  warn('%s is a low contrast image' % fname)\n",
      "/usr/local/lib/python3.5/dist-packages/skimage/io/_io.py:132: UserWarning: model/Unet_rmbg/BRCAS2TESRI/Predict_mask/B29-20131018-016.png is a low contrast image\n",
      "  warn('%s is a low contrast image' % fname)\n",
      "/usr/local/lib/python3.5/dist-packages/skimage/io/_io.py:132: UserWarning: model/Unet_rmbg/BRCAS2TESRI/Predict_mask/A38-20130416-050.png is a low contrast image\n",
      "  warn('%s is a low contrast image' % fname)\n",
      "/usr/local/lib/python3.5/dist-packages/skimage/io/_io.py:132: UserWarning: model/Unet_rmbg/BRCAS2TESRI/Predict_mask/V06-20130705-084.png is a low contrast image\n",
      "  warn('%s is a low contrast image' % fname)\n",
      "/usr/local/lib/python3.5/dist-packages/skimage/io/_io.py:132: UserWarning: model/Unet_rmbg/BRCAS2TESRI/Predict_mask/A34-20140226-073.png is a low contrast image\n",
      "  warn('%s is a low contrast image' % fname)\n",
      "/usr/local/lib/python3.5/dist-packages/skimage/io/_io.py:132: UserWarning: model/Unet_rmbg/BRCAS2TESRI/Predict_mask/V02-20130930-047.png is a low contrast image\n",
      "  warn('%s is a low contrast image' % fname)\n",
      "/usr/local/lib/python3.5/dist-packages/skimage/io/_io.py:132: UserWarning: model/Unet_rmbg/BRCAS2TESRI/Predict_mask/V12-20140217-041.png is a low contrast image\n",
      "  warn('%s is a low contrast image' % fname)\n",
      "/usr/local/lib/python3.5/dist-packages/skimage/io/_io.py:132: UserWarning: model/Unet_rmbg/BRCAS2TESRI/Predict_mask/A32-20111024-164.png is a low contrast image\n",
      "  warn('%s is a low contrast image' % fname)\n",
      "/usr/local/lib/python3.5/dist-packages/skimage/io/_io.py:132: UserWarning: model/Unet_rmbg/BRCAS2TESRI/Predict_mask/A38-20140728-017.png is a low contrast image\n",
      "  warn('%s is a low contrast image' % fname)\n",
      "/usr/local/lib/python3.5/dist-packages/skimage/io/_io.py:132: UserWarning: model/Unet_rmbg/BRCAS2TESRI/Predict_mask/A32-20111123-111.png is a low contrast image\n",
      "  warn('%s is a low contrast image' % fname)\n",
      "/usr/local/lib/python3.5/dist-packages/skimage/io/_io.py:132: UserWarning: model/Unet_rmbg/BRCAS2TESRI/Predict_mask/A38-20140925-084.png is a low contrast image\n",
      "  warn('%s is a low contrast image' % fname)\n"
     ]
    },
    {
     "name": "stdout",
     "output_type": "stream",
     "text": [
      "\r",
      "[Predict]-----pred-mini-Batch (106/122)\r"
     ]
    },
    {
     "name": "stderr",
     "output_type": "stream",
     "text": [
      "/usr/local/lib/python3.5/dist-packages/skimage/io/_io.py:132: UserWarning: model/Unet_rmbg/BRCAS2TESRI/Predict_mask/V04-20150223-119.png is a low contrast image\n",
      "  warn('%s is a low contrast image' % fname)\n",
      "/usr/local/lib/python3.5/dist-packages/skimage/io/_io.py:132: UserWarning: model/Unet_rmbg/BRCAS2TESRI/Predict_mask/V12-20131028-042.png is a low contrast image\n",
      "  warn('%s is a low contrast image' % fname)\n",
      "/usr/local/lib/python3.5/dist-packages/skimage/io/_io.py:132: UserWarning: model/Unet_rmbg/BRCAS2TESRI/Predict_mask/V09-20130601-002.png is a low contrast image\n",
      "  warn('%s is a low contrast image' % fname)\n",
      "/usr/local/lib/python3.5/dist-packages/skimage/io/_io.py:132: UserWarning: model/Unet_rmbg/BRCAS2TESRI/Predict_mask/A35-20130605-173.png is a low contrast image\n",
      "  warn('%s is a low contrast image' % fname)\n",
      "/usr/local/lib/python3.5/dist-packages/skimage/io/_io.py:132: UserWarning: model/Unet_rmbg/BRCAS2TESRI/Predict_mask/V11-20130508-056.png is a low contrast image\n",
      "  warn('%s is a low contrast image' % fname)\n",
      "/usr/local/lib/python3.5/dist-packages/skimage/io/_io.py:132: UserWarning: model/Unet_rmbg/BRCAS2TESRI/Predict_mask/A38-20150518-139.png is a low contrast image\n",
      "  warn('%s is a low contrast image' % fname)\n",
      "/usr/local/lib/python3.5/dist-packages/skimage/io/_io.py:132: UserWarning: model/Unet_rmbg/BRCAS2TESRI/Predict_mask/V11-20140308-053.png is a low contrast image\n",
      "  warn('%s is a low contrast image' % fname)\n",
      "/usr/local/lib/python3.5/dist-packages/skimage/io/_io.py:132: UserWarning: model/Unet_rmbg/BRCAS2TESRI/Predict_mask/V03-20130510-183.png is a low contrast image\n",
      "  warn('%s is a low contrast image' % fname)\n",
      "/usr/local/lib/python3.5/dist-packages/skimage/io/_io.py:132: UserWarning: model/Unet_rmbg/BRCAS2TESRI/Predict_mask/A35-20140501-009.png is a low contrast image\n",
      "  warn('%s is a low contrast image' % fname)\n",
      "/usr/local/lib/python3.5/dist-packages/skimage/io/_io.py:132: UserWarning: model/Unet_rmbg/BRCAS2TESRI/Predict_mask/A34-20130902-220.png is a low contrast image\n",
      "  warn('%s is a low contrast image' % fname)\n",
      "/usr/local/lib/python3.5/dist-packages/skimage/io/_io.py:132: UserWarning: model/Unet_rmbg/BRCAS2TESRI/Predict_mask/A46-20150513-186.png is a low contrast image\n",
      "  warn('%s is a low contrast image' % fname)\n"
     ]
    },
    {
     "name": "stdout",
     "output_type": "stream",
     "text": [
      "\r",
      "[Predict]-----pred-mini-Batch (107/122)\r"
     ]
    },
    {
     "name": "stderr",
     "output_type": "stream",
     "text": [
      "/usr/local/lib/python3.5/dist-packages/skimage/io/_io.py:132: UserWarning: model/Unet_rmbg/BRCAS2TESRI/Predict_mask/A41-20140206-021.png is a low contrast image\n",
      "  warn('%s is a low contrast image' % fname)\n",
      "/usr/local/lib/python3.5/dist-packages/skimage/io/_io.py:132: UserWarning: model/Unet_rmbg/BRCAS2TESRI/Predict_mask/A46-20150319-009.png is a low contrast image\n",
      "  warn('%s is a low contrast image' % fname)\n",
      "/usr/local/lib/python3.5/dist-packages/skimage/io/_io.py:132: UserWarning: model/Unet_rmbg/BRCAS2TESRI/Predict_mask/A35-20130805-109.png is a low contrast image\n",
      "  warn('%s is a low contrast image' % fname)\n",
      "/usr/local/lib/python3.5/dist-packages/skimage/io/_io.py:132: UserWarning: model/Unet_rmbg/BRCAS2TESRI/Predict_mask/A32-20120222-020.png is a low contrast image\n",
      "  warn('%s is a low contrast image' % fname)\n",
      "/usr/local/lib/python3.5/dist-packages/skimage/io/_io.py:132: UserWarning: model/Unet_rmbg/BRCAS2TESRI/Predict_mask/V12-20130628-029.png is a low contrast image\n",
      "  warn('%s is a low contrast image' % fname)\n",
      "/usr/local/lib/python3.5/dist-packages/skimage/io/_io.py:132: UserWarning: model/Unet_rmbg/BRCAS2TESRI/Predict_mask/V11-20130810-119.png is a low contrast image\n",
      "  warn('%s is a low contrast image' % fname)\n",
      "/usr/local/lib/python3.5/dist-packages/skimage/io/_io.py:132: UserWarning: model/Unet_rmbg/BRCAS2TESRI/Predict_mask/A40-20140924-151.png is a low contrast image\n",
      "  warn('%s is a low contrast image' % fname)\n",
      "/usr/local/lib/python3.5/dist-packages/skimage/io/_io.py:132: UserWarning: model/Unet_rmbg/BRCAS2TESRI/Predict_mask/V19-20150515-101.png is a low contrast image\n",
      "  warn('%s is a low contrast image' % fname)\n",
      "/usr/local/lib/python3.5/dist-packages/skimage/io/_io.py:132: UserWarning: model/Unet_rmbg/BRCAS2TESRI/Predict_mask/V04-20130509-128.png is a low contrast image\n",
      "  warn('%s is a low contrast image' % fname)\n",
      "/usr/local/lib/python3.5/dist-packages/skimage/io/_io.py:132: UserWarning: model/Unet_rmbg/BRCAS2TESRI/Predict_mask/V12-20130528-150.png is a low contrast image\n",
      "  warn('%s is a low contrast image' % fname)\n",
      "/usr/local/lib/python3.5/dist-packages/skimage/io/_io.py:132: UserWarning: model/Unet_rmbg/BRCAS2TESRI/Predict_mask/V01-20140522-040.png is a low contrast image\n",
      "  warn('%s is a low contrast image' % fname)\n",
      "/usr/local/lib/python3.5/dist-packages/skimage/io/_io.py:132: UserWarning: model/Unet_rmbg/BRCAS2TESRI/Predict_mask/A47-20150318-028.png is a low contrast image\n",
      "  warn('%s is a low contrast image' % fname)\n",
      "/usr/local/lib/python3.5/dist-packages/skimage/io/_io.py:132: UserWarning: model/Unet_rmbg/BRCAS2TESRI/Predict_mask/V12-20140809-257.png is a low contrast image\n",
      "  warn('%s is a low contrast image' % fname)\n",
      "/usr/local/lib/python3.5/dist-packages/skimage/io/_io.py:132: UserWarning: model/Unet_rmbg/BRCAS2TESRI/Predict_mask/V12-20130528-194.png is a low contrast image\n",
      "  warn('%s is a low contrast image' % fname)\n"
     ]
    },
    {
     "name": "stdout",
     "output_type": "stream",
     "text": [
      "\r",
      "[Predict]-----pred-mini-Batch (108/122)\r"
     ]
    },
    {
     "name": "stderr",
     "output_type": "stream",
     "text": [
      "/usr/local/lib/python3.5/dist-packages/skimage/io/_io.py:132: UserWarning: model/Unet_rmbg/BRCAS2TESRI/Predict_mask/A46-20160705-162.png is a low contrast image\n",
      "  warn('%s is a low contrast image' % fname)\n",
      "/usr/local/lib/python3.5/dist-packages/skimage/io/_io.py:132: UserWarning: model/Unet_rmbg/BRCAS2TESRI/Predict_mask/A37-20140303-040.png is a low contrast image\n",
      "  warn('%s is a low contrast image' % fname)\n",
      "/usr/local/lib/python3.5/dist-packages/skimage/io/_io.py:132: UserWarning: model/Unet_rmbg/BRCAS2TESRI/Predict_mask/V02-20131201-101.png is a low contrast image\n",
      "  warn('%s is a low contrast image' % fname)\n",
      "/usr/local/lib/python3.5/dist-packages/skimage/io/_io.py:132: UserWarning: model/Unet_rmbg/BRCAS2TESRI/Predict_mask/V03-20130510-215.png is a low contrast image\n",
      "  warn('%s is a low contrast image' % fname)\n",
      "/usr/local/lib/python3.5/dist-packages/skimage/io/_io.py:132: UserWarning: model/Unet_rmbg/BRCAS2TESRI/Predict_mask/A48-20160601-160.png is a low contrast image\n",
      "  warn('%s is a low contrast image' % fname)\n",
      "/usr/local/lib/python3.5/dist-packages/skimage/io/_io.py:132: UserWarning: model/Unet_rmbg/BRCAS2TESRI/Predict_mask/A32-20120725-104.png is a low contrast image\n",
      "  warn('%s is a low contrast image' % fname)\n",
      "/usr/local/lib/python3.5/dist-packages/skimage/io/_io.py:132: UserWarning: model/Unet_rmbg/BRCAS2TESRI/Predict_mask/V11-20130608-095.png is a low contrast image\n",
      "  warn('%s is a low contrast image' % fname)\n",
      "/usr/local/lib/python3.5/dist-packages/skimage/io/_io.py:132: UserWarning: model/Unet_rmbg/BRCAS2TESRI/Predict_mask/V04-20130509-019.png is a low contrast image\n",
      "  warn('%s is a low contrast image' % fname)\n",
      "/usr/local/lib/python3.5/dist-packages/skimage/io/_io.py:132: UserWarning: model/Unet_rmbg/BRCAS2TESRI/Predict_mask/V18-20150414-060.png is a low contrast image\n",
      "  warn('%s is a low contrast image' % fname)\n",
      "/usr/local/lib/python3.5/dist-packages/skimage/io/_io.py:132: UserWarning: model/Unet_rmbg/BRCAS2TESRI/Predict_mask/A38-20140206-039.png is a low contrast image\n",
      "  warn('%s is a low contrast image' % fname)\n",
      "/usr/local/lib/python3.5/dist-packages/skimage/io/_io.py:132: UserWarning: model/Unet_rmbg/BRCAS2TESRI/Predict_mask/V07-20130412-046.png is a low contrast image\n",
      "  warn('%s is a low contrast image' % fname)\n",
      "/usr/local/lib/python3.5/dist-packages/skimage/io/_io.py:132: UserWarning: model/Unet_rmbg/BRCAS2TESRI/Predict_mask/V06-20130705-009.png is a low contrast image\n",
      "  warn('%s is a low contrast image' % fname)\n",
      "/usr/local/lib/python3.5/dist-packages/skimage/io/_io.py:132: UserWarning: model/Unet_rmbg/BRCAS2TESRI/Predict_mask/A33-20130115-029.png is a low contrast image\n",
      "  warn('%s is a low contrast image' % fname)\n",
      "/usr/local/lib/python3.5/dist-packages/skimage/io/_io.py:132: UserWarning: model/Unet_rmbg/BRCAS2TESRI/Predict_mask/A34-20130902-030.png is a low contrast image\n",
      "  warn('%s is a low contrast image' % fname)\n"
     ]
    },
    {
     "name": "stdout",
     "output_type": "stream",
     "text": [
      "\r",
      "[Predict]-----pred-mini-Batch (109/122)\r"
     ]
    },
    {
     "name": "stderr",
     "output_type": "stream",
     "text": [
      "/usr/local/lib/python3.5/dist-packages/skimage/io/_io.py:132: UserWarning: model/Unet_rmbg/BRCAS2TESRI/Predict_mask/A48-20160601-234.png is a low contrast image\n",
      "  warn('%s is a low contrast image' % fname)\n",
      "/usr/local/lib/python3.5/dist-packages/skimage/io/_io.py:132: UserWarning: model/Unet_rmbg/BRCAS2TESRI/Predict_mask/V14-20130428-107.png is a low contrast image\n",
      "  warn('%s is a low contrast image' % fname)\n",
      "/usr/local/lib/python3.5/dist-packages/skimage/io/_io.py:132: UserWarning: model/Unet_rmbg/BRCAS2TESRI/Predict_mask/A47-20150512-069.png is a low contrast image\n",
      "  warn('%s is a low contrast image' % fname)\n",
      "/usr/local/lib/python3.5/dist-packages/skimage/io/_io.py:132: UserWarning: model/Unet_rmbg/BRCAS2TESRI/Predict_mask/A32-20120830-024.png is a low contrast image\n",
      "  warn('%s is a low contrast image' % fname)\n",
      "/usr/local/lib/python3.5/dist-packages/skimage/io/_io.py:132: UserWarning: model/Unet_rmbg/BRCAS2TESRI/Predict_mask/A46-20150128-111.png is a low contrast image\n",
      "  warn('%s is a low contrast image' % fname)\n",
      "/usr/local/lib/python3.5/dist-packages/skimage/io/_io.py:132: UserWarning: model/Unet_rmbg/BRCAS2TESRI/Predict_mask/A35-20130221-056.png is a low contrast image\n",
      "  warn('%s is a low contrast image' % fname)\n",
      "/usr/local/lib/python3.5/dist-packages/skimage/io/_io.py:132: UserWarning: model/Unet_rmbg/BRCAS2TESRI/Predict_mask/A32-20120523-020.png is a low contrast image\n",
      "  warn('%s is a low contrast image' % fname)\n",
      "/usr/local/lib/python3.5/dist-packages/skimage/io/_io.py:132: UserWarning: model/Unet_rmbg/BRCAS2TESRI/Predict_mask/A46-20160602-132.png is a low contrast image\n",
      "  warn('%s is a low contrast image' % fname)\n",
      "/usr/local/lib/python3.5/dist-packages/skimage/io/_io.py:132: UserWarning: model/Unet_rmbg/BRCAS2TESRI/Predict_mask/A46-20150128-021.png is a low contrast image\n",
      "  warn('%s is a low contrast image' % fname)\n",
      "/usr/local/lib/python3.5/dist-packages/skimage/io/_io.py:132: UserWarning: model/Unet_rmbg/BRCAS2TESRI/Predict_mask/V15-20140101-063.png is a low contrast image\n",
      "  warn('%s is a low contrast image' % fname)\n",
      "/usr/local/lib/python3.5/dist-packages/skimage/io/_io.py:132: UserWarning: model/Unet_rmbg/BRCAS2TESRI/Predict_mask/A35-20141116-017.png is a low contrast image\n",
      "  warn('%s is a low contrast image' % fname)\n",
      "/usr/local/lib/python3.5/dist-packages/skimage/io/_io.py:132: UserWarning: model/Unet_rmbg/BRCAS2TESRI/Predict_mask/A37-20131016-086.png is a low contrast image\n",
      "  warn('%s is a low contrast image' % fname)\n"
     ]
    },
    {
     "name": "stdout",
     "output_type": "stream",
     "text": [
      "\r",
      "[Predict]-----pred-mini-Batch (110/122)\r"
     ]
    },
    {
     "name": "stderr",
     "output_type": "stream",
     "text": [
      "/usr/local/lib/python3.5/dist-packages/skimage/io/_io.py:132: UserWarning: model/Unet_rmbg/BRCAS2TESRI/Predict_mask/V09-20130601-006.png is a low contrast image\n",
      "  warn('%s is a low contrast image' % fname)\n",
      "/usr/local/lib/python3.5/dist-packages/skimage/io/_io.py:132: UserWarning: model/Unet_rmbg/BRCAS2TESRI/Predict_mask/V03-20130510-108.png is a low contrast image\n",
      "  warn('%s is a low contrast image' % fname)\n",
      "/usr/local/lib/python3.5/dist-packages/skimage/io/_io.py:132: UserWarning: model/Unet_rmbg/BRCAS2TESRI/Predict_mask/A34-20130709-012.png is a low contrast image\n",
      "  warn('%s is a low contrast image' % fname)\n",
      "/usr/local/lib/python3.5/dist-packages/skimage/io/_io.py:132: UserWarning: model/Unet_rmbg/BRCAS2TESRI/Predict_mask/A34-20130902-143.png is a low contrast image\n",
      "  warn('%s is a low contrast image' % fname)\n",
      "/usr/local/lib/python3.5/dist-packages/skimage/io/_io.py:132: UserWarning: model/Unet_rmbg/BRCAS2TESRI/Predict_mask/A34-20130506-037.png is a low contrast image\n",
      "  warn('%s is a low contrast image' % fname)\n",
      "/usr/local/lib/python3.5/dist-packages/skimage/io/_io.py:132: UserWarning: model/Unet_rmbg/BRCAS2TESRI/Predict_mask/V14-20130428-111.png is a low contrast image\n",
      "  warn('%s is a low contrast image' % fname)\n",
      "/usr/local/lib/python3.5/dist-packages/skimage/io/_io.py:132: UserWarning: model/Unet_rmbg/BRCAS2TESRI/Predict_mask/B29-20131018-026.png is a low contrast image\n",
      "  warn('%s is a low contrast image' % fname)\n",
      "/usr/local/lib/python3.5/dist-packages/skimage/io/_io.py:132: UserWarning: model/Unet_rmbg/BRCAS2TESRI/Predict_mask/A34-20130902-145.png is a low contrast image\n",
      "  warn('%s is a low contrast image' % fname)\n",
      "/usr/local/lib/python3.5/dist-packages/skimage/io/_io.py:132: UserWarning: model/Unet_rmbg/BRCAS2TESRI/Predict_mask/V02-20141124-146.png is a low contrast image\n",
      "  warn('%s is a low contrast image' % fname)\n",
      "/usr/local/lib/python3.5/dist-packages/skimage/io/_io.py:132: UserWarning: model/Unet_rmbg/BRCAS2TESRI/Predict_mask/A32-20120830-108.png is a low contrast image\n",
      "  warn('%s is a low contrast image' % fname)\n",
      "/usr/local/lib/python3.5/dist-packages/skimage/io/_io.py:132: UserWarning: model/Unet_rmbg/BRCAS2TESRI/Predict_mask/V29-20160827-024.png is a low contrast image\n",
      "  warn('%s is a low contrast image' % fname)\n",
      "/usr/local/lib/python3.5/dist-packages/skimage/io/_io.py:132: UserWarning: model/Unet_rmbg/BRCAS2TESRI/Predict_mask/A35-20130605-004.png is a low contrast image\n",
      "  warn('%s is a low contrast image' % fname)\n"
     ]
    },
    {
     "name": "stdout",
     "output_type": "stream",
     "text": [
      "\r",
      "[Predict]-----pred-mini-Batch (111/122)\r"
     ]
    },
    {
     "name": "stderr",
     "output_type": "stream",
     "text": [
      "/usr/local/lib/python3.5/dist-packages/skimage/io/_io.py:132: UserWarning: model/Unet_rmbg/BRCAS2TESRI/Predict_mask/A38-20140206-077.png is a low contrast image\n",
      "  warn('%s is a low contrast image' % fname)\n",
      "/usr/local/lib/python3.5/dist-packages/skimage/io/_io.py:132: UserWarning: model/Unet_rmbg/BRCAS2TESRI/Predict_mask/V12-20131128-089.png is a low contrast image\n",
      "  warn('%s is a low contrast image' % fname)\n",
      "/usr/local/lib/python3.5/dist-packages/skimage/io/_io.py:132: UserWarning: model/Unet_rmbg/BRCAS2TESRI/Predict_mask/V07-20130412-022.png is a low contrast image\n",
      "  warn('%s is a low contrast image' % fname)\n",
      "/usr/local/lib/python3.5/dist-packages/skimage/io/_io.py:132: UserWarning: model/Unet_rmbg/BRCAS2TESRI/Predict_mask/A32-20111024-096.png is a low contrast image\n",
      "  warn('%s is a low contrast image' % fname)\n",
      "/usr/local/lib/python3.5/dist-packages/skimage/io/_io.py:132: UserWarning: model/Unet_rmbg/BRCAS2TESRI/Predict_mask/V10-20130608-064.png is a low contrast image\n",
      "  warn('%s is a low contrast image' % fname)\n",
      "/usr/local/lib/python3.5/dist-packages/skimage/io/_io.py:132: UserWarning: model/Unet_rmbg/BRCAS2TESRI/Predict_mask/A41-20140206-100.png is a low contrast image\n",
      "  warn('%s is a low contrast image' % fname)\n",
      "/usr/local/lib/python3.5/dist-packages/skimage/io/_io.py:132: UserWarning: model/Unet_rmbg/BRCAS2TESRI/Predict_mask/V11-20130810-003.png is a low contrast image\n",
      "  warn('%s is a low contrast image' % fname)\n",
      "/usr/local/lib/python3.5/dist-packages/skimage/io/_io.py:132: UserWarning: model/Unet_rmbg/BRCAS2TESRI/Predict_mask/V03-20130606-156.png is a low contrast image\n",
      "  warn('%s is a low contrast image' % fname)\n",
      "/usr/local/lib/python3.5/dist-packages/skimage/io/_io.py:132: UserWarning: model/Unet_rmbg/BRCAS2TESRI/Predict_mask/M13-20140429-054.png is a low contrast image\n",
      "  warn('%s is a low contrast image' % fname)\n",
      "/usr/local/lib/python3.5/dist-packages/skimage/io/_io.py:132: UserWarning: model/Unet_rmbg/BRCAS2TESRI/Predict_mask/A32-20120830-071.png is a low contrast image\n",
      "  warn('%s is a low contrast image' % fname)\n",
      "/usr/local/lib/python3.5/dist-packages/skimage/io/_io.py:132: UserWarning: model/Unet_rmbg/BRCAS2TESRI/Predict_mask/A35-20131015-089.png is a low contrast image\n",
      "  warn('%s is a low contrast image' % fname)\n",
      "/usr/local/lib/python3.5/dist-packages/skimage/io/_io.py:132: UserWarning: model/Unet_rmbg/BRCAS2TESRI/Predict_mask/A35-20130417-115.png is a low contrast image\n",
      "  warn('%s is a low contrast image' % fname)\n",
      "/usr/local/lib/python3.5/dist-packages/skimage/io/_io.py:132: UserWarning: model/Unet_rmbg/BRCAS2TESRI/Predict_mask/A43-20160713-079.png is a low contrast image\n",
      "  warn('%s is a low contrast image' % fname)\n"
     ]
    },
    {
     "name": "stdout",
     "output_type": "stream",
     "text": [
      "\r",
      "[Predict]-----pred-mini-Batch (112/122)\r"
     ]
    },
    {
     "name": "stderr",
     "output_type": "stream",
     "text": [
      "/usr/local/lib/python3.5/dist-packages/skimage/io/_io.py:132: UserWarning: model/Unet_rmbg/BRCAS2TESRI/Predict_mask/V04-20130509-105.png is a low contrast image\n",
      "  warn('%s is a low contrast image' % fname)\n",
      "/usr/local/lib/python3.5/dist-packages/skimage/io/_io.py:132: UserWarning: model/Unet_rmbg/BRCAS2TESRI/Predict_mask/A35-20140923-216.png is a low contrast image\n",
      "  warn('%s is a low contrast image' % fname)\n",
      "/usr/local/lib/python3.5/dist-packages/skimage/io/_io.py:132: UserWarning: model/Unet_rmbg/BRCAS2TESRI/Predict_mask/A44-20141021-007.png is a low contrast image\n",
      "  warn('%s is a low contrast image' % fname)\n",
      "/usr/local/lib/python3.5/dist-packages/skimage/io/_io.py:132: UserWarning: model/Unet_rmbg/BRCAS2TESRI/Predict_mask/V02-20130603-150.png is a low contrast image\n",
      "  warn('%s is a low contrast image' % fname)\n",
      "/usr/local/lib/python3.5/dist-packages/skimage/io/_io.py:132: UserWarning: model/Unet_rmbg/BRCAS2TESRI/Predict_mask/V02-20140501-109.png is a low contrast image\n",
      "  warn('%s is a low contrast image' % fname)\n",
      "/usr/local/lib/python3.5/dist-packages/skimage/io/_io.py:132: UserWarning: model/Unet_rmbg/BRCAS2TESRI/Predict_mask/V03-20130606-026.png is a low contrast image\n",
      "  warn('%s is a low contrast image' % fname)\n",
      "/usr/local/lib/python3.5/dist-packages/skimage/io/_io.py:132: UserWarning: model/Unet_rmbg/BRCAS2TESRI/Predict_mask/V14-20130428-113.png is a low contrast image\n",
      "  warn('%s is a low contrast image' % fname)\n",
      "/usr/local/lib/python3.5/dist-packages/skimage/io/_io.py:132: UserWarning: model/Unet_rmbg/BRCAS2TESRI/Predict_mask/V07-20130412-010.png is a low contrast image\n",
      "  warn('%s is a low contrast image' % fname)\n",
      "/usr/local/lib/python3.5/dist-packages/skimage/io/_io.py:132: UserWarning: model/Unet_rmbg/BRCAS2TESRI/Predict_mask/A48-20160118-015.png is a low contrast image\n",
      "  warn('%s is a low contrast image' % fname)\n",
      "/usr/local/lib/python3.5/dist-packages/skimage/io/_io.py:132: UserWarning: model/Unet_rmbg/BRCAS2TESRI/Predict_mask/A35-20140302-065.png is a low contrast image\n",
      "  warn('%s is a low contrast image' % fname)\n",
      "/usr/local/lib/python3.5/dist-packages/skimage/io/_io.py:132: UserWarning: model/Unet_rmbg/BRCAS2TESRI/Predict_mask/V12-20130628-074.png is a low contrast image\n",
      "  warn('%s is a low contrast image' % fname)\n"
     ]
    },
    {
     "name": "stdout",
     "output_type": "stream",
     "text": [
      "\r",
      "[Predict]-----pred-mini-Batch (113/122)\r"
     ]
    },
    {
     "name": "stderr",
     "output_type": "stream",
     "text": [
      "/usr/local/lib/python3.5/dist-packages/skimage/io/_io.py:132: UserWarning: model/Unet_rmbg/BRCAS2TESRI/Predict_mask/V02-20141124-084.png is a low contrast image\n",
      "  warn('%s is a low contrast image' % fname)\n",
      "/usr/local/lib/python3.5/dist-packages/skimage/io/_io.py:132: UserWarning: model/Unet_rmbg/BRCAS2TESRI/Predict_mask/A43-20150611-087.png is a low contrast image\n",
      "  warn('%s is a low contrast image' % fname)\n",
      "/usr/local/lib/python3.5/dist-packages/skimage/io/_io.py:132: UserWarning: model/Unet_rmbg/BRCAS2TESRI/Predict_mask/V07-20140704-042.png is a low contrast image\n",
      "  warn('%s is a low contrast image' % fname)\n",
      "/usr/local/lib/python3.5/dist-packages/skimage/io/_io.py:132: UserWarning: model/Unet_rmbg/BRCAS2TESRI/Predict_mask/A34-20151209-060.png is a low contrast image\n",
      "  warn('%s is a low contrast image' % fname)\n",
      "/usr/local/lib/python3.5/dist-packages/skimage/io/_io.py:132: UserWarning: model/Unet_rmbg/BRCAS2TESRI/Predict_mask/V04-20130606-077.png is a low contrast image\n",
      "  warn('%s is a low contrast image' % fname)\n",
      "/usr/local/lib/python3.5/dist-packages/skimage/io/_io.py:132: UserWarning: model/Unet_rmbg/BRCAS2TESRI/Predict_mask/A46-20151111-189.png is a low contrast image\n",
      "  warn('%s is a low contrast image' % fname)\n",
      "/usr/local/lib/python3.5/dist-packages/skimage/io/_io.py:132: UserWarning: model/Unet_rmbg/BRCAS2TESRI/Predict_mask/A35-20150409-083.png is a low contrast image\n",
      "  warn('%s is a low contrast image' % fname)\n",
      "/usr/local/lib/python3.5/dist-packages/skimage/io/_io.py:132: UserWarning: model/Unet_rmbg/BRCAS2TESRI/Predict_mask/V06-20131101-114.png is a low contrast image\n",
      "  warn('%s is a low contrast image' % fname)\n",
      "/usr/local/lib/python3.5/dist-packages/skimage/io/_io.py:132: UserWarning: model/Unet_rmbg/BRCAS2TESRI/Predict_mask/V03-20150226-006.png is a low contrast image\n",
      "  warn('%s is a low contrast image' % fname)\n"
     ]
    },
    {
     "name": "stdout",
     "output_type": "stream",
     "text": [
      "\r",
      "[Predict]-----pred-mini-Batch (114/122)\r"
     ]
    },
    {
     "name": "stderr",
     "output_type": "stream",
     "text": [
      "/usr/local/lib/python3.5/dist-packages/skimage/io/_io.py:132: UserWarning: model/Unet_rmbg/BRCAS2TESRI/Predict_mask/V03-20140203-039.png is a low contrast image\n",
      "  warn('%s is a low contrast image' % fname)\n",
      "/usr/local/lib/python3.5/dist-packages/skimage/io/_io.py:132: UserWarning: model/Unet_rmbg/BRCAS2TESRI/Predict_mask/V04-20140721-032.png is a low contrast image\n",
      "  warn('%s is a low contrast image' % fname)\n",
      "/usr/local/lib/python3.5/dist-packages/skimage/io/_io.py:132: UserWarning: model/Unet_rmbg/BRCAS2TESRI/Predict_mask/V02-20140101-076.png is a low contrast image\n",
      "  warn('%s is a low contrast image' % fname)\n",
      "/usr/local/lib/python3.5/dist-packages/skimage/io/_io.py:132: UserWarning: model/Unet_rmbg/BRCAS2TESRI/Predict_mask/V04-20140816-091.png is a low contrast image\n",
      "  warn('%s is a low contrast image' % fname)\n",
      "/usr/local/lib/python3.5/dist-packages/skimage/io/_io.py:132: UserWarning: model/Unet_rmbg/BRCAS2TESRI/Predict_mask/A48-20160601-069.png is a low contrast image\n",
      "  warn('%s is a low contrast image' % fname)\n",
      "/usr/local/lib/python3.5/dist-packages/skimage/io/_io.py:132: UserWarning: model/Unet_rmbg/BRCAS2TESRI/Predict_mask/A42-20140430-014.png is a low contrast image\n",
      "  warn('%s is a low contrast image' % fname)\n",
      "/usr/local/lib/python3.5/dist-packages/skimage/io/_io.py:132: UserWarning: model/Unet_rmbg/BRCAS2TESRI/Predict_mask/V04-20150320-066.png is a low contrast image\n",
      "  warn('%s is a low contrast image' % fname)\n",
      "/usr/local/lib/python3.5/dist-packages/skimage/io/_io.py:132: UserWarning: model/Unet_rmbg/BRCAS2TESRI/Predict_mask/V11-20130608-117.png is a low contrast image\n",
      "  warn('%s is a low contrast image' % fname)\n",
      "/usr/local/lib/python3.5/dist-packages/skimage/io/_io.py:132: UserWarning: model/Unet_rmbg/BRCAS2TESRI/Predict_mask/V03-20130510-051.png is a low contrast image\n",
      "  warn('%s is a low contrast image' % fname)\n",
      "/usr/local/lib/python3.5/dist-packages/skimage/io/_io.py:132: UserWarning: model/Unet_rmbg/BRCAS2TESRI/Predict_mask/V04-20140816-003.png is a low contrast image\n",
      "  warn('%s is a low contrast image' % fname)\n",
      "/usr/local/lib/python3.5/dist-packages/skimage/io/_io.py:132: UserWarning: model/Unet_rmbg/BRCAS2TESRI/Predict_mask/A37-20160714-025.png is a low contrast image\n",
      "  warn('%s is a low contrast image' % fname)\n",
      "/usr/local/lib/python3.5/dist-packages/skimage/io/_io.py:132: UserWarning: model/Unet_rmbg/BRCAS2TESRI/Predict_mask/A36-20130606-052.png is a low contrast image\n",
      "  warn('%s is a low contrast image' % fname)\n",
      "/usr/local/lib/python3.5/dist-packages/skimage/io/_io.py:132: UserWarning: model/Unet_rmbg/BRCAS2TESRI/Predict_mask/A32-20120523-047.png is a low contrast image\n",
      "  warn('%s is a low contrast image' % fname)\n",
      "/usr/local/lib/python3.5/dist-packages/skimage/io/_io.py:132: UserWarning: model/Unet_rmbg/BRCAS2TESRI/Predict_mask/V14-20130428-024.png is a low contrast image\n",
      "  warn('%s is a low contrast image' % fname)\n"
     ]
    },
    {
     "name": "stdout",
     "output_type": "stream",
     "text": [
      "\r",
      "[Predict]-----pred-mini-Batch (115/122)\r"
     ]
    },
    {
     "name": "stderr",
     "output_type": "stream",
     "text": [
      "/usr/local/lib/python3.5/dist-packages/skimage/io/_io.py:132: UserWarning: model/Unet_rmbg/BRCAS2TESRI/Predict_mask/A34-20130506-071.png is a low contrast image\n",
      "  warn('%s is a low contrast image' % fname)\n",
      "/usr/local/lib/python3.5/dist-packages/skimage/io/_io.py:132: UserWarning: model/Unet_rmbg/BRCAS2TESRI/Predict_mask/A38-20140325-078.png is a low contrast image\n",
      "  warn('%s is a low contrast image' % fname)\n",
      "/usr/local/lib/python3.5/dist-packages/skimage/io/_io.py:132: UserWarning: model/Unet_rmbg/BRCAS2TESRI/Predict_mask/A41-20140206-023.png is a low contrast image\n",
      "  warn('%s is a low contrast image' % fname)\n",
      "/usr/local/lib/python3.5/dist-packages/skimage/io/_io.py:132: UserWarning: model/Unet_rmbg/BRCAS2TESRI/Predict_mask/A32-20111226-015.png is a low contrast image\n",
      "  warn('%s is a low contrast image' % fname)\n",
      "/usr/local/lib/python3.5/dist-packages/skimage/io/_io.py:132: UserWarning: model/Unet_rmbg/BRCAS2TESRI/Predict_mask/V03-20130510-013.png is a low contrast image\n",
      "  warn('%s is a low contrast image' % fname)\n",
      "/usr/local/lib/python3.5/dist-packages/skimage/io/_io.py:132: UserWarning: model/Unet_rmbg/BRCAS2TESRI/Predict_mask/A47-20150318-071.png is a low contrast image\n",
      "  warn('%s is a low contrast image' % fname)\n",
      "/usr/local/lib/python3.5/dist-packages/skimage/io/_io.py:132: UserWarning: model/Unet_rmbg/BRCAS2TESRI/Predict_mask/V03-20131201-081.png is a low contrast image\n",
      "  warn('%s is a low contrast image' % fname)\n",
      "/usr/local/lib/python3.5/dist-packages/skimage/io/_io.py:132: UserWarning: model/Unet_rmbg/BRCAS2TESRI/Predict_mask/A35-20131015-025.png is a low contrast image\n",
      "  warn('%s is a low contrast image' % fname)\n",
      "/usr/local/lib/python3.5/dist-packages/skimage/io/_io.py:132: UserWarning: model/Unet_rmbg/BRCAS2TESRI/Predict_mask/A33-20130115-007.png is a low contrast image\n",
      "  warn('%s is a low contrast image' % fname)\n",
      "/usr/local/lib/python3.5/dist-packages/skimage/io/_io.py:132: UserWarning: model/Unet_rmbg/BRCAS2TESRI/Predict_mask/V11-20130810-080.png is a low contrast image\n",
      "  warn('%s is a low contrast image' % fname)\n",
      "/usr/local/lib/python3.5/dist-packages/skimage/io/_io.py:132: UserWarning: model/Unet_rmbg/BRCAS2TESRI/Predict_mask/V04-20140530-281.png is a low contrast image\n",
      "  warn('%s is a low contrast image' % fname)\n"
     ]
    },
    {
     "name": "stdout",
     "output_type": "stream",
     "text": [
      "\r",
      "[Predict]-----pred-mini-Batch (116/122)\r"
     ]
    },
    {
     "name": "stderr",
     "output_type": "stream",
     "text": [
      "/usr/local/lib/python3.5/dist-packages/skimage/io/_io.py:132: UserWarning: model/Unet_rmbg/BRCAS2TESRI/Predict_mask/A52-20160118-006.png is a low contrast image\n",
      "  warn('%s is a low contrast image' % fname)\n",
      "/usr/local/lib/python3.5/dist-packages/skimage/io/_io.py:132: UserWarning: model/Unet_rmbg/BRCAS2TESRI/Predict_mask/A38-20140728-134.png is a low contrast image\n",
      "  warn('%s is a low contrast image' % fname)\n",
      "/usr/local/lib/python3.5/dist-packages/skimage/io/_io.py:132: UserWarning: model/Unet_rmbg/BRCAS2TESRI/Predict_mask/V04-20130411-066.png is a low contrast image\n",
      "  warn('%s is a low contrast image' % fname)\n",
      "/usr/local/lib/python3.5/dist-packages/skimage/io/_io.py:132: UserWarning: model/Unet_rmbg/BRCAS2TESRI/Predict_mask/V20-20160228-004.png is a low contrast image\n",
      "  warn('%s is a low contrast image' % fname)\n",
      "/usr/local/lib/python3.5/dist-packages/skimage/io/_io.py:132: UserWarning: model/Unet_rmbg/BRCAS2TESRI/Predict_mask/V04-20130606-178.png is a low contrast image\n",
      "  warn('%s is a low contrast image' % fname)\n",
      "/usr/local/lib/python3.5/dist-packages/skimage/io/_io.py:132: UserWarning: model/Unet_rmbg/BRCAS2TESRI/Predict_mask/A38-20130416-122.png is a low contrast image\n",
      "  warn('%s is a low contrast image' % fname)\n",
      "/usr/local/lib/python3.5/dist-packages/skimage/io/_io.py:132: UserWarning: model/Unet_rmbg/BRCAS2TESRI/Predict_mask/A48-20160601-155.png is a low contrast image\n",
      "  warn('%s is a low contrast image' % fname)\n",
      "/usr/local/lib/python3.5/dist-packages/skimage/io/_io.py:132: UserWarning: model/Unet_rmbg/BRCAS2TESRI/Predict_mask/A34-20130313-046.png is a low contrast image\n",
      "  warn('%s is a low contrast image' % fname)\n",
      "/usr/local/lib/python3.5/dist-packages/skimage/io/_io.py:132: UserWarning: model/Unet_rmbg/BRCAS2TESRI/Predict_mask/V02-20130603-138.png is a low contrast image\n",
      "  warn('%s is a low contrast image' % fname)\n",
      "/usr/local/lib/python3.5/dist-packages/skimage/io/_io.py:132: UserWarning: model/Unet_rmbg/BRCAS2TESRI/Predict_mask/A35-20130221-049.png is a low contrast image\n",
      "  warn('%s is a low contrast image' % fname)\n",
      "/usr/local/lib/python3.5/dist-packages/skimage/io/_io.py:132: UserWarning: model/Unet_rmbg/BRCAS2TESRI/Predict_mask/V09-20140205-012.png is a low contrast image\n",
      "  warn('%s is a low contrast image' % fname)\n",
      "/usr/local/lib/python3.5/dist-packages/skimage/io/_io.py:132: UserWarning: model/Unet_rmbg/BRCAS2TESRI/Predict_mask/V11-20130608-091.png is a low contrast image\n",
      "  warn('%s is a low contrast image' % fname)\n",
      "/usr/local/lib/python3.5/dist-packages/skimage/io/_io.py:132: UserWarning: model/Unet_rmbg/BRCAS2TESRI/Predict_mask/V02-20130930-049.png is a low contrast image\n",
      "  warn('%s is a low contrast image' % fname)\n",
      "/usr/local/lib/python3.5/dist-packages/skimage/io/_io.py:132: UserWarning: model/Unet_rmbg/BRCAS2TESRI/Predict_mask/A35-20130417-024.png is a low contrast image\n",
      "  warn('%s is a low contrast image' % fname)\n"
     ]
    },
    {
     "name": "stdout",
     "output_type": "stream",
     "text": [
      "\r",
      "[Predict]-----pred-mini-Batch (117/122)\r"
     ]
    },
    {
     "name": "stderr",
     "output_type": "stream",
     "text": [
      "/usr/local/lib/python3.5/dist-packages/skimage/io/_io.py:132: UserWarning: model/Unet_rmbg/BRCAS2TESRI/Predict_mask/A34-20140626-014.png is a low contrast image\n",
      "  warn('%s is a low contrast image' % fname)\n",
      "/usr/local/lib/python3.5/dist-packages/skimage/io/_io.py:132: UserWarning: model/Unet_rmbg/BRCAS2TESRI/Predict_mask/A35-20140101-002.png is a low contrast image\n",
      "  warn('%s is a low contrast image' % fname)\n",
      "/usr/local/lib/python3.5/dist-packages/skimage/io/_io.py:132: UserWarning: model/Unet_rmbg/BRCAS2TESRI/Predict_mask/V04-20130411-071.png is a low contrast image\n",
      "  warn('%s is a low contrast image' % fname)\n",
      "/usr/local/lib/python3.5/dist-packages/skimage/io/_io.py:132: UserWarning: model/Unet_rmbg/BRCAS2TESRI/Predict_mask/A32-20111226-040.png is a low contrast image\n",
      "  warn('%s is a low contrast image' % fname)\n",
      "/usr/local/lib/python3.5/dist-packages/skimage/io/_io.py:132: UserWarning: model/Unet_rmbg/BRCAS2TESRI/Predict_mask/V23-20151110-035.png is a low contrast image\n",
      "  warn('%s is a low contrast image' % fname)\n",
      "/usr/local/lib/python3.5/dist-packages/skimage/io/_io.py:132: UserWarning: model/Unet_rmbg/BRCAS2TESRI/Predict_mask/V02-20140501-204.png is a low contrast image\n",
      "  warn('%s is a low contrast image' % fname)\n",
      "/usr/local/lib/python3.5/dist-packages/skimage/io/_io.py:132: UserWarning: model/Unet_rmbg/BRCAS2TESRI/Predict_mask/V02-20140204-090.png is a low contrast image\n",
      "  warn('%s is a low contrast image' % fname)\n",
      "/usr/local/lib/python3.5/dist-packages/skimage/io/_io.py:132: UserWarning: model/Unet_rmbg/BRCAS2TESRI/Predict_mask/A32-20120830-019.png is a low contrast image\n",
      "  warn('%s is a low contrast image' % fname)\n",
      "/usr/local/lib/python3.5/dist-packages/skimage/io/_io.py:132: UserWarning: model/Unet_rmbg/BRCAS2TESRI/Predict_mask/A52-20160704-157.png is a low contrast image\n",
      "  warn('%s is a low contrast image' % fname)\n",
      "/usr/local/lib/python3.5/dist-packages/skimage/io/_io.py:132: UserWarning: model/Unet_rmbg/BRCAS2TESRI/Predict_mask/A43-20150210-020.png is a low contrast image\n",
      "  warn('%s is a low contrast image' % fname)\n",
      "/usr/local/lib/python3.5/dist-packages/skimage/io/_io.py:132: UserWarning: model/Unet_rmbg/BRCAS2TESRI/Predict_mask/V24-20160730-130.png is a low contrast image\n",
      "  warn('%s is a low contrast image' % fname)\n"
     ]
    },
    {
     "name": "stdout",
     "output_type": "stream",
     "text": [
      "\r",
      "[Predict]-----pred-mini-Batch (118/122)\r"
     ]
    },
    {
     "name": "stderr",
     "output_type": "stream",
     "text": [
      "/usr/local/lib/python3.5/dist-packages/skimage/io/_io.py:132: UserWarning: model/Unet_rmbg/BRCAS2TESRI/Predict_mask/A52-20160704-170.png is a low contrast image\n",
      "  warn('%s is a low contrast image' % fname)\n",
      "/usr/local/lib/python3.5/dist-packages/skimage/io/_io.py:132: UserWarning: model/Unet_rmbg/BRCAS2TESRI/Predict_mask/V12-20131128-024.png is a low contrast image\n",
      "  warn('%s is a low contrast image' % fname)\n",
      "/usr/local/lib/python3.5/dist-packages/skimage/io/_io.py:132: UserWarning: model/Unet_rmbg/BRCAS2TESRI/Predict_mask/A35-20130805-119.png is a low contrast image\n",
      "  warn('%s is a low contrast image' % fname)\n",
      "/usr/local/lib/python3.5/dist-packages/skimage/io/_io.py:132: UserWarning: model/Unet_rmbg/BRCAS2TESRI/Predict_mask/A47-20160425-030.png is a low contrast image\n",
      "  warn('%s is a low contrast image' % fname)\n",
      "/usr/local/lib/python3.5/dist-packages/skimage/io/_io.py:132: UserWarning: model/Unet_rmbg/BRCAS2TESRI/Predict_mask/V12-20131128-007.png is a low contrast image\n",
      "  warn('%s is a low contrast image' % fname)\n",
      "/usr/local/lib/python3.5/dist-packages/skimage/io/_io.py:132: UserWarning: model/Unet_rmbg/BRCAS2TESRI/Predict_mask/V02-20140204-094.png is a low contrast image\n",
      "  warn('%s is a low contrast image' % fname)\n",
      "/usr/local/lib/python3.5/dist-packages/skimage/io/_io.py:132: UserWarning: model/Unet_rmbg/BRCAS2TESRI/Predict_mask/V04-20130509-114.png is a low contrast image\n",
      "  warn('%s is a low contrast image' % fname)\n",
      "/usr/local/lib/python3.5/dist-packages/skimage/io/_io.py:132: UserWarning: model/Unet_rmbg/BRCAS2TESRI/Predict_mask/A37-20130418-034.png is a low contrast image\n",
      "  warn('%s is a low contrast image' % fname)\n",
      "/usr/local/lib/python3.5/dist-packages/skimage/io/_io.py:132: UserWarning: model/Unet_rmbg/BRCAS2TESRI/Predict_mask/V06-20131101-007.png is a low contrast image\n",
      "  warn('%s is a low contrast image' % fname)\n",
      "/usr/local/lib/python3.5/dist-packages/skimage/io/_io.py:132: UserWarning: model/Unet_rmbg/BRCAS2TESRI/Predict_mask/A32-20120523-026.png is a low contrast image\n",
      "  warn('%s is a low contrast image' % fname)\n",
      "/usr/local/lib/python3.5/dist-packages/skimage/io/_io.py:132: UserWarning: model/Unet_rmbg/BRCAS2TESRI/Predict_mask/V05-20140226-023.png is a low contrast image\n",
      "  warn('%s is a low contrast image' % fname)\n",
      "/usr/local/lib/python3.5/dist-packages/skimage/io/_io.py:132: UserWarning: model/Unet_rmbg/BRCAS2TESRI/Predict_mask/V04-20130606-062.png is a low contrast image\n",
      "  warn('%s is a low contrast image' % fname)\n",
      "/usr/local/lib/python3.5/dist-packages/skimage/io/_io.py:132: UserWarning: model/Unet_rmbg/BRCAS2TESRI/Predict_mask/A35-20160712-145.png is a low contrast image\n",
      "  warn('%s is a low contrast image' % fname)\n"
     ]
    },
    {
     "name": "stdout",
     "output_type": "stream",
     "text": [
      "\r",
      "[Predict]-----pred-mini-Batch (119/122)\r"
     ]
    },
    {
     "name": "stderr",
     "output_type": "stream",
     "text": [
      "/usr/local/lib/python3.5/dist-packages/skimage/io/_io.py:132: UserWarning: model/Unet_rmbg/BRCAS2TESRI/Predict_mask/A32-20120725-111.png is a low contrast image\n",
      "  warn('%s is a low contrast image' % fname)\n",
      "/usr/local/lib/python3.5/dist-packages/skimage/io/_io.py:132: UserWarning: model/Unet_rmbg/BRCAS2TESRI/Predict_mask/V15-20140425-071.png is a low contrast image\n",
      "  warn('%s is a low contrast image' % fname)\n",
      "/usr/local/lib/python3.5/dist-packages/skimage/io/_io.py:132: UserWarning: model/Unet_rmbg/BRCAS2TESRI/Predict_mask/A38-20131001-143.png is a low contrast image\n",
      "  warn('%s is a low contrast image' % fname)\n",
      "/usr/local/lib/python3.5/dist-packages/skimage/io/_io.py:132: UserWarning: model/Unet_rmbg/BRCAS2TESRI/Predict_mask/A38-20130416-068.png is a low contrast image\n",
      "  warn('%s is a low contrast image' % fname)\n",
      "/usr/local/lib/python3.5/dist-packages/skimage/io/_io.py:132: UserWarning: model/Unet_rmbg/BRCAS2TESRI/Predict_mask/A48-20160601-019.png is a low contrast image\n",
      "  warn('%s is a low contrast image' % fname)\n",
      "/usr/local/lib/python3.5/dist-packages/skimage/io/_io.py:132: UserWarning: model/Unet_rmbg/BRCAS2TESRI/Predict_mask/A32-20111024-100.png is a low contrast image\n",
      "  warn('%s is a low contrast image' % fname)\n",
      "/usr/local/lib/python3.5/dist-packages/skimage/io/_io.py:132: UserWarning: model/Unet_rmbg/BRCAS2TESRI/Predict_mask/A35-20131202-046.png is a low contrast image\n",
      "  warn('%s is a low contrast image' % fname)\n",
      "/usr/local/lib/python3.5/dist-packages/skimage/io/_io.py:132: UserWarning: model/Unet_rmbg/BRCAS2TESRI/Predict_mask/V03-20140402-082.png is a low contrast image\n",
      "  warn('%s is a low contrast image' % fname)\n",
      "/usr/local/lib/python3.5/dist-packages/skimage/io/_io.py:132: UserWarning: model/Unet_rmbg/BRCAS2TESRI/Predict_mask/V03-20130510-105.png is a low contrast image\n",
      "  warn('%s is a low contrast image' % fname)\n",
      "/usr/local/lib/python3.5/dist-packages/skimage/io/_io.py:132: UserWarning: model/Unet_rmbg/BRCAS2TESRI/Predict_mask/V11-20130508-043.png is a low contrast image\n",
      "  warn('%s is a low contrast image' % fname)\n",
      "/usr/local/lib/python3.5/dist-packages/skimage/io/_io.py:132: UserWarning: model/Unet_rmbg/BRCAS2TESRI/Predict_mask/V12-20131028-048.png is a low contrast image\n",
      "  warn('%s is a low contrast image' % fname)\n",
      "/usr/local/lib/python3.5/dist-packages/skimage/io/_io.py:132: UserWarning: model/Unet_rmbg/BRCAS2TESRI/Predict_mask/V02-20130603-158.png is a low contrast image\n",
      "  warn('%s is a low contrast image' % fname)\n",
      "/usr/local/lib/python3.5/dist-packages/skimage/io/_io.py:132: UserWarning: model/Unet_rmbg/BRCAS2TESRI/Predict_mask/V13-20130928-036.png is a low contrast image\n",
      "  warn('%s is a low contrast image' % fname)\n"
     ]
    },
    {
     "name": "stdout",
     "output_type": "stream",
     "text": [
      "\r",
      "[Predict]-----pred-mini-Batch (120/122)\r"
     ]
    },
    {
     "name": "stderr",
     "output_type": "stream",
     "text": [
      "/usr/local/lib/python3.5/dist-packages/skimage/io/_io.py:132: UserWarning: model/Unet_rmbg/BRCAS2TESRI/Predict_mask/V04-20130509-126.png is a low contrast image\n",
      "  warn('%s is a low contrast image' % fname)\n",
      "/usr/local/lib/python3.5/dist-packages/skimage/io/_io.py:132: UserWarning: model/Unet_rmbg/BRCAS2TESRI/Predict_mask/V03-20130708-052.png is a low contrast image\n",
      "  warn('%s is a low contrast image' % fname)\n",
      "/usr/local/lib/python3.5/dist-packages/skimage/io/_io.py:132: UserWarning: model/Unet_rmbg/BRCAS2TESRI/Predict_mask/V14-20130428-054.png is a low contrast image\n",
      "  warn('%s is a low contrast image' % fname)\n",
      "/usr/local/lib/python3.5/dist-packages/skimage/io/_io.py:132: UserWarning: model/Unet_rmbg/BRCAS2TESRI/Predict_mask/V02-20140101-019.png is a low contrast image\n",
      "  warn('%s is a low contrast image' % fname)\n",
      "/usr/local/lib/python3.5/dist-packages/skimage/io/_io.py:132: UserWarning: model/Unet_rmbg/BRCAS2TESRI/Predict_mask/A35-20130605-153.png is a low contrast image\n",
      "  warn('%s is a low contrast image' % fname)\n",
      "/usr/local/lib/python3.5/dist-packages/skimage/io/_io.py:132: UserWarning: model/Unet_rmbg/BRCAS2TESRI/Predict_mask/V03-20130510-055.png is a low contrast image\n",
      "  warn('%s is a low contrast image' % fname)\n",
      "/usr/local/lib/python3.5/dist-packages/skimage/io/_io.py:132: UserWarning: model/Unet_rmbg/BRCAS2TESRI/Predict_mask/A52-20151110-263.png is a low contrast image\n",
      "  warn('%s is a low contrast image' % fname)\n",
      "/usr/local/lib/python3.5/dist-packages/skimage/io/_io.py:132: UserWarning: model/Unet_rmbg/BRCAS2TESRI/Predict_mask/A34-20140626-082.png is a low contrast image\n",
      "  warn('%s is a low contrast image' % fname)\n",
      "/usr/local/lib/python3.5/dist-packages/skimage/io/_io.py:132: UserWarning: model/Unet_rmbg/BRCAS2TESRI/Predict_mask/A32-20120725-081.png is a low contrast image\n",
      "  warn('%s is a low contrast image' % fname)\n",
      "/usr/local/lib/python3.5/dist-packages/skimage/io/_io.py:132: UserWarning: model/Unet_rmbg/BRCAS2TESRI/Predict_mask/V02-20130801-051.png is a low contrast image\n",
      "  warn('%s is a low contrast image' % fname)\n",
      "/usr/local/lib/python3.5/dist-packages/skimage/io/_io.py:132: UserWarning: model/Unet_rmbg/BRCAS2TESRI/Predict_mask/V13-20141018-051.png is a low contrast image\n",
      "  warn('%s is a low contrast image' % fname)\n",
      "/usr/local/lib/python3.5/dist-packages/skimage/io/_io.py:132: UserWarning: model/Unet_rmbg/BRCAS2TESRI/Predict_mask/A41-20140325-115.png is a low contrast image\n",
      "  warn('%s is a low contrast image' % fname)\n",
      "/usr/local/lib/python3.5/dist-packages/skimage/io/_io.py:132: UserWarning: model/Unet_rmbg/BRCAS2TESRI/Predict_mask/V12-20130910-099.png is a low contrast image\n",
      "  warn('%s is a low contrast image' % fname)\n",
      "/usr/local/lib/python3.5/dist-packages/skimage/io/_io.py:132: UserWarning: model/Unet_rmbg/BRCAS2TESRI/Predict_mask/A35-20130221-038.png is a low contrast image\n",
      "  warn('%s is a low contrast image' % fname)\n"
     ]
    },
    {
     "name": "stdout",
     "output_type": "stream",
     "text": [
      "\r",
      "[Predict]-----pred-mini-Batch (121/122)\r"
     ]
    },
    {
     "name": "stderr",
     "output_type": "stream",
     "text": [
      "/usr/local/lib/python3.5/dist-packages/skimage/io/_io.py:132: UserWarning: model/Unet_rmbg/BRCAS2TESRI/Predict_mask/A46-20150513-157.png is a low contrast image\n",
      "  warn('%s is a low contrast image' % fname)\n",
      "/usr/local/lib/python3.5/dist-packages/skimage/io/_io.py:132: UserWarning: model/Unet_rmbg/BRCAS2TESRI/Predict_mask/V11-20131109-060.png is a low contrast image\n",
      "  warn('%s is a low contrast image' % fname)\n",
      "/usr/local/lib/python3.5/dist-packages/skimage/io/_io.py:132: UserWarning: model/Unet_rmbg/BRCAS2TESRI/Predict_mask/A38-20140728-159.png is a low contrast image\n",
      "  warn('%s is a low contrast image' % fname)\n",
      "/usr/local/lib/python3.5/dist-packages/skimage/io/_io.py:132: UserWarning: model/Unet_rmbg/BRCAS2TESRI/Predict_mask/A47-20150512-082.png is a low contrast image\n",
      "  warn('%s is a low contrast image' % fname)\n",
      "/usr/local/lib/python3.5/dist-packages/skimage/io/_io.py:132: UserWarning: model/Unet_rmbg/BRCAS2TESRI/Predict_mask/V12-20140809-247.png is a low contrast image\n",
      "  warn('%s is a low contrast image' % fname)\n",
      "/usr/local/lib/python3.5/dist-packages/skimage/io/_io.py:132: UserWarning: model/Unet_rmbg/BRCAS2TESRI/Predict_mask/A41-20140206-046.png is a low contrast image\n",
      "  warn('%s is a low contrast image' % fname)\n",
      "/usr/local/lib/python3.5/dist-packages/skimage/io/_io.py:132: UserWarning: model/Unet_rmbg/BRCAS2TESRI/Predict_mask/A47-20150512-070.png is a low contrast image\n",
      "  warn('%s is a low contrast image' % fname)\n",
      "/usr/local/lib/python3.5/dist-packages/skimage/io/_io.py:132: UserWarning: model/Unet_rmbg/BRCAS2TESRI/Predict_mask/A48-20160425-042.png is a low contrast image\n",
      "  warn('%s is a low contrast image' % fname)\n",
      "/usr/local/lib/python3.5/dist-packages/skimage/io/_io.py:132: UserWarning: model/Unet_rmbg/BRCAS2TESRI/Predict_mask/A38-20130416-005.png is a low contrast image\n",
      "  warn('%s is a low contrast image' % fname)\n",
      "/usr/local/lib/python3.5/dist-packages/skimage/io/_io.py:132: UserWarning: model/Unet_rmbg/BRCAS2TESRI/Predict_mask/A32-20111226-031.png is a low contrast image\n",
      "  warn('%s is a low contrast image' % fname)\n",
      "/usr/local/lib/python3.5/dist-packages/skimage/io/_io.py:132: UserWarning: model/Unet_rmbg/BRCAS2TESRI/Predict_mask/V17-20140816-041.png is a low contrast image\n",
      "  warn('%s is a low contrast image' % fname)\n"
     ]
    },
    {
     "name": "stdout",
     "output_type": "stream",
     "text": [
      "\r",
      "[Predict]-----pred-mini-Batch (122/122)\r"
     ]
    },
    {
     "name": "stderr",
     "output_type": "stream",
     "text": [
      "/usr/local/lib/python3.5/dist-packages/skimage/io/_io.py:132: UserWarning: model/Unet_rmbg/BRCAS2TESRI/Predict_mask/V04-20130606-081.png is a low contrast image\n",
      "  warn('%s is a low contrast image' % fname)\n",
      "/usr/local/lib/python3.5/dist-packages/skimage/io/_io.py:132: UserWarning: model/Unet_rmbg/BRCAS2TESRI/Predict_mask/V06-20130412-088.png is a low contrast image\n",
      "  warn('%s is a low contrast image' % fname)\n",
      "/usr/local/lib/python3.5/dist-packages/skimage/io/_io.py:132: UserWarning: model/Unet_rmbg/BRCAS2TESRI/Predict_mask/V12-20131128-021.png is a low contrast image\n",
      "  warn('%s is a low contrast image' % fname)\n",
      "/usr/local/lib/python3.5/dist-packages/skimage/io/_io.py:132: UserWarning: model/Unet_rmbg/BRCAS2TESRI/Predict_mask/M13-20140429-119.png is a low contrast image\n",
      "  warn('%s is a low contrast image' % fname)\n",
      "/usr/local/lib/python3.5/dist-packages/skimage/io/_io.py:132: UserWarning: model/Unet_rmbg/BRCAS2TESRI/Predict_mask/V03-20130510-091.png is a low contrast image\n",
      "  warn('%s is a low contrast image' % fname)\n",
      "/usr/local/lib/python3.5/dist-packages/skimage/io/_io.py:132: UserWarning: model/Unet_rmbg/BRCAS2TESRI/Predict_mask/V14-20130725-001.png is a low contrast image\n",
      "  warn('%s is a low contrast image' % fname)\n",
      "/usr/local/lib/python3.5/dist-packages/skimage/io/_io.py:132: UserWarning: model/Unet_rmbg/BRCAS2TESRI/Predict_mask/V14-20130428-049.png is a low contrast image\n",
      "  warn('%s is a low contrast image' % fname)\n",
      "/usr/local/lib/python3.5/dist-packages/skimage/io/_io.py:132: UserWarning: model/Unet_rmbg/BRCAS2TESRI/Predict_mask/A38-20140206-004.png is a low contrast image\n",
      "  warn('%s is a low contrast image' % fname)\n",
      "/usr/local/lib/python3.5/dist-packages/skimage/io/_io.py:132: UserWarning: model/Unet_rmbg/BRCAS2TESRI/Predict_mask/A32-20120725-085.png is a low contrast image\n",
      "  warn('%s is a low contrast image' % fname)\n",
      "/usr/local/lib/python3.5/dist-packages/skimage/io/_io.py:132: UserWarning: model/Unet_rmbg/BRCAS2TESRI/Predict_mask/V04-20150223-038.png is a low contrast image\n",
      "  warn('%s is a low contrast image' % fname)\n",
      "/usr/local/lib/python3.5/dist-packages/skimage/io/_io.py:132: UserWarning: model/Unet_rmbg/BRCAS2TESRI/Predict_mask/V08-20130413-073.png is a low contrast image\n",
      "  warn('%s is a low contrast image' % fname)\n",
      "/usr/local/lib/python3.5/dist-packages/skimage/io/_io.py:132: UserWarning: model/Unet_rmbg/BRCAS2TESRI/Predict_mask/V11-20130706-061.png is a low contrast image\n",
      "  warn('%s is a low contrast image' % fname)\n"
     ]
    }
   ],
   "source": [
    "model_dir = args.model_dir\n",
    "checkpoint_path = model_dir + 'model_ckpt' \n",
    "# checkpoint_path = model_dir\n",
    "\n",
    "with tf.Session(graph=md.graph) as sess: \n",
    "    sess.run(tf.global_variables_initializer()) # Variable initialization.\n",
    "    meta_to_restore = checkpoint_path+'.meta'\n",
    "    saver = tf.train.import_meta_graph(meta_to_restore)\n",
    "    saver.restore(sess,checkpoint_path)\n",
    "    print('Model Restored')\n",
    "    \n",
    "    pred_loss_collector = []\n",
    "    for pred_batch_i in range(pred_iter):\n",
    "        print('\\r[Predict]-----pred-mini-Batch ({}/{})'.format(pred_batch_i+1, pred_iter), end='\\r')\n",
    "        x_pred_batch, path = next(pred_gen)\n",
    "        pred_batch = sess.run([md.y_pred_tf], \n",
    "                                feed_dict = {md.x_data_tf: x_pred_batch})\n",
    "        for i in range(len(pred_batch[0])):\n",
    "            m_mask = pred_batch[0][i][:,:,0]\n",
    "            norm_mask = (m_mask-m_mask.min())/ (m_mask.max()-m_mask.min())\n",
    "            ori_img = io.imread(path[i])\n",
    "            ori_img = resize(ori_img, output_shape=(256,256,3))\n",
    "            norm_mask3 = np.stack([norm_mask,norm_mask,norm_mask], axis = 2)\n",
    "            bin_mask3 = np.where(norm_mask3 > 0.5, 1.0, 0.0)\n",
    "            w_mask = 1-bin_mask3\n",
    "            w_img = (bin_mask3 * ori_img)+w_mask\n",
    "            img_list = [ori_img, bin_mask3, w_img]\n",
    "            title_list = ['Original image', 'U-Net mask', 'w_img']\n",
    "            fig = plt_result(img_list, title_list)\n",
    "            save_to_check = os.path.join(model_dir, 'Predict_checking')\n",
    "            if not os.path.exists(save_to_check):\n",
    "                os.makedirs(save_to_check)\n",
    "            save_to_mask = os.path.join(model_dir, 'Predict_mask')\n",
    "            if not os.path.exists(save_to_mask):\n",
    "                os.makedirs(save_to_mask)\n",
    "            fname = get_fname(path[i])\n",
    "\n",
    "            \n",
    "            io.imsave(os.path.join(save_to_mask,'%s.png' % (fname)), bin_mask3[:,:,0])\n",
    "            fig.savefig(os.path.join(save_to_check,'%s.png' % (fname)), dpi=100, format='png',bbox_inches='tight' )\n"
   ]
  },
  {
   "cell_type": "code",
   "execution_count": null,
   "metadata": {},
   "outputs": [],
   "source": []
  },
  {
   "cell_type": "code",
   "execution_count": null,
   "metadata": {},
   "outputs": [],
   "source": []
  }
 ],
 "metadata": {
  "kernelspec": {
   "display_name": "Python 3",
   "language": "python",
   "name": "python3"
  },
  "language_info": {
   "codemirror_mode": {
    "name": "ipython",
    "version": 3
   },
   "file_extension": ".py",
   "mimetype": "text/x-python",
   "name": "python",
   "nbconvert_exporter": "python",
   "pygments_lexer": "ipython3",
   "version": "3.5.2"
  }
 },
 "nbformat": 4,
 "nbformat_minor": 2
}
