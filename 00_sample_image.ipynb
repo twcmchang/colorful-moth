{
 "cells": [
  {
   "cell_type": "code",
   "execution_count": 3,
   "metadata": {},
   "outputs": [],
   "source": [
    "import os \n",
    "import shutil\n",
    "import skimage.io as io\n",
    "import pandas as pd\n",
    "\n",
    "from func.tool import get_fname"
   ]
  },
  {
   "cell_type": "code",
   "execution_count": 4,
   "metadata": {},
   "outputs": [],
   "source": [
    "TESRIDIR = '/home/put_data/moth/data/flickr/'\n",
    "\n",
    "UNSUPDIR = '/home/put_data/moth/code/Segmentation/Moth_rmbg_unsupervised/round2/180613_103500filtered_minLabels3/moth_rmbg_mask'\n",
    "UNSUP_CV2 = '/home/put_data/moth/code/Segmentation/Moth_rmbg_unsupervised/round2/180613_103500filtered_minLabels3/newmask4'\n",
    "UNSUP_CV2_IMG = '/home/put_data/moth/code/Segmentation/Moth_rmbg_unsupervised/round2/180613_103500filtered_minLabels3/newimg4/'"
   ]
  },
  {
   "cell_type": "code",
   "execution_count": 5,
   "metadata": {},
   "outputs": [
    {
     "name": "stdout",
     "output_type": "stream",
     "text": [
      "1951\n"
     ]
    }
   ],
   "source": [
    "## get sample raw image for each species\n",
    "X = pd.read_csv('/home/put_data/moth/metadata/1121_updated_metadata_flickr_summary_used_final.csv',index_col=0)\n",
    "Xdf = X.groupby('Species').first()\n",
    "target_name = list(Xdf.Number)\n",
    "print(len(target_name))"
   ]
  },
  {
   "cell_type": "code",
   "execution_count": 9,
   "metadata": {},
   "outputs": [
    {
     "name": "stdout",
     "output_type": "stream",
     "text": [
      "1950/1951\r"
     ]
    }
   ],
   "source": [
    "## tesri sample\n",
    "ori_path = [os.path.join(TESRIDIR, name+'.jpg') for name in target_name]\n",
    "for i in range(len(target_name)):\n",
    "    print('%d/%d' %(i, len(target_name)), end='\\r')\n",
    "    shutil.copyfile(ori_path[i], os.path.join('data/ori/tesri/', target_name[i]+'.jpg'))"
   ]
  },
  {
   "cell_type": "code",
   "execution_count": 11,
   "metadata": {},
   "outputs": [
    {
     "name": "stdout",
     "output_type": "stream",
     "text": [
      "1950/1951\r"
     ]
    }
   ],
   "source": [
    "## unsup sample\n",
    "tg_path = [os.path.join(UNSUPDIR, name+'.png') for name in target_name]\n",
    "for i in range(len(target_name)):\n",
    "    print('%d/%d' %(i, len(target_name)), end='\\r')\n",
    "    save_to = 'model/Unsup_rmbg/result_sample/predict_mask'\n",
    "    if not os.path.exists(save_to):\n",
    "        os.makedirs(save_to)\n",
    "    shutil.copyfile(tg_path[i], os.path.join(save_to, target_name[i]+'.png'))"
   ]
  },
  {
   "cell_type": "code",
   "execution_count": 12,
   "metadata": {},
   "outputs": [
    {
     "name": "stdout",
     "output_type": "stream",
     "text": [
      "1950/1951\r"
     ]
    }
   ],
   "source": [
    "### unsup+cv2 sample\n",
    "tg_path = [os.path.join(UNSUP_CV2, name+'.png') for name in target_name]\n",
    "for i in range(len(target_name)):\n",
    "    print('%d/%d' %(i, len(target_name)), end='\\r')\n",
    "    save_to = 'model/Unsup_rmbg/result_sample/predict_mask_postprocessd/'\n",
    "    if not os.path.exists(save_to):\n",
    "        os.makedirs(save_to)\n",
    "    shutil.copyfile(tg_path[i], os.path.join(save_to, target_name[i]+'.png'))"
   ]
  },
  {
   "cell_type": "code",
   "execution_count": 6,
   "metadata": {},
   "outputs": [
    {
     "name": "stdout",
     "output_type": "stream",
     "text": [
      "1950/1951\r"
     ]
    }
   ],
   "source": [
    "### unsup+cv2 sample\n",
    "tg_path = [os.path.join(UNSUP_CV2_IMG, name+'.png') for name in target_name]\n",
    "for i in range(len(target_name)):\n",
    "    print('%d/%d' %(i, len(target_name)), end='\\r')\n",
    "    save_to = 'model/Unsup_rmbg/result_sample/predict_img_postprocessd/'\n",
    "    if not os.path.exists(save_to):\n",
    "        os.makedirs(save_to)\n",
    "    shutil.copyfile(tg_path[i], os.path.join(save_to, target_name[i]+'.png'))"
   ]
  }
 ],
 "metadata": {
  "kernelspec": {
   "display_name": "Python 3",
   "language": "python",
   "name": "python3"
  },
  "language_info": {
   "codemirror_mode": {
    "name": "ipython",
    "version": 3
   },
   "file_extension": ".py",
   "mimetype": "text/x-python",
   "name": "python",
   "nbconvert_exporter": "python",
   "pygments_lexer": "ipython3",
   "version": "3.5.2"
  }
 },
 "nbformat": 4,
 "nbformat_minor": 2
}
